{
 "cells": [
  {
   "cell_type": "markdown",
   "metadata": {},
   "source": [
    "# Prepare"
   ]
  },
  {
   "cell_type": "code",
   "execution_count": null,
   "metadata": {},
   "outputs": [],
   "source": [
    "import os "
   ]
  },
  {
   "cell_type": "code",
   "execution_count": null,
   "metadata": {},
   "outputs": [],
   "source": [
    "input_path = 'spinn_hmi'\n",
    "input_original = os.path.join(input_path, 'original')\n",
    "os.makedirs(input_original, exist_ok=True)"
   ]
  },
  {
   "cell_type": "code",
   "execution_count": null,
   "metadata": {},
   "outputs": [],
   "source": [
    "bin = 2\n",
    "b_norm = 2500\n",
    "spatial_norm = 160\n",
    "nz = 160"
   ]
  },
  {
   "cell_type": "markdown",
   "metadata": {},
   "source": [
    "## Prepare"
   ]
  },
  {
   "cell_type": "code",
   "execution_count": null,
   "metadata": {},
   "outputs": [],
   "source": [
    "import glob\n",
    "from sunpy.map import Map\n",
    "import numpy as np\n",
    "from astropy import units as u\n",
    "import matplotlib.pyplot as plt "
   ]
  },
  {
   "cell_type": "code",
   "execution_count": null,
   "metadata": {},
   "outputs": [],
   "source": [
    "data_path = '/home/tensor/workspace/GPUserver/workspace/NF2/example/AR_7115'\n",
    "\n",
    "hmi_p = sorted(glob.glob(os.path.join(data_path, '*Bp.fits')))[0]  # x\n",
    "hmi_t = sorted(glob.glob(os.path.join(data_path, '*Bt.fits')))[0]  # y\n",
    "hmi_r = sorted(glob.glob(os.path.join(data_path, '*Br.fits')))[0]  # z\n",
    "\n",
    "p_map, t_map, r_map = Map(hmi_p), Map(hmi_t), Map(hmi_r)\n",
    "\n",
    "maps = [p_map, t_map, r_map]\n",
    "\n",
    "maps = [m.superpixel(u.Quantity((bin, bin), u.pixel), func=np.mean) for m in maps]\n",
    "\n",
    "b_bottom = np.stack([maps[0].data, -maps[1].data, maps[2].data]).transpose()"
   ]
  },
  {
   "cell_type": "code",
   "execution_count": null,
   "metadata": {},
   "outputs": [],
   "source": [
    "plt.imshow(b_bottom[:, :, 2].transpose(), origin='lower')"
   ]
  },
  {
   "cell_type": "code",
   "execution_count": null,
   "metadata": {},
   "outputs": [],
   "source": [
    "import pickle"
   ]
  },
  {
   "cell_type": "code",
   "execution_count": null,
   "metadata": {},
   "outputs": [],
   "source": [
    "b_bottom_original_path = os.path.join(input_original, \"b_bottom_original.pickle\")\n",
    "\n",
    "with open(b_bottom_original_path,\"wb\") as f:\n",
    "    pickle.dump(b_bottom, f)"
   ]
  },
  {
   "cell_type": "code",
   "execution_count": null,
   "metadata": {},
   "outputs": [],
   "source": [
    "nx, ny, _ = b_bottom.shape"
   ]
  },
  {
   "cell_type": "code",
   "execution_count": null,
   "metadata": {},
   "outputs": [],
   "source": [
    "import torch\n",
    "from torch import nn\n",
    "from torch.utils.data import DataLoader, TensorDataset\n",
    "import numpy as np\n",
    "from tqdm import tqdm\n",
    "from zpinn.pinn_nf2_cleanup import PotentialModel, create_coordinates\n",
    "\n",
    "bottom_values = b_bottom.reshape(-1, 3)\n",
    "bottom_bounds = (0, nx-1, 0, ny-1, 0, 0)\n",
    "bottom_coords = create_coordinates(bottom_bounds).reshape(-1, 3)\n",
    "\n",
    "top_bounds = (0, nx-1, 0, ny-1, nz-1, nz-1)\n",
    "lateral_bounds_1 = (0, 0, 0, ny-1, 0, nz-1)\n",
    "lateral_bounds_2 = (nx-1, nx-1, 0, ny-1, 0, nz-1)\n",
    "lateral_bounds_3 = (0, nx-1, 0, 0, 0, nz-1)\n",
    "lateral_bounds_4 = (0, nx-1, ny-1, ny-1, 0, nz-1)\n",
    "\n",
    "top_coords = create_coordinates(top_bounds)\n",
    "lateral_coords_1 = create_coordinates(lateral_bounds_1)\n",
    "lateral_coords_2 = create_coordinates(lateral_bounds_2)\n",
    "lateral_coords_3 = create_coordinates(lateral_bounds_3)\n",
    "lateral_coords_4 = create_coordinates(lateral_bounds_4)\n",
    "\n",
    "top_lateral_coordinates = [top_coords,\n",
    "                           lateral_coords_1,\n",
    "                           lateral_coords_2,\n",
    "                           lateral_coords_3,\n",
    "                           lateral_coords_4]"
   ]
  },
  {
   "cell_type": "code",
   "execution_count": null,
   "metadata": {},
   "outputs": [],
   "source": [
    "from zpinn.create_pot import get_potential_boundary"
   ]
  },
  {
   "cell_type": "code",
   "execution_count": null,
   "metadata": {},
   "outputs": [],
   "source": [
    "coords, fields = get_potential_boundary(b_bottom[:, :, 2], nz)"
   ]
  },
  {
   "cell_type": "code",
   "execution_count": null,
   "metadata": {},
   "outputs": [],
   "source": [
    "bp_top = fields[0]\n",
    "bp_lateral_3 = fields[1]\n",
    "bp_lateral_4 = fields[2]\n",
    "bp_lateral_1 = fields[3]\n",
    "bp_lateral_2 = fields[4]"
   ]
  },
  {
   "cell_type": "code",
   "execution_count": null,
   "metadata": {},
   "outputs": [],
   "source": [
    "b_bottom = b_bottom / b_norm\n",
    "bp_top = bp_top / b_norm\n",
    "bp_lateral_1 = bp_lateral_1 / b_norm\n",
    "bp_lateral_2 = bp_lateral_2 / b_norm\n",
    "bp_lateral_3 = bp_lateral_3 / b_norm \n",
    "bp_lateral_4 = bp_lateral_4 / b_norm"
   ]
  },
  {
   "cell_type": "code",
   "execution_count": null,
   "metadata": {},
   "outputs": [],
   "source": [
    "for i in range(len(coords)):\n",
    "    coords[i] = np.reshape(coords[i], (-1, 3))\n",
    "    fields[i] = np.reshape(fields[i], (-1, 3))\n",
    "\n",
    "top_lateral_values = np.concatenate(fields) \n",
    "top_lateral_coords = np.concatenate(coords)\n",
    "\n",
    "boundary_values = np.concatenate([top_lateral_values, bottom_values])\n",
    "boundary_coords = np.concatenate([top_lateral_coords, bottom_coords])\n",
    "\n",
    "normalized_boundary_values = boundary_values / b_norm\n",
    "normalized_boundary_coords = boundary_coords / spatial_norm\n",
    "\n",
    "boundary_data = np.stack([normalized_boundary_coords, normalized_boundary_values], 1)"
   ]
  },
  {
   "cell_type": "code",
   "execution_count": null,
   "metadata": {},
   "outputs": [],
   "source": [
    "b_bottom_path = os.path.join(input_path, \"b_bottom.pickle\")\n",
    "bp_top_path = os.path.join(input_path, \"bp_top.pickle\")\n",
    "bp_lateral_1_path = os.path.join(input_path, \"bp_lateral_1.pickle\")\n",
    "bp_lateral_2_path = os.path.join(input_path, \"bp_lateral_2.pickle\")\n",
    "bp_lateral_3_path = os.path.join(input_path, \"bp_lateral_3.pickle\")\n",
    "bp_lateral_4_path = os.path.join(input_path, \"bp_lateral_4.pickle\")\n",
    "boundary_data_path = os.path.join(input_path, \"boundary_data.pickle\")"
   ]
  },
  {
   "cell_type": "code",
   "execution_count": null,
   "metadata": {},
   "outputs": [],
   "source": [
    "with open(b_bottom_path,\"wb\") as f:\n",
    "    pickle.dump(b_bottom, f)\n",
    "\n",
    "with open(bp_top_path,\"wb\") as f:\n",
    "    pickle.dump(bp_top, f)\n",
    "\n",
    "with open(bp_lateral_1_path,\"wb\") as f:\n",
    "    pickle.dump(bp_lateral_1, f)\n",
    "\n",
    "with open(bp_lateral_2_path,\"wb\") as f:\n",
    "    pickle.dump(bp_lateral_2, f)\n",
    "    \n",
    "with open(bp_lateral_3_path,\"wb\") as f:\n",
    "    pickle.dump(bp_lateral_3, f)\n",
    "\n",
    "with open(bp_lateral_4_path,\"wb\") as f:\n",
    "    pickle.dump(bp_lateral_4, f)\n",
    "\n",
    "with open(boundary_data_path,\"wb\") as f:\n",
    "    pickle.dump(boundary_data, f)"
   ]
  }
 ],
 "metadata": {},
 "nbformat": 4,
 "nbformat_minor": 2
}
