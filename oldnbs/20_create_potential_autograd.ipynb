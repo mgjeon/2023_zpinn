{
 "cells": [
  {
   "attachments": {},
   "cell_type": "markdown",
   "metadata": {},
   "source": [
    "# Create Potential Field"
   ]
  },
  {
   "cell_type": "code",
   "execution_count": null,
   "metadata": {},
   "outputs": [],
   "source": [
    "import os"
   ]
  },
  {
   "cell_type": "code",
   "execution_count": null,
   "metadata": {},
   "outputs": [],
   "source": [
    "os.environ[\"CUDA_DEVICE_ORDER\"]=\"PCI_BUS_ID\"\n",
    "os.environ[\"CUDA_VISIBLE_DEVICES\"]= \"0\""
   ]
  },
  {
   "cell_type": "code",
   "execution_count": null,
   "metadata": {},
   "outputs": [],
   "source": [
    "import json"
   ]
  },
  {
   "cell_type": "code",
   "execution_count": null,
   "metadata": {},
   "outputs": [],
   "source": [
    "with open('config.json') as config:\n",
    "    info = json.load(config)\n",
    "\n",
    "nx = info['nx']\n",
    "ny = info['ny']\n",
    "nz = info['nz']\n",
    "b_norm = info['b_norm']\n",
    "spatial_norm = info['spatial_norm']\n",
    "\n",
    "input_path = info['input_path']"
   ]
  },
  {
   "cell_type": "code",
   "execution_count": null,
   "metadata": {},
   "outputs": [],
   "source": [
    "import pickle"
   ]
  },
  {
   "cell_type": "code",
   "execution_count": null,
   "metadata": {},
   "outputs": [],
   "source": [
    "input_original = os.path.join(input_path, 'original')\n",
    "b_bottom_original_path = os.path.join(input_original, \"b_bottom_original.pickle\")\n",
    "\n",
    "with open(b_bottom_original_path, \"rb\") as f:\n",
    "    b_bottom = pickle.load(f)"
   ]
  },
  {
   "cell_type": "code",
   "execution_count": null,
   "metadata": {},
   "outputs": [],
   "source": [
    "import torch\n",
    "from torch import nn\n",
    "from torch.utils.data import DataLoader, TensorDataset\n",
    "import numpy as np\n",
    "from tqdm import tqdm"
   ]
  },
  {
   "cell_type": "code",
   "execution_count": null,
   "metadata": {},
   "outputs": [],
   "source": [
    "from zpinn.pinn_nf2_cleanup import PotentialModel, create_coordinates"
   ]
  },
  {
   "cell_type": "code",
   "execution_count": null,
   "metadata": {},
   "outputs": [],
   "source": [
    "bottom_values = b_bottom.reshape(-1, 3)\n",
    "bottom_bounds = (0, nx-1, 0, ny-1, 0, 0)\n",
    "bottom_coords = create_coordinates(bottom_bounds).reshape(-1, 3)\n",
    "b_n = torch.tensor(bottom_values[:, 2], dtype=torch.float64)\n",
    "r_p = torch.tensor(bottom_coords, dtype=torch.float64)\n",
    "device = torch.device('cuda') if torch.cuda.is_available() else torch.device('cpu')\n",
    "model = nn.DataParallel(PotentialModel(b_n, r_p)).to(device)"
   ]
  },
  {
   "cell_type": "code",
   "execution_count": null,
   "metadata": {},
   "outputs": [],
   "source": [
    "top_bounds = (0, nx-1, 0, ny-1, nz-1, nz-1)\n",
    "lateral_bounds_1 = (0, 0, 0, ny-1, 0, nz-1)\n",
    "lateral_bounds_2 = (nx-1, nx-1, 0, ny-1, 0, nz-1)\n",
    "lateral_bounds_3 = (0, nx-1, 0, 0, 0, nz-1)\n",
    "lateral_bounds_4 = (0, nx-1, ny-1, ny-1, 0, nz-1)\n",
    "\n",
    "top_coords = create_coordinates(top_bounds).reshape(-1, 3)\n",
    "lateral_coords_1 = create_coordinates(lateral_bounds_1).reshape(-1, 3)\n",
    "lateral_coords_2 = create_coordinates(lateral_bounds_2).reshape(-1, 3)\n",
    "lateral_coords_3 = create_coordinates(lateral_bounds_3).reshape(-1, 3)\n",
    "lateral_coords_4 = create_coordinates(lateral_bounds_4).reshape(-1, 3)"
   ]
  },
  {
   "cell_type": "code",
   "execution_count": null,
   "metadata": {},
   "outputs": [],
   "source": [
    "top_lateral_coordinates = [top_coords,\n",
    "                           lateral_coords_1,\n",
    "                           lateral_coords_2,\n",
    "                           lateral_coords_3,\n",
    "                           lateral_coords_4]"
   ]
  },
  {
   "cell_type": "code",
   "execution_count": null,
   "metadata": {},
   "outputs": [
    {
     "name": "stderr",
     "output_type": "stream",
     "text": [
      "Potential Boundary: 100%|██████████| 1/1 [00:00<00:00,  1.28it/s]\n",
      "Potential Boundary: 100%|██████████| 1/1 [00:00<00:00,  1.74it/s]\n",
      "Potential Boundary: 100%|██████████| 1/1 [00:00<00:00,  1.45it/s]\n",
      "Potential Boundary: 100%|██████████| 1/1 [00:00<00:00,  1.27it/s]\n",
      "Potential Boundary: 100%|██████████| 1/1 [00:00<00:00,  1.26it/s]\n"
     ]
    }
   ],
   "source": [
    "pf_fields = []\n",
    "pf_coords = []\n",
    "for r_coords in top_lateral_coordinates:\n",
    "    r_coords = torch.tensor(r_coords, dtype=torch.float64)\n",
    "    # pf_batch_size = int(np.prod(r_coords.shape[:-1]) // 500)\n",
    "    pf_batch_size = int(1024 * 512 ** 2 / (nx*ny))\n",
    "\n",
    "    fields = []\n",
    "    for r, in tqdm(DataLoader(TensorDataset(r_coords), batch_size=pf_batch_size, num_workers=2),\n",
    "                        desc='Potential Boundary'):\n",
    "        r = r.to(device).requires_grad_(True)\n",
    "        p_batch = model(r)\n",
    "        b_p = -1 * torch.autograd.grad(p_batch, r, torch.ones_like(p_batch), retain_graph=True, create_graph=True)[0]\n",
    "        fields += [b_p.clone().detach().cpu().numpy()]\n",
    "    pf_fields += [np.concatenate(fields)]\n",
    "    pf_coords += [r_coords.clone().detach().cpu().numpy()]"
   ]
  },
  {
   "cell_type": "code",
   "execution_count": null,
   "metadata": {},
   "outputs": [],
   "source": [
    "top_lateral_values = np.concatenate(pf_fields) \n",
    "top_lateral_coords = np.concatenate(pf_coords)\n",
    "\n",
    "boundary_values = np.concatenate([top_lateral_values, bottom_values])\n",
    "boundary_coords = np.concatenate([top_lateral_coords, bottom_coords])\n",
    "\n",
    "normalized_boundary_values = boundary_values / b_norm\n",
    "normalized_boundary_coords = boundary_coords / spatial_norm\n",
    "\n",
    "boundary_data = np.stack([normalized_boundary_coords, normalized_boundary_values], 1)"
   ]
  },
  {
   "cell_type": "code",
   "execution_count": null,
   "metadata": {},
   "outputs": [],
   "source": [
    "bp_top = pf_fields[0].reshape(nx, ny, 3) \n",
    "bp_lateral_1 = pf_fields[1].reshape(ny, nz, 3)\n",
    "bp_lateral_2 = pf_fields[2].reshape(ny, nz, 3) \n",
    "bp_lateral_3 = pf_fields[3].reshape(nx, nz, 3) \n",
    "bp_lateral_4 = pf_fields[4].reshape(nx, nz, 3) "
   ]
  },
  {
   "cell_type": "code",
   "execution_count": null,
   "metadata": {},
   "outputs": [],
   "source": [
    "b_bottom = b_bottom / b_norm\n",
    "bp_top = bp_top / b_norm\n",
    "bp_lateral_1 = bp_lateral_1 / b_norm\n",
    "bp_lateral_2 = bp_lateral_2 / b_norm\n",
    "bp_lateral_3 = bp_lateral_3 / b_norm \n",
    "bp_lateral_4 = bp_lateral_4 / b_norm"
   ]
  },
  {
   "cell_type": "code",
   "execution_count": null,
   "metadata": {},
   "outputs": [],
   "source": [
    "b_bottom_path = os.path.join(input_path, \"b_bottom.pickle\")\n",
    "bp_top_path = os.path.join(input_path, \"bp_top.pickle\")\n",
    "bp_lateral_1_path = os.path.join(input_path, \"bp_lateral_1.pickle\")\n",
    "bp_lateral_2_path = os.path.join(input_path, \"bp_lateral_2.pickle\")\n",
    "bp_lateral_3_path = os.path.join(input_path, \"bp_lateral_3.pickle\")\n",
    "bp_lateral_4_path = os.path.join(input_path, \"bp_lateral_4.pickle\")\n",
    "boundary_data_path = os.path.join(input_path, \"boundary_data.pickle\")"
   ]
  },
  {
   "cell_type": "code",
   "execution_count": null,
   "metadata": {},
   "outputs": [],
   "source": [
    "with open(b_bottom_path,\"wb\") as f:\n",
    "    pickle.dump(b_bottom, f)\n",
    "\n",
    "with open(bp_top_path,\"wb\") as f:\n",
    "    pickle.dump(bp_top, f)\n",
    "\n",
    "with open(bp_lateral_1_path,\"wb\") as f:\n",
    "    pickle.dump(bp_lateral_1, f)\n",
    "\n",
    "with open(bp_lateral_2_path,\"wb\") as f:\n",
    "    pickle.dump(bp_lateral_2, f)\n",
    "    \n",
    "with open(bp_lateral_3_path,\"wb\") as f:\n",
    "    pickle.dump(bp_lateral_3, f)\n",
    "\n",
    "with open(bp_lateral_4_path,\"wb\") as f:\n",
    "    pickle.dump(bp_lateral_4, f)\n",
    "\n",
    "with open(boundary_data_path,\"wb\") as f:\n",
    "    pickle.dump(boundary_data, f)"
   ]
  },
  {
   "cell_type": "code",
   "execution_count": null,
   "metadata": {},
   "outputs": [],
   "source": []
  }
 ],
 "metadata": {
  "kernelspec": {
   "display_name": "python3",
   "language": "python",
   "name": "python3"
  }
 },
 "nbformat": 4,
 "nbformat_minor": 2
}
