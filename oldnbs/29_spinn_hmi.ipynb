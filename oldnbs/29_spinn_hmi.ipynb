{
 "cells": [
  {
   "cell_type": "markdown",
   "metadata": {},
   "source": [
    "# Prepares"
   ]
  },
  {
   "cell_type": "code",
   "execution_count": null,
   "metadata": {},
   "outputs": [],
   "source": [
    "import os "
   ]
  },
  {
   "cell_type": "code",
   "execution_count": null,
   "metadata": {},
   "outputs": [],
   "source": [
    "input_path = 'spinn_hmi'\n",
    "input_original = os.path.join(input_path, 'original')\n",
    "os.makedirs(input_original, exist_ok=True)"
   ]
  },
  {
   "cell_type": "code",
   "execution_count": null,
   "metadata": {},
   "outputs": [],
   "source": [
    "bin = 2\n",
    "b_norm = 2500\n",
    "spatial_norm = 160\n",
    "nz = 160"
   ]
  },
  {
   "cell_type": "markdown",
   "metadata": {},
   "source": [
    "## SPINN"
   ]
  },
  {
   "cell_type": "code",
   "execution_count": null,
   "metadata": {},
   "outputs": [],
   "source": [
    "import pickle"
   ]
  },
  {
   "cell_type": "code",
   "execution_count": null,
   "metadata": {},
   "outputs": [],
   "source": [
    "os.environ[\"XLA_PYTHON_CLIENT_PREALLOCATE\"] = \"false\"\n",
    "os.environ[\"CUDA_DEVICE_ORDER\"]=\"PCI_BUS_ID\"\n",
    "os.environ[\"CUDA_VISIBLE_DEVICES\"]= \"0\""
   ]
  },
  {
   "cell_type": "code",
   "execution_count": null,
   "metadata": {},
   "outputs": [],
   "source": [
    "import jax \n",
    "import jax.numpy as jnp\n",
    "from jax import jvp\n",
    "import optax\n",
    "from flax import linen as nn \n",
    "\n",
    "from typing import Sequence\n",
    "from functools import partial\n",
    "\n",
    "import numpy as np\n",
    "\n",
    "import time\n",
    "from tqdm import trange"
   ]
  },
  {
   "cell_type": "code",
   "execution_count": null,
   "metadata": {},
   "outputs": [],
   "source": [
    "input_original = os.path.join(input_path, 'original')\n",
    "\n",
    "b_bottom_path = os.path.join(input_path, \"b_bottom.pickle\")\n",
    "bp_top_path = os.path.join(input_path, \"bp_top.pickle\")\n",
    "bp_lateral_1_path = os.path.join(input_path, \"bp_lateral_1.pickle\")\n",
    "bp_lateral_2_path = os.path.join(input_path, \"bp_lateral_2.pickle\")\n",
    "bp_lateral_3_path = os.path.join(input_path, \"bp_lateral_3.pickle\")\n",
    "bp_lateral_4_path = os.path.join(input_path, \"bp_lateral_4.pickle\")"
   ]
  },
  {
   "cell_type": "code",
   "execution_count": null,
   "metadata": {},
   "outputs": [],
   "source": [
    "with open(b_bottom_path,\"rb\") as f:\n",
    "    b_bottom = pickle.load(f)\n",
    "\n",
    "with open(bp_top_path,\"rb\") as f:\n",
    "    bp_top = pickle.load(f)\n",
    "\n",
    "with open(bp_lateral_1_path,\"rb\") as f:\n",
    "    bp_lateral_1 = pickle.load(f)\n",
    "\n",
    "with open(bp_lateral_2_path,\"rb\") as f:\n",
    "    bp_lateral_2 = pickle.load(f)\n",
    "\n",
    "with open(bp_lateral_3_path,\"rb\") as f:\n",
    "    bp_lateral_3 = pickle.load(f)\n",
    "\n",
    "with open(bp_lateral_4_path,\"rb\") as f:\n",
    "    bp_lateral_4 = pickle.load(f)"
   ]
  },
  {
   "cell_type": "code",
   "execution_count": null,
   "metadata": {},
   "outputs": [],
   "source": [
    "seed = 111\n",
    "key = jax.random.PRNGKey(seed)\n",
    "key, subkey = jax.random.split(key, 2)"
   ]
  },
  {
   "cell_type": "code",
   "execution_count": null,
   "metadata": {},
   "outputs": [],
   "source": [
    "features = 256\n",
    "n_layers = 8 \n",
    "feat_sizes = tuple([features for _ in range(n_layers)]) \n",
    "r = 128 \n",
    "out_dim = 3 \n",
    "\n",
    "lr = 5e-4\n",
    "\n",
    "epochs = 2000\n",
    "log_iter = 100"
   ]
  },
  {
   "cell_type": "code",
   "execution_count": null,
   "metadata": {},
   "outputs": [],
   "source": [
    "from zpinn.spinn_cleanup_new import SPINN3d, generate_train_data, apply_model_spinn, update_model"
   ]
  },
  {
   "cell_type": "code",
   "execution_count": null,
   "metadata": {},
   "outputs": [
    {
     "data": {
      "text/plain": [
       "(344, 224, 3)"
      ]
     },
     "execution_count": null,
     "metadata": {},
     "output_type": "execute_result"
    }
   ],
   "source": [
    "b_bottom.shape"
   ]
  },
  {
   "cell_type": "code",
   "execution_count": null,
   "metadata": {},
   "outputs": [],
   "source": [
    "nx, ny, _ = b_bottom.shape"
   ]
  },
  {
   "cell_type": "code",
   "execution_count": null,
   "metadata": {},
   "outputs": [],
   "source": [
    "model = SPINN3d(feat_sizes, r, out_dim, pos_enc=0, mlp='modified_mlp')\n",
    "params = model.init(\n",
    "            subkey,\n",
    "            jnp.ones((nx, 1)),\n",
    "            jnp.ones((ny, 1)),\n",
    "            jnp.ones((nz, 1))\n",
    "        )\n",
    "apply_fn = jax.jit(model.apply)\n",
    "optim = optax.adam(learning_rate=lr)\n",
    "state = optim.init(params)"
   ]
  },
  {
   "cell_type": "code",
   "execution_count": null,
   "metadata": {},
   "outputs": [],
   "source": [
    "key, subkey = jax.random.split(key, 2)\n",
    "train_data = generate_train_data(nx, ny, nz, key)"
   ]
  },
  {
   "cell_type": "code",
   "execution_count": null,
   "metadata": {},
   "outputs": [],
   "source": [
    "boundary_data = (b_bottom, bp_top, bp_lateral_1, bp_lateral_2, bp_lateral_3, bp_lateral_4)"
   ]
  },
  {
   "cell_type": "code",
   "execution_count": null,
   "metadata": {},
   "outputs": [],
   "source": [
    "train_boundary_data = [train_data, boundary_data]"
   ]
  },
  {
   "cell_type": "code",
   "execution_count": null,
   "metadata": {},
   "outputs": [],
   "source": [
    "loss, gradient = apply_model_spinn(apply_fn, params, train_boundary_data)\n",
    "params, state = update_model(optim, gradient, params, state)"
   ]
  },
  {
   "cell_type": "code",
   "execution_count": null,
   "metadata": {},
   "outputs": [],
   "source": [
    "result_path = 'spinn_hmi/output'\n",
    "os.makedirs(result_path, exist_ok=True)"
   ]
  },
  {
   "cell_type": "code",
   "execution_count": null,
   "metadata": {},
   "outputs": [
    {
     "name": "stderr",
     "output_type": "stream",
     "text": [
      "  0%|          | 0/2000 [00:00<?, ?it/s]"
     ]
    },
    {
     "name": "stderr",
     "output_type": "stream",
     "text": [
      "  0%|          | 1/2000 [00:00<03:43,  8.96it/s]"
     ]
    },
    {
     "name": "stdout",
     "output_type": "stream",
     "text": [
      "Epoch: 1/2000 --> total loss: 0.04490991\n"
     ]
    },
    {
     "name": "stderr",
     "output_type": "stream",
     "text": [
      "  5%|▌         | 103/2000 [00:09<02:44, 11.52it/s]"
     ]
    },
    {
     "name": "stdout",
     "output_type": "stream",
     "text": [
      "Epoch: 100/2000 --> total loss: 0.03350798\n"
     ]
    },
    {
     "name": "stderr",
     "output_type": "stream",
     "text": [
      " 10%|█         | 203/2000 [00:18<02:40, 11.23it/s]"
     ]
    },
    {
     "name": "stdout",
     "output_type": "stream",
     "text": [
      "Epoch: 200/2000 --> total loss: 0.03296580\n"
     ]
    },
    {
     "name": "stderr",
     "output_type": "stream",
     "text": [
      " 15%|█▌        | 303/2000 [00:26<02:31, 11.23it/s]"
     ]
    },
    {
     "name": "stdout",
     "output_type": "stream",
     "text": [
      "Epoch: 300/2000 --> total loss: 0.03160987\n"
     ]
    },
    {
     "name": "stderr",
     "output_type": "stream",
     "text": [
      " 20%|██        | 403/2000 [00:35<02:21, 11.25it/s]"
     ]
    },
    {
     "name": "stdout",
     "output_type": "stream",
     "text": [
      "Epoch: 400/2000 --> total loss: 0.02852959\n"
     ]
    },
    {
     "name": "stderr",
     "output_type": "stream",
     "text": [
      " 25%|██▌       | 503/2000 [00:44<02:12, 11.30it/s]"
     ]
    },
    {
     "name": "stdout",
     "output_type": "stream",
     "text": [
      "Epoch: 500/2000 --> total loss: 0.02684779\n"
     ]
    },
    {
     "name": "stderr",
     "output_type": "stream",
     "text": [
      " 30%|███       | 603/2000 [00:53<02:03, 11.28it/s]"
     ]
    },
    {
     "name": "stdout",
     "output_type": "stream",
     "text": [
      "Epoch: 600/2000 --> total loss: 0.02492625\n"
     ]
    },
    {
     "name": "stderr",
     "output_type": "stream",
     "text": [
      " 35%|███▌      | 703/2000 [01:02<01:54, 11.30it/s]"
     ]
    },
    {
     "name": "stdout",
     "output_type": "stream",
     "text": [
      "Epoch: 700/2000 --> total loss: 0.02416475\n"
     ]
    },
    {
     "name": "stderr",
     "output_type": "stream",
     "text": [
      " 40%|████      | 803/2000 [01:10<01:46, 11.29it/s]"
     ]
    },
    {
     "name": "stdout",
     "output_type": "stream",
     "text": [
      "Epoch: 800/2000 --> total loss: 0.02267363\n"
     ]
    },
    {
     "name": "stderr",
     "output_type": "stream",
     "text": [
      " 45%|████▌     | 903/2000 [01:19<01:38, 11.14it/s]"
     ]
    },
    {
     "name": "stdout",
     "output_type": "stream",
     "text": [
      "Epoch: 900/2000 --> total loss: 0.02149615\n"
     ]
    },
    {
     "name": "stderr",
     "output_type": "stream",
     "text": [
      " 50%|█████     | 1003/2000 [01:28<01:30, 11.01it/s]"
     ]
    },
    {
     "name": "stdout",
     "output_type": "stream",
     "text": [
      "Epoch: 1000/2000 --> total loss: 0.02314830\n"
     ]
    },
    {
     "name": "stderr",
     "output_type": "stream",
     "text": [
      " 55%|█████▌    | 1103/2000 [01:37<01:20, 11.16it/s]"
     ]
    },
    {
     "name": "stdout",
     "output_type": "stream",
     "text": [
      "Epoch: 1100/2000 --> total loss: 0.01667921\n"
     ]
    },
    {
     "name": "stderr",
     "output_type": "stream",
     "text": [
      " 60%|██████    | 1203/2000 [01:46<01:10, 11.24it/s]"
     ]
    },
    {
     "name": "stdout",
     "output_type": "stream",
     "text": [
      "Epoch: 1200/2000 --> total loss: 0.01552274\n"
     ]
    },
    {
     "name": "stderr",
     "output_type": "stream",
     "text": [
      " 65%|██████▌   | 1303/2000 [01:55<01:01, 11.25it/s]"
     ]
    },
    {
     "name": "stdout",
     "output_type": "stream",
     "text": [
      "Epoch: 1300/2000 --> total loss: 0.01517787\n"
     ]
    },
    {
     "name": "stderr",
     "output_type": "stream",
     "text": [
      " 70%|███████   | 1403/2000 [02:04<00:53, 11.16it/s]"
     ]
    },
    {
     "name": "stdout",
     "output_type": "stream",
     "text": [
      "Epoch: 1400/2000 --> total loss: 0.01443515\n"
     ]
    },
    {
     "name": "stderr",
     "output_type": "stream",
     "text": [
      " 75%|███████▌  | 1503/2000 [02:13<00:43, 11.33it/s]"
     ]
    },
    {
     "name": "stdout",
     "output_type": "stream",
     "text": [
      "Epoch: 1500/2000 --> total loss: 0.01397124\n"
     ]
    },
    {
     "name": "stderr",
     "output_type": "stream",
     "text": [
      " 80%|████████  | 1603/2000 [02:22<00:35, 11.16it/s]"
     ]
    },
    {
     "name": "stdout",
     "output_type": "stream",
     "text": [
      "Epoch: 1600/2000 --> total loss: 0.01359771\n"
     ]
    },
    {
     "name": "stderr",
     "output_type": "stream",
     "text": [
      " 85%|████████▌ | 1703/2000 [02:30<00:26, 11.10it/s]"
     ]
    },
    {
     "name": "stdout",
     "output_type": "stream",
     "text": [
      "Epoch: 1700/2000 --> total loss: 0.01375258\n"
     ]
    },
    {
     "name": "stderr",
     "output_type": "stream",
     "text": [
      " 90%|█████████ | 1803/2000 [02:39<00:17, 11.04it/s]"
     ]
    },
    {
     "name": "stdout",
     "output_type": "stream",
     "text": [
      "Epoch: 1800/2000 --> total loss: 0.01283587\n"
     ]
    },
    {
     "name": "stderr",
     "output_type": "stream",
     "text": [
      " 95%|█████████▌| 1903/2000 [02:48<00:08, 11.11it/s]"
     ]
    },
    {
     "name": "stdout",
     "output_type": "stream",
     "text": [
      "Epoch: 1900/2000 --> total loss: 0.01246905\n"
     ]
    },
    {
     "name": "stderr",
     "output_type": "stream",
     "text": [
      "100%|██████████| 2000/2000 [02:57<00:00, 11.27it/s]"
     ]
    },
    {
     "name": "stdout",
     "output_type": "stream",
     "text": [
      "Epoch: 2000/2000 --> total loss: 0.01246227\n",
      "Runtime --> total: 177.40sec (88.75ms/iter.)\n"
     ]
    },
    {
     "name": "stderr",
     "output_type": "stream",
     "text": [
      "\n"
     ]
    }
   ],
   "source": [
    "start = time.time()\n",
    "for e in trange(1, epochs + 1):\n",
    "    \n",
    "    # if e % 300 == 0:\n",
    "    #     # sample new input data\n",
    "    #     key, subkey = jax.random.split(key, 2)\n",
    "    #     train_data = generate_train_data(nx, ny, nz, subkey)\n",
    "\n",
    "    loss, gradient = apply_model_spinn(apply_fn, params, train_boundary_data)\n",
    "    params, state = update_model(optim, gradient, params, state)\n",
    "    \n",
    "    if e % log_iter == 0 or e == 1:\n",
    "        print(f'Epoch: {e}/{epochs} --> total loss: {loss:.8f}')\n",
    "        params_path = os.path.join(result_path, f\"params_{e}.pickle\")\n",
    "        with open(params_path, \"wb\") as f:\n",
    "            pickle.dump(params, f)\n",
    "\n",
    "runtime = time.time() - start\n",
    "print(f'Runtime --> total: {runtime:.2f}sec ({(runtime/(epochs-1)*1000):.2f}ms/iter.)')"
   ]
  },
  {
   "cell_type": "code",
   "execution_count": null,
   "metadata": {},
   "outputs": [],
   "source": []
  }
 ],
 "metadata": {
  "kernelspec": {
   "display_name": "python3",
   "language": "python",
   "name": "python3"
  }
 },
 "nbformat": 4,
 "nbformat_minor": 2
}
