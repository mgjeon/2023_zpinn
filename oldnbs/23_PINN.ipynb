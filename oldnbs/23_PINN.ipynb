{
 "cells": [
  {
   "attachments": {},
   "cell_type": "markdown",
   "metadata": {},
   "source": [
    "# PINN\n",
    "https://github.com/RobertJaro/NF2"
   ]
  },
  {
   "attachments": {},
   "cell_type": "markdown",
   "metadata": {},
   "source": [
    "## Load input data"
   ]
  },
  {
   "cell_type": "code",
   "execution_count": null,
   "metadata": {},
   "outputs": [],
   "source": [
    "import os\n",
    "import json\n",
    "import pickle\n",
    "import torch"
   ]
  },
  {
   "cell_type": "code",
   "execution_count": null,
   "metadata": {},
   "outputs": [],
   "source": [
    "torch.set_num_threads(2)"
   ]
  },
  {
   "cell_type": "code",
   "execution_count": null,
   "metadata": {},
   "outputs": [],
   "source": [
    "with open('config.json') as config:\n",
    "    info = json.load(config)\n",
    "\n",
    "os.environ[\"CUDA_DEVICE_ORDER\"]=\"PCI_BUS_ID\"\n",
    "os.environ[\"CUDA_VISIBLE_DEVICES\"]= info['cuda_visible']\n",
    "\n",
    "nz = info['nz']\n",
    "b_norm = info['b_norm']\n",
    "spatial_norm = info['spatial_norm']\n",
    "\n",
    "input_path = info['input_path']"
   ]
  },
  {
   "cell_type": "code",
   "execution_count": null,
   "metadata": {},
   "outputs": [],
   "source": [
    "b_bottom_path = os.path.join(input_path, \"b_bottom.pickle\")\n",
    "\n",
    "with open(b_bottom_path,\"rb\") as f:\n",
    "    b_bottom = pickle.load(f)"
   ]
  },
  {
   "cell_type": "code",
   "execution_count": null,
   "metadata": {},
   "outputs": [],
   "source": [
    "boundary_data_path = os.path.join(input_path, \"boundary_data.pickle\")\n",
    "\n",
    "with open(boundary_data_path,\"rb\") as f:\n",
    "    boundary_data = pickle.load(f)"
   ]
  },
  {
   "attachments": {},
   "cell_type": "markdown",
   "metadata": {},
   "source": [
    "## PINN"
   ]
  },
  {
   "cell_type": "code",
   "execution_count": null,
   "metadata": {},
   "outputs": [],
   "source": [
    "from zpinn.pinn_nf2_cleanup import NF2Trainer"
   ]
  },
  {
   "cell_type": "code",
   "execution_count": null,
   "metadata": {},
   "outputs": [],
   "source": [
    "base_path = info['output_pinn']\n",
    "trainer = NF2Trainer(base_path, b_bottom, height=nz, b_norm=b_norm, spatial_norm=spatial_norm, meta_info=None, boundary_data=boundary_data)"
   ]
  },
  {
   "cell_type": "code",
   "execution_count": null,
   "metadata": {},
   "outputs": [],
   "source": [
    "trainer.setup(total_iterations=10000, batch_size=10000, log_interval=1000, num_workers=2,\n",
    "              num_neurons=256, num_layers=8, w_ff=1, w_div=1, w_bc_init=1000, decay_iterations=25000)"
   ]
  },
  {
   "cell_type": "code",
   "execution_count": null,
   "metadata": {},
   "outputs": [],
   "source": [
    "import time"
   ]
  },
  {
   "cell_type": "code",
   "execution_count": null,
   "metadata": {},
   "outputs": [
    {
     "name": "stderr",
     "output_type": "stream",
     "text": [
      "Training:   0%|          | 0/10000 [00:00<?, ?it/s]"
     ]
    },
    {
     "name": "stderr",
     "output_type": "stream",
     "text": [
      "Training:   0%|          | 3/10000 [00:00<41:18,  4.03it/s]  "
     ]
    },
    {
     "name": "stdout",
     "output_type": "stream",
     "text": [
      "[Iteration 000000/010000] [loss: 35.36781311] [loss_bc: 35.36780167; loss_div: 0.00000711; loss_ff: 0.00000506] [w_bc: 1000.000000, LR: 0.000500]\n"
     ]
    },
    {
     "name": "stderr",
     "output_type": "stream",
     "text": [
      "Training:  10%|█         | 1001/10000 [01:12<11:14, 13.35it/s]"
     ]
    },
    {
     "name": "stdout",
     "output_type": "stream",
     "text": [
      "[Iteration 001000/010000] [loss: 4.16345358] [loss_bc: 3.74916387; loss_div: 0.23466806; loss_ff: 0.17962188] [w_bc: 758.787207, LR: 0.000397]\n"
     ]
    },
    {
     "name": "stderr",
     "output_type": "stream",
     "text": [
      "Training:  20%|██        | 2001/10000 [02:24<10:01, 13.31it/s]"
     ]
    },
    {
     "name": "stdout",
     "output_type": "stream",
     "text": [
      "[Iteration 002000/010000] [loss: 0.52008384] [loss_bc: 0.42431802; loss_div: 0.05378867; loss_ff: 0.04197716] [w_bc: 575.598959, LR: 0.000316]\n"
     ]
    },
    {
     "name": "stderr",
     "output_type": "stream",
     "text": [
      "Training:  30%|███       | 3001/10000 [03:35<08:34, 13.60it/s]"
     ]
    },
    {
     "name": "stdout",
     "output_type": "stream",
     "text": [
      "[Iteration 003000/010000] [loss: 0.10600535] [loss_bc: 0.07016955; loss_div: 0.01914594; loss_ff: 0.01668986] [w_bc: 436.636463, LR: 0.000251]\n"
     ]
    },
    {
     "name": "stderr",
     "output_type": "stream",
     "text": [
      "Training:  40%|████      | 4001/10000 [04:47<07:19, 13.65it/s]"
     ]
    },
    {
     "name": "stdout",
     "output_type": "stream",
     "text": [
      "[Iteration 004000/010000] [loss: 0.05708789] [loss_bc: 0.02688317; loss_div: 0.02082542; loss_ff: 0.00937930] [w_bc: 331.222629, LR: 0.000199]\n"
     ]
    },
    {
     "name": "stderr",
     "output_type": "stream",
     "text": [
      "Training:  50%|█████     | 5001/10000 [05:59<06:08, 13.56it/s]"
     ]
    },
    {
     "name": "stdout",
     "output_type": "stream",
     "text": [
      "[Iteration 005000/010000] [loss: 0.02474340] [loss_bc: 0.01540289; loss_div: 0.00534412; loss_ff: 0.00399639] [w_bc: 251.258059, LR: 0.000158]\n"
     ]
    },
    {
     "name": "stderr",
     "output_type": "stream",
     "text": [
      "Training:  60%|██████    | 6001/10000 [07:10<04:52, 13.69it/s]"
     ]
    },
    {
     "name": "stdout",
     "output_type": "stream",
     "text": [
      "[Iteration 006000/010000] [loss: 0.02096384] [loss_bc: 0.01324548; loss_div: 0.00520545; loss_ff: 0.00251291] [w_bc: 190.598729, LR: 0.000126]\n"
     ]
    },
    {
     "name": "stderr",
     "output_type": "stream",
     "text": [
      "Training:  70%|███████   | 7001/10000 [08:22<03:40, 13.61it/s]"
     ]
    },
    {
     "name": "stdout",
     "output_type": "stream",
     "text": [
      "[Iteration 007000/010000] [loss: 0.01231458] [loss_bc: 0.00593442; loss_div: 0.00398436; loss_ff: 0.00239580] [w_bc: 144.583922, LR: 0.000100]\n"
     ]
    },
    {
     "name": "stderr",
     "output_type": "stream",
     "text": [
      "Training:  80%|████████  | 8001/10000 [09:34<02:24, 13.86it/s]"
     ]
    },
    {
     "name": "stdout",
     "output_type": "stream",
     "text": [
      "[Iteration 008000/010000] [loss: 0.01302141] [loss_bc: 0.00987879; loss_div: 0.00199902; loss_ff: 0.00114361] [w_bc: 109.678121, LR: 0.000079]\n"
     ]
    },
    {
     "name": "stderr",
     "output_type": "stream",
     "text": [
      "Training:  90%|█████████ | 9001/10000 [10:45<01:13, 13.63it/s]"
     ]
    },
    {
     "name": "stdout",
     "output_type": "stream",
     "text": [
      "[Iteration 009000/010000] [loss: 0.00532812] [loss_bc: 0.00284126; loss_div: 0.00154895; loss_ff: 0.00093791] [w_bc: 83.199363, LR: 0.000063]\n"
     ]
    },
    {
     "name": "stderr",
     "output_type": "stream",
     "text": [
      "Training: 100%|██████████| 10000/10000 [11:57<00:00, 13.94it/s]"
     ]
    },
    {
     "name": "stdout",
     "output_type": "stream",
     "text": [
      "[Iteration 010000/010000] [loss: 0.00609566] [loss_bc: 0.00235320; loss_div: 0.00252124; loss_ff: 0.00122122] [w_bc: 63.113171, LR: 0.000050]\n",
      "[Iteration 010000/010000] [loss: 0.00609566] [loss_bc: 0.00235255; loss_div: 0.00252124; loss_ff: 0.00122122] [w_bc: 63.095734, LR: 0.000050]\n",
      "Runtime --> total: 717.62sec\n"
     ]
    },
    {
     "name": "stderr",
     "output_type": "stream",
     "text": [
      "\n"
     ]
    }
   ],
   "source": [
    "start = time.time()\n",
    "\n",
    "trainer.train()\n",
    "\n",
    "runtime = time.time() - start\n",
    "print(f'Runtime --> total: {runtime:.2f}sec')"
   ]
  },
  {
   "cell_type": "code",
   "execution_count": null,
   "metadata": {},
   "outputs": [],
   "source": []
  }
 ],
 "metadata": {
  "kernelspec": {
   "display_name": "python3",
   "language": "python",
   "name": "python3"
  }
 },
 "nbformat": 4,
 "nbformat_minor": 2
}
