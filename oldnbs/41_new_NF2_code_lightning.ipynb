{
 "cells": [
  {
   "cell_type": "markdown",
   "metadata": {},
   "source": [
    "# HMI PINN + Pytorch lightning"
   ]
  },
  {
   "cell_type": "code",
   "execution_count": null,
   "metadata": {},
   "outputs": [],
   "source": [
    "from setproctitle import setproctitle\n",
    "\n",
    "setproctitle(\"HMI PINN (lightning)\")"
   ]
  },
  {
   "cell_type": "markdown",
   "metadata": {},
   "source": [
    "mamba create -n nf2test python=3.10\n",
    "pip install -r requirements.txt\n",
    "pip"
   ]
  },
  {
   "cell_type": "code",
   "execution_count": null,
   "metadata": {},
   "outputs": [
    {
     "name": "stderr",
     "output_type": "stream",
     "text": [
      "/userhome/jeon_mg/mambaforge/envs/nf2test/lib/python3.10/site-packages/tqdm/auto.py:21: TqdmWarning: IProgress not found. Please update jupyter and ipywidgets. See https://ipywidgets.readthedocs.io/en/stable/user_install.html\n",
      "  from .autonotebook import tqdm as notebook_tqdm\n"
     ]
    }
   ],
   "source": [
    "# general imports\n",
    "import glob\n",
    "import os\n",
    "from datetime import datetime, timedelta\n",
    "from dateutil.parser import parse\n",
    "import shutil\n",
    "\n",
    "# download\n",
    "import drms\n",
    "from urllib import request\n",
    "\n",
    "# data processing\n",
    "import numpy as np\n",
    "from sunpy.map import Map\n",
    "from sunpy.net import Fido\n",
    "from sunpy.net import attrs as a\n",
    "\n",
    "# deep learning\n",
    "import torch\n",
    "from pytorch_lightning import Trainer\n",
    "from pytorch_lightning.loggers import WandbLogger\n",
    "from pytorch_lightning.callbacks import ModelCheckpoint, LambdaCallback\n",
    "import wandb\n",
    "\n",
    "# NF2\n",
    "from nf2.train.module import NF2Module, save\n",
    "from nf2.train.data_loader import SHARPDataModule, SHARPSeriesDataModule\n",
    "from nf2.data.download import download_HARP_series, find_HARP, download_euv\n",
    "from nf2.evaluation.unpack import load_cube\n",
    "from nf2.evaluation.metric import *\n",
    "from nf2.evaluation.energy import get_free_mag_energy\n",
    "from nf2.evaluation.series import evaluate_nf2_series\n",
    "from nf2.evaluation.flares import _calculate_free_energy, get_integrated_euv_map, load_B_map\n",
    "\n",
    "# visualization\n",
    "from matplotlib import pyplot as plt"
   ]
  },
  {
   "cell_type": "code",
   "execution_count": null,
   "metadata": {},
   "outputs": [],
   "source": [
    "os.environ[\"CUDA_DEVICE_ORDER\"]=\"PCI_BUS_ID\"\n",
    "os.environ[\"CUDA_VISIBLE_DEVICES\"]= \"2\""
   ]
  },
  {
   "cell_type": "code",
   "execution_count": null,
   "metadata": {},
   "outputs": [],
   "source": [
    "base_path = '02_output/AR7115_20170906_090000/PINN_light'\n",
    "data_path = '01_input/AR7115_20170906_090000/hmi'\n",
    "\n",
    "os.makedirs(base_path, exist_ok=True)\n",
    "\n",
    "save_path = os.path.join(base_path, 'extrapolation_result.nf2')"
   ]
  },
  {
   "cell_type": "code",
   "execution_count": null,
   "metadata": {},
   "outputs": [],
   "source": [
    "bin = 2\n",
    "spatial_norm = 160\n",
    "height = 160\n",
    "b_norm = 2500\n",
    "d_slice = None \n",
    "\n",
    "boundary = {'type': 'potential', 'strides': 4}\n",
    "\n",
    "data_args = {\"data_path\": data_path,\n",
    "             \"height\":height,\n",
    "             \"spatial_norm\": spatial_norm,\n",
    "             \"b_norm\": b_norm,\n",
    "             \"work_directory\": base_path,\n",
    "             \"bin\": bin,\n",
    "             \"Mm_per_pixel\": 0.72,\n",
    "             \"slice\": d_slice,\n",
    "             \"boundar\": boundary\n",
    "             }"
   ]
  },
  {
   "cell_type": "code",
   "execution_count": null,
   "metadata": {},
   "outputs": [],
   "source": [
    "dim = 256\n",
    "vector_potential = False\n",
    "\n",
    "model_args = {\"dim\": dim, \"use_vector_potential\": vector_potential}"
   ]
  },
  {
   "cell_type": "code",
   "execution_count": null,
   "metadata": {},
   "outputs": [],
   "source": [
    "lambda_div = 0.1 \n",
    "lambda_ff = 0.1\n",
    "\n",
    "iterations = 10000 \n",
    "iterations = int(iterations)\n",
    "\n",
    "validation_interval = 1e4 \n",
    "validation_interval = int(validation_interval)\n",
    "\n",
    "\n",
    "batch_size = 1e4\n",
    "batch_size = int(batch_size)\n",
    "\n",
    "data_args['iterations'] = iterations\n",
    "data_args['batch_size'] = batch_size\n",
    "training_args = {\"lambda_div\": lambda_div,\n",
    "              \"lambda_ff\": lambda_ff,}\n",
    "config = {'data': data_args, 'model': model_args, 'training': training_args}"
   ]
  },
  {
   "cell_type": "code",
   "execution_count": null,
   "metadata": {},
   "outputs": [],
   "source": [
    "sharp_nr = 7115"
   ]
  },
  {
   "cell_type": "code",
   "execution_count": null,
   "metadata": {},
   "outputs": [
    {
     "name": "stderr",
     "output_type": "stream",
     "text": [
      "Failed to detect the name of this notebook, you can set it manually with the WANDB_NOTEBOOK_NAME environment variable to enable code saving.\n",
      "\u001b[34m\u001b[1mwandb\u001b[0m: W&B API key is configured. Use \u001b[1m`wandb login --relogin`\u001b[0m to force relogin\n"
     ]
    },
    {
     "data": {
      "text/html": [
       "Tracking run with wandb version 0.15.5"
      ],
      "text/plain": [
       "<IPython.core.display.HTML object>"
      ]
     },
     "metadata": {},
     "output_type": "display_data"
    },
    {
     "data": {
      "text/html": [
       "Run data is saved locally in <code>./wandb/run-20230711_112233-azgw78ry</code>"
      ],
      "text/plain": [
       "<IPython.core.display.HTML object>"
      ]
     },
     "metadata": {},
     "output_type": "display_data"
    },
    {
     "data": {
      "text/html": [
       "Syncing run <strong><a href='https://wandb.ai/mgjeon/nf2/runs/azgw78ry' target=\"_blank\">7115</a></strong> to <a href='https://wandb.ai/mgjeon/nf2' target=\"_blank\">Weights & Biases</a> (<a href='https://wandb.me/run' target=\"_blank\">docs</a>)<br/>"
      ],
      "text/plain": [
       "<IPython.core.display.HTML object>"
      ]
     },
     "metadata": {},
     "output_type": "display_data"
    },
    {
     "data": {
      "text/html": [
       " View project at <a href='https://wandb.ai/mgjeon/nf2' target=\"_blank\">https://wandb.ai/mgjeon/nf2</a>"
      ],
      "text/plain": [
       "<IPython.core.display.HTML object>"
      ]
     },
     "metadata": {},
     "output_type": "display_data"
    },
    {
     "data": {
      "text/html": [
       " View run at <a href='https://wandb.ai/mgjeon/nf2/runs/azgw78ry' target=\"_blank\">https://wandb.ai/mgjeon/nf2/runs/azgw78ry</a>"
      ],
      "text/plain": [
       "<IPython.core.display.HTML object>"
      ]
     },
     "metadata": {},
     "output_type": "display_data"
    }
   ],
   "source": [
    "wandb_logger = WandbLogger(project='nf2', name=str(sharp_nr), dir=base_path, log_model=\"all\")\n",
    "wandb_logger.experiment.config.update(config, allow_val_change=True)"
   ]
  },
  {
   "cell_type": "code",
   "execution_count": null,
   "metadata": {},
   "outputs": [
    {
     "name": "stderr",
     "output_type": "stream",
     "text": [
      "WARNING: SunpyMetadataWarning: Could not parse unit string \"Mx/cm^2\" as a valid FITS unit.\n",
      "See https://docs.sunpy.org/en/stable/code_ref/map.html#fixing-map-metadata for how to fix metadata before loading it with sunpy.map.Map.\n",
      "See https://fits.gsfc.nasa.gov/fits_standard.html forthe FITS unit standards. [sunpy.map.mapbase]\n"
     ]
    }
   ],
   "source": [
    "data_module = SHARPDataModule(**data_args)"
   ]
  },
  {
   "cell_type": "code",
   "execution_count": null,
   "metadata": {},
   "outputs": [],
   "source": [
    "validation_settings = {'cube_shape': data_module.cube_dataset.coords_shape,\n",
    "                       'gauss_per_dB': b_norm,\n",
    "                       'Mm_per_ds': data_module.Mm_per_pixel * spatial_norm}\n",
    "\n",
    "nf2 = NF2Module(validation_settings, **model_args, **training_args)"
   ]
  },
  {
   "cell_type": "code",
   "execution_count": null,
   "metadata": {},
   "outputs": [],
   "source": [
    "save_callback = LambdaCallback(\n",
    "    on_validation_end=lambda *args: save(save_path, nf2.model, data_module, config, nf2.height_mapping_model))\n",
    "checkpoint_callback = ModelCheckpoint(dirpath=base_path,\n",
    "                                      every_n_train_steps=validation_interval,\n",
    "                                      save_last=True)"
   ]
  },
  {
   "cell_type": "code",
   "execution_count": null,
   "metadata": {},
   "outputs": [
    {
     "name": "stderr",
     "output_type": "stream",
     "text": [
      "GPU available: True (cuda), used: True\n",
      "TPU available: False, using: 0 TPU cores\n",
      "IPU available: False, using: 0 IPUs\n",
      "HPU available: False, using: 0 HPUs\n",
      "TPU available: False, using: 0 TPU cores\n",
      "IPU available: False, using: 0 IPUs\n",
      "HPU available: False, using: 0 HPUs\n"
     ]
    }
   ],
   "source": [
    "n_gpus = torch.cuda.device_count()\n",
    "trainer = Trainer(max_epochs=1,\n",
    "                  logger=wandb_logger,\n",
    "                  devices=n_gpus if n_gpus >= 1 else None,\n",
    "                  accelerator='gpu' if n_gpus >= 1 else None,\n",
    "                #   strategy='dp' if n_gpus > 1 else None,\n",
    "                  num_sanity_val_steps=0,\n",
    "                  val_check_interval=validation_interval,\n",
    "                  gradient_clip_val=0.1,\n",
    "                  callbacks=[checkpoint_callback, save_callback], )"
   ]
  },
  {
   "cell_type": "code",
   "execution_count": null,
   "metadata": {},
   "outputs": [
    {
     "name": "stderr",
     "output_type": "stream",
     "text": [
      "/userhome/jeon_mg/mambaforge/envs/nf2test/lib/python3.10/site-packages/pytorch_lightning/trainer/connectors/checkpoint_connector.py:165: UserWarning: .fit(ckpt_path=\"last\") is set, but there is no fault tolerant or last checkpoint available. No checkpoint will be loaded.\n",
      "  rank_zero_warn(\n",
      "You are using a CUDA device ('NVIDIA RTX A6000') that has Tensor Cores. To properly utilize them, you should set `torch.set_float32_matmul_precision('medium' | 'high')` which will trade-off precision for performance. For more details, read https://pytorch.org/docs/stable/generated/torch.set_float32_matmul_precision.html#torch.set_float32_matmul_precision\n",
      "/userhome/jeon_mg/mambaforge/envs/nf2test/lib/python3.10/site-packages/pytorch_lightning/callbacks/model_checkpoint.py:613: UserWarning: Checkpoint directory /userhome/jeon_mg/workspace/zpinn/nbs/02_output/AR7115_20170906_090000/PINN_light exists and is not empty.\n",
      "  rank_zero_warn(f\"Checkpoint directory {dirpath} exists and is not empty.\")\n",
      "LOCAL_RANK: 0 - CUDA_VISIBLE_DEVICES: [2]\n",
      "\n",
      "  | Name  | Type   | Params\n",
      "---------------------------------\n",
      "0 | model | BModel | 528 K \n",
      "---------------------------------\n",
      "528 K     Trainable params\n",
      "0         Non-trainable params\n",
      "528 K     Total params\n",
      "2.113     Total estimated model params size (MB)\n"
     ]
    },
    {
     "name": "stdout",
     "output_type": "stream",
     "text": [
      "Epoch 0:  46%|████▋     | 5220/11241 [04:23<05:04, 19.80it/s, loss=3.51, v_num=78ry]"
     ]
    },
    {
     "name": "stderr",
     "output_type": "stream",
     "text": [
      "/userhome/jeon_mg/mambaforge/envs/nf2test/lib/python3.10/site-packages/pytorch_lightning/trainer/call.py:48: UserWarning: Detected KeyboardInterrupt, attempting graceful shutdown...\n",
      "  rank_zero_warn(\"Detected KeyboardInterrupt, attempting graceful shutdown...\")\n"
     ]
    }
   ],
   "source": [
    "trainer.fit(nf2, data_module, ckpt_path='last')"
   ]
  },
  {
   "cell_type": "code",
   "execution_count": null,
   "metadata": {},
   "outputs": [],
   "source": []
  }
 ],
 "metadata": {
  "kernelspec": {
   "display_name": "python3",
   "language": "python",
   "name": "python3"
  }
 },
 "nbformat": 4,
 "nbformat_minor": 2
}
