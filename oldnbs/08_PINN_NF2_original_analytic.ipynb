{
 "cells": [
  {
   "cell_type": "markdown",
   "id": "7cc6af1d-dbaa-488a-a41e-2da963ad72b0",
   "metadata": {},
   "source": [
    "# NF2 original analytical field \n",
    "> calculation"
   ]
  },
  {
   "cell_type": "code",
   "execution_count": null,
   "id": "2ab1172d-bd2f-4238-8b49-dd71e7edc12f",
   "metadata": {},
   "outputs": [],
   "source": [
    "import os\n",
    "import pyvista as pv \n",
    "import numpy as np\n",
    "import torch\n",
    "from torch import nn\n",
    "from torch.utils.data import DataLoader, TensorDataset\n",
    "from scipy.integrate import solve_bvp\n",
    "from astropy.nddata import block_replicate\n",
    "from tqdm import tqdm\n",
    "from tvtk.api import tvtk, write_data"
   ]
  },
  {
   "cell_type": "code",
   "execution_count": null,
   "id": "c410bc08-7ce8-455f-98e8-487524357424",
   "metadata": {},
   "outputs": [],
   "source": [
    "def get_analytic_b_field(n=1, m=1, l=0.3, psi=np.pi / 2, resolution=64, bounds=[-1, 1, -1, 1, 0, 2]):\n",
    "    \"\"\"\n",
    "    Calculate the analytic NLFF field from Low & Lou (1989).\n",
    "\n",
    "    :param n: variable see Low & Lou (1989), only works for n=1\n",
    "    :param m: used for generating a proper initial condition.\n",
    "    :param a2: eigenvalue\n",
    "    :param l: depth below the photosphere\n",
    "    :param psi: angle of the magnetic field relative to the dipol axis\n",
    "    :param resolution: spatial resolution of the magnetic field in pixels\n",
    "    :param bounds: dimensions of the volume (x_start, x_end, y_start, y_end, z_start, z_end)\n",
    "    :return: magnetic field B (x, y, z, v)\n",
    "    \"\"\"\n",
    "    sol_P, a2 = solve_P(n, m)\n",
    "\n",
    "    resolution = [resolution] * 3 if not isinstance(resolution, list) else resolution\n",
    "    coords = np.stack(np.meshgrid(np.linspace(bounds[0], bounds[1], resolution[1], dtype=np.float32),\n",
    "                                  np.linspace(bounds[2], bounds[3], resolution[0], dtype=np.float32),\n",
    "                                  np.linspace(bounds[4], bounds[5], resolution[2], dtype=np.float32)), -1).transpose(\n",
    "        [1, 0, 2, 3])\n",
    "\n",
    "    x, y, z = coords[..., 0], coords[..., 1], coords[..., 2]\n",
    "    X = x * np.cos(psi) - (z + l) * np.sin(psi)\n",
    "    Y = y\n",
    "    Z = x * np.sin(psi) + (z + l) * np.cos(psi)\n",
    "\n",
    "    # to spherical coordinates\n",
    "    xy = X ** 2 + Y ** 2\n",
    "    r = np.sqrt(xy + Z ** 2)\n",
    "    theta = np.arctan2(np.sqrt(xy), Z)\n",
    "    phi = np.arctan2(Y, X)\n",
    "\n",
    "    mu = np.cos(theta)\n",
    "\n",
    "    P, dP_dmu = sol_P(mu)\n",
    "    A = P / r ** n\n",
    "    dA_dtheta = -np.sin(theta) / (r ** n) * dP_dmu\n",
    "    dA_dr = P * (-n * r ** (-n - 1))\n",
    "    Q = np.sqrt(a2) * A * np.abs(A) ** (1 / n)\n",
    "\n",
    "    Br = (r ** 2 * np.sin(theta)) ** -1 * dA_dtheta\n",
    "    Btheta = - (r * np.sin(theta)) ** -1 * dA_dr\n",
    "    Bphi = (r * np.sin(theta)) ** -1 * Q\n",
    "\n",
    "    BX = Br * np.sin(theta) * np.cos(phi) + Btheta * np.cos(theta) * np.cos(phi) - Bphi * np.sin(phi)\n",
    "    BY = Br * np.sin(theta) * np.sin(phi) + Btheta * np.cos(theta) * np.sin(phi) + Bphi * np.cos(phi)\n",
    "    BZ = Br * np.cos(theta) - Btheta * np.sin(theta)\n",
    "\n",
    "    Bx = BX * np.cos(psi) + BZ * np.sin(psi)\n",
    "    By = BY\n",
    "    Bz = - BX * np.sin(psi) + BZ * np.cos(psi)\n",
    "\n",
    "    b_field = np.real(np.stack([Bx, By, Bz], -1))\n",
    "    return b_field\n",
    "\n",
    "\n",
    "def solve_P(n, m):\n",
    "    \"\"\"\n",
    "    Solve the differential equation from Low & Lou (1989).\n",
    "\n",
    "    :param n: variable (only n=1)\n",
    "    :param v0: start condition for dP/dmu\n",
    "    :param P0: boundary condition for P(-1) and P(1)\n",
    "    :return: interpolated functions for P and dP/dmu\n",
    "    \"\"\"\n",
    "\n",
    "    def f(x, y, p):\n",
    "        a2 = p[0]\n",
    "        d2P_dmu2 = -(n * (n + 1) * y[0] + a2 * (1 + n) / n * y[0] ** (1 + 2 / n)) / (1 - x ** 2 + 1e-6)\n",
    "        return [y[1], d2P_dmu2]\n",
    "\n",
    "    def f_boundary(Pa, Pb, p):\n",
    "        return np.array([Pa[0] - 0, Pb[0] - 0, Pa[1] - 10])\n",
    "\n",
    "    mu = np.linspace(-1, 1, num=256)\n",
    "\n",
    "    if m % 2 == 0:\n",
    "        init = np.cos(mu * (m + 1) * np.pi / 2)\n",
    "    else:\n",
    "        init = np.sin(mu * (m + 1) * np.pi / 2)\n",
    "\n",
    "    dinit = 10 * np.ones_like(init)  #\n",
    "    initial = np.stack([init, dinit])\n",
    "\n",
    "    @np.vectorize\n",
    "    def shooting(a2_init):\n",
    "        eval = solve_bvp(f, f_boundary, x=mu, y=initial, p=[a2_init], verbose=0, tol=1e-6)\n",
    "        if eval.success == False:\n",
    "            return None\n",
    "        return eval\n",
    "\n",
    "    # use shooting to find eigenvalues\n",
    "    evals = shooting(np.linspace(0, 10, 100, dtype=np.float32))\n",
    "    evals = [e for e in evals if e is not None]\n",
    "\n",
    "    eigenvalues = np.array([e.p for e in evals])\n",
    "    eigenvalues = sorted(set(np.round(eigenvalues, 4).reshape((-1,))))\n",
    "\n",
    "    # get final solution\n",
    "    eval = shooting([eigenvalues[-1]])[0]\n",
    "\n",
    "    return eval.sol, eval.p[0]"
   ]
  },
  {
   "cell_type": "code",
   "execution_count": null,
   "id": "840b8270-20b0-4539-9dca-51ba7a78cf38",
   "metadata": {},
   "outputs": [],
   "source": [
    "class PotentialModel(nn.Module):\n",
    "\n",
    "    def __init__(self, b_n, r_p):\n",
    "        super().__init__()\n",
    "        self.register_buffer('b_n', b_n)\n",
    "        self.register_buffer('r_p', r_p)\n",
    "        c = np.zeros((1, 3))\n",
    "        c[:, 2] = (1 / np.sqrt(2 * np.pi))\n",
    "        c = torch.tensor(c, dtype=torch.float32, )\n",
    "        self.register_buffer('c', c)\n",
    "\n",
    "    def forward(self, coord):\n",
    "        v1 = self.b_n[:, None]\n",
    "        v2 = 2 * np.pi * ((-self.r_p[:, None] + coord[None, :] + self.c[None]) ** 2).sum(-1) ** 0.5\n",
    "        potential = torch.sum(v1 / v2, dim=0)\n",
    "        return potential\n",
    "\n",
    "\n",
    "def get_potential(b_n, height, batch_size=2048, strides=(1, 1, 1), progress=True):\n",
    "    cube_shape = (*b_n.shape, height)\n",
    "    strides = (strides, strides, strides) if isinstance(strides, int) else strides\n",
    "    b_n = b_n.reshape((-1,)).astype(np.float32)\n",
    "    coords = np.stack(np.mgrid[:cube_shape[0]:strides[0], :cube_shape[1]:strides[1], :cube_shape[2]:strides[2]], -1).reshape((-1, 3))\n",
    "    r_p = np.stack(np.mgrid[:cube_shape[0], :cube_shape[1], :1], -1).reshape((-1, 3))\n",
    "\n",
    "    # torch code\n",
    "    # r = (x * y, 3); coords = (x*y*z, 3), c = (1, 3)\n",
    "    # --> (x * y, x * y * z, 3) --> (x * y, x * y * z) --> (x * y * z)\n",
    "    device = torch.device('cuda') if torch.cuda.is_available() else torch.device('cpu')\n",
    "    with torch.no_grad():\n",
    "        b_n = torch.tensor(b_n, dtype=torch.float32, )\n",
    "        r_p = torch.tensor(r_p, dtype=torch.float32, )\n",
    "        model = nn.DataParallel(PotentialModel(b_n, r_p)).to(device)\n",
    "\n",
    "        coords = torch.tensor(coords, dtype=torch.float32)\n",
    "        potential = []\n",
    "        loader = DataLoader(TensorDataset(coords), batch_size=batch_size, num_workers=8)\n",
    "        it = tqdm(loader, desc='Potential Field') if progress else loader\n",
    "        for coord, in it:\n",
    "            coord = coord.to(device)\n",
    "            p_batch = model(coord)\n",
    "            potential += [p_batch]\n",
    "\n",
    "    potential = torch.cat(potential).view(cube_shape).cpu().numpy()\n",
    "    if strides != (1, 1, 1):\n",
    "        potential = block_replicate(potential, strides, conserve_sum=False)\n",
    "    return potential\n",
    "\n",
    "\n",
    "def get_potential_boundary(b_n, height, batch_size=2048):\n",
    "    assert not np.any(np.isnan(b_n)), 'Invalid data value'\n",
    "\n",
    "    cube_shape = (*b_n.shape, height)\n",
    "\n",
    "    b_n = b_n.reshape((-1)).astype(np.float32)\n",
    "    coords = [np.stack(np.mgrid[:cube_shape[0], :cube_shape[1], cube_shape[2] - 2:cube_shape[2] + 1], -1),\n",
    "              np.stack(np.mgrid[:cube_shape[0], -1:2, :cube_shape[2]], -1),\n",
    "              np.stack(np.mgrid[:cube_shape[0], cube_shape[1] - 2:cube_shape[1] + 1, :cube_shape[2]], -1),\n",
    "              np.stack(np.mgrid[-1:2, :cube_shape[1], :cube_shape[2]], -1),\n",
    "              np.stack(np.mgrid[cube_shape[0] - 2:cube_shape[0] + 1, :cube_shape[1], :cube_shape[2]], -1), ]\n",
    "    coords_shape = [c.shape[:-1] for c in coords]\n",
    "    flat_coords = np.concatenate([c.reshape(((-1, 3))) for c in coords])\n",
    "\n",
    "    r_p = np.stack(np.mgrid[:cube_shape[0], :cube_shape[1], :1], -1).reshape((-1, 3))\n",
    "\n",
    "    # torch code\n",
    "    # r = (x * y, 3); coords = (x*y*z, 3), c = (1, 3)\n",
    "    # --> (x * y, x * y * z, 3) --> (x * y, x * y * z) --> (x * y * z)\n",
    "    device = torch.device('cuda') if torch.cuda.is_available() else torch.device('cpu')\n",
    "    with torch.no_grad():\n",
    "        b_n = torch.tensor(b_n, dtype=torch.float32, )\n",
    "        r_p = torch.tensor(r_p, dtype=torch.float32, )\n",
    "        model = nn.DataParallel(PotentialModel(b_n, r_p, )).to(device)\n",
    "\n",
    "        flat_coords = torch.tensor(flat_coords, dtype=torch.float32, )\n",
    "\n",
    "        potential = []\n",
    "        for coord, in tqdm(DataLoader(TensorDataset(flat_coords), batch_size=batch_size, num_workers=2),\n",
    "                           desc='Potential Boundary'):\n",
    "            coord = coord.to(device)\n",
    "            p_batch = model(coord)\n",
    "            potential += [p_batch.cpu()]\n",
    "\n",
    "    potential = torch.cat(potential).numpy()\n",
    "    idx = 0\n",
    "    fields = []\n",
    "    for s in coords_shape:\n",
    "        p = potential[idx:idx + np.prod(s)].reshape(s)\n",
    "        b = - 1 * np.stack(np.gradient(p, axis=[0, 1, 2], edge_order=2), axis=-1)\n",
    "        fields += [b]\n",
    "        idx += np.prod(s)\n",
    "\n",
    "    fields = [fields[0][:, :, 1].reshape((-1, 3)),\n",
    "              fields[1][:, 1, :].reshape((-1, 3)), fields[2][:, 1, :].reshape((-1, 3)),\n",
    "              fields[3][1, :, :].reshape((-1, 3)), fields[4][1, :, :].reshape((-1, 3))]\n",
    "    coords = [coords[0][:, :, 1].reshape((-1, 3)),\n",
    "              coords[1][:, 1, :].reshape((-1, 3)), coords[2][:, 1, :].reshape((-1, 3)),\n",
    "              coords[3][1, :, :].reshape((-1, 3)), coords[4][1, :, :].reshape((-1, 3))]\n",
    "    return np.concatenate(coords), np.concatenate(fields)"
   ]
  },
  {
   "cell_type": "code",
   "execution_count": null,
   "id": "e2c43c9c-302a-4c77-a0bd-29c9e3a419e3",
   "metadata": {},
   "outputs": [],
   "source": [
    "def pv_plot(B, vtk_path='./evaluation.vtk', points=((7, 64, 8), (7, 64, 8)), overwrite=False):\n",
    "\n",
    "    if not os.path.exists(vtk_path) or overwrite:\n",
    "        dim = B.shape[:-1]\n",
    "        pts = np.stack(np.mgrid[0:dim[0], 0:dim[1], 0:dim[2]], -1).astype(np.float32)\n",
    "        pts = pts.transpose(2, 1, 0, 3)\n",
    "        pts = pts.reshape((-1, 3))\n",
    "        vectors = B.transpose(2, 1, 0, 3)\n",
    "        vectors = vectors.reshape((-1, 3))\n",
    "        sg = tvtk.StructuredGrid(dimensions=dim, points=pts)\n",
    "        sg.point_data.vectors = vectors\n",
    "        sg.point_data.vectors.name = 'B'\n",
    "        write_data(sg, str(vtk_path))\n",
    "\n",
    "    mesh = pv.read(vtk_path)\n",
    "    xindmax, yindmax, zindmax = mesh.dimensions\n",
    "    xcenter, ycenter, zcenter = mesh.center\n",
    "\n",
    "    p = pv.Plotter(off_screen=True)\n",
    "    p.add_mesh(mesh.outline())\n",
    "\n",
    "    sargs_B = dict(\n",
    "        title='Bz [G]',\n",
    "        title_font_size=15,\n",
    "        height=0.25,\n",
    "        width=0.05,\n",
    "        vertical=True,\n",
    "        position_x = 0.05,\n",
    "        position_y = 0.05,\n",
    "    )\n",
    "    dargs_B = dict(\n",
    "        scalars='B', \n",
    "        component=2, \n",
    "        clim=(-150, 150), \n",
    "        scalar_bar_args=sargs_B, \n",
    "        show_scalar_bar=False, \n",
    "        lighting=False\n",
    "    )\n",
    "    p.add_mesh(mesh.extract_subset((0, xindmax, 0, yindmax, 0, 0)), \n",
    "            cmap='gray', **dargs_B)\n",
    "\n",
    "    def draw_streamlines(pts):\n",
    "        stream, src = mesh.streamlines(\n",
    "            return_source=True,\n",
    "            start_position = pts,\n",
    "            integration_direction='both',\n",
    "            max_time=1000,\n",
    "        )\n",
    "        # print(pts)\n",
    "        key = pts[0]*pts[1] + (pts[0]//pts[1]) + (pts[0] - pts[1])\n",
    "        # print(key)\n",
    "        np.random.seed(key)\n",
    "        colors = np.random.rand(3)\n",
    "        # if pts[0] == 16 and pts[1] == 48:\n",
    "        #     colors = 'white'\n",
    "        # print(colors)\n",
    "        p.add_mesh(stream.tube(radius=0.2), lighting=False, color=colors)\n",
    "        p.add_mesh(src, point_size=7, color=colors)\n",
    "\n",
    "    xrange = points[0]\n",
    "    yrange = points[1]\n",
    "    for i in np.arange(*xrange):\n",
    "        for j in np.arange(*yrange):\n",
    "            try: \n",
    "                draw_streamlines((i, j, 0))\n",
    "            except:\n",
    "                pass\n",
    "                # print(i, j)\n",
    "\n",
    "    p.camera_position = 'xy'\n",
    "    p.show_bounds()\n",
    "    # p.add_title(title)\n",
    "\n",
    "    return p"
   ]
  },
  {
   "cell_type": "code",
   "execution_count": null,
   "id": "eb486e34-fc81-4954-ac97-207bb7e32d1f",
   "metadata": {},
   "outputs": [
    {
     "name": "stderr",
     "output_type": "stream",
     "text": [
      "Potential Field: 100%|██████████████████████| 263/263 [00:00<00:00, 322.13it/s]\n"
     ]
    }
   ],
   "source": [
    "b = get_analytic_b_field()\n",
    "potential = get_potential(b[:, :, 0, 2], b.shape[2], batch_size=1000)\n",
    "b_potential = - 1 * np.stack(np.gradient(potential, axis=[0, 1, 2], edge_order=2), axis=-1)"
   ]
  },
  {
   "cell_type": "code",
   "execution_count": null,
   "id": "724405b1-fc10-4502-bedd-9363f79ead56",
   "metadata": {},
   "outputs": [],
   "source": [
    "def save_vtk(B, vtk_path):\n",
    "    dim = B.shape[:-1]\n",
    "    pts = np.stack(np.mgrid[0:dim[0], 0:dim[1], 0:dim[2]], -1).astype(np.float32)\n",
    "    pts = pts.transpose(2, 1, 0, 3)\n",
    "    pts = pts.reshape((-1, 3))\n",
    "    vectors = B.transpose(2, 1, 0, 3)\n",
    "    vectors = vectors.reshape((-1, 3))\n",
    "    sg = tvtk.StructuredGrid(dimensions=dim, points=pts)\n",
    "    sg.point_data.scalars = np.linalg.norm(vectors, axis=-1)\n",
    "    sg.point_data.scalars.name = 'mag'\n",
    "    sg.point_data.vectors = vectors\n",
    "    sg.point_data.vectors.name = 'B'\n",
    "    write_data(sg, str(vtk_path))"
   ]
  },
  {
   "cell_type": "code",
   "execution_count": null,
   "id": "3ce9b40b-8ca1-4e10-8130-ba59fd604825",
   "metadata": {},
   "outputs": [],
   "source": [
    "save_vtk(B=b, vtk_path='b_nf2.vtk')\n",
    "save_vtk(B=b_potential, vtk_path='bp_nf2.vtk')"
   ]
  },
  {
   "cell_type": "markdown",
   "id": "74cce801-23fa-48c4-9a70-b14bfd0dae77",
   "metadata": {},
   "source": [
    "## Visualization"
   ]
  },
  {
   "cell_type": "code",
   "execution_count": null,
   "id": "6ca6bac9-e556-4d0b-9d3b-859f22a025b5",
   "metadata": {},
   "outputs": [],
   "source": [
    "import pyvista as pv"
   ]
  },
  {
   "cell_type": "code",
   "execution_count": null,
   "id": "62ec7134-429d-4851-9f94-2860eed32530",
   "metadata": {},
   "outputs": [],
   "source": [
    "pv.start_xvfb()\n",
    "pv.global_theme.trame.server_proxy_enabled = True"
   ]
  },
  {
   "cell_type": "code",
   "execution_count": null,
   "id": "d1f0f9df-fb4a-4e98-9b81-18bd20ca2310",
   "metadata": {},
   "outputs": [],
   "source": [
    "from zpinn.pinn_nf2_visualization import draw_grid"
   ]
  },
  {
   "cell_type": "code",
   "execution_count": null,
   "id": "13c269fd-4d27-4077-b255-8e03d1240344",
   "metadata": {},
   "outputs": [],
   "source": [
    "import pickle"
   ]
  },
  {
   "cell_type": "markdown",
   "id": "aa5fa5db-db27-4a70-a9dd-44906163f1e7",
   "metadata": {},
   "source": [
    "### Original NLFFF"
   ]
  },
  {
   "cell_type": "code",
   "execution_count": null,
   "id": "fddbb4f8-fcac-46f9-acea-7d6068dfeed0",
   "metadata": {},
   "outputs": [
    {
     "data": {
      "text/html": [
       "<table><tr><th>Header</th><th>Data Arrays</th></tr><tr><td>\n",
       "<table>\n",
       "<tr><th>StructuredGrid</th><th>Information</th></tr>\n",
       "<tr><td>N Cells</td><td>250047</td></tr>\n",
       "<tr><td>N Points</td><td>262144</td></tr>\n",
       "<tr><td>X Bounds</td><td>0.000e+00, 6.300e+01</td></tr>\n",
       "<tr><td>Y Bounds</td><td>0.000e+00, 6.300e+01</td></tr>\n",
       "<tr><td>Z Bounds</td><td>0.000e+00, 6.300e+01</td></tr>\n",
       "<tr><td>Dimensions</td><td>64, 64, 64</td></tr>\n",
       "<tr><td>N Arrays</td><td>2</td></tr>\n",
       "</table>\n",
       "\n",
       "</td><td>\n",
       "<table>\n",
       "<tr><th>Name</th><th>Field</th><th>Type</th><th>N Comp</th><th>Min</th><th>Max</th></tr>\n",
       "<tr><td><b>mag</b></td><td>Points</td><td>float64</td><td>1</td><td>3.054e-01</td><td>2.323e+02</td></tr>\n",
       "<tr><td>B</td><td>Points</td><td>float64</td><td>3</td><td>-1.204e+02</td><td>2.308e+02</td></tr>\n",
       "</table>\n",
       "\n",
       "</td></tr> </table>"
      ],
      "text/plain": [
       "StructuredGrid (0x7f153163f760)\n",
       "  N Cells:      250047\n",
       "  N Points:     262144\n",
       "  X Bounds:     0.000e+00, 6.300e+01\n",
       "  Y Bounds:     0.000e+00, 6.300e+01\n",
       "  Z Bounds:     0.000e+00, 6.300e+01\n",
       "  Dimensions:   64, 64, 64\n",
       "  N Arrays:     2"
      ]
     },
     "execution_count": null,
     "metadata": {},
     "output_type": "execute_result"
    }
   ],
   "source": [
    "b_mesh = pv.read('b_nf2.vtk')\n",
    "b_mesh"
   ]
  },
  {
   "cell_type": "code",
   "execution_count": null,
   "id": "94248606-46e4-4c50-a395-4bebeb3b152d",
   "metadata": {},
   "outputs": [],
   "source": [
    "b_nf22 = draw_grid(b_mesh)\n",
    "# b_nf22.plt_Bz()"
   ]
  },
  {
   "cell_type": "code",
   "execution_count": null,
   "id": "5774cd9f-f666-4ed7-b57f-00e8a5637fe7",
   "metadata": {},
   "outputs": [
    {
     "data": {
      "application/vnd.jupyter.widget-view+json": {
       "model_id": "c61df34831304d28a3e91f898e816fad",
       "version_major": 2,
       "version_minor": 0
      },
      "text/plain": [
       "Widget(value=\"<iframe src='/proxy/34011/index.html?ui=P_0x7f1531950f10_0&reconnect=auto' style='width: 99%; he…"
      ]
     },
     "metadata": {},
     "output_type": "display_data"
    },
    {
     "name": "stderr",
     "output_type": "stream",
     "text": [
      "WARNING:aiohttp.websocket:Client protocols [''] don’t overlap server-known ones ()\n"
     ]
    }
   ],
   "source": [
    "b_nf22.pv_streamline()"
   ]
  },
  {
   "cell_type": "markdown",
   "id": "7248eeb9-3e6d-4624-8619-158941641b34",
   "metadata": {},
   "source": [
    "### My NLFFF"
   ]
  },
  {
   "cell_type": "code",
   "execution_count": null,
   "id": "e4d06f57-dc1b-4fc7-8bf1-5c65061a841f",
   "metadata": {},
   "outputs": [],
   "source": [
    "with open(\"b.pickle\",\"rb\") as f:\n",
    "    b = pickle.load(f)"
   ]
  },
  {
   "cell_type": "code",
   "execution_count": null,
   "id": "964933bd-eec1-409d-a7b9-c3ca5f3b8cb1",
   "metadata": {},
   "outputs": [],
   "source": [
    "bb = draw_grid(b.grid)\n",
    "# bb.plt_Bz()"
   ]
  },
  {
   "cell_type": "code",
   "execution_count": null,
   "id": "14032e0e-f600-44a3-b74c-d98215a6f43e",
   "metadata": {},
   "outputs": [
    {
     "data": {
      "application/vnd.jupyter.widget-view+json": {
       "model_id": "bf3d34696cb14228963f4b8079c0a81b",
       "version_major": 2,
       "version_minor": 0
      },
      "text/plain": [
       "Widget(value=\"<iframe src='/proxy/34011/index.html?ui=P_0x7f15240b5e40_1&reconnect=auto' style='width: 99%; he…"
      ]
     },
     "metadata": {},
     "output_type": "display_data"
    },
    {
     "name": "stderr",
     "output_type": "stream",
     "text": [
      "WARNING:aiohttp.websocket:Client protocols [''] don’t overlap server-known ones ()\n"
     ]
    }
   ],
   "source": [
    "bb.pv_streamline()"
   ]
  },
  {
   "cell_type": "markdown",
   "id": "c2dc04ec-3b4a-44a2-b26a-d57b5943f2e2",
   "metadata": {},
   "source": [
    "### Original Potential Field"
   ]
  },
  {
   "cell_type": "code",
   "execution_count": null,
   "id": "be3fd135-245b-44f9-98b9-c2b07abf9ace",
   "metadata": {},
   "outputs": [
    {
     "data": {
      "text/html": [
       "<table><tr><th>Header</th><th>Data Arrays</th></tr><tr><td>\n",
       "<table>\n",
       "<tr><th>StructuredGrid</th><th>Information</th></tr>\n",
       "<tr><td>N Cells</td><td>250047</td></tr>\n",
       "<tr><td>N Points</td><td>262144</td></tr>\n",
       "<tr><td>X Bounds</td><td>0.000e+00, 6.300e+01</td></tr>\n",
       "<tr><td>Y Bounds</td><td>0.000e+00, 6.300e+01</td></tr>\n",
       "<tr><td>Z Bounds</td><td>0.000e+00, 6.300e+01</td></tr>\n",
       "<tr><td>Dimensions</td><td>64, 64, 64</td></tr>\n",
       "<tr><td>N Arrays</td><td>2</td></tr>\n",
       "</table>\n",
       "\n",
       "</td><td>\n",
       "<table>\n",
       "<tr><th>Name</th><th>Field</th><th>Type</th><th>N Comp</th><th>Min</th><th>Max</th></tr>\n",
       "<tr><td><b>mag</b></td><td>Points</td><td>float32</td><td>1</td><td>1.063e-01</td><td>2.215e+02</td></tr>\n",
       "<tr><td>B</td><td>Points</td><td>float32</td><td>3</td><td>-1.433e+02</td><td>2.201e+02</td></tr>\n",
       "</table>\n",
       "\n",
       "</td></tr> </table>"
      ],
      "text/plain": [
       "StructuredGrid (0x7f152326d6c0)\n",
       "  N Cells:      250047\n",
       "  N Points:     262144\n",
       "  X Bounds:     0.000e+00, 6.300e+01\n",
       "  Y Bounds:     0.000e+00, 6.300e+01\n",
       "  Z Bounds:     0.000e+00, 6.300e+01\n",
       "  Dimensions:   64, 64, 64\n",
       "  N Arrays:     2"
      ]
     },
     "execution_count": null,
     "metadata": {},
     "output_type": "execute_result"
    }
   ],
   "source": [
    "bp_mesh = pv.read('bp_nf2.vtk')\n",
    "bp_mesh"
   ]
  },
  {
   "cell_type": "code",
   "execution_count": null,
   "id": "164aa355-46d8-4171-9a52-d9ae86767f31",
   "metadata": {},
   "outputs": [],
   "source": [
    "bp_nf22 = draw_grid(bp_mesh)\n",
    "# bp_nf22.plt_Bz()"
   ]
  },
  {
   "cell_type": "code",
   "execution_count": null,
   "id": "a442c460-5119-42e0-9b81-4597868d9f39",
   "metadata": {},
   "outputs": [
    {
     "data": {
      "application/vnd.jupyter.widget-view+json": {
       "model_id": "73e94bbd28734988b0290c3012303c74",
       "version_major": 2,
       "version_minor": 0
      },
      "text/plain": [
       "Widget(value=\"<iframe src='/proxy/34011/index.html?ui=P_0x7f15233040d0_2&reconnect=auto' style='width: 99%; he…"
      ]
     },
     "metadata": {},
     "output_type": "display_data"
    },
    {
     "name": "stderr",
     "output_type": "stream",
     "text": [
      "WARNING:aiohttp.websocket:Client protocols [''] don’t overlap server-known ones ()\n"
     ]
    }
   ],
   "source": [
    "bp_nf22.pv_streamline()"
   ]
  },
  {
   "cell_type": "markdown",
   "id": "ced08129-6f69-47ff-a8a7-e29427a0b2da",
   "metadata": {},
   "source": [
    "### My Potential"
   ]
  },
  {
   "cell_type": "code",
   "execution_count": null,
   "id": "8f1d65a0-40ab-4f08-af1b-308549a201dc",
   "metadata": {},
   "outputs": [],
   "source": [
    "from zpinn.pinn_nf2_potential import get_potential_field"
   ]
  },
  {
   "cell_type": "code",
   "execution_count": null,
   "id": "907f3531-6a83-4dce-b453-5f5530df0d4b",
   "metadata": {},
   "outputs": [],
   "source": [
    "with open(\"bp.pickle\",\"rb\") as f:\n",
    "    bp = pickle.load(f)"
   ]
  },
  {
   "cell_type": "code",
   "execution_count": null,
   "id": "38866cdf-a4d7-4d33-80f7-4fdc55beccd5",
   "metadata": {},
   "outputs": [],
   "source": [
    "bpbp = draw_grid(bp.grid)\n",
    "# bpbp.plt_Bz()"
   ]
  },
  {
   "cell_type": "code",
   "execution_count": null,
   "id": "7d37dc91-3496-4e10-a4c3-316c62278395",
   "metadata": {},
   "outputs": [
    {
     "data": {
      "application/vnd.jupyter.widget-view+json": {
       "model_id": "ba90c9e12fd641ad94690ccc2c52672a",
       "version_major": 2,
       "version_minor": 0
      },
      "text/plain": [
       "Widget(value=\"<iframe src='/proxy/34011/index.html?ui=P_0x7f1504138a30_3&reconnect=auto' style='width: 99%; he…"
      ]
     },
     "metadata": {},
     "output_type": "display_data"
    },
    {
     "name": "stderr",
     "output_type": "stream",
     "text": [
      "WARNING:aiohttp.websocket:Client protocols [''] don’t overlap server-known ones ()\n"
     ]
    }
   ],
   "source": [
    "bpbp.pv_streamline()"
   ]
  },
  {
   "cell_type": "code",
   "execution_count": null,
   "id": "535ad1cb-3338-4ced-953e-eea8b720b482",
   "metadata": {},
   "outputs": [],
   "source": []
  }
 ],
 "metadata": {
  "kernelspec": {
   "display_name": "zpinn",
   "language": "python",
   "name": "zpinn"
  }
 },
 "nbformat": 4,
 "nbformat_minor": 5
}
