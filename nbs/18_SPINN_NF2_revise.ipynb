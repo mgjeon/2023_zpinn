{
 "cells": [
  {
   "attachments": {},
   "cell_type": "markdown",
   "id": "6175c60c-d625-4399-88cb-083ab6858f6d",
   "metadata": {},
   "source": [
    "# SPINN NF2\n",
    "> NF2 + SPINN"
   ]
  },
  {
   "cell_type": "code",
   "execution_count": null,
   "id": "5cbef327",
   "metadata": {},
   "outputs": [],
   "source": [
    "import os"
   ]
  },
  {
   "cell_type": "code",
   "execution_count": null,
   "id": "0081ae0d",
   "metadata": {},
   "outputs": [],
   "source": [
    "os.environ[\"CUDA_DEVICE_ORDER\"]=\"PCI_BUS_ID\"\n",
    "os.environ[\"CUDA_VISIBLE_DEVICES\"]= \"0\""
   ]
  },
  {
   "cell_type": "code",
   "execution_count": null,
   "id": "0d30d9d5",
   "metadata": {},
   "outputs": [],
   "source": [
    "os.environ[\"XLA_PYTHON_CLIENT_PREALLOCATE\"] = \"false\""
   ]
  },
  {
   "attachments": {},
   "cell_type": "markdown",
   "id": "869e1ba8-c4ae-4109-851a-b996e0e23d76",
   "metadata": {},
   "source": [
    "## Input data"
   ]
  },
  {
   "cell_type": "code",
   "execution_count": null,
   "id": "3ef024fb",
   "metadata": {},
   "outputs": [],
   "source": [
    "import numpy as np\n",
    "import matplotlib.pyplot as plt"
   ]
  },
  {
   "cell_type": "code",
   "execution_count": null,
   "id": "f8bd17ab",
   "metadata": {},
   "outputs": [],
   "source": [
    "from zpinn.pinn_nf2_cleanup import create_coordinates"
   ]
  },
  {
   "cell_type": "code",
   "execution_count": null,
   "id": "b6e24ba1",
   "metadata": {},
   "outputs": [],
   "source": [
    "import json"
   ]
  },
  {
   "cell_type": "code",
   "execution_count": null,
   "id": "75e62618",
   "metadata": {},
   "outputs": [],
   "source": [
    "import pickle"
   ]
  },
  {
   "cell_type": "code",
   "execution_count": null,
   "id": "0764a12d",
   "metadata": {},
   "outputs": [],
   "source": [
    "with open('config.json') as config:\n",
    "    info = json.load(config)\n",
    "\n",
    "nx = info['nx']\n",
    "ny = info['ny']\n",
    "nz = info['nz']\n",
    "b_norm = info['b_norm']"
   ]
  },
  {
   "cell_type": "code",
   "execution_count": null,
   "id": "2ed0debd",
   "metadata": {},
   "outputs": [],
   "source": [
    "# import pickle\n",
    "# with open(\"bv.pickle\",\"rb\") as f:\n",
    "#     bv = pickle.load(f)\n",
    "\n",
    "# with open(\"b_bottom.pickle\",\"rb\") as f:\n",
    "#     b_bottom = pickle.load(f)\n",
    "\n",
    "# with open(\"bp_top.pickle\",\"rb\") as f:\n",
    "#     bp_top = pickle.load(f)\n",
    "\n",
    "# with open(\"bp_lateral_1.pickle\",\"rb\") as f:\n",
    "#     bp_lateral_1 = pickle.load(f)\n",
    "\n",
    "# with open(\"bp_lateral_2.pickle\",\"rb\") as f:\n",
    "#     bp_lateral_2 = pickle.load(f)\n",
    "\n",
    "# with open(\"bp_lateral_3.pickle\",\"rb\") as f:\n",
    "#     bp_lateral_3 = pickle.load(f)\n",
    "\n",
    "# with open(\"bp_lateral_4.pickle\",\"rb\") as f:\n",
    "#     bp_lateral_4 = pickle.load(f)"
   ]
  },
  {
   "cell_type": "code",
   "execution_count": null,
   "id": "f0b83f2b",
   "metadata": {},
   "outputs": [],
   "source": [
    "from zpinn.lowloumag import LowLouMag"
   ]
  },
  {
   "cell_type": "code",
   "execution_count": null,
   "id": "a57c3b3a",
   "metadata": {},
   "outputs": [],
   "source": [
    "b = LowLouMag(resolutions=[nx, ny, nz])\n",
    "b.calculate()\n",
    "b_bottom = np.array(b.b_bottom)/b_norm \n",
    "bv = b.grid['B']"
   ]
  },
  {
   "cell_type": "code",
   "execution_count": null,
   "id": "fd923772",
   "metadata": {},
   "outputs": [],
   "source": [
    "res_path = 'spinn'\n",
    "os.makedirs(res_path, exist_ok=True)"
   ]
  },
  {
   "cell_type": "code",
   "execution_count": null,
   "id": "d1e5593b",
   "metadata": {},
   "outputs": [],
   "source": [
    "b_path = os.path.join(res_path, \"b.pickle\")\n",
    "bv_path = os.path.join(res_path, \"bv.pickle\")\n",
    "b_bottom_path = os.path.join(res_path, \"b_bottom.pickle\")"
   ]
  },
  {
   "cell_type": "code",
   "execution_count": null,
   "id": "844338e6",
   "metadata": {},
   "outputs": [],
   "source": [
    "with open(b_bottom_path,\"wb\") as f:\n",
    "    pickle.dump(np.array(b_bottom), f)"
   ]
  },
  {
   "cell_type": "code",
   "execution_count": null,
   "id": "e2580883",
   "metadata": {},
   "outputs": [],
   "source": [
    "with open(b_path,\"wb\") as f:\n",
    "    pickle.dump(b, f)"
   ]
  },
  {
   "cell_type": "code",
   "execution_count": null,
   "id": "2c613a6a",
   "metadata": {},
   "outputs": [],
   "source": [
    "with open(bv_path,\"wb\") as f:\n",
    "    pickle.dump(np.array(bv), f)"
   ]
  },
  {
   "cell_type": "code",
   "execution_count": null,
   "id": "2d4aae57",
   "metadata": {},
   "outputs": [],
   "source": [
    "import pickle\n",
    "with open(\"bv.pickle\",\"rb\") as f:\n",
    "    bv = pickle.load(f)\n",
    "\n",
    "with open(\"b_bottom.pickle\",\"rb\") as f:\n",
    "    b_bottom = pickle.load(f)\n",
    "\n",
    "with open(\"bp_top.pickle\",\"rb\") as f:\n",
    "    bp_top = pickle.load(f)\n",
    "\n",
    "with open(\"bp_lateral_1.pickle\",\"rb\") as f:\n",
    "    bp_lateral_1 = pickle.load(f)\n",
    "\n",
    "with open(\"bp_lateral_2.pickle\",\"rb\") as f:\n",
    "    bp_lateral_2 = pickle.load(f)\n",
    "\n",
    "with open(\"bp_lateral_3.pickle\",\"rb\") as f:\n",
    "    bp_lateral_3 = pickle.load(f)\n",
    "\n",
    "with open(\"bp_lateral_4.pickle\",\"rb\") as f:\n",
    "    bp_lateral_4 = pickle.load(f)"
   ]
  },
  {
   "attachments": {},
   "cell_type": "markdown",
   "id": "386af77e-7f53-4e02-aff5-848eda0e5ae1",
   "metadata": {},
   "source": [
    "# Model"
   ]
  },
  {
   "cell_type": "code",
   "execution_count": null,
   "id": "9a2a0d54",
   "metadata": {},
   "outputs": [],
   "source": [
    "import jax \n",
    "import jax.numpy as jnp\n",
    "from jax import jvp\n",
    "import optax\n",
    "from flax import linen as nn \n",
    "\n",
    "from typing import Sequence\n",
    "from functools import partial\n",
    "\n",
    "import time\n",
    "from tqdm import trange"
   ]
  },
  {
   "cell_type": "code",
   "execution_count": null,
   "id": "465e03bf",
   "metadata": {},
   "outputs": [],
   "source": [
    "def hvp_fwdfwd(f, primals, tangents, return_primals=False):\n",
    "    g = lambda primals: jvp(f, (primals,), tangents)[1]\n",
    "    primals_out, tangents_out = jvp(g, primals, tangents)\n",
    "    if return_primals:\n",
    "        return primals_out, tangents_out\n",
    "    else:\n",
    "        return tangents_out\n",
    "    \n",
    "@partial(jax.jit, static_argnums=(0,))\n",
    "def update_model(optim, gradient, params, state):\n",
    "    updates, state = optim.update(gradient, state)\n",
    "    params = optax.apply_updates(params, updates)\n",
    "    return params, state"
   ]
  },
  {
   "cell_type": "code",
   "execution_count": null,
   "id": "693233ac",
   "metadata": {},
   "outputs": [],
   "source": [
    "class SPINN3d(nn.Module):\n",
    "    features: Sequence[int]\n",
    "    r: int\n",
    "    out_dim: int\n",
    "    pos_enc: int\n",
    "    mlp: str\n",
    "\n",
    "    @nn.compact\n",
    "    def __call__(self, x, y, z):\n",
    "        '''\n",
    "        inputs: input factorized coordinates\n",
    "        outputs: feature output of each body network\n",
    "        xy: intermediate tensor for feature merge btw. x and y axis\n",
    "        pred: final model prediction (e.g. for 2d output, pred=[u, v])\n",
    "        '''\n",
    "        if self.pos_enc != 0:\n",
    "            # positional encoding only to spatial coordinates\n",
    "            freq = jnp.expand_dims(jnp.arange(1, self.pos_enc+1, 1), 0)\n",
    "            y = jnp.concatenate((jnp.ones((y.shape[0], 1)), jnp.sin(y@freq), jnp.cos(y@freq)), 1)\n",
    "            z = jnp.concatenate((jnp.ones((z.shape[0], 1)), jnp.sin(z@freq), jnp.cos(z@freq)), 1)\n",
    "\n",
    "            # causal PINN version (also on time axis)\n",
    "            #  freq_x = jnp.expand_dims(jnp.power(10.0, jnp.arange(0, 3)), 0)\n",
    "            # x = x@freq_x\n",
    "            \n",
    "        inputs, outputs, xy, pred = [x, y, z], [], [], []\n",
    "        init = nn.initializers.glorot_normal()\n",
    "\n",
    "        if self.mlp == 'mlp':\n",
    "            for X in inputs:\n",
    "                for fs in self.features[:-1]:\n",
    "                    X = nn.Dense(fs, kernel_init=init)(X)\n",
    "                    X = nn.activation.tanh(X)\n",
    "                X = nn.Dense(self.r*self.out_dim, kernel_init=init)(X)\n",
    "                outputs += [jnp.transpose(X, (1, 0))]\n",
    "\n",
    "        elif self.mlp == 'modified_mlp':\n",
    "            for X in inputs:\n",
    "                U = nn.activation.tanh(nn.Dense(self.features[0], kernel_init=init)(X))\n",
    "                V = nn.activation.tanh(nn.Dense(self.features[0], kernel_init=init)(X))\n",
    "                H = nn.activation.tanh(nn.Dense(self.features[0], kernel_init=init)(X))\n",
    "                for fs in self.features[:-1]:\n",
    "                    Z = nn.Dense(fs, kernel_init=init)(H)\n",
    "                    Z = nn.activation.tanh(Z)\n",
    "                    H = (jnp.ones_like(Z)-Z)*U + Z*V\n",
    "                H = nn.Dense(self.r*self.out_dim, kernel_init=init)(H)\n",
    "                outputs += [jnp.transpose(H, (1, 0))]\n",
    "        \n",
    "        for i in range(self.out_dim):\n",
    "            xy += [jnp.einsum('fx, fy->fxy', outputs[0][self.r*i:self.r*(i+1)], outputs[1][self.r*i:self.r*(i+1)])]\n",
    "            pred += [jnp.einsum('fxy, fz->xyz', xy[i], outputs[-1][self.r*i:self.r*(i+1)])]\n",
    "\n",
    "        if len(pred) == 1:\n",
    "            # 1-dimensional output\n",
    "            return pred[0]\n",
    "        else:\n",
    "            # n-dimensional output\n",
    "            return pred"
   ]
  },
  {
   "cell_type": "code",
   "execution_count": null,
   "id": "165f4df3",
   "metadata": {},
   "outputs": [
    {
     "name": "stderr",
     "output_type": "stream",
     "text": [
      "2023-07-05 07:10:32.320651: E external/xla/xla/stream_executor/cuda/cuda_driver.cc:268] failed call to cuInit: CUDA_ERROR_NO_DEVICE: no CUDA-capable device is detected\n",
      "No GPU/TPU found, falling back to CPU. (Set TF_CPP_MIN_LOG_LEVEL=0 and rerun for more info.)\n"
     ]
    }
   ],
   "source": [
    "seed = 111\n",
    "key = jax.random.PRNGKey(seed)\n",
    "key, subkey = jax.random.split(key, 2)"
   ]
  },
  {
   "cell_type": "code",
   "execution_count": null,
   "id": "875cc11c",
   "metadata": {},
   "outputs": [],
   "source": [
    "features = 256 # feature size of each layer\n",
    "n_layers = 8 # the number of layer\n",
    "feat_sizes = tuple([features for _ in range(n_layers)]) # feature sizes\n",
    "r = 128 # rank of a approximated tensor\n",
    "out_dim = 3 # size of model output\n",
    "\n",
    "lr = 5e-4 # learning rate\n",
    "\n",
    "epochs = 2000 #10000\n",
    "log_iter = 100 #1000\n",
    "\n",
    "# Loss weight\n",
    "# lbda_c = 100\n",
    "# lbda_ic = 10"
   ]
  },
  {
   "cell_type": "code",
   "execution_count": null,
   "id": "ee66e369",
   "metadata": {},
   "outputs": [],
   "source": [
    "@partial(jax.jit)\n",
    "def generate_train_data():\n",
    "#     keys = jax.random.split(key, 4)\n",
    "    \n",
    "    # collocation points\n",
    "#     xc = jax.random.uniform(keys[1], (nc, 1), minval=0., maxval=2.)\n",
    "#     yc = jax.random.uniform(keys[2], (nc, 1), minval=0., maxval=2.)\n",
    "#     zc = jax.random.uniform(keys[3], (nc, 1), minval=0., maxval=2.)\n",
    "    xc = jnp.linspace(0, 2, nx).reshape(nx, 1)\n",
    "    yc = jnp.linspace(0, 2, ny).reshape(ny, 1)\n",
    "    zc = jnp.linspace(0, 2, nz).reshape(nz, 1)\n",
    "\n",
    "    # # boundary points\n",
    "    xb = [jnp.linspace(0, 2, nx).reshape(nx, 1), # z=0   bottom\n",
    "          jnp.linspace(0, 2, nx).reshape(nx, 1), # z=2   top\n",
    "          jnp.array([[0.]]),                     # x=0   lateral_1\n",
    "          jnp.array([[2.]]),                     # x=2   lateral_2\n",
    "          jnp.linspace(0, 2, nx).reshape(nx, 1), # y=0   lateral_3\n",
    "          jnp.linspace(0, 2, nx).reshape(nx, 1)] # y=2   lateral_4\n",
    "\n",
    "    yb = [jnp.linspace(0, 2, ny).reshape(ny, 1), \n",
    "          jnp.linspace(0, 2, ny).reshape(ny, 1), \n",
    "          jnp.linspace(0, 2, ny).reshape(ny, 1), \n",
    "          jnp.linspace(0, 2, ny).reshape(ny, 1), \n",
    "          jnp.array([[0.]]), \n",
    "          jnp.array([[2.]])]\n",
    "\n",
    "    zb = [jnp.array([[0.]]), \n",
    "          jnp.array([[2.]]), \n",
    "          jnp.linspace(0, 2, nz).reshape(nz, 1), \n",
    "          jnp.linspace(0, 2, nz).reshape(nz, 1), \n",
    "          jnp.linspace(0, 2, nz).reshape(nz, 1), \n",
    "          jnp.linspace(0, 2, nz).reshape(nz, 1)]\n",
    "\n",
    "    return xc, yc, zc, xb, yb, zb"
   ]
  },
  {
   "cell_type": "code",
   "execution_count": null,
   "id": "2019bf62",
   "metadata": {},
   "outputs": [],
   "source": [
    "def curlx(apply_fn, params, x, y, z):\n",
    "    # curl vector w/ forward-mode AD\n",
    "    # w_x = uz_y - uy_z\n",
    "    vec_z = jnp.ones(z.shape)\n",
    "    vec_y = jnp.ones(y.shape)\n",
    "    uy_z = jvp(lambda z: apply_fn(params, x, y, z)[1], (z,), (vec_z,))[1]\n",
    "    uz_y = jvp(lambda y: apply_fn(params, x, y, z)[2], (y,), (vec_y,))[1]\n",
    "    wx = uz_y - uy_z\n",
    "    return wx\n",
    "\n",
    "\n",
    "def curly(apply_fn, params, x, y, z):\n",
    "    # curl vector w/ forward-mode AD\n",
    "    # w_y = ux_z - uz_x\n",
    "    vec_z = jnp.ones(z.shape)\n",
    "    vec_x = jnp.ones(x.shape)\n",
    "    ux_z = jvp(lambda z: apply_fn(params, x, y, z)[0], (z,), (vec_z,))[1]\n",
    "    uz_x = jvp(lambda x: apply_fn(params, x, y, z)[2], (x,), (vec_x,))[1]\n",
    "    wy = ux_z - uz_x\n",
    "    return wy\n",
    "\n",
    "def curlz(apply_fn, params, x, y, z):\n",
    "    # curl vector w/ forward-mode AD\n",
    "    # w_z = uy_x - ux_y\n",
    "    vec_y = jnp.ones(y.shape)\n",
    "    vec_x = jnp.ones(x.shape)\n",
    "    ux_y = jvp(lambda y: apply_fn(params, x, y, z)[0], (y,), (vec_y,))[1]\n",
    "    uy_x = jvp(lambda x: apply_fn(params, x, y, z)[1], (x,), (vec_x,))[1]\n",
    "    wz = uy_x - ux_y\n",
    "    return wz\n"
   ]
  },
  {
   "cell_type": "code",
   "execution_count": null,
   "id": "7ee1d515",
   "metadata": {},
   "outputs": [],
   "source": [
    "@partial(jax.jit, static_argnums=(0,))\n",
    "def apply_model_spinn(apply_fn, params, *train_data):\n",
    "    def residual_loss(params, x, y, z):\n",
    "        # calculate u\n",
    "        Bx, By, Bz = apply_fn(params, x, y, z)\n",
    "        B = jnp.stack([Bx, By, Bz], axis=-1)\n",
    "        \n",
    "        # calculate J\n",
    "        Jx = curlx(apply_fn, params, x, y, z)\n",
    "        Jy = curly(apply_fn, params, x, y, z)\n",
    "        Jz = curlz(apply_fn, params, x, y, z)\n",
    "        J = jnp.stack([Jx, Jy, Jz], axis=-1)\n",
    "\n",
    "        JxB = jnp.cross(J, B, axis=-1) \n",
    "\n",
    "        #-----------------------------------------------------------\n",
    "        loss_ff = jnp.sum(JxB**2, axis=-1) / (jnp.sum(B**2, axis=-1) + 1e-7)\n",
    "        loss_ff = jnp.mean(loss_ff)\n",
    "\n",
    "        # loss_ff = jnp.mean(JxB**2)\n",
    "\n",
    "        # loss_ff = jnp.sum(JxB**2, axis=-1)\n",
    "        # loss_ff = jnp.mean(loss_ff)\n",
    "        #-----------------------------------------------------------\n",
    "\n",
    "        # tangent vector dx/dx\n",
    "        # assumes x, y, z have same shape (very important)\n",
    "        vec_x = jnp.ones(x.shape)\n",
    "        vec_y = jnp.ones(y.shape)\n",
    "        vec_z = jnp.ones(z.shape)\n",
    "        \n",
    "        Bx_x = jvp(lambda x: apply_fn(params, x, y, z)[0], (x,), (vec_x,))[1]\n",
    "        # Bx_y = jvp(lambda y: apply_fn(params, x, y, z)[0], (y,), (vec,))[1]\n",
    "        # Bx_z = jvp(lambda z: apply_fn(params, x, y, z)[0], (z,), (vec,))[1]\n",
    "\n",
    "        # By_x = jvp(lambda x: apply_fn(params, x, y, z)[1], (x,), (vec,))[1]\n",
    "        By_y = jvp(lambda y: apply_fn(params, x, y, z)[1], (y,), (vec_y,))[1]\n",
    "        # By_z = jvp(lambda z: apply_fn(params, x, y, z)[1], (z,), (vec,))[1]\n",
    "\n",
    "        # Bz_x = jvp(lambda x: apply_fn(params, x, y, z)[2], (x,), (vec,))[1]\n",
    "        # Bz_y = jvp(lambda y: apply_fn(params, x, y, z)[2], (y,), (vec,))[1]\n",
    "        Bz_z = jvp(lambda z: apply_fn(params, x, y, z)[2], (z,), (vec_z,))[1]\n",
    "\n",
    "        divB = Bx_x + By_y + Bz_z\n",
    "        \n",
    "        #-----------------------------------------------------------\n",
    "        # loss_div = jnp.sum((divB)**2, axis=-1)\n",
    "        # loss_div = jnp.mean(loss_div)\n",
    "\n",
    "        loss_div = jnp.mean((divB)**2)\n",
    "        #-----------------------------------------------------------\n",
    "\n",
    "        loss = loss_ff + loss_div\n",
    "\n",
    "        return loss\n",
    "\n",
    "    def boundary_loss(params, x, y, z):\n",
    "        \n",
    "        # loss = 0.\n",
    "        # for i in np.arange(4):\n",
    "        #     boundary_data_batched = boundary_batches[i, :, :, :]\n",
    "        #     xb = boundary_data_batched[:, 0, :][:, 0].reshape(-1, 1)\n",
    "        #     yb = boundary_data_batched[:, 0, :][:, 1].reshape(-1, 1)\n",
    "        #     zb = boundary_data_batched[:, 0, :][:, 2].reshape(-1, 1)\n",
    "\n",
    "        #     Bx, By, Bz = apply_fn(params, xb, yb, zb)\n",
    "        #     # Bx, By, Bz = Bx.reshape(-1, 1), By.reshape(-1, 1), Bz.reshape(-1, 1)\n",
    "\n",
    "        #     Bxb = boundary_data_batched[:, 1, :][:, 0].reshape(-1, 1)\n",
    "        #     Byb = boundary_data_batched[:, 1, :][:, 1].reshape(-1, 1)\n",
    "        #     Bzb = boundary_data_batched[:, 1, :][:, 2].reshape(-1, 1)\n",
    "\n",
    "        #     Bxb_mesh, Byb_mesh, Bzb_mesh = jnp.meshgrid(Bxb.ravel(), Byb.ravel(), Bzb.ravel(), indexing='ij')\n",
    "            \n",
    "        #     loss += jnp.mean((Bx - Bxb_mesh)**2) + jnp.mean((By - Byb_mesh)**2) + jnp.mean((Bz - Bzb_mesh)**2)\n",
    "\n",
    "        #0 z=0   bottom\n",
    "        #1 z=2   top                  -> Only normal(Bz), Bx=0, By=0\n",
    "        #2 x=0   lateral_1            -> Only tangential(By, Bz), Bx=0\n",
    "        #3 x=2   lateral_2            -> Only tangential(By, Bz), Bx=0\n",
    "        #4 y=0   lateral_3            -> Only tangential(Bx, Bz), By=0\n",
    "        #5 y=2   lateral_4            -> Only tangential(Bx, Bz), By=0\n",
    "        \n",
    "\n",
    "        loss = 0.\n",
    "        Bx, By, Bz = apply_fn(params,  x[0], y[0], z[0])\n",
    "        Bx, By, Bz = jnp.squeeze(Bx), jnp.squeeze(By), jnp.squeeze(Bz)\n",
    "        loss += jnp.mean((Bx - b_bottom[:, :, 0])**2) + jnp.mean((By - b_bottom[:, :, 1])**2) + jnp.mean((Bz - b_bottom[:, :, 2])**2)\n",
    "\n",
    "        Bx, By, Bz = apply_fn(params,  x[1], y[1], z[1])\n",
    "        Bx, By, Bz = jnp.squeeze(Bx), jnp.squeeze(By), jnp.squeeze(Bz)\n",
    "        loss += jnp.mean(Bx**2) + jnp.mean(By**2)\n",
    "\n",
    "        Bx, By, Bz = apply_fn(params,  x[2], y[2], z[2])\n",
    "        Bx, By, Bz = jnp.squeeze(Bx), jnp.squeeze(By), jnp.squeeze(Bz)\n",
    "        loss += jnp.mean(Bx**2)\n",
    "\n",
    "        Bx, By, Bz = apply_fn(params,  x[3], y[3], z[3])\n",
    "        Bx, By, Bz = jnp.squeeze(Bx), jnp.squeeze(By), jnp.squeeze(Bz)\n",
    "        loss += jnp.mean(Bx**2)\n",
    "        \n",
    "        Bx, By, Bz = apply_fn(params,  x[4], y[4], z[4])\n",
    "        Bx, By, Bz = jnp.squeeze(Bx), jnp.squeeze(By), jnp.squeeze(Bz)\n",
    "        loss += jnp.mean(By**2)\n",
    "\n",
    "        Bx, By, Bz = apply_fn(params,  x[5], y[5], z[5])\n",
    "        Bx, By, Bz = jnp.squeeze(Bx), jnp.squeeze(By), jnp.squeeze(Bz)\n",
    "        loss += jnp.mean(By**2)\n",
    "\n",
    "        # Bx, By, Bz = apply_fn(params,  x[1], y[1], z[1])\n",
    "        # Bx, By, Bz = jnp.squeeze(Bx), jnp.squeeze(By), jnp.squeeze(Bz)\n",
    "        # loss += jnp.mean((Bx - bp_top[:, :, 0])**2) + jnp.mean((By - bp_top[:, :, 1])**2) + jnp.mean((Bz - bp_top[:, :, 2])**2)\n",
    "\n",
    "        # Bx, By, Bz = apply_fn(params,  x[2], y[2], z[2])\n",
    "        # Bx, By, Bz = jnp.squeeze(Bx), jnp.squeeze(By), jnp.squeeze(Bz)\n",
    "        # loss += jnp.mean((Bx - bp_lateral_1[:, :, 0])**2) + jnp.mean((By - bp_lateral_1[:, :, 1])**2) + jnp.mean((Bz - bp_lateral_1[:, :, 2])**2)\n",
    "\n",
    "        # Bx, By, Bz = apply_fn(params,  x[3], y[3], z[3])\n",
    "        # Bx, By, Bz = jnp.squeeze(Bx), jnp.squeeze(By), jnp.squeeze(Bz)\n",
    "        # loss += jnp.mean((Bx - bp_lateral_2[:, :, 0])**2) + jnp.mean((By - bp_lateral_2[:, :, 1])**2) + jnp.mean((Bz - bp_lateral_2[:, :, 2])**2)\n",
    "\n",
    "        # Bx, By, Bz = apply_fn(params,  x[4], y[4], z[4])\n",
    "        # Bx, By, Bz = jnp.squeeze(Bx), jnp.squeeze(By), jnp.squeeze(Bz)\n",
    "        # loss += jnp.mean((Bx - bp_lateral_3[:, :, 0])**2) + jnp.mean((By - bp_lateral_3[:, :, 1])**2) + jnp.mean((Bz - bp_lateral_3[:, :, 2])**2)\n",
    "\n",
    "        # Bx, By, Bz = apply_fn(params,  x[5], y[5], z[5])\n",
    "        # Bx, By, Bz = jnp.squeeze(Bx), jnp.squeeze(By), jnp.squeeze(Bz)\n",
    "        # loss += jnp.mean((Bx - bp_lateral_4[:, :, 0])**2) + jnp.mean((By - bp_lateral_4[:, :, 1])**2) + jnp.mean((Bz - bp_lateral_4[:, :, 2])**2)\n",
    "\n",
    "        \n",
    "        return loss\n",
    "\n",
    "    # unpack data\n",
    "    xc, yc, zc, xb, yb, zb = train_data\n",
    "\n",
    "    # isolate loss func from redundant arguments\n",
    "    loss_fn = lambda params: residual_loss(params, xc, yc, zc) + boundary_loss(params, xb, yb, zb)\n",
    "\n",
    "    loss, gradient = jax.value_and_grad(loss_fn)(params)\n",
    "\n",
    "    return loss, gradient"
   ]
  },
  {
   "cell_type": "code",
   "execution_count": null,
   "id": "429040c6",
   "metadata": {},
   "outputs": [],
   "source": [
    "model = SPINN3d(feat_sizes, r, out_dim, pos_enc=0, mlp='modified_mlp')\n",
    "params = model.init(\n",
    "            subkey,\n",
    "            jnp.ones((nx, 1)),\n",
    "            jnp.ones((ny, 1)),\n",
    "            jnp.ones((nz, 1))\n",
    "        )\n",
    "apply_fn = jax.jit(model.apply)\n",
    "optim = optax.adam(learning_rate=lr)\n",
    "state = optim.init(params)"
   ]
  },
  {
   "cell_type": "code",
   "execution_count": null,
   "id": "f47c2590",
   "metadata": {},
   "outputs": [],
   "source": [
    "key, subkey = jax.random.split(key, 2)\n",
    "train_data = generate_train_data()"
   ]
  },
  {
   "attachments": {},
   "cell_type": "markdown",
   "id": "1acc3efa",
   "metadata": {},
   "source": [
    "complie (it takes time)"
   ]
  },
  {
   "cell_type": "code",
   "execution_count": null,
   "id": "bfe9fde5",
   "metadata": {},
   "outputs": [],
   "source": [
    "loss, gradient = apply_model_spinn(apply_fn, params, *train_data)\n",
    "params, state = update_model(optim, gradient, params, state)"
   ]
  },
  {
   "cell_type": "code",
   "execution_count": null,
   "id": "6a641365",
   "metadata": {},
   "outputs": [
    {
     "name": "stderr",
     "output_type": "stream",
     "text": [
      "  0%|          | 1/2000 [00:00<16:40,  2.00it/s]"
     ]
    },
    {
     "name": "stdout",
     "output_type": "stream",
     "text": [
      "Epoch: 1/2000 --> total loss: 0.22356929\n"
     ]
    },
    {
     "name": "stderr",
     "output_type": "stream",
     "text": [
      "  2%|▏         | 30/2000 [00:08<09:26,  3.48it/s]\n"
     ]
    },
    {
     "ename": "KeyboardInterrupt",
     "evalue": "",
     "output_type": "error",
     "traceback": [
      "\u001b[0;31m---------------------------------------------------------------------------\u001b[0m",
      "\u001b[0;31mKeyboardInterrupt\u001b[0m                         Traceback (most recent call last)",
      "Cell \u001b[0;32mIn[20], line 9\u001b[0m\n\u001b[1;32m      1\u001b[0m start \u001b[39m=\u001b[39m time\u001b[39m.\u001b[39mtime()\n\u001b[1;32m      2\u001b[0m \u001b[39mfor\u001b[39;00m e \u001b[39min\u001b[39;00m trange(\u001b[39m1\u001b[39m, epochs \u001b[39m+\u001b[39m \u001b[39m1\u001b[39m):\n\u001b[1;32m      3\u001b[0m     \n\u001b[1;32m      4\u001b[0m     \u001b[39m# if e % 1000 == 0:\u001b[39;00m\n\u001b[1;32m      5\u001b[0m     \u001b[39m#     # sample new input data\u001b[39;00m\n\u001b[1;32m      6\u001b[0m     \u001b[39m#     key, subkey = jax.random.split(key, 2)\u001b[39;00m\n\u001b[1;32m      7\u001b[0m     \u001b[39m#     train_data = generate_train_data(nc, subkey)\u001b[39;00m\n\u001b[0;32m----> 9\u001b[0m     loss, gradient \u001b[39m=\u001b[39m apply_model_spinn(apply_fn, params, \u001b[39m*\u001b[39;49mtrain_data)\n\u001b[1;32m     10\u001b[0m     params, state \u001b[39m=\u001b[39m update_model(optim, gradient, params, state)\n\u001b[1;32m     12\u001b[0m     \u001b[39mif\u001b[39;00m e \u001b[39m%\u001b[39m log_iter \u001b[39m==\u001b[39m \u001b[39m0\u001b[39m \u001b[39mor\u001b[39;00m e \u001b[39m==\u001b[39m \u001b[39m1\u001b[39m:\n",
      "File \u001b[0;32m~/mambaforge/envs/zpinn/lib/python3.10/site-packages/flax/core/frozen_dict.py:162\u001b[0m, in \u001b[0;36mFrozenDict.tree_unflatten\u001b[0;34m(cls, keys, values)\u001b[0m\n\u001b[1;32m    157\u001b[0m   sorted_keys \u001b[39m=\u001b[39m \u001b[39msorted\u001b[39m(\u001b[39mself\u001b[39m\u001b[39m.\u001b[39m_dict)\n\u001b[1;32m    158\u001b[0m   \u001b[39mreturn\u001b[39;00m \u001b[39mtuple\u001b[39m(\n\u001b[1;32m    159\u001b[0m       [(jax\u001b[39m.\u001b[39mtree_util\u001b[39m.\u001b[39mDictKey(k), \u001b[39mself\u001b[39m\u001b[39m.\u001b[39m_dict[k]) \u001b[39mfor\u001b[39;00m k \u001b[39min\u001b[39;00m sorted_keys]\n\u001b[1;32m    160\u001b[0m   ), \u001b[39mtuple\u001b[39m(sorted_keys)\n\u001b[0;32m--> 162\u001b[0m \u001b[39m@classmethod\u001b[39m\n\u001b[1;32m    163\u001b[0m \u001b[39mdef\u001b[39;00m \u001b[39mtree_unflatten\u001b[39m(\u001b[39mcls\u001b[39m, keys, values):\n\u001b[1;32m    164\u001b[0m   \u001b[39m# data is already deep copied due to tree map mechanism\u001b[39;00m\n\u001b[1;32m    165\u001b[0m   \u001b[39m# we can skip the deep copy in the constructor\u001b[39;00m\n\u001b[1;32m    166\u001b[0m   \u001b[39mreturn\u001b[39;00m \u001b[39mcls\u001b[39m({k: v \u001b[39mfor\u001b[39;00m k, v \u001b[39min\u001b[39;00m \u001b[39mzip\u001b[39m(keys, values)}, __unsafe_skip_copy__\u001b[39m=\u001b[39m\u001b[39mTrue\u001b[39;00m)\n",
      "\u001b[0;31mKeyboardInterrupt\u001b[0m: "
     ]
    }
   ],
   "source": [
    "start = time.time()\n",
    "for e in trange(1, epochs + 1):\n",
    "    \n",
    "    # if e % 1000 == 0:\n",
    "    #     # sample new input data\n",
    "    #     key, subkey = jax.random.split(key, 2)\n",
    "    #     train_data = generate_train_data(nc, subkey)\n",
    "\n",
    "    loss, gradient = apply_model_spinn(apply_fn, params, *train_data)\n",
    "    params, state = update_model(optim, gradient, params, state)\n",
    "    \n",
    "    if e % log_iter == 0 or e == 1:\n",
    "        print(f'Epoch: {e}/{epochs} --> total loss: {loss:.8f}')\n",
    "\n",
    "runtime = time.time() - start\n",
    "print(f'Runtime --> total: {runtime:.2f}sec ({(runtime/(epochs-1)*1000):.2f}ms/iter.)')"
   ]
  },
  {
   "attachments": {},
   "cell_type": "markdown",
   "id": "c2f0caf5",
   "metadata": {},
   "source": [
    "# Visualization"
   ]
  },
  {
   "cell_type": "code",
   "execution_count": null,
   "id": "32c0bb25",
   "metadata": {},
   "outputs": [],
   "source": [
    "xx = jnp.linspace(0, 2, nx).reshape(-1, 1)\n",
    "yy = jnp.linspace(0, 2, ny).reshape(-1, 1)\n",
    "zz = jnp.linspace(0, 2, nz).reshape(-1, 1)\n",
    "xx, yy, zz = jax.lax.stop_gradient(xx), jax.lax.stop_gradient(yy), jax.lax.stop_gradient(zz)\n",
    "Bxx, Byy, Bzz = apply_fn(params, xx, yy, zz)\n",
    "Bxx, Byy, Bzz = Bxx*b_norm, Byy*b_norm, Bzz*b_norm"
   ]
  },
  {
   "cell_type": "code",
   "execution_count": null,
   "id": "4fb3f5fe",
   "metadata": {},
   "outputs": [],
   "source": [
    "Bb = jnp.stack([Bxx, Byy, Bzz], axis=-1)"
   ]
  },
  {
   "cell_type": "code",
   "execution_count": null,
   "id": "82e94594",
   "metadata": {},
   "outputs": [
    {
     "data": {
      "text/plain": [
       "(256, 256, 256, 3)"
      ]
     },
     "execution_count": null,
     "metadata": {},
     "output_type": "execute_result"
    }
   ],
   "source": [
    "Bb.shape"
   ]
  },
  {
   "cell_type": "code",
   "execution_count": null,
   "id": "6d9b2d33",
   "metadata": {},
   "outputs": [],
   "source": [
    "Jxx = curlx(apply_fn, params, xx, yy, zz)\n",
    "Jyy = curly(apply_fn, params, xx, yy, zz)\n",
    "Jzz = curlz(apply_fn, params, xx, yy, zz)\n",
    "Jj = jnp.stack([Jxx, Jyy, Jzz], axis=-1)"
   ]
  },
  {
   "cell_type": "code",
   "execution_count": null,
   "id": "9b63abbe",
   "metadata": {},
   "outputs": [
    {
     "data": {
      "text/plain": [
       "(256, 256, 256, 3)"
      ]
     },
     "execution_count": null,
     "metadata": {},
     "output_type": "execute_result"
    }
   ],
   "source": [
    "Jj.shape"
   ]
  },
  {
   "cell_type": "code",
   "execution_count": null,
   "id": "74176fd3",
   "metadata": {},
   "outputs": [],
   "source": [
    "import pickle\n",
    "\n",
    "with open(\"x.pickle\",\"wb\") as f:\n",
    "    pickle.dump(np.array(xx), f)\n",
    "\n",
    "with open(\"y.pickle\",\"wb\") as f:\n",
    "    pickle.dump(np.array(yy), f)\n",
    "\n",
    "with open(\"z.pickle\",\"wb\") as f:\n",
    "    pickle.dump(np.array(zz), f)\n",
    "\n",
    "with open(\"B.pickle\",\"wb\") as f:\n",
    "    pickle.dump(np.array(Bb), f)\n",
    "\n",
    "with open(\"J.pickle\",\"wb\") as f:\n",
    "    pickle.dump(np.array(Jj), f)"
   ]
  }
 ],
 "metadata": {
  "kernelspec": {
   "display_name": "python3",
   "language": "python",
   "name": "python3"
  }
 },
 "nbformat": 4,
 "nbformat_minor": 5
}
