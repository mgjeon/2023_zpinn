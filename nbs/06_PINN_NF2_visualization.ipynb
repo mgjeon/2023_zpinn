{
 "cells": [
  {
   "cell_type": "markdown",
   "id": "f1a117b6-18e1-467e-94a6-424b2bb779db",
   "metadata": {},
   "source": [
    "# PINN_NF2_visualization\n",
    "> Draw field line"
   ]
  },
  {
   "cell_type": "markdown",
   "id": "a64930aa-3220-4fec-8608-92e0c659cbd9",
   "metadata": {},
   "source": [
    "PINN\n",
    "\n",
    "1. Get `b_bottom`\n",
    "1. Create boundary data and normalize -> boundary_data = boundary_data/b_norm\n",
    "1. Get coordinates using `create_coordinates` and normalize -> coords = coords/spatial_norm\n",
    "\n",
    "Since we only have the result `model` which is trained by normalized data, \n",
    "so we need to supply normalized coordinates to `model`\n",
    "and convert the result (actually just multiply b_norm and spatial_norm) to the real value."
   ]
  },
  {
   "cell_type": "code",
   "execution_count": null,
   "id": "748cf399-c853-4290-bbd8-73951f74d22c",
   "metadata": {},
   "outputs": [],
   "source": [
    "import torch\n",
    "import numpy as np\n",
    "import pyvista as pv\n",
    "from tqdm import tqdm"
   ]
  },
  {
   "cell_type": "code",
   "execution_count": null,
   "id": "8e3dd991-7c8b-432b-8a5a-6606906fcc8d",
   "metadata": {},
   "outputs": [],
   "source": [
    "from zpinn.pinn_nf2_cleanup import BModel, create_coordinates"
   ]
  },
  {
   "cell_type": "code",
   "execution_count": null,
   "id": "6ba88997-e817-4ab6-910d-81487a7ef7d4",
   "metadata": {},
   "outputs": [],
   "source": [
    "save_path = '/home/tensor/workspace/Python_stuff/zpinn/nbs/results/simul_01/model_010000.pt'"
   ]
  },
  {
   "cell_type": "code",
   "execution_count": null,
   "id": "a79ff73a-b47d-494a-8463-d33d0341123f",
   "metadata": {},
   "outputs": [],
   "source": [
    "def create_physical_coordinates(bounds, resolutions):\n",
    "    x_1D = np.linspace(bounds[0], bounds[1], resolutions[0])\n",
    "    y_1D = np.linspace(bounds[2], bounds[3], resolutions[1])\n",
    "    z_1D = np.linspace(bounds[4], bounds[5], resolutions[2])\n",
    "    x_spacing = np.diff(x_1D)[0]\n",
    "    y_spacing = np.diff(y_1D)[0]\n",
    "    z_spacing = np.diff(z_1D)[0]\n",
    "    spacing = (x_spacing, y_spacing, z_spacing)\n",
    "    origin = (x_1D[0], y_1D[0], z_1D[0]) # The bottom left corner of the data set\n",
    "    grid = pv.UniformGrid(dimensions=resolutions, spacing=spacing, origin=origin)\n",
    "    return grid"
   ]
  },
  {
   "cell_type": "code",
   "execution_count": null,
   "id": "00eefaa9-efac-45da-9ee9-849720c88e95",
   "metadata": {},
   "outputs": [],
   "source": [
    "class pinn_cube:\n",
    "    def __init__(self, save_path):\n",
    "        self.device = torch.device('cuda') if torch.cuda.is_available() else torch.device('cpu')\n",
    "        self.state = torch.load(save_path, map_location=self.device)\n",
    "        self.model = self.state['model']\n",
    "        self.cube_shape = self.state['cube_shape']\n",
    "        self.b_norm = self.state['b_norm']\n",
    "        self.spatial_norm = self.state['spatial_norm']\n",
    "        \n",
    "    def calculate_magnetic_fields(self, batch_size = 10000):\n",
    "        device = self.device\n",
    "        spatial_norm = self.spatial_norm\n",
    "        b_norm = self.b_norm\n",
    "        model = self.model\n",
    "        \n",
    "        Nx, Ny, Nz = self.cube_shape\n",
    "        domain_bounds = (0, Nx-1, 0, Ny-1, 0, Nz-1)\n",
    "        resolutions = (Nx, Ny, Nz)\n",
    "        grid = create_physical_coordinates(domain_bounds, resolutions)\n",
    "        domain_coords = np.array(grid.points)\n",
    "        normalized_domain_coords = domain_coords / spatial_norm\n",
    "        normalized_domain_coords = normalized_domain_coords.astype(np.float32)\n",
    "        normalized_domain_coords = torch.tensor(normalized_domain_coords)\n",
    "        n_batch = int(np.ceil(normalized_domain_coords.shape[0] / batch_size))\n",
    "\n",
    "        cube = []\n",
    "        for k in tqdm(range(n_batch)):\n",
    "            batch_coords = normalized_domain_coords[k*batch_size : (k+1)*batch_size]\n",
    "            batch_coords.to(device)\n",
    "            cube += [model(batch_coords).detach().cpu()]\n",
    "        cube = torch.concatenate(cube)\n",
    "        B = cube.numpy()*b_norm\n",
    "        \n",
    "        Bx = B[:, 0]\n",
    "        By = B[:, 1]\n",
    "        Bz = B[:, 2]\n",
    "\n",
    "        vectors = np.empty((grid.n_points, 3))\n",
    "        vectors[:, 0] = Bx\n",
    "        vectors[:, 1] = By\n",
    "        vectors[:, 2] = Bz\n",
    "        grid['B'] = vectors\n",
    "        grid.active_vectors_name = 'B'\n",
    "        magnitude = np.linalg.norm(vectors, axis=-1)\n",
    "        grid['mag'] = magnitude\n",
    "        grid.active_scalars_name = 'mag'\n",
    "\n",
    "        self.grid = grid\n",
    "        return self.grid"
   ]
  },
  {
   "cell_type": "code",
   "execution_count": null,
   "id": "3519e4a5-3b8c-4af1-8f80-8c604af261a5",
   "metadata": {},
   "outputs": [],
   "source": [
    "pinn = pinn_cube(save_path)"
   ]
  },
  {
   "cell_type": "code",
   "execution_count": null,
   "id": "b443eae6-b018-4024-a79c-2cd671a3be4b",
   "metadata": {},
   "outputs": [
    {
     "data": {
      "text/plain": [
       "{'iteration': 10000,\n",
       " 'model': DataParallel(\n",
       "   (module): BModel(\n",
       "     (d_in): Linear(in_features=3, out_features=256, bias=True)\n",
       "     (linear_layers): ModuleList(\n",
       "       (0-7): 8 x Linear(in_features=256, out_features=256, bias=True)\n",
       "     )\n",
       "     (d_out): Linear(in_features=256, out_features=3, bias=True)\n",
       "   )\n",
       " ),\n",
       " 'cube_shape': (64, 64, 64),\n",
       " 'b_norm': 100,\n",
       " 'spatial_norm': 32,\n",
       " 'loss_bc': array(0.00665221, dtype=float32),\n",
       " 'w_bc': 47.902700795341644,\n",
       " 'loss_div': array(0.11915354, dtype=float32),\n",
       " 'w_div': 1,\n",
       " 'loss_ff': array(0.06575675, dtype=float32),\n",
       " 'w_ff': 1,\n",
       " 'LR': 4.999999999997316e-05}"
      ]
     },
     "execution_count": null,
     "metadata": {},
     "output_type": "execute_result"
    }
   ],
   "source": [
    "pinn.state"
   ]
  },
  {
   "cell_type": "code",
   "execution_count": null,
   "id": "1f5c7e42-5292-4db3-a917-beb74bc1bb2d",
   "metadata": {},
   "outputs": [
    {
     "name": "stderr",
     "output_type": "stream",
     "text": [
      "100%|████████████████████████████████████████| 27/27 [00:00<00:00, 39.45it/s]\n"
     ]
    },
    {
     "data": {
      "text/html": [
       "<table><tr><th>Header</th><th>Data Arrays</th></tr><tr><td>\n",
       "<table>\n",
       "<tr><th>UniformGrid</th><th>Information</th></tr>\n",
       "<tr><td>N Cells</td><td>250047</td></tr>\n",
       "<tr><td>N Points</td><td>262144</td></tr>\n",
       "<tr><td>X Bounds</td><td>0.000e+00, 6.300e+01</td></tr>\n",
       "<tr><td>Y Bounds</td><td>0.000e+00, 6.300e+01</td></tr>\n",
       "<tr><td>Z Bounds</td><td>0.000e+00, 6.300e+01</td></tr>\n",
       "<tr><td>Dimensions</td><td>64, 64, 64</td></tr>\n",
       "<tr><td>Spacing</td><td>1.000e+00, 1.000e+00, 1.000e+00</td></tr>\n",
       "<tr><td>N Arrays</td><td>2</td></tr>\n",
       "</table>\n",
       "\n",
       "</td><td>\n",
       "<table>\n",
       "<tr><th>Name</th><th>Field</th><th>Type</th><th>N Comp</th><th>Min</th><th>Max</th></tr>\n",
       "<tr><td>B</td><td>Points</td><td>float64</td><td>3</td><td>-8.569e+01</td><td>1.558e+02</td></tr>\n",
       "<tr><td><b>mag</b></td><td>Points</td><td>float64</td><td>1</td><td>1.992e-02</td><td>1.569e+02</td></tr>\n",
       "</table>\n",
       "\n",
       "</td></tr> </table>"
      ],
      "text/plain": [
       "UniformGrid (0x7fbccae571c0)\n",
       "  N Cells:      250047\n",
       "  N Points:     262144\n",
       "  X Bounds:     0.000e+00, 6.300e+01\n",
       "  Y Bounds:     0.000e+00, 6.300e+01\n",
       "  Z Bounds:     0.000e+00, 6.300e+01\n",
       "  Dimensions:   64, 64, 64\n",
       "  Spacing:      1.000e+00, 1.000e+00, 1.000e+00\n",
       "  N Arrays:     2"
      ]
     },
     "execution_count": null,
     "metadata": {},
     "output_type": "execute_result"
    }
   ],
   "source": [
    "pinn.calculate_magnetic_fields(batch_size=10000)"
   ]
  },
  {
   "cell_type": "markdown",
   "id": "f97eb722-ba29-46b3-bb6d-fe41bac520f0",
   "metadata": {},
   "source": [
    "## Visualization"
   ]
  },
  {
   "cell_type": "code",
   "execution_count": null,
   "id": "43db4bc2-b49c-4e8e-80d1-03238c4a7451",
   "metadata": {},
   "outputs": [],
   "source": [
    "import copy\n",
    "import matplotlib.pyplot as plt"
   ]
  },
  {
   "cell_type": "code",
   "execution_count": null,
   "id": "5114088c-3ceb-4aa2-a2d7-0cb25779d7e9",
   "metadata": {},
   "outputs": [],
   "source": [
    "pv.start_xvfb()\n",
    "pv.global_theme.trame.server_proxy_enabled = True"
   ]
  },
  {
   "cell_type": "code",
   "execution_count": null,
   "id": "fa75a66d-3f6a-4df9-b986-9e49e45a0a95",
   "metadata": {},
   "outputs": [],
   "source": [
    "class draw_grid:\n",
    "    def __init__(self, grd):\n",
    "        grid = copy.deepcopy(grd)\n",
    "        self.grid = grid\n",
    "        x_ind_min, y_ind_min, z_ind_min = 0, 0, 0\n",
    "        Nx, Ny, Nz = self.grid.dimensions\n",
    "        x_ind_max, y_ind_max, z_ind_max = Nx-1, Ny-1, Nz-1\n",
    "        \n",
    "        bottom_subset = (x_ind_min, x_ind_max, y_ind_min, y_ind_max, 0, 0)\n",
    "        bottom = self.grid.extract_subset(bottom_subset).extract_surface()\n",
    "        bottom.active_vectors_name = 'B'\n",
    "        bottom.active_scalars_name = 'mag'\n",
    "\n",
    "        self.bottom = bottom\n",
    "\n",
    "        self.x_bottom = bottom.points[:, 0].reshape(Nx, Ny)\n",
    "        self.y_bottom = bottom.points[:, 1].reshape(Nx, Ny)\n",
    "        self.B_bottom = bottom['B'].reshape(Nx, Ny, 3)\n",
    "\n",
    "    def plt_Bz(self):\n",
    "        plt.close()\n",
    "        fig, ax = plt.subplots(figsize=(6,6))\n",
    "        CS = plt.contour(self.x_bottom, self.y_bottom, self.B_bottom[:, :, 2], \n",
    "                         origin='lower', colors='k')\n",
    "        ax.set_xlabel('x')\n",
    "        ax.set_ylabel('y')\n",
    "        ax.clabel(CS, fontsize=9, inline=True)\n",
    "        ax.set_title(r\"$B_z(z=0)$\")\n",
    "        plt.show()\n",
    "\n",
    "    def pv_bottom(self):\n",
    "        p = pv.Plotter()\n",
    "        p.show_bounds()\n",
    "        p.add_mesh(self.grid.outline())\n",
    "        p.add_mesh(self.bottom)\n",
    "        p.show()\n",
    "\n",
    "    def pv_Bz_2D(self):\n",
    "        p = pv.Plotter()\n",
    "        p.show_bounds()\n",
    "        p.add_mesh(self.grid.outline())\n",
    "        sargs = dict(title=\"B_z\")\n",
    "        ctr = self.bottom.contour(scalars=self.bottom['B'][:, 2])\n",
    "        p.add_mesh(ctr, cmap='plasma', scalar_bar_args=sargs)\n",
    "        p.show()\n",
    "\n",
    "    def pv_Bz_3D(self):\n",
    "        p = pv.Plotter()\n",
    "        p.show_bounds()\n",
    "        p.add_mesh(self.grid.outline())\n",
    "        sargs = dict(title=\"B_z\")\n",
    "        ctr = self.grid.contour(scalars=self.grid['B'][:, 2])\n",
    "        p.add_mesh(ctr, cmap='plasma', scalar_bar_args=sargs, opacity=0.5)\n",
    "        p.show()\n",
    "\n",
    "    def pv_streamline(self):\n",
    "        p = pv.Plotter()\n",
    "        p.show_bounds()\n",
    "        p.add_mesh(self.grid.outline())\n",
    "        i_size = self.grid.bounds[1]-self.grid.bounds[0]\n",
    "        j_size = self.grid.bounds[3]-self.grid.bounds[2]\n",
    "        seed = pv.Plane(center=(self.grid.center[0], self.grid.center[1], 0), direction=(0,0,1), \n",
    "                i_size=i_size, j_size=j_size, \n",
    "                i_resolution=10, j_resolution=10)\n",
    "        p.add_mesh(seed)\n",
    "        strl = self.grid.streamlines_from_source(seed,\n",
    "                                                 vectors='B',\n",
    "                                                 max_time=180,\n",
    "                                                 initial_step_length=0.1,\n",
    "                                                 integration_direction='both')\n",
    "        \n",
    "        p.add_mesh(strl.tube(radius=i_size/400), cmap='bwr', ambient=0.2)\n",
    "        p.show()\n"
   ]
  },
  {
   "cell_type": "code",
   "execution_count": null,
   "id": "7c3969d8-80c6-4f6e-951d-26b9d6b036ba",
   "metadata": {},
   "outputs": [],
   "source": [
    "from zpinn.lowloumag import LowLouMag"
   ]
  },
  {
   "cell_type": "code",
   "execution_count": null,
   "id": "875b133a-4275-40bb-bc2d-2146082d1cca",
   "metadata": {},
   "outputs": [],
   "source": [
    "b = LowLouMag(resolutions=[128, 64, 200])\n",
    "b.calculate()\n",
    "ll = draw_grid(b.grid)"
   ]
  },
  {
   "cell_type": "code",
   "execution_count": null,
   "id": "aa955a66-3cb6-44c6-aca9-c11bb1bfd8c3",
   "metadata": {},
   "outputs": [],
   "source": [
    "pi = draw_grid(pinn.grid)"
   ]
  },
  {
   "cell_type": "code",
   "execution_count": null,
   "id": "ffec065d-76db-4319-b9c5-31e8ef1412f5",
   "metadata": {},
   "outputs": [
    {
     "data": {
      "text/html": [
       "<table><tr><th>Header</th><th>Data Arrays</th></tr><tr><td>\n",
       "<table>\n",
       "<tr><th>UniformGrid</th><th>Information</th></tr>\n",
       "<tr><td>N Cells</td><td>1592199</td></tr>\n",
       "<tr><td>N Points</td><td>1638400</td></tr>\n",
       "<tr><td>X Bounds</td><td>-1.000e+00, 1.000e+00</td></tr>\n",
       "<tr><td>Y Bounds</td><td>-1.000e+00, 1.000e+00</td></tr>\n",
       "<tr><td>Z Bounds</td><td>0.000e+00, 2.000e+00</td></tr>\n",
       "<tr><td>Dimensions</td><td>128, 64, 200</td></tr>\n",
       "<tr><td>Spacing</td><td>1.575e-02, 3.175e-02, 1.005e-02</td></tr>\n",
       "<tr><td>N Arrays</td><td>3</td></tr>\n",
       "</table>\n",
       "\n",
       "</td><td>\n",
       "<table>\n",
       "<tr><th>Name</th><th>Field</th><th>Type</th><th>N Comp</th><th>Min</th><th>Max</th></tr>\n",
       "<tr><td>B</td><td>Points</td><td>float64</td><td>3</td><td>-1.425e+02</td><td>2.327e+02</td></tr>\n",
       "<tr><td><b>mag</b></td><td>Points</td><td>float64</td><td>1</td><td>3.360e-01</td><td>2.331e+02</td></tr>\n",
       "<tr><td>alpha</td><td>Points</td><td>float64</td><td>1</td><td>-9.717e+00</td><td>9.717e+00</td></tr>\n",
       "</table>\n",
       "\n",
       "</td></tr> </table>"
      ],
      "text/plain": [
       "UniformGrid (0x7fbccae56c80)\n",
       "  N Cells:      1592199\n",
       "  N Points:     1638400\n",
       "  X Bounds:     -1.000e+00, 1.000e+00\n",
       "  Y Bounds:     -1.000e+00, 1.000e+00\n",
       "  Z Bounds:     0.000e+00, 2.000e+00\n",
       "  Dimensions:   128, 64, 200\n",
       "  Spacing:      1.575e-02, 3.175e-02, 1.005e-02\n",
       "  N Arrays:     3"
      ]
     },
     "execution_count": null,
     "metadata": {},
     "output_type": "execute_result"
    }
   ],
   "source": [
    "ll.grid"
   ]
  },
  {
   "cell_type": "code",
   "execution_count": null,
   "id": "dbe942ab-996c-4007-81c5-75386ceffd3e",
   "metadata": {},
   "outputs": [
    {
     "data": {
      "text/html": [
       "<table><tr><th>Header</th><th>Data Arrays</th></tr><tr><td>\n",
       "<table>\n",
       "<tr><th>UniformGrid</th><th>Information</th></tr>\n",
       "<tr><td>N Cells</td><td>250047</td></tr>\n",
       "<tr><td>N Points</td><td>262144</td></tr>\n",
       "<tr><td>X Bounds</td><td>0.000e+00, 6.300e+01</td></tr>\n",
       "<tr><td>Y Bounds</td><td>0.000e+00, 6.300e+01</td></tr>\n",
       "<tr><td>Z Bounds</td><td>0.000e+00, 6.300e+01</td></tr>\n",
       "<tr><td>Dimensions</td><td>64, 64, 64</td></tr>\n",
       "<tr><td>Spacing</td><td>1.000e+00, 1.000e+00, 1.000e+00</td></tr>\n",
       "<tr><td>N Arrays</td><td>2</td></tr>\n",
       "</table>\n",
       "\n",
       "</td><td>\n",
       "<table>\n",
       "<tr><th>Name</th><th>Field</th><th>Type</th><th>N Comp</th><th>Min</th><th>Max</th></tr>\n",
       "<tr><td>B</td><td>Points</td><td>float64</td><td>3</td><td>-8.569e+01</td><td>1.558e+02</td></tr>\n",
       "<tr><td><b>mag</b></td><td>Points</td><td>float64</td><td>1</td><td>1.992e-02</td><td>1.569e+02</td></tr>\n",
       "</table>\n",
       "\n",
       "</td></tr> </table>"
      ],
      "text/plain": [
       "UniformGrid (0x7fbccae56740)\n",
       "  N Cells:      250047\n",
       "  N Points:     262144\n",
       "  X Bounds:     0.000e+00, 6.300e+01\n",
       "  Y Bounds:     0.000e+00, 6.300e+01\n",
       "  Z Bounds:     0.000e+00, 6.300e+01\n",
       "  Dimensions:   64, 64, 64\n",
       "  Spacing:      1.000e+00, 1.000e+00, 1.000e+00\n",
       "  N Arrays:     2"
      ]
     },
     "execution_count": null,
     "metadata": {},
     "output_type": "execute_result"
    }
   ],
   "source": [
    "pi.grid"
   ]
  },
  {
   "cell_type": "code",
   "execution_count": null,
   "id": "07ccfa30-f4be-44a0-a77b-7fe9d2aa6f2f",
   "metadata": {},
   "outputs": [
    {
     "data": {
      "text/html": [
       "<table><tr><th>Header</th><th>Data Arrays</th></tr><tr><td>\n",
       "<table>\n",
       "<tr><th>PolyData</th><th>Information</th></tr>\n",
       "<tr><td>N Cells</td><td>8001</td></tr>\n",
       "<tr><td>N Points</td><td>8192</td></tr>\n",
       "<tr><td>N Strips</td><td>0</td></tr>\n",
       "<tr><td>X Bounds</td><td>-1.000e+00, 1.000e+00</td></tr>\n",
       "<tr><td>Y Bounds</td><td>-1.000e+00, 1.000e+00</td></tr>\n",
       "<tr><td>Z Bounds</td><td>0.000e+00, 0.000e+00</td></tr>\n",
       "<tr><td>N Arrays</td><td>5</td></tr>\n",
       "</table>\n",
       "\n",
       "</td><td>\n",
       "<table>\n",
       "<tr><th>Name</th><th>Field</th><th>Type</th><th>N Comp</th><th>Min</th><th>Max</th></tr>\n",
       "<tr><td>B</td><td>Points</td><td>float64</td><td>3</td><td>-1.425e+02</td><td>2.327e+02</td></tr>\n",
       "<tr><td><b>mag</b></td><td>Points</td><td>float64</td><td>1</td><td>2.433e+00</td><td>2.331e+02</td></tr>\n",
       "<tr><td>alpha</td><td>Points</td><td>float64</td><td>1</td><td>-9.717e+00</td><td>9.717e+00</td></tr>\n",
       "<tr><td>vtkOriginalPointIds</td><td>Points</td><td>int64</td><td>1</td><td>0.000e+00</td><td>8.191e+03</td></tr>\n",
       "<tr><td>vtkOriginalCellIds</td><td>Cells</td><td>int64</td><td>1</td><td>0.000e+00</td><td>8.000e+03</td></tr>\n",
       "</table>\n",
       "\n",
       "</td></tr> </table>"
      ],
      "text/plain": [
       "PolyData (0x7fbccae548e0)\n",
       "  N Cells:    8001\n",
       "  N Points:   8192\n",
       "  N Strips:   0\n",
       "  X Bounds:   -1.000e+00, 1.000e+00\n",
       "  Y Bounds:   -1.000e+00, 1.000e+00\n",
       "  Z Bounds:   0.000e+00, 0.000e+00\n",
       "  N Arrays:   5"
      ]
     },
     "execution_count": null,
     "metadata": {},
     "output_type": "execute_result"
    }
   ],
   "source": [
    "ll.bottom"
   ]
  },
  {
   "cell_type": "code",
   "execution_count": null,
   "id": "fdb55f2b-d106-4966-abc5-46990d9647fe",
   "metadata": {},
   "outputs": [
    {
     "data": {
      "text/html": [
       "<table><tr><th>Header</th><th>Data Arrays</th></tr><tr><td>\n",
       "<table>\n",
       "<tr><th>PolyData</th><th>Information</th></tr>\n",
       "<tr><td>N Cells</td><td>3969</td></tr>\n",
       "<tr><td>N Points</td><td>4096</td></tr>\n",
       "<tr><td>N Strips</td><td>0</td></tr>\n",
       "<tr><td>X Bounds</td><td>0.000e+00, 6.300e+01</td></tr>\n",
       "<tr><td>Y Bounds</td><td>0.000e+00, 6.300e+01</td></tr>\n",
       "<tr><td>Z Bounds</td><td>0.000e+00, 0.000e+00</td></tr>\n",
       "<tr><td>N Arrays</td><td>4</td></tr>\n",
       "</table>\n",
       "\n",
       "</td><td>\n",
       "<table>\n",
       "<tr><th>Name</th><th>Field</th><th>Type</th><th>N Comp</th><th>Min</th><th>Max</th></tr>\n",
       "<tr><td>B</td><td>Points</td><td>float64</td><td>3</td><td>-8.569e+01</td><td>1.558e+02</td></tr>\n",
       "<tr><td><b>mag</b></td><td>Points</td><td>float64</td><td>1</td><td>1.681e+00</td><td>1.569e+02</td></tr>\n",
       "<tr><td>vtkOriginalPointIds</td><td>Points</td><td>int64</td><td>1</td><td>0.000e+00</td><td>4.095e+03</td></tr>\n",
       "<tr><td>vtkOriginalCellIds</td><td>Cells</td><td>int64</td><td>1</td><td>0.000e+00</td><td>3.968e+03</td></tr>\n",
       "</table>\n",
       "\n",
       "</td></tr> </table>"
      ],
      "text/plain": [
       "PolyData (0x7fbccae55540)\n",
       "  N Cells:    3969\n",
       "  N Points:   4096\n",
       "  N Strips:   0\n",
       "  X Bounds:   0.000e+00, 6.300e+01\n",
       "  Y Bounds:   0.000e+00, 6.300e+01\n",
       "  Z Bounds:   0.000e+00, 0.000e+00\n",
       "  N Arrays:   4"
      ]
     },
     "execution_count": null,
     "metadata": {},
     "output_type": "execute_result"
    }
   ],
   "source": [
    "pi.bottom"
   ]
  },
  {
   "cell_type": "code",
   "execution_count": null,
   "id": "a7d3698f-8067-4971-8e40-ec5b4b41cdbb",
   "metadata": {},
   "outputs": [
    {
     "data": {
      "image/png": "[encoded data removed]",
      "text/plain": [
       "<Figure size 600x600 with 1 Axes>"
      ]
     },
     "metadata": {},
     "output_type": "display_data"
    }
   ],
   "source": [
    "ll.plt_Bz()"
   ]
  },
  {
   "cell_type": "code",
   "execution_count": null,
   "id": "d20ef255-51c9-4694-810a-ee9b81ef7a61",
   "metadata": {},
   "outputs": [
    {
     "data": {
      "image/png": "[encoded data removed]",
      "text/plain": [
       "<Figure size 600x600 with 1 Axes>"
      ]
     },
     "metadata": {},
     "output_type": "display_data"
    }
   ],
   "source": [
    "pi.plt_Bz()"
   ]
  },
  {
   "cell_type": "code",
   "execution_count": null,
   "id": "93cbebfb-b763-4198-896b-849e89551918",
   "metadata": {},
   "outputs": [
    {
     "data": {
      "application/vnd.jupyter.widget-view+json": {
       "model_id": "a7aa332e146344af9e8849a61eb6f1b0",
       "version_major": 2,
       "version_minor": 0
      },
      "text/plain": [
       "Widget(value=\"<iframe src='/proxy/40187/index.html?ui=P_0x7fbcbc3e6080_0&reconnect=auto' style='width: 99%; he…"
      ]
     },
     "metadata": {},
     "output_type": "display_data"
    },
    {
     "name": "stderr",
     "output_type": "stream",
     "text": [
      "WARNING:aiohttp.websocket:Client protocols [''] don’t overlap server-known ones ()\n"
     ]
    }
   ],
   "source": [
    "ll.pv_bottom()"
   ]
  },
  {
   "cell_type": "code",
   "execution_count": null,
   "id": "3a76e664-74cb-4cdd-98c6-3ebe8b22d721",
   "metadata": {},
   "outputs": [
    {
     "data": {
      "application/vnd.jupyter.widget-view+json": {
       "model_id": "ea3b5b4de67841ae8e65b9876ee2887f",
       "version_major": 2,
       "version_minor": 0
      },
      "text/plain": [
       "Widget(value=\"<iframe src='/proxy/40187/index.html?ui=P_0x7fbcb0602230_1&reconnect=auto' style='width: 99%; he…"
      ]
     },
     "metadata": {},
     "output_type": "display_data"
    },
    {
     "name": "stderr",
     "output_type": "stream",
     "text": [
      "WARNING:aiohttp.websocket:Client protocols [''] don’t overlap server-known ones ()\n"
     ]
    }
   ],
   "source": [
    "pi.pv_bottom()"
   ]
  },
  {
   "cell_type": "code",
   "execution_count": null,
   "id": "cb70ffb0-e2cd-4fa1-9116-732d81e6709b",
   "metadata": {},
   "outputs": [
    {
     "data": {
      "application/vnd.jupyter.widget-view+json": {
       "model_id": "a56167e9699649c3b103ef86630e8967",
       "version_major": 2,
       "version_minor": 0
      },
      "text/plain": [
       "Widget(value=\"<iframe src='/proxy/40187/index.html?ui=P_0x7fbc64c18160_2&reconnect=auto' style='width: 99%; he…"
      ]
     },
     "metadata": {},
     "output_type": "display_data"
    },
    {
     "name": "stderr",
     "output_type": "stream",
     "text": [
      "WARNING:aiohttp.websocket:Client protocols [''] don’t overlap server-known ones ()\n"
     ]
    }
   ],
   "source": [
    "ll.pv_Bz_2D()"
   ]
  },
  {
   "cell_type": "code",
   "execution_count": null,
   "id": "163b80ce-b129-47c8-bc05-19ee2b9298d3",
   "metadata": {},
   "outputs": [
    {
     "data": {
      "application/vnd.jupyter.widget-view+json": {
       "model_id": "b24a6259803d4580a4b01ecf85101dea",
       "version_major": 2,
       "version_minor": 0
      },
      "text/plain": [
       "Widget(value=\"<iframe src='/proxy/40187/index.html?ui=P_0x7fbc64c19120_3&reconnect=auto' style='width: 99%; he…"
      ]
     },
     "metadata": {},
     "output_type": "display_data"
    },
    {
     "name": "stderr",
     "output_type": "stream",
     "text": [
      "WARNING:aiohttp.websocket:Client protocols [''] don’t overlap server-known ones ()\n"
     ]
    }
   ],
   "source": [
    "pi.pv_Bz_2D()"
   ]
  },
  {
   "cell_type": "code",
   "execution_count": null,
   "id": "8eda8d92-bbb8-437f-9ca9-af723318100a",
   "metadata": {},
   "outputs": [
    {
     "data": {
      "application/vnd.jupyter.widget-view+json": {
       "model_id": "2ecced1c18cb45a79bc29ad060cae897",
       "version_major": 2,
       "version_minor": 0
      },
      "text/plain": [
       "Widget(value=\"<iframe src='/proxy/40187/index.html?ui=P_0x7fbc64c1a3b0_4&reconnect=auto' style='width: 99%; he…"
      ]
     },
     "metadata": {},
     "output_type": "display_data"
    },
    {
     "name": "stderr",
     "output_type": "stream",
     "text": [
      "WARNING:aiohttp.websocket:Client protocols [''] don’t overlap server-known ones ()\n"
     ]
    }
   ],
   "source": [
    "ll.pv_Bz_3D()"
   ]
  },
  {
   "cell_type": "code",
   "execution_count": null,
   "id": "a708be97-5835-4b29-9d37-12663148b71d",
   "metadata": {},
   "outputs": [
    {
     "data": {
      "application/vnd.jupyter.widget-view+json": {
       "model_id": "b1cdf9024c0b407a83647cc36b2466a8",
       "version_major": 2,
       "version_minor": 0
      },
      "text/plain": [
       "Widget(value=\"<iframe src='/proxy/40187/index.html?ui=P_0x7fbc64c1b400_5&reconnect=auto' style='width: 99%; he…"
      ]
     },
     "metadata": {},
     "output_type": "display_data"
    },
    {
     "name": "stderr",
     "output_type": "stream",
     "text": [
      "WARNING:aiohttp.websocket:Client protocols [''] don’t overlap server-known ones ()\n"
     ]
    }
   ],
   "source": [
    "pi.pv_Bz_3D()"
   ]
  },
  {
   "cell_type": "code",
   "execution_count": null,
   "id": "692ebcb0-fb9c-42fe-89a0-015ed876f1dc",
   "metadata": {},
   "outputs": [
    {
     "data": {
      "application/vnd.jupyter.widget-view+json": {
       "model_id": "33551bbf1ec9440f921faeaa3c87b988",
       "version_major": 2,
       "version_minor": 0
      },
      "text/plain": [
       "Widget(value=\"<iframe src='/proxy/40187/index.html?ui=P_0x7fbc64d10580_6&reconnect=auto' style='width: 99%; he…"
      ]
     },
     "metadata": {},
     "output_type": "display_data"
    },
    {
     "name": "stderr",
     "output_type": "stream",
     "text": [
      "WARNING:aiohttp.websocket:Client protocols [''] don’t overlap server-known ones ()\n"
     ]
    }
   ],
   "source": [
    "ll.pv_streamline()"
   ]
  },
  {
   "cell_type": "code",
   "execution_count": null,
   "id": "fcfd7e01-e2ff-4958-9c30-befbf966f647",
   "metadata": {},
   "outputs": [
    {
     "data": {
      "application/vnd.jupyter.widget-view+json": {
       "model_id": "64c3fea0af1d46b2ba74f42f15280a74",
       "version_major": 2,
       "version_minor": 0
      },
      "text/plain": [
       "Widget(value=\"<iframe src='/proxy/40187/index.html?ui=P_0x7fbc64d11ae0_7&reconnect=auto' style='width: 99%; he…"
      ]
     },
     "metadata": {},
     "output_type": "display_data"
    },
    {
     "name": "stderr",
     "output_type": "stream",
     "text": [
      "WARNING:aiohttp.websocket:Client protocols [''] don’t overlap server-known ones ()\n"
     ]
    }
   ],
   "source": [
    "pi.pv_streamline()"
   ]
  },
  {
   "cell_type": "code",
   "execution_count": null,
   "id": "8a8e3f68-908a-446d-b64b-854b3dfc5d07",
   "metadata": {},
   "outputs": [],
   "source": []
  }
 ],
 "metadata": {
  "kernelspec": {
   "display_name": "zpinn",
   "language": "python",
   "name": "zpinn"
  }
 },
 "nbformat": 4,
 "nbformat_minor": 5
}
