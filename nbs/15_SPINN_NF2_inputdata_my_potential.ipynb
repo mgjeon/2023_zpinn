{
 "cells": [
  {
   "attachments": {},
   "cell_type": "markdown",
   "metadata": {},
   "source": [
    "# SPINN NF2 inputdata generation\n",
    "> save using pickle"
   ]
  },
  {
   "cell_type": "code",
   "execution_count": null,
   "metadata": {},
   "outputs": [],
   "source": [
    "from zpinn.lowloumag import LowLouMag"
   ]
  },
  {
   "cell_type": "code",
   "execution_count": null,
   "metadata": {},
   "outputs": [],
   "source": [
    "nx = 64\n",
    "ny = 64\n",
    "nz = 64"
   ]
  },
  {
   "cell_type": "code",
   "execution_count": null,
   "metadata": {},
   "outputs": [
    {
     "data": {
      "text/html": [
       "<table><tr><th>Header</th><th>Data Arrays</th></tr><tr><td>\n",
       "<table>\n",
       "<tr><th>UniformGrid</th><th>Information</th></tr>\n",
       "<tr><td>N Cells</td><td>250047</td></tr>\n",
       "<tr><td>N Points</td><td>262144</td></tr>\n",
       "<tr><td>X Bounds</td><td>-1.000e+00, 1.000e+00</td></tr>\n",
       "<tr><td>Y Bounds</td><td>-1.000e+00, 1.000e+00</td></tr>\n",
       "<tr><td>Z Bounds</td><td>0.000e+00, 2.000e+00</td></tr>\n",
       "<tr><td>Dimensions</td><td>64, 64, 64</td></tr>\n",
       "<tr><td>Spacing</td><td>3.175e-02, 3.175e-02, 3.175e-02</td></tr>\n",
       "<tr><td>N Arrays</td><td>3</td></tr>\n",
       "</table>\n",
       "\n",
       "</td><td>\n",
       "<table>\n",
       "<tr><th>Name</th><th>Field</th><th>Type</th><th>N Comp</th><th>Min</th><th>Max</th></tr>\n",
       "<tr><td>B</td><td>Points</td><td>float64</td><td>3</td><td>-1.419e+02</td><td>2.308e+02</td></tr>\n",
       "<tr><td><b>mag</b></td><td>Points</td><td>float64</td><td>1</td><td>3.360e-01</td><td>2.315e+02</td></tr>\n",
       "<tr><td>alpha</td><td>Points</td><td>float64</td><td>1</td><td>-9.731e+00</td><td>9.731e+00</td></tr>\n",
       "</table>\n",
       "\n",
       "</td></tr> </table>"
      ],
      "text/plain": [
       "UniformGrid (0x7f784e3fe020)\n",
       "  N Cells:      250047\n",
       "  N Points:     262144\n",
       "  X Bounds:     -1.000e+00, 1.000e+00\n",
       "  Y Bounds:     -1.000e+00, 1.000e+00\n",
       "  Z Bounds:     0.000e+00, 2.000e+00\n",
       "  Dimensions:   64, 64, 64\n",
       "  Spacing:      3.175e-02, 3.175e-02, 3.175e-02\n",
       "  N Arrays:     3"
      ]
     },
     "execution_count": null,
     "metadata": {},
     "output_type": "execute_result"
    }
   ],
   "source": [
    "b = LowLouMag(resolutions=[nx, ny, nz])\n",
    "b.calculate()"
   ]
  },
  {
   "cell_type": "code",
   "execution_count": null,
   "metadata": {},
   "outputs": [
    {
     "data": {
      "text/html": [
       "<table><tr><th>Header</th><th>Data Arrays</th></tr><tr><td>\n",
       "<table>\n",
       "<tr><th>PolyData</th><th>Information</th></tr>\n",
       "<tr><td>N Cells</td><td>3969</td></tr>\n",
       "<tr><td>N Points</td><td>4096</td></tr>\n",
       "<tr><td>N Strips</td><td>0</td></tr>\n",
       "<tr><td>X Bounds</td><td>-1.000e+00, 1.000e+00</td></tr>\n",
       "<tr><td>Y Bounds</td><td>-1.000e+00, 1.000e+00</td></tr>\n",
       "<tr><td>Z Bounds</td><td>0.000e+00, 0.000e+00</td></tr>\n",
       "<tr><td>N Arrays</td><td>5</td></tr>\n",
       "</table>\n",
       "\n",
       "</td><td>\n",
       "<table>\n",
       "<tr><th>Name</th><th>Field</th><th>Type</th><th>N Comp</th><th>Min</th><th>Max</th></tr>\n",
       "<tr><td><b>B</b></td><td>Points</td><td>float64</td><td>3</td><td>-1.419e+02</td><td>2.308e+02</td></tr>\n",
       "<tr><td>mag</td><td>Points</td><td>float64</td><td>1</td><td>2.433e+00</td><td>2.315e+02</td></tr>\n",
       "<tr><td>alpha</td><td>Points</td><td>float64</td><td>1</td><td>-9.731e+00</td><td>9.731e+00</td></tr>\n",
       "<tr><td>vtkOriginalPointIds</td><td>Points</td><td>int64</td><td>1</td><td>0.000e+00</td><td>4.095e+03</td></tr>\n",
       "<tr><td>vtkOriginalCellIds</td><td>Cells</td><td>int64</td><td>1</td><td>0.000e+00</td><td>3.968e+03</td></tr>\n",
       "</table>\n",
       "\n",
       "</td></tr> </table>"
      ],
      "text/plain": [
       "PolyData (0x7f779d61de40)\n",
       "  N Cells:    3969\n",
       "  N Points:   4096\n",
       "  N Strips:   0\n",
       "  X Bounds:   -1.000e+00, 1.000e+00\n",
       "  Y Bounds:   -1.000e+00, 1.000e+00\n",
       "  Z Bounds:   0.000e+00, 0.000e+00\n",
       "  N Arrays:   5"
      ]
     },
     "execution_count": null,
     "metadata": {},
     "output_type": "execute_result"
    }
   ],
   "source": [
    "b.bottom"
   ]
  },
  {
   "cell_type": "code",
   "execution_count": null,
   "metadata": {},
   "outputs": [
    {
     "data": {
      "text/plain": [
       "(64, 64, 3)"
      ]
     },
     "execution_count": null,
     "metadata": {},
     "output_type": "execute_result"
    }
   ],
   "source": [
    "b_bottom = b.b_bottom\n",
    "b_bottom.shape"
   ]
  },
  {
   "cell_type": "code",
   "execution_count": null,
   "metadata": {},
   "outputs": [],
   "source": [
    "b_norm = 100"
   ]
  },
  {
   "cell_type": "code",
   "execution_count": null,
   "metadata": {},
   "outputs": [],
   "source": [
    "import matplotlib.pyplot as plt"
   ]
  },
  {
   "cell_type": "code",
   "execution_count": null,
   "metadata": {},
   "outputs": [
    {
     "data": {
      "text/plain": [
       "<matplotlib.image.AxesImage>"
      ]
     },
     "execution_count": null,
     "metadata": {},
     "output_type": "execute_result"
    },
    {
     "data": {
      "image/png": "[encoded data removed]",
      "text/plain": [
       "<Figure size 640x480 with 1 Axes>"
      ]
     },
     "metadata": {},
     "output_type": "display_data"
    }
   ],
   "source": [
    "plt.imshow(b_bottom[:, :, 2].transpose(), origin='lower')"
   ]
  },
  {
   "cell_type": "code",
   "execution_count": null,
   "metadata": {},
   "outputs": [],
   "source": [
    "import torch\n",
    "from torch import nn\n",
    "from torch.utils.data import DataLoader, TensorDataset\n",
    "import numpy as np\n",
    "from tqdm import tqdm"
   ]
  },
  {
   "cell_type": "code",
   "execution_count": null,
   "metadata": {},
   "outputs": [],
   "source": [
    "from zpinn.pinn_nf2_cleanup import PotentialModel, create_coordinates"
   ]
  },
  {
   "cell_type": "code",
   "execution_count": null,
   "metadata": {},
   "outputs": [],
   "source": [
    "bottom_values = b_bottom.reshape(-1, 3)\n",
    "bottom_bounds = (0, nx-1, 0, ny-1, 0, 0)\n",
    "bottom_coords = create_coordinates(bottom_bounds).reshape(-1, 3)\n",
    "b_n = torch.tensor(bottom_values[:, 2], dtype=torch.float64)\n",
    "r_p = torch.tensor(bottom_coords, dtype=torch.float64)\n",
    "device = torch.device('cuda') if torch.cuda.is_available() else torch.device('cpu')\n",
    "model = nn.DataParallel(PotentialModel(b_n, r_p)).to(device)"
   ]
  },
  {
   "cell_type": "code",
   "execution_count": null,
   "metadata": {},
   "outputs": [],
   "source": [
    "top_bounds = (0, nx-1, 0, ny-1, nz-1, nz-1)\n",
    "lateral_bounds_1 = (0, 0, 0, ny-1, 0, nz-1)\n",
    "lateral_bounds_2 = (nx-1, nx-1, 0, ny-1, 0, nz-1)\n",
    "lateral_bounds_3 = (0, nx-1, 0, 0, 0, nz-1)\n",
    "lateral_bounds_4 = (0, nx-1, ny-1, ny-1, 0, nz-1)\n",
    "\n",
    "top_coords = create_coordinates(top_bounds).reshape(-1, 3)\n",
    "lateral_coords_1 = create_coordinates(lateral_bounds_1).reshape(-1, 3)\n",
    "lateral_coords_2 = create_coordinates(lateral_bounds_2).reshape(-1, 3)\n",
    "lateral_coords_3 = create_coordinates(lateral_bounds_3).reshape(-1, 3)\n",
    "lateral_coords_4 = create_coordinates(lateral_bounds_4).reshape(-1, 3)"
   ]
  },
  {
   "cell_type": "code",
   "execution_count": null,
   "metadata": {},
   "outputs": [],
   "source": [
    "top_lateral_coordinates = [top_coords,\n",
    "                           lateral_coords_1,\n",
    "                           lateral_coords_2,\n",
    "                           lateral_coords_3,\n",
    "                           lateral_coords_4]"
   ]
  },
  {
   "cell_type": "code",
   "execution_count": null,
   "metadata": {},
   "outputs": [
    {
     "name": "stderr",
     "output_type": "stream",
     "text": [
      "Potential Boundary: 100%|██████████| 1/1 [00:00<00:00,  2.26it/s]\n",
      "Potential Boundary: 100%|██████████| 1/1 [00:00<00:00,  4.71it/s]\n",
      "Potential Boundary: 100%|██████████| 1/1 [00:00<00:00,  4.61it/s]\n",
      "Potential Boundary: 100%|██████████| 1/1 [00:00<00:00,  5.52it/s]\n",
      "Potential Boundary: 100%|██████████| 1/1 [00:00<00:00,  4.81it/s]\n"
     ]
    }
   ],
   "source": [
    "pf_fields = []\n",
    "pf_coords = []\n",
    "for r_coords in top_lateral_coordinates:\n",
    "    r_coords = torch.tensor(r_coords, dtype=torch.float64)\n",
    "    # pf_batch_size = int(np.prod(r_coords.shape[:-1]) // 500)\n",
    "    pf_batch_size = int(1024 * 512 ** 2 / (nx*ny))\n",
    "\n",
    "    fields = []\n",
    "    for r, in tqdm(DataLoader(TensorDataset(r_coords), batch_size=pf_batch_size, num_workers=2),\n",
    "                        desc='Potential Boundary'):\n",
    "        r = r.to(device).requires_grad_(True)\n",
    "        p_batch = model(r)\n",
    "        b_p = -1 * torch.autograd.grad(p_batch, r, torch.ones_like(p_batch), retain_graph=True, create_graph=True)[0]\n",
    "        fields += [b_p.clone().detach().cpu().numpy()]\n",
    "    pf_fields += [np.concatenate(fields)]\n",
    "    pf_coords += [r_coords.clone().detach().cpu().numpy()]"
   ]
  },
  {
   "cell_type": "code",
   "execution_count": null,
   "metadata": {},
   "outputs": [],
   "source": [
    "bp_top = pf_fields[0].reshape(nx, ny, 3) \n",
    "bp_lateral_1 = pf_fields[1].reshape(ny, nz, 3)\n",
    "bp_lateral_2 = pf_fields[2].reshape(ny, nz, 3) \n",
    "bp_lateral_3 = pf_fields[3].reshape(nx, nz, 3) \n",
    "bp_lateral_4 = pf_fields[4].reshape(nx, nz, 3) "
   ]
  },
  {
   "cell_type": "code",
   "execution_count": null,
   "metadata": {},
   "outputs": [],
   "source": [
    "b_bottom = b_bottom / b_norm \n",
    "bp_top = bp_top / b_norm\n",
    "bp_lateral_1 = bp_lateral_1 / b_norm\n",
    "bp_lateral_2 = bp_lateral_2 / b_norm\n",
    "bp_lateral_3 = bp_lateral_3 / b_norm \n",
    "bp_lateral_4 = bp_lateral_4 / b_norm"
   ]
  },
  {
   "cell_type": "code",
   "execution_count": null,
   "metadata": {},
   "outputs": [],
   "source": [
    "import pickle"
   ]
  },
  {
   "cell_type": "code",
   "execution_count": null,
   "metadata": {},
   "outputs": [],
   "source": [
    "with open(\"bv.pickle\",\"wb\") as f:\n",
    "    pickle.dump(b.grid['B'], f)\n",
    "\n",
    "with open(\"b_bottom.pickle\",\"wb\") as f:\n",
    "    pickle.dump(b_bottom, f)\n",
    "\n",
    "with open(\"bp_top.pickle\",\"wb\") as f:\n",
    "    pickle.dump(bp_top, f)\n",
    "\n",
    "with open(\"bp_lateral_1.pickle\",\"wb\") as f:\n",
    "    pickle.dump(bp_lateral_1, f)\n",
    "\n",
    "with open(\"bp_lateral_2.pickle\",\"wb\") as f:\n",
    "    pickle.dump(bp_lateral_2, f)\n",
    "\n",
    "with open(\"bp_lateral_3.pickle\",\"wb\") as f:\n",
    "    pickle.dump(bp_lateral_3, f)\n",
    "\n",
    "with open(\"bp_lateral_4.pickle\",\"wb\") as f:\n",
    "    pickle.dump(bp_lateral_4, f)"
   ]
  },
  {
   "cell_type": "code",
   "execution_count": null,
   "metadata": {},
   "outputs": [
    {
     "data": {
      "text/plain": [
       "(262144, 3)"
      ]
     },
     "execution_count": null,
     "metadata": {},
     "output_type": "execute_result"
    }
   ],
   "source": [
    "b.grid['B'].shape"
   ]
  },
  {
   "cell_type": "code",
   "execution_count": null,
   "metadata": {},
   "outputs": [
    {
     "data": {
      "text/plain": [
       "((64, 64, 3), (64, 64, 3), (64, 64, 3), (64, 64, 3), (64, 64, 3), (64, 64, 3))"
      ]
     },
     "execution_count": null,
     "metadata": {},
     "output_type": "execute_result"
    }
   ],
   "source": [
    "b_bottom.shape, bp_top.shape, bp_lateral_1.shape, bp_lateral_2.shape, bp_lateral_3.shape, bp_lateral_4.shape"
   ]
  },
  {
   "cell_type": "code",
   "execution_count": null,
   "metadata": {},
   "outputs": [],
   "source": [
    "with open(\"bv.pickle\",\"rb\") as f:\n",
    "    bv = pickle.load(f)\n",
    "\n",
    "with open(\"b_bottom.pickle\",\"rb\") as f:\n",
    "    b_bottom = pickle.load(f)\n",
    "\n",
    "with open(\"bp_top.pickle\",\"rb\") as f:\n",
    "    bp_top = pickle.load(f)\n",
    "\n",
    "with open(\"bp_lateral_1.pickle\",\"rb\") as f:\n",
    "    bp_lateral_1 = pickle.load(f)\n",
    "\n",
    "with open(\"bp_lateral_2.pickle\",\"rb\") as f:\n",
    "    bp_lateral_2 = pickle.load(f)\n",
    "\n",
    "with open(\"bp_lateral_3.pickle\",\"rb\") as f:\n",
    "    bp_lateral_3 = pickle.load(f)\n",
    "\n",
    "with open(\"bp_lateral_4.pickle\",\"rb\") as f:\n",
    "    bp_lateral_4 = pickle.load(f)"
   ]
  },
  {
   "cell_type": "code",
   "execution_count": null,
   "metadata": {},
   "outputs": [
    {
     "data": {
      "text/plain": [
       "(262144, 3)"
      ]
     },
     "execution_count": null,
     "metadata": {},
     "output_type": "execute_result"
    }
   ],
   "source": [
    "bv.shape"
   ]
  },
  {
   "cell_type": "code",
   "execution_count": null,
   "metadata": {},
   "outputs": [
    {
     "data": {
      "text/plain": [
       "((64, 64, 3), (64, 64, 3), (64, 64, 3), (64, 64, 3), (64, 64, 3), (64, 64, 3))"
      ]
     },
     "execution_count": null,
     "metadata": {},
     "output_type": "execute_result"
    }
   ],
   "source": [
    "b_bottom.shape, bp_top.shape, bp_lateral_1.shape, bp_lateral_2.shape, bp_lateral_3.shape, bp_lateral_4.shape"
   ]
  },
  {
   "cell_type": "code",
   "execution_count": null,
   "metadata": {},
   "outputs": [],
   "source": []
  }
 ],
 "metadata": {
  "kernelspec": {
   "display_name": "python3",
   "language": "python",
   "name": "python3"
  }
 },
 "nbformat": 4,
 "nbformat_minor": 2
}
