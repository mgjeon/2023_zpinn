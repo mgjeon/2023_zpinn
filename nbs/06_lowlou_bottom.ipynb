{
 "cells": [
  {
   "cell_type": "markdown",
   "metadata": {},
   "source": [
    "# Create b_bottom from LowLou"
   ]
  },
  {
   "cell_type": "code",
   "execution_count": null,
   "metadata": {},
   "outputs": [],
   "source": [
    "#| default_exp prepare_lowlou"
   ]
  },
  {
   "cell_type": "code",
   "execution_count": null,
   "metadata": {},
   "outputs": [],
   "source": [
    "from setproctitle import setproctitle\n",
    "setproctitle(\"LowLou\")"
   ]
  },
  {
   "cell_type": "code",
   "execution_count": null,
   "metadata": {},
   "outputs": [],
   "source": [
    "#| export\n",
    "import os\n",
    "import numpy as np\n",
    "import matplotlib.pyplot as plt\n",
    "\n",
    "from cmspinn.lowlou_mag import LowLouMag"
   ]
  },
  {
   "cell_type": "markdown",
   "metadata": {},
   "source": [
    "bounds = [x_min, x_max, y_min, y_max, z_min, z_max]"
   ]
  },
  {
   "cell_type": "code",
   "execution_count": null,
   "metadata": {},
   "outputs": [],
   "source": [
    "#| export\n",
    "class PrepareLowLou:\n",
    "    def __init__(self, base_path, bounds=[-1, 1, -1, 1, 0, 2], Nx=64, Ny=64, Nz=64, n=1, m=1, l=0.3, Phi=np.pi/3, abs=True):\n",
    "        self.lowlou_path = os.path.join(base_path, f'lowlou_{Nx}_{Ny}_{Nz}')\n",
    "        os.makedirs(self.lowlou_path, exist_ok=True)\n",
    "        self.bounds = bounds\n",
    "        self.Nx = Nx\n",
    "        self.Ny = Ny\n",
    "        self.Nz = Nz\n",
    "        self.n = n\n",
    "        self.m = m\n",
    "        self.l = l\n",
    "        self.Phi = Phi\n",
    "        self.abs = abs\n",
    "\n",
    "    def cal_and_save_lowlou(self):\n",
    "        b_path = os.path.join(self.lowlou_path, 'b.vtk')\n",
    "        if os.path.exists(b_path):\n",
    "            print(f'Exist {b_path}')\n",
    "            return\n",
    "        lowlou = LowLouMag(bounds=self.bounds, resolutions=[self.Nx, self.Ny, self.Nz], n=self.n, m=self.m, l=self.l, Phi=self.Phi, abs=self.abs) \n",
    "        lowlou.calculate()\n",
    "        lowlou.redefine_mesh()\n",
    "        self.grid = lowlou.newgrid \n",
    "        self.bottom = lowlou.b_bottom\n",
    "\n",
    "        self.grid.save(b_path)\n",
    "        print(f\"Saved {b_path}\")\n",
    "\n",
    "        return self.grid \n",
    "    \n",
    "    def plot_and_save_lowlou_bottom(self, plot=True):\n",
    "        os.makedirs(os.path.join(self.lowlou_path, 'b_bottom'), exist_ok=True)\n",
    "        b_bottom_path = os.path.join(os.path.join(self.lowlou_path, 'b_bottom'), 'b_bottom.npy')\n",
    "        if os.path.exists(b_bottom_path):\n",
    "            print(f'Exist {b_bottom_path}')\n",
    "            return\n",
    "        \n",
    "        b_bottom = np.array(self.bottom)\n",
    "\n",
    "        with open (b_bottom_path, 'wb') as f:\n",
    "            np.save(f, b_bottom)\n",
    "        print(f\"Saved {b_bottom_path}\")\n",
    "\n",
    "        if plot is True:\n",
    "            plt.close()\n",
    "            fig, ax = plt.subplots(figsize=(6,6))\n",
    "            CS = plt.imshow(b_bottom[:, :, 2].transpose(), origin='lower', cmap='gray')\n",
    "            ax.set_xlabel('x')\n",
    "            ax.set_ylabel('y')\n",
    "            fig.colorbar(CS, label=r'$B_z$'+f'(z={0})')\n",
    "            plt.show()"
   ]
  },
  {
   "cell_type": "code",
   "execution_count": null,
   "metadata": {},
   "outputs": [],
   "source": [
    "Nx, Ny, Nz = 64, 64, 64"
   ]
  },
  {
   "cell_type": "code",
   "execution_count": null,
   "metadata": {},
   "outputs": [],
   "source": [
    "base_path = os.path.expanduser('~/workspace/_data')"
   ]
  },
  {
   "cell_type": "code",
   "execution_count": null,
   "metadata": {},
   "outputs": [],
   "source": [
    "creater = PrepareLowLou(base_path=base_path,\n",
    "                        bounds=[-1, 1, -1, 1, 0, 2], Nx=Nx, Ny=Ny, Nz=Nz, \n",
    "                        n=1, m=1, l=0.3, Phi=np.pi/3, \n",
    "                        abs=True)"
   ]
  },
  {
   "cell_type": "code",
   "execution_count": null,
   "metadata": {},
   "outputs": [
    {
     "name": "stdout",
     "output_type": "stream",
     "text": [
      "Saved /userhome/jeon_mg/workspace/_data/lowlou_64_64_64/b.vtk\n"
     ]
    },
    {
     "data": {
      "text/html": [
       "<table style='width: 100%;'><tr><th>Header</th><th>Data Arrays</th></tr><tr><td>\n",
       "<table style='width: 100%;'>\n",
       "<tr><th>StructuredGrid</th><th>Information</th></tr>\n",
       "<tr><td>N Cells</td><td>250047</td></tr>\n",
       "<tr><td>N Points</td><td>262144</td></tr>\n",
       "<tr><td>X Bounds</td><td>0.000e+00, 6.300e+01</td></tr>\n",
       "<tr><td>Y Bounds</td><td>0.000e+00, 6.300e+01</td></tr>\n",
       "<tr><td>Z Bounds</td><td>0.000e+00, 6.300e+01</td></tr>\n",
       "<tr><td>Dimensions</td><td>64, 64, 64</td></tr>\n",
       "<tr><td>N Arrays</td><td>2</td></tr>\n",
       "</table>\n",
       "\n",
       "</td><td>\n",
       "<table style='width: 100%;'>\n",
       "<tr><th>Name</th><th>Field</th><th>Type</th><th>N Comp</th><th>Min</th><th>Max</th></tr>\n",
       "<tr><td>B</td><td>Points</td><td>float64</td><td>3</td><td>-2.225e+02</td><td>2.115e+02</td></tr>\n",
       "<tr><td><b>mag</b></td><td>Points</td><td>float64</td><td>1</td><td>3.166e-01</td><td>2.698e+02</td></tr>\n",
       "</table>\n",
       "\n",
       "</td></tr> </table>"
      ],
      "text/plain": [
       "StructuredGrid (0x7fda2e5ca080)\n",
       "  N Cells:      250047\n",
       "  N Points:     262144\n",
       "  X Bounds:     0.000e+00, 6.300e+01\n",
       "  Y Bounds:     0.000e+00, 6.300e+01\n",
       "  Z Bounds:     0.000e+00, 6.300e+01\n",
       "  Dimensions:   64, 64, 64\n",
       "  N Arrays:     2"
      ]
     },
     "execution_count": null,
     "metadata": {},
     "output_type": "execute_result"
    }
   ],
   "source": [
    "creater.cal_and_save_lowlou()"
   ]
  },
  {
   "cell_type": "code",
   "execution_count": null,
   "metadata": {},
   "outputs": [
    {
     "name": "stdout",
     "output_type": "stream",
     "text": [
      "Saved /userhome/jeon_mg/workspace/_data/lowlou_64_64_64/b_bottom.npy\n"
     ]
    },
    {
     "data": {
      "image/png": "[encoded data removed]",
      "text/plain": [
       "<Figure size 600x600 with 2 Axes>"
      ]
     },
     "metadata": {},
     "output_type": "display_data"
    }
   ],
   "source": [
    "creater.plot_and_save_lowlou_bottom()"
   ]
  },
  {
   "cell_type": "code",
   "execution_count": null,
   "metadata": {},
   "outputs": [],
   "source": []
  }
 ],
 "metadata": {
  "kernelspec": {
   "display_name": "python3",
   "language": "python",
   "name": "python3"
  }
 },
 "nbformat": 4,
 "nbformat_minor": 2
}
