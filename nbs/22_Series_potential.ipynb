{
 "cells": [
  {
   "cell_type": "markdown",
   "metadata": {},
   "source": [
    "# Series potential"
   ]
  },
  {
   "cell_type": "code",
   "execution_count": null,
   "metadata": {},
   "outputs": [],
   "source": [
    "from setproctitle import setproctitle\n",
    "setproctitle(\"Potential\")"
   ]
  },
  {
   "cell_type": "code",
   "execution_count": null,
   "metadata": {},
   "outputs": [],
   "source": [
    "import os\n",
    "import glob \n",
    "import time\n",
    "import numpy as np \n",
    "from cmspinn.potential_field import potential_cube"
   ]
  },
  {
   "cell_type": "code",
   "execution_count": null,
   "metadata": {},
   "outputs": [],
   "source": [
    "os.environ[\"CUDA_DEVICE_ORDER\"]=\"PCI_BUS_ID\"\n",
    "os.environ[\"CUDA_VISIBLE_DEVICES\"]= \"2\""
   ]
  },
  {
   "cell_type": "code",
   "execution_count": null,
   "metadata": {},
   "outputs": [],
   "source": [
    "b_bottom_paths = os.path.expanduser('~/workspace/_data/NOAA12673/b_bottom')"
   ]
  },
  {
   "cell_type": "code",
   "execution_count": null,
   "metadata": {},
   "outputs": [],
   "source": [
    "b_potential_paths = os.path.expanduser('~/workspace/_data/NOAA12673/b_potential')\n",
    "os.makedirs(b_potential_paths, exist_ok=True)"
   ]
  },
  {
   "cell_type": "code",
   "execution_count": null,
   "metadata": {},
   "outputs": [],
   "source": [
    "Nz = 160"
   ]
  },
  {
   "cell_type": "code",
   "execution_count": null,
   "metadata": {},
   "outputs": [],
   "source": [
    "start = time.time()\n",
    "\n",
    "for b_bottom_path in sorted(glob.glob(os.path.join(b_bottom_paths, '*.npy'))):\n",
    "\n",
    "    b_bottom_date = os.path.basename(b_bottom_path)[9:-4]\n",
    "    \n",
    "    with open(b_bottom_path, 'rb') as f:\n",
    "        b_bottom = np.load(f)\n",
    "\n",
    "    bz_bottom = b_bottom[:, :, 2]\n",
    "    potential_maker = potential_cube(bz_bottom, Nz)\n",
    "\n",
    "    vtk_path = os.path.join(b_potential_paths, f'b_potential_{b_bottom_date}.vtk')\n",
    "\n",
    "    if os.path.exists(vtk_path):\n",
    "        print(f\"Already exists: {vtk_path}\")\n",
    "        continue\n",
    "\n",
    "    potential_maker.cal_and_save_potential_field(vtk_path, batch_size=10000)\n",
    "    \n",
    "    print(vtk_path)\n",
    "\n",
    "runtime = time.time() - start\n",
    "print(f'Runtime: {runtime:.2f} sec')"
   ]
  }
 ],
 "metadata": {},
 "nbformat": 4,
 "nbformat_minor": 2
}
