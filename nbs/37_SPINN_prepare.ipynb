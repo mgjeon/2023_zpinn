{
 "cells": [
  {
   "cell_type": "markdown",
   "metadata": {},
   "source": [
    "# b_bottom & potential field"
   ]
  },
  {
   "cell_type": "code",
   "execution_count": null,
   "metadata": {},
   "outputs": [],
   "source": [
    "from setproctitle import setproctitle\n",
    "setproctitle(\"prepare\")\n",
    "\n",
    "import os\n",
    "os.environ[\"XLA_PYTHON_CLIENT_PREALLOCATE\"] = \"false\"\n",
    "os.environ[\"CUDA_DEVICE_ORDER\"]=\"PCI_BUS_ID\"\n",
    "os.environ[\"CUDA_VISIBLE_DEVICES\"]= \"3\""
   ]
  },
  {
   "cell_type": "code",
   "execution_count": null,
   "metadata": {},
   "outputs": [],
   "source": [
    "import glob \n",
    "import numpy as np\n",
    "\n",
    "from cmspinn.prepare_hmi import PrepareHMI\n",
    "from cmspinn.potential_field import potential_cube"
   ]
  },
  {
   "cell_type": "code",
   "execution_count": null,
   "metadata": {},
   "outputs": [],
   "source": [
    "Nz = 160\n",
    "batch_size = 2500\n",
    "\n",
    "hmi_path = '/mnt/obsdata/sdo_AR/NOAA12673_HARP7115/hmi/'\n",
    "base_path = os.path.expanduser('~/workspace/workspace_mine/_data/NOAA12673/')\n",
    "\n",
    "b_bottom_path = os.path.join(base_path, 'b_bottom')\n",
    "b_potential_path = os.path.join(base_path, 'b_potential')\n",
    "\n",
    "os.makedirs(b_bottom_path, exist_ok=True)\n",
    "os.makedirs(b_potential_path, exist_ok=True)"
   ]
  },
  {
   "cell_type": "code",
   "execution_count": null,
   "metadata": {},
   "outputs": [
    {
     "data": {
      "text/plain": [
       "[('/mnt/obsdata/sdo_AR/NOAA12673_HARP7115/hmi/hmi.sharp_cea_720s.7115.20170906_083600_TAI.Bp.fits',\n",
       "  '/mnt/obsdata/sdo_AR/NOAA12673_HARP7115/hmi/hmi.sharp_cea_720s.7115.20170906_083600_TAI.Bt.fits',\n",
       "  '/mnt/obsdata/sdo_AR/NOAA12673_HARP7115/hmi/hmi.sharp_cea_720s.7115.20170906_083600_TAI.Br.fits')]"
      ]
     },
     "execution_count": null,
     "metadata": {},
     "output_type": "execute_result"
    }
   ],
   "source": [
    "creater = PrepareHMI(b_bottom_path, hmi_path)\n",
    "creater.load_hmi_data(idx1=247, idx2=248)"
   ]
  },
  {
   "cell_type": "code",
   "execution_count": null,
   "metadata": {},
   "outputs": [
    {
     "name": "stdout",
     "output_type": "stream",
     "text": [
      "Saved /userhome/jeon_mg/workspace/workspace_mine/_data/NOAA12673/b_bottom/b_bottom_20170906_083600.npy\n"
     ]
    },
    {
     "name": "stderr",
     "output_type": "stream",
     "text": [
      "WARNING: SunpyMetadataWarning: Could not parse unit string \"Mx/cm^2\" as a valid FITS unit.\n",
      "See https://docs.sunpy.org/en/stable/code_ref/map.html#fixing-map-metadata for how to fix metadata before loading it with sunpy.map.Map.\n",
      "See https://fits.gsfc.nasa.gov/fits_standard.html forthe FITS unit standards. [sunpy.map.mapbase]\n"
     ]
    }
   ],
   "source": [
    "creater.save_bottom(stride=2)"
   ]
  },
  {
   "cell_type": "code",
   "execution_count": null,
   "metadata": {},
   "outputs": [
    {
     "data": {
      "text/plain": [
       "['/userhome/jeon_mg/workspace/workspace_mine/_data/NOAA12673/b_bottom/b_bottom_20170906_083600.npy']"
      ]
     },
     "execution_count": null,
     "metadata": {},
     "output_type": "execute_result"
    }
   ],
   "source": [
    "b_bottom_list = sorted(glob.glob(os.path.join(b_bottom_path, '*.npy')))\n",
    "b_bottom_list"
   ]
  },
  {
   "cell_type": "code",
   "execution_count": null,
   "metadata": {},
   "outputs": [
    {
     "name": "stderr",
     "output_type": "stream",
     "text": [
      "Potential Field: 100%|██████████| 4932/4932 [03:04<00:00, 26.80it/s]\n"
     ]
    },
    {
     "name": "stdout",
     "output_type": "stream",
     "text": [
      "Saved /userhome/jeon_mg/workspace/workspace_mine/_data/NOAA12673/b_potential/b_potential_20170906_083600.vtk\n"
     ]
    }
   ],
   "source": [
    "for b_bottom_path in b_bottom_list:\n",
    "    b_bottom_date = os.path.basename(b_bottom_path)[9:-4]\n",
    "    b_pot_vtk_path = os.path.join(b_potential_path, f'b_potential_{b_bottom_date}.vtk')\n",
    "\n",
    "    if not os.path.exists(b_pot_vtk_path):\n",
    "        with open(b_bottom_path, 'rb') as f:\n",
    "            b_bottom = np.load(f)\n",
    "\n",
    "        bz_bottom = b_bottom[:, :, 2]\n",
    "        potential_maker = potential_cube(bz_bottom, Nz)\n",
    "\n",
    "        potential_maker.cal_and_save_potential_field(b_pot_vtk_path, batch_size=batch_size)\n",
    "\n",
    "        print(f'Saved {b_pot_vtk_path}')\n",
    "\n",
    "    else:\n",
    "        print(f'Exist {b_pot_vtk_path}')"
   ]
  },
  {
   "cell_type": "code",
   "execution_count": null,
   "metadata": {},
   "outputs": [],
   "source": []
  }
 ],
 "metadata": {
  "kernelspec": {
   "display_name": "python3",
   "language": "python",
   "name": "python3"
  }
 },
 "nbformat": 4,
 "nbformat_minor": 2
}
