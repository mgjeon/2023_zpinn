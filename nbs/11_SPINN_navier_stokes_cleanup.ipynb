{
 "cells": [
  {
   "attachments": {},
   "cell_type": "markdown",
   "metadata": {},
   "source": [
    "# SPINN - (3+1)-d Navier Stoke\n",
    "> cleanup"
   ]
  },
  {
   "attachments": {},
   "cell_type": "markdown",
   "metadata": {},
   "source": [
    "The vorticity $\\mathbf{w} = \\nabla \\times \\mathbf{u}$ form of (3+1)-d Navier-Stokes equation is given as:\n",
    "\n",
    "$$\n",
    "\\frac{\\partial \\mathbf{w}}{\\partial t} + (\\mathbf{u} \\cdot \\nabla)\\mathbf{w} = (\\mathbf{w} \\cdot \\nabla)\\mathbf{u} + \\nu\\nabla^2 \\mathbf{w} + \\mathbf{F}\n",
    "$$\n",
    "\n",
    "$$\n",
    "\\nabla \\cdot \\mathbf{u} = 0\n",
    "$$\n",
    "\n",
    "$$\n",
    "\\mathbf{w}(\\mathbf{r}, 0) = \\mathbf{w}_0 (\\mathbf{r})\n",
    "$$\n",
    "\n",
    "\n",
    "\n",
    "$$\n",
    "\\mathbf{r} \\in \\Omega = [0, 2\\pi]^3\n",
    "$$\n",
    "\n",
    "$$\n",
    "t \\in \\Gamma = [0, 5]\n",
    "$$"
   ]
  },
  {
   "cell_type": "code",
   "execution_count": null,
   "metadata": {},
   "outputs": [],
   "source": [
    "import jax \n",
    "import jax.numpy as jnp\n",
    "from jax import jvp\n",
    "import optax\n",
    "from flax import linen as nn \n",
    "\n",
    "from typing import Sequence\n",
    "from functools import partial\n",
    "\n",
    "import time\n",
    "from tqdm import trange"
   ]
  },
  {
   "cell_type": "code",
   "execution_count": null,
   "metadata": {},
   "outputs": [],
   "source": [
    "class SPINN4d(nn.Module):\n",
    "    features: Sequence[int]\n",
    "    r: int\n",
    "    out_dim: int\n",
    "\n",
    "    @nn.compact\n",
    "    def __call__(self, t, x, y, z):\n",
    "        inputs, outputs, tx, txy, pred = [t, x, y, z], [], [], [], []\n",
    "\n",
    "        init = nn.initializers.glorot_normal()\n",
    "        for X in inputs:\n",
    "            for fs in self.features[:-1]:\n",
    "                X = nn.Dense(fs, kernel_init=init)(X)\n",
    "                X = nn.activation.tanh(X)\n",
    "            X = nn.Dense(self.r*self.out_dim, kernel_init=init)(X)\n",
    "            outputs += [jnp.transpose(X, (1, 0))]\n",
    "\n",
    "        for i in range(self.out_dim):\n",
    "            tx += [jnp.einsum('ft, fx->ftx', \n",
    "            outputs[0][self.r*i:self.r*(i+1)], \n",
    "            outputs[1][self.r*i:self.r*(i+1)])]\n",
    "\n",
    "            txy += [jnp.einsum('ftx, fy->ftxy', \n",
    "            tx[i], \n",
    "            outputs[2][self.r*i:self.r*(i+1)])]\n",
    "\n",
    "            pred += [jnp.einsum('ftxy, fz->txyz', \n",
    "            txy[i], \n",
    "            outputs[3][self.r*i:self.r*(i+1)])]\n",
    "\n",
    "        if len(pred) == 1:\n",
    "            # 1-dimensional output\n",
    "            return pred[0]\n",
    "        else:\n",
    "            # n-dimensional output\n",
    "            return pred"
   ]
  },
  {
   "cell_type": "code",
   "execution_count": null,
   "metadata": {},
   "outputs": [],
   "source": [
    "def hvp_fwdfwd(f, primals, tangents, return_primals=False):\n",
    "    g = lambda primals: jvp(f, (primals,), tangents)[1]\n",
    "    primals_out, tangents_out = jvp(g, primals, tangents)\n",
    "    if return_primals:\n",
    "        return primals_out, tangents_out\n",
    "    else:\n",
    "        return tangents_out\n",
    "    \n",
    "@partial(jax.jit, static_argnums=(0,))\n",
    "def update_model(optim, gradient, params, state):\n",
    "    updates, state = optim.update(gradient, state)\n",
    "    params = optax.apply_updates(params, updates)\n",
    "    return params, state"
   ]
  },
  {
   "cell_type": "code",
   "execution_count": null,
   "metadata": {},
   "outputs": [],
   "source": [
    "seed = 111\n",
    "key = jax.random.PRNGKey(seed)\n",
    "key, subkey = jax.random.split(key, 2)"
   ]
  },
  {
   "cell_type": "code",
   "execution_count": null,
   "metadata": {},
   "outputs": [],
   "source": [
    "nc = 32 # number of collocation points\n",
    "nu = 0.05 # parameter of PDE\n",
    "\n",
    "features = 64 # feature size of each layer\n",
    "n_layers = 5 # the number of layer\n",
    "feat_sizes = tuple([features for _ in range(n_layers)]) # feature sizes\n",
    "r = 128 # rank of a approximated tensor\n",
    "out_dim = 3 # size of model output\n",
    "\n",
    "lr = 1e-3 # learning rate\n",
    "epochs = 1000\n",
    "log_iter = 100\n",
    "\n",
    "# Loss weight\n",
    "lbda_c = 100\n",
    "lbda_ic = 10"
   ]
  },
  {
   "cell_type": "code",
   "execution_count": null,
   "metadata": {},
   "outputs": [],
   "source": [
    "def vorx(apply_fn, params, t, x, y, z):\n",
    "    # vorticity vector w/ forward-mode AD\n",
    "    # w_x = uz_y - uy_z\n",
    "    vec_z = jnp.ones(z.shape)\n",
    "    vec_y = jnp.ones(y.shape)\n",
    "    uy_z = jvp(lambda z: apply_fn(params, t, x, y, z)[1], (z,), (vec_z,))[1]\n",
    "    uz_y = jvp(lambda y: apply_fn(params, t, x, y, z)[2], (y,), (vec_y,))[1]\n",
    "    wx = uz_y - uy_z\n",
    "    return wx\n",
    "\n",
    "\n",
    "def vory(apply_fn, params, t, x, y, z):\n",
    "    # vorticity vector w/ forward-mode AD\n",
    "    # w_y = ux_z - uz_x\n",
    "    vec_z = jnp.ones(z.shape)\n",
    "    vec_x = jnp.ones(x.shape)\n",
    "    ux_z = jvp(lambda z: apply_fn(params, t, x, y, z)[0], (z,), (vec_z,))[1]\n",
    "    uz_x = jvp(lambda x: apply_fn(params, t, x, y, z)[2], (x,), (vec_x,))[1]\n",
    "    wy = ux_z - uz_x\n",
    "    return wy\n",
    "\n",
    "def vorz(apply_fn, params, t, x, y, z):\n",
    "    # vorticity vector w/ forward-mode AD\n",
    "    # w_z = uy_x - ux_y\n",
    "    vec_y = jnp.ones(y.shape)\n",
    "    vec_x = jnp.ones(x.shape)\n",
    "    ux_y = jvp(lambda y: apply_fn(params, t, x, y, z)[0], (y,), (vec_y,))[1]\n",
    "    uy_x = jvp(lambda x: apply_fn(params, t, x, y, z)[1], (x,), (vec_x,))[1]\n",
    "    wz = uy_x - ux_y\n",
    "    return wz\n",
    "\n",
    "# 3d time-dependent navier-stokes forcing term\n",
    "def navier_stokes4d_forcing_term(t, x, y, z, nu):\n",
    "    # forcing terms in the PDE\n",
    "    f_x = -6*jnp.exp(-18*nu*t)*jnp.sin(4*y)*jnp.sin(2*z)\n",
    "    f_y = -6*jnp.exp(-18*nu*t)*jnp.sin(4*x)*jnp.sin(2*z)\n",
    "    f_z = 6*jnp.exp(-18*nu*t)*jnp.sin(4*x)*jnp.sin(4*y)\n",
    "    return f_x, f_y, f_z\n",
    "\n",
    "# 3d time-dependent navier-stokes exact vorticity\n",
    "def navier_stokes4d_exact_w(t, x, y, z, nu):\n",
    "    # analytic form of vorticity\n",
    "    w_x = -3*jnp.exp(-9*nu*t)*jnp.sin(2*x)*jnp.cos(2*y)*jnp.cos(z)\n",
    "    w_y = 6*jnp.exp(-9*nu*t)*jnp.cos(2*x)*jnp.sin(2*y)*jnp.cos(z)\n",
    "    w_z = -6*jnp.exp(-9*nu*t)*jnp.cos(2*x)*jnp.cos(2*y)*jnp.sin(z)\n",
    "    return w_x, w_y, w_z\n",
    "\n",
    "\n",
    "# 3d time-dependent navier-stokes exact velocity\n",
    "def navier_stokes4d_exact_u(t, x, y, z, nu):\n",
    "    # analytic form of velocity\n",
    "    u_x = 2*jnp.exp(-9*nu*t)*jnp.cos(2*x)*jnp.sin(2*y)*jnp.sin(z)\n",
    "    u_y = -1*jnp.exp(-9*nu*t)*jnp.sin(2*x)*jnp.cos(2*y)*jnp.sin(z)\n",
    "    u_z = -2*jnp.exp(-9*nu*t)*jnp.sin(2*x)*jnp.sin(2*y)*jnp.cos(z)\n",
    "    return u_x, u_y, u_z"
   ]
  },
  {
   "cell_type": "code",
   "execution_count": null,
   "metadata": {},
   "outputs": [],
   "source": [
    "@partial(jax.jit, static_argnums=(0,))\n",
    "def _spinn_train_generator_navier_stokes4d(nc, nu, key):\n",
    "    keys = jax.random.split(key, 4)\n",
    "    \n",
    "    # collocation points\n",
    "    tc = jax.random.uniform(keys[0], (nc, 1), minval=0., maxval=5.)\n",
    "    xc = jax.random.uniform(keys[1], (nc, 1), minval=0., maxval=2.*jnp.pi)\n",
    "    yc = jax.random.uniform(keys[2], (nc, 1), minval=0., maxval=2.*jnp.pi)\n",
    "    zc = jax.random.uniform(keys[3], (nc, 1), minval=0., maxval=2.*jnp.pi)\n",
    "\n",
    "    tcm, xcm, ycm, zcm = jnp.meshgrid(\n",
    "        tc.ravel(), xc.ravel(), yc.ravel(), zc.ravel(), indexing='ij'\n",
    "    )\n",
    "    fc = navier_stokes4d_forcing_term(tcm, xcm, ycm, zcm, nu)\n",
    "\n",
    "    # initial points\n",
    "    ti = jnp.zeros((1, 1))\n",
    "    xi = xc\n",
    "    yi = yc\n",
    "    zi = zc\n",
    "    tim, xim, yim, zim = jnp.meshgrid(\n",
    "        ti.ravel(), xi.ravel(), yi.ravel(), zi.ravel(), indexing='ij'\n",
    "    )\n",
    "    wi = navier_stokes4d_exact_w(tim, xim, yim, zim, nu)\n",
    "    ui = navier_stokes4d_exact_u(tim, xim, yim, zim, nu)\n",
    "    \n",
    "    # boundary points (hard-coded)\n",
    "    tb = [tc, tc, tc, tc, tc, tc]\n",
    "    xb = [jnp.array([[-1.]]), jnp.array([[1.]]), xc, xc, xc, xc]\n",
    "    yb = [yc, yc, jnp.array([[-1.]]), jnp.array([[1.]]), yc, yc]\n",
    "    zb = [zc, zc, zc, zc, jnp.array([[-1.]]), jnp.array([[1.]])]\n",
    "    wb = []\n",
    "    for i in range(6):\n",
    "        tbm, xbm, ybm, zbm = jnp.meshgrid(\n",
    "            tb[i].ravel(), xb[i].ravel(), yb[i].ravel(), zb[i].ravel(), indexing='ij'\n",
    "        )\n",
    "        wb += [navier_stokes4d_exact_w(tbm, xbm, ybm, zbm, nu)]\n",
    "    return tc, xc, yc, zc, fc, ti, xi, yi, zi, wi, ui, tb, xb, yb, zb, wb"
   ]
  },
  {
   "cell_type": "code",
   "execution_count": null,
   "metadata": {},
   "outputs": [],
   "source": [
    "@partial(jax.jit, static_argnums=(0,))\n",
    "def apply_model_spinn(apply_fn, params, nu, lbda_c, lbda_ic, *train_data):\n",
    "    def residual_loss(params, t, x, y, z, f):\n",
    "        # calculate u\n",
    "        ux, uy, uz = apply_fn(params, t, x, y, z)\n",
    "        \n",
    "        # calculate w (3D vorticity vector)\n",
    "        wx = vorx(apply_fn, params, t, x, y, z)\n",
    "        wy = vory(apply_fn, params, t, x, y, z)\n",
    "        wz = vorz(apply_fn, params, t, x, y, z)\n",
    "        \n",
    "        # tangent vector dx/dx\n",
    "        # assumes t, x, y, z have same shape (very important)\n",
    "        vec = jnp.ones(t.shape)\n",
    "\n",
    "        # x-component\n",
    "        wx_t = jvp(lambda t: vorx(apply_fn, params, t, x, y, z), (t,), (vec,))[1]\n",
    "        wx_x, wx_xx = hvp_fwdfwd(lambda x: vorx(apply_fn, params, t, x, y, z), (x,), (vec,), True)\n",
    "        wx_y, wx_yy = hvp_fwdfwd(lambda y: vorx(apply_fn, params, t, x, y, z), (y,), (vec,), True)\n",
    "        wx_z, wx_zz = hvp_fwdfwd(lambda z: vorx(apply_fn, params, t, x, y, z), (z,), (vec,), True)\n",
    "        \n",
    "        ux_x = jvp(lambda x: apply_fn(params, t, x, y, z)[0], (x,), (vec,))[1]\n",
    "        ux_y = jvp(lambda y: apply_fn(params, t, x, y, z)[0], (y,), (vec,))[1]\n",
    "        ux_z = jvp(lambda z: apply_fn(params, t, x, y, z)[0], (z,), (vec,))[1]\n",
    "\n",
    "        loss_x = jnp.mean((wx_t + ux*wx_x + uy*wx_y + uz*wx_z - \\\n",
    "             (wx*ux_x + wy*ux_y + wz*ux_z) - \\\n",
    "                nu*(wx_xx + wx_yy + wx_zz) - \\\n",
    "                    f[0])**2)\n",
    "\n",
    "        # y-component\n",
    "        wy_t = jvp(lambda t: vory(apply_fn, params, t, x, y, z), (t,), (vec,))[1]\n",
    "        wy_x, wy_xx = hvp_fwdfwd(lambda x: vory(apply_fn, params, t, x, y, z), (x,), (vec,), True)\n",
    "        wy_y, wy_yy = hvp_fwdfwd(lambda y: vory(apply_fn, params, t, x, y, z), (y,), (vec,), True)\n",
    "        wy_z, wy_zz = hvp_fwdfwd(lambda z: vory(apply_fn, params, t, x, y, z), (z,), (vec,), True)\n",
    "        \n",
    "        uy_x = jvp(lambda x: apply_fn(params, t, x, y, z)[1], (x,), (vec,))[1]\n",
    "        uy_y = jvp(lambda y: apply_fn(params, t, x, y, z)[1], (y,), (vec,))[1]\n",
    "        uy_z = jvp(lambda z: apply_fn(params, t, x, y, z)[1], (z,), (vec,))[1]\n",
    "\n",
    "        loss_y = jnp.mean((wy_t + ux*wy_x + uy*wy_y + uz*wy_z - \\\n",
    "             (wx*uy_x + wy*uy_y + wz*uy_z) - \\\n",
    "                nu*(wy_xx + wy_yy + wy_zz) - \\\n",
    "                    f[1])**2)\n",
    "\n",
    "        # z-component\n",
    "        wz_t = jvp(lambda t: vorz(apply_fn, params, t, x, y, z), (t,), (vec,))[1]\n",
    "        wz_x, wz_xx = hvp_fwdfwd(lambda x: vorz(apply_fn, params, t, x, y, z), (x,), (vec,), True)\n",
    "        wz_y, wz_yy = hvp_fwdfwd(lambda y: vorz(apply_fn, params, t, x, y, z), (y,), (vec,), True)\n",
    "        wz_z, wz_zz = hvp_fwdfwd(lambda z: vorz(apply_fn, params, t, x, y, z), (z,), (vec,), True)\n",
    "        \n",
    "        uz_x = jvp(lambda x: apply_fn(params, t, x, y, z)[2], (x,), (vec,))[1]\n",
    "        uz_y = jvp(lambda y: apply_fn(params, t, x, y, z)[2], (y,), (vec,))[1]\n",
    "        uz_z = jvp(lambda z: apply_fn(params, t, x, y, z)[2], (z,), (vec,))[1]\n",
    "\n",
    "        loss_z = jnp.mean((wz_t + ux*wz_x + uy*wz_y + uz*wz_z - \\\n",
    "             (wx*uz_x + wy*uz_y + wz*uz_z) - \\\n",
    "                nu*(wz_xx + wz_yy + wz_zz) - \\\n",
    "                    f[2])**2)\n",
    "\n",
    "        loss_c = jnp.mean((ux_x + uy_y + uz_z)**2)\n",
    "\n",
    "        return loss_x + loss_y + loss_z + lbda_c*loss_c\n",
    "\n",
    "    def initial_loss(params, t, x, y, z, w, u):\n",
    "        ux, uy, uz = apply_fn(params, t, x, y, z)\n",
    "        wx = vorx(apply_fn, params, t, x, y, z)\n",
    "        wy = vory(apply_fn, params, t, x, y, z)\n",
    "        wz = vorz(apply_fn, params, t, x, y, z)\n",
    "        loss = jnp.mean((wx - w[0])**2) + jnp.mean((wy - w[1])**2) + jnp.mean((wz - w[2])**2)\n",
    "        loss += jnp.mean((ux - u[0])**2) + jnp.mean((uy - u[1])**2) + jnp.mean((uz - u[2])**2)\n",
    "        return loss\n",
    "\n",
    "    def boundary_loss(params, t, x, y, z, w):\n",
    "        loss = 0.\n",
    "        for i in range(6):\n",
    "            wx = vorx(apply_fn, params, t[i], x[i], y[i], z[i])\n",
    "            wy = vory(apply_fn, params, t[i], x[i], y[i], z[i])\n",
    "            wz = vorz(apply_fn, params, t[i], x[i], y[i], z[i])\n",
    "            loss += (1/6.) * jnp.mean((wx - w[i][0])**2) + jnp.mean((wy - w[i][1])**2) + jnp.mean((wz - w[i][2])**2)\n",
    "        return loss\n",
    "\n",
    "    # unpack data\n",
    "    tc, xc, yc, zc, fc, ti, xi, yi, zi, wi, ui, tb, xb, yb, zb, wb = train_data\n",
    "\n",
    "    # isolate loss func from redundant arguments\n",
    "    loss_fn = lambda params: residual_loss(params, tc, xc, yc, zc, fc) + \\\n",
    "                        lbda_ic*initial_loss(params, ti, xi, yi, zi, wi, ui) + \\\n",
    "                        boundary_loss(params, tb, xb, yb, zb, wb)\n",
    "\n",
    "    loss, gradient = jax.value_and_grad(loss_fn)(params)\n",
    "\n",
    "    return loss, gradient"
   ]
  },
  {
   "cell_type": "code",
   "execution_count": null,
   "metadata": {},
   "outputs": [],
   "source": [
    "model = SPINN4d(feat_sizes, r, out_dim)\n",
    "params = model.init(\n",
    "            key,\n",
    "            jnp.ones((nc, 1)),\n",
    "            jnp.ones((nc, 1)),\n",
    "            jnp.ones((nc, 1)),\n",
    "            jnp.ones((nc, 1))\n",
    "        )\n",
    "apply_fn = jax.jit(model.apply)\n",
    "optim = optax.adam(learning_rate=lr)\n",
    "state = optim.init(params)"
   ]
  },
  {
   "cell_type": "code",
   "execution_count": null,
   "metadata": {},
   "outputs": [],
   "source": [
    "train_data = _spinn_train_generator_navier_stokes4d(nc, nu, subkey)"
   ]
  },
  {
   "cell_type": "code",
   "execution_count": null,
   "metadata": {},
   "outputs": [],
   "source": [
    "# complie\n",
    "loss, gradient = apply_model_spinn(apply_fn, params, nu, lbda_c, lbda_ic, *train_data)\n",
    "params, state = update_model(optim, gradient, params, state)"
   ]
  },
  {
   "cell_type": "code",
   "execution_count": null,
   "metadata": {},
   "outputs": [
    {
     "name": "stderr",
     "output_type": "stream",
     "text": [
      " 10%|█         | 101/1000 [00:10<01:38,  9.11it/s]"
     ]
    },
    {
     "name": "stdout",
     "output_type": "stream",
     "text": [
      "Epoch: 100/1000 --> total loss: 93.84567261\n"
     ]
    },
    {
     "name": "stderr",
     "output_type": "stream",
     "text": [
      " 20%|██        | 200/1000 [00:21<01:26,  9.20it/s]"
     ]
    },
    {
     "name": "stdout",
     "output_type": "stream",
     "text": [
      "Epoch: 200/1000 --> total loss: 20.04462051\n"
     ]
    },
    {
     "name": "stderr",
     "output_type": "stream",
     "text": [
      " 30%|███       | 301/1000 [00:31<01:16,  9.18it/s]"
     ]
    },
    {
     "name": "stdout",
     "output_type": "stream",
     "text": [
      "Epoch: 300/1000 --> total loss: 17.55069923\n"
     ]
    },
    {
     "name": "stderr",
     "output_type": "stream",
     "text": [
      " 40%|████      | 400/1000 [00:42<01:06,  9.05it/s]"
     ]
    },
    {
     "name": "stdout",
     "output_type": "stream",
     "text": [
      "Epoch: 400/1000 --> total loss: 8.64530373\n"
     ]
    },
    {
     "name": "stderr",
     "output_type": "stream",
     "text": [
      " 50%|█████     | 500/1000 [00:52<00:54,  9.11it/s]"
     ]
    },
    {
     "name": "stdout",
     "output_type": "stream",
     "text": [
      "Epoch: 500/1000 --> total loss: 1.58680403\n"
     ]
    },
    {
     "name": "stderr",
     "output_type": "stream",
     "text": [
      " 60%|██████    | 601/1000 [01:03<00:44,  9.07it/s]"
     ]
    },
    {
     "name": "stdout",
     "output_type": "stream",
     "text": [
      "Epoch: 600/1000 --> total loss: 0.90065020\n"
     ]
    },
    {
     "name": "stderr",
     "output_type": "stream",
     "text": [
      " 70%|███████   | 700/1000 [01:13<00:33,  8.91it/s]"
     ]
    },
    {
     "name": "stdout",
     "output_type": "stream",
     "text": [
      "Epoch: 700/1000 --> total loss: 1.93615973\n"
     ]
    },
    {
     "name": "stderr",
     "output_type": "stream",
     "text": [
      " 80%|████████  | 801/1000 [01:23<00:22,  9.00it/s]"
     ]
    },
    {
     "name": "stdout",
     "output_type": "stream",
     "text": [
      "Epoch: 800/1000 --> total loss: 1.39351535\n"
     ]
    },
    {
     "name": "stderr",
     "output_type": "stream",
     "text": [
      " 90%|█████████ | 902/1000 [01:34<00:09,  9.83it/s]"
     ]
    },
    {
     "name": "stdout",
     "output_type": "stream",
     "text": [
      "Epoch: 900/1000 --> total loss: 0.90451860\n"
     ]
    },
    {
     "name": "stderr",
     "output_type": "stream",
     "text": [
      "100%|██████████| 1000/1000 [01:44<00:00,  9.56it/s]"
     ]
    },
    {
     "name": "stdout",
     "output_type": "stream",
     "text": [
      "Epoch: 1000/1000 --> total loss: 0.56178963\n",
      "Runtime --> total: 0.11sec (0.11ms/iter.)\n"
     ]
    },
    {
     "name": "stderr",
     "output_type": "stream",
     "text": [
      "\n"
     ]
    }
   ],
   "source": [
    "for e in trange(1, epochs + 1):\n",
    "    start = time.time()\n",
    "\n",
    "    if e % 100 == 0:\n",
    "        # sample new input data\n",
    "        key, subkey = jax.random.split(key, 2)\n",
    "        train_data = _spinn_train_generator_navier_stokes4d(nc, nu, subkey)\n",
    "\n",
    "    loss, gradient = apply_model_spinn(apply_fn, params, nu, lbda_c, lbda_ic, *train_data)\n",
    "    params, state = update_model(optim, gradient, params, state)\n",
    "    \n",
    "    if e % log_iter == 0:\n",
    "        print(f'Epoch: {e}/{epochs} --> total loss: {loss:.8f}')\n",
    "\n",
    "runtime = time.time() - start\n",
    "print(f'Runtime --> total: {runtime:.2f}sec ({(runtime/(epochs-1)*1000):.2f}ms/iter.)')"
   ]
  },
  {
   "attachments": {},
   "cell_type": "markdown",
   "metadata": {},
   "source": [
    "# Save model"
   ]
  },
  {
   "cell_type": "code",
   "execution_count": null,
   "metadata": {},
   "outputs": [
    {
     "data": {
      "text/plain": [
       "Array(-0.82522225, dtype=float32)"
      ]
     },
     "execution_count": null,
     "metadata": {},
     "output_type": "execute_result"
    }
   ],
   "source": [
    "u_test, _, _ = apply_fn(params, train_data[0], train_data[1], train_data[2], train_data[3])\n",
    "u_test[0][0][0][0]"
   ]
  },
  {
   "cell_type": "code",
   "execution_count": null,
   "metadata": {},
   "outputs": [],
   "source": [
    "import orbax"
   ]
  },
  {
   "cell_type": "code",
   "execution_count": null,
   "metadata": {},
   "outputs": [],
   "source": [
    "checkpoint = orbax.checkpoint.PyTreeCheckpointer()"
   ]
  },
  {
   "cell_type": "code",
   "execution_count": null,
   "metadata": {},
   "outputs": [],
   "source": [
    "ckpt = {'params':params, 'train_data':train_data}"
   ]
  },
  {
   "cell_type": "code",
   "execution_count": null,
   "metadata": {},
   "outputs": [],
   "source": [
    "checkpoint.save('ckpt', ckpt, force=True)"
   ]
  },
  {
   "cell_type": "code",
   "execution_count": null,
   "metadata": {},
   "outputs": [],
   "source": [
    "ckptt = checkpoint.restore('ckpt')\n",
    "ppa = ckptt['params']\n",
    "ttd = ckptt['train_data']"
   ]
  },
  {
   "cell_type": "code",
   "execution_count": null,
   "metadata": {},
   "outputs": [
    {
     "data": {
      "text/plain": [
       "Array(-0.82522225, dtype=float32)"
      ]
     },
     "execution_count": null,
     "metadata": {},
     "output_type": "execute_result"
    }
   ],
   "source": [
    "u_test, _, _ = apply_fn(ppa, ttd[0], ttd[1], ttd[2], ttd[3])\n",
    "u_test[0][0][0][0]"
   ]
  },
  {
   "cell_type": "code",
   "execution_count": null,
   "metadata": {},
   "outputs": [],
   "source": []
  }
 ],
 "metadata": {
  "kernelspec": {
   "display_name": "python3",
   "language": "python",
   "name": "python3"
  }
 },
 "nbformat": 4,
 "nbformat_minor": 2
}
