{
 "cells": [
  {
   "attachments": {},
   "cell_type": "markdown",
   "metadata": {},
   "source": [
    "# Load model\n",
    "> params.npy"
   ]
  },
  {
   "cell_type": "code",
   "execution_count": null,
   "metadata": {},
   "outputs": [],
   "source": [
    "import jax \n",
    "import jax.numpy as jnp\n",
    "from flax import linen as nn \n",
    "\n",
    "from typing import Sequence"
   ]
  },
  {
   "cell_type": "code",
   "execution_count": null,
   "metadata": {},
   "outputs": [],
   "source": [
    "class SPINN4d(nn.Module):\n",
    "    features: Sequence[int]\n",
    "    r: int\n",
    "    out_dim: int\n",
    "\n",
    "    @nn.compact\n",
    "    def __call__(self, t, x, y, z):\n",
    "        inputs, outputs, tx, txy, pred = [t, x, y, z], [], [], [], []\n",
    "\n",
    "        init = nn.initializers.glorot_normal()\n",
    "        for X in inputs:\n",
    "            for fs in self.features[:-1]:\n",
    "                X = nn.Dense(fs, kernel_init=init)(X)\n",
    "                X = nn.activation.tanh(X)\n",
    "            X = nn.Dense(self.r*self.out_dim, kernel_init=init)(X)\n",
    "            outputs += [jnp.transpose(X, (1, 0))]\n",
    "\n",
    "        for i in range(self.out_dim):\n",
    "            tx += [jnp.einsum('ft, fx->ftx', \n",
    "            outputs[0][self.r*i:self.r*(i+1)], \n",
    "            outputs[1][self.r*i:self.r*(i+1)])]\n",
    "\n",
    "            txy += [jnp.einsum('ftx, fy->ftxy', \n",
    "            tx[i], \n",
    "            outputs[2][self.r*i:self.r*(i+1)])]\n",
    "\n",
    "            pred += [jnp.einsum('ftxy, fz->txyz', \n",
    "            txy[i], \n",
    "            outputs[3][self.r*i:self.r*(i+1)])]\n",
    "\n",
    "        if len(pred) == 1:\n",
    "            # 1-dimensional output\n",
    "            return pred[0]\n",
    "        else:\n",
    "            # n-dimensional output\n",
    "            return pred"
   ]
  },
  {
   "cell_type": "code",
   "execution_count": null,
   "metadata": {},
   "outputs": [],
   "source": [
    "seed = 111\n",
    "key = jax.random.PRNGKey(seed)\n",
    "key, subkey = jax.random.split(key, 2)\n",
    "\n",
    "nc = 32\n",
    "features = 64 \n",
    "n_layers = 5 \n",
    "feat_sizes = tuple([features for _ in range(n_layers)]) \n",
    "r = 128\n",
    "out_dim = 3\n",
    "\n",
    "model = SPINN4d(feat_sizes, r, out_dim)\n",
    "params = model.init(\n",
    "            key,\n",
    "            jnp.ones((nc, 1)),\n",
    "            jnp.ones((nc, 1)),\n",
    "            jnp.ones((nc, 1)),\n",
    "            jnp.ones((nc, 1))\n",
    "        )\n",
    "apply_fn = jax.jit(model.apply)"
   ]
  },
  {
   "cell_type": "code",
   "execution_count": null,
   "metadata": {},
   "outputs": [],
   "source": [
    "import orbax"
   ]
  },
  {
   "cell_type": "code",
   "execution_count": null,
   "metadata": {},
   "outputs": [],
   "source": [
    "checkpoint = orbax.checkpoint.PyTreeCheckpointer()\n",
    "ckpt = checkpoint.restore('ckpt')\n",
    "params = ckpt['params']\n",
    "train_data = ckpt['train_data']"
   ]
  },
  {
   "cell_type": "code",
   "execution_count": null,
   "metadata": {},
   "outputs": [
    {
     "data": {
      "text/plain": [
       "Array(-0.82522225, dtype=float32)"
      ]
     },
     "execution_count": null,
     "metadata": {},
     "output_type": "execute_result"
    }
   ],
   "source": [
    "u_test, _, _ = apply_fn(params, train_data[0], train_data[1], train_data[2], train_data[3])\n",
    "u_test[0][0][0][0]"
   ]
  },
  {
   "cell_type": "code",
   "execution_count": null,
   "metadata": {},
   "outputs": [],
   "source": []
  }
 ],
 "metadata": {
  "kernelspec": {
   "display_name": "python3",
   "language": "python",
   "name": "python3"
  }
 },
 "nbformat": 4,
 "nbformat_minor": 2
}
