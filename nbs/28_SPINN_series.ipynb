{
 "cells": [
  {
   "cell_type": "markdown",
   "metadata": {},
   "source": [
    "# SPINN (series)"
   ]
  },
  {
   "cell_type": "code",
   "execution_count": null,
   "metadata": {},
   "outputs": [],
   "source": [
    "from setproctitle import setproctitle\n",
    "setproctitle(\"SPINN (series)\")"
   ]
  },
  {
   "cell_type": "code",
   "execution_count": null,
   "metadata": {},
   "outputs": [],
   "source": [
    "import os"
   ]
  },
  {
   "cell_type": "code",
   "execution_count": null,
   "metadata": {},
   "outputs": [],
   "source": [
    "os.environ[\"XLA_PYTHON_CLIENT_PREALLOCATE\"] = \"false\"\n",
    "os.environ[\"CUDA_DEVICE_ORDER\"]=\"PCI_BUS_ID\"\n",
    "os.environ[\"CUDA_VISIBLE_DEVICES\"]= \"2\""
   ]
  },
  {
   "cell_type": "code",
   "execution_count": null,
   "metadata": {},
   "outputs": [],
   "source": [
    "import jax \n",
    "import jax.numpy as jnp\n",
    "import optax\n",
    "import numpy as np \n",
    "import matplotlib.pyplot as plt\n",
    "import time \n",
    "import pickle\n",
    "from tqdm import trange"
   ]
  },
  {
   "cell_type": "code",
   "execution_count": null,
   "metadata": {},
   "outputs": [],
   "source": [
    "from cmspinn.spinn_jax import SPINN3d, generate_train_data, apply_model_spinn, update_model"
   ]
  },
  {
   "cell_type": "code",
   "execution_count": null,
   "metadata": {},
   "outputs": [],
   "source": [
    "import glob\n",
    "import time\n",
    "from pathlib import Path"
   ]
  },
  {
   "cell_type": "code",
   "execution_count": null,
   "metadata": {},
   "outputs": [],
   "source": [
    "b_bottom_paths = os.path.expanduser('~/workspace/_data/NOAA12673/b_bottom')\n",
    "b_bottom_list = sorted(glob.glob(os.path.join(b_bottom_paths, '*.npy')))\n",
    "spinn_output_path = os.path.join(Path(b_bottom_paths).parent, 'SPINN')\n",
    "Path(spinn_output_path).mkdir(parents=True, exist_ok=True)"
   ]
  },
  {
   "cell_type": "code",
   "execution_count": null,
   "metadata": {},
   "outputs": [],
   "source": [
    "spinn_BC_path = os.path.join(Path(b_bottom_paths).parent, 'SPINN_BC')"
   ]
  },
  {
   "cell_type": "code",
   "execution_count": null,
   "metadata": {},
   "outputs": [],
   "source": [
    "class SPINN_Trainer:\n",
    "    def __init__(self, output_path, BC_path, b_bottom, Nz, b_norm, transfer_learning_path=None):\n",
    "        os.makedirs(output_path, exist_ok=True)\n",
    "        \n",
    "        Nx, Ny, _ = b_bottom.shape\n",
    "\n",
    "        features = 256\n",
    "        n_layers = 8 \n",
    "        feat_sizes = tuple([features for _ in range(n_layers)]) \n",
    "        r = 128 \n",
    "        out_dim = 3 \n",
    "\n",
    "        lr = 5e-4\n",
    "\n",
    "        pos_enc = 0\n",
    "        mlp = 'modified_mlp'\n",
    "\n",
    "        parameters = {'feat_sizes' : feat_sizes, \n",
    "              'r' : r, \n",
    "              'out_dim' : out_dim, \n",
    "              'Nx' : Nx, \n",
    "              'Ny' : Ny, \n",
    "              'Nz' : Nz, \n",
    "              'b_norm' : b_norm,\n",
    "              'pos_enc' : pos_enc,\n",
    "              'mlp' : mlp,\n",
    "              'lr': lr}\n",
    "    \n",
    "        parameters_path = os.path.join(output_path, \"parameters.pickle\")\n",
    "        with open(parameters_path, \"wb\") as f:\n",
    "            pickle.dump(parameters, f)\n",
    "\n",
    "\n",
    "        seed = 111\n",
    "        key = jax.random.PRNGKey(seed)\n",
    "        key, subkey = jax.random.split(key, 2)\n",
    "\n",
    "        model = SPINN3d(feat_sizes, r, out_dim, pos_enc=pos_enc, mlp=mlp)\n",
    "        if transfer_learning_path is None:\n",
    "            params = model.init(\n",
    "                        subkey,\n",
    "                        jnp.ones((Nx, 1)),\n",
    "                        jnp.ones((Ny, 1)),\n",
    "                        jnp.ones((Nz, 1))\n",
    "                    )\n",
    "            apply_fn = jax.jit(model.apply)\n",
    "            optim = optax.adam(learning_rate=lr)\n",
    "            state = optim.init(params)\n",
    "        else:\n",
    "            model.init(\n",
    "                        subkey,\n",
    "                        jnp.ones((Nx, 1)),\n",
    "                        jnp.ones((Ny, 1)),\n",
    "                        jnp.ones((Nz, 1))\n",
    "                    )\n",
    "            apply_fn = jax.jit(model.apply)\n",
    "            with open(transfer_learning_path, 'rb') as f:\n",
    "                params = pickle.load(f)\n",
    "\n",
    "            optim = optax.adam(learning_rate=lr)\n",
    "            state = optim.init(params)\n",
    "\n",
    "        with open(BC_path, 'rb') as f:\n",
    "            boundary_data = pickle.load(f)\n",
    "\n",
    "        train_data = generate_train_data(subkey, Nx, Ny, Nz)\n",
    "        train_boundary_data = [train_data, boundary_data]\n",
    "\n",
    "        self.apply_fn = apply_fn\n",
    "        self.params = params\n",
    "        self.train_boundary_data = train_boundary_data\n",
    "        self.optim = optim\n",
    "        self.state = state\n",
    "        self.output_path = output_path\n",
    "\n",
    "    def train(self, total_iterations, log_iterations, loss_threshold=0.001):\n",
    "        params = self.params\n",
    "        state = self.state\n",
    "\n",
    "        losses = []\n",
    "        print('Complie Start')\n",
    "        start = time.time()\n",
    "        loss, gradient = apply_model_spinn(self.apply_fn, params, self.train_boundary_data)\n",
    "        losses.append(loss.item())\n",
    "        params, state = update_model(self.optim, gradient, params, state)\n",
    "        runtime = time.time() - start\n",
    "        print(f'Complie End --> total: {runtime:.2f}sec')\n",
    "\n",
    "        start = time.time()\n",
    "        for e in trange(1, total_iterations + 1):\n",
    "\n",
    "            loss, gradient = apply_model_spinn(self.apply_fn, params, self.train_boundary_data)\n",
    "            losses.append(loss.item())\n",
    "            if loss.item() < loss_threshold:\n",
    "                print(f'Epoch: {e}/{total_iterations} --> loss: {loss:.8f} < {loss_threshold}')\n",
    "                break\n",
    "            \n",
    "            params, state = update_model(self.optim, gradient, params, state)\n",
    "            \n",
    "            if e % log_iterations == 0:\n",
    "                print(f'Epoch: {e}/{total_iterations} --> total loss: {loss:.8f}')\n",
    "                params_path = os.path.join(self.output_path, f\"params_{e}.pickle\")\n",
    "                with open(params_path, \"wb\") as f:\n",
    "                    pickle.dump(params, f)\n",
    "\n",
    "        final_params_path = os.path.join(self.output_path, f\"final_params.pickle\")\n",
    "        with open(final_params_path, \"wb\") as f:\n",
    "            pickle.dump(params, f)\n",
    "\n",
    "        np.save(os.path.join(self.output_path, 'losses.npy'), losses)\n",
    "\n",
    "        runtime = time.time() - start\n",
    "        print(f'Runtime --> total: {runtime:.2f}sec ({(runtime/(total_iterations-1)*1000):.2f}ms/iter.)')"
   ]
  },
  {
   "cell_type": "code",
   "execution_count": null,
   "metadata": {},
   "outputs": [],
   "source": [
    "Nz = 160\n",
    "b_norm = 2500\n",
    "\n",
    "epochs = 50000\n",
    "log_iter = 1000\n",
    "\n",
    "series_epochs = 2000\n",
    "series_log_iter = 100\n",
    "\n",
    "loss_threshold = 0.006"
   ]
  },
  {
   "cell_type": "code",
   "execution_count": null,
   "metadata": {},
   "outputs": [
    {
     "name": "stdout",
     "output_type": "stream",
     "text": [
      "Complie Start\n",
      "Complie End --> total: 63.27sec\n"
     ]
    },
    {
     "name": "stderr",
     "output_type": "stream",
     "text": [
      "  1%|          | 270/50000 [00:13<39:01, 21.23it/s]"
     ]
    }
   ],
   "source": [
    "transfer_learning_path = None\n",
    "\n",
    "start_time = time.time()\n",
    "\n",
    "for b_bottom_path in sorted(glob.glob(os.path.join(b_bottom_paths, '*.npy'))):\n",
    "\n",
    "    b_bottom_date = os.path.basename(b_bottom_path)[9:-4]\n",
    "    \n",
    "    with open(b_bottom_path, 'rb') as f:\n",
    "        b_bottom = np.load(f)\n",
    "\n",
    "    output_path = os.path.join(spinn_output_path, b_bottom_date)\n",
    "\n",
    "    BC_path = os.path.join(spinn_BC_path, f'b_BC_{b_bottom_date}.pickle')\n",
    "\n",
    "    final_params_path = os.path.join(output_path, 'final_params.pickle')\n",
    "    if os.path.exists(final_params_path):\n",
    "        transfer_learning_path = final_params_path\n",
    "        continue\n",
    "\n",
    "    if transfer_learning_path is None:\n",
    "        tranier = SPINN_Trainer(output_path, BC_path, b_bottom, Nz, b_norm, transfer_learning_path=None)\n",
    "        start = time.time()\n",
    "        tranier.train(epochs, log_iter, loss_threshold=loss_threshold)\n",
    "        runtime = time.time() - start\n",
    "        print(f'Runtime: {runtime:.2f} sec')\n",
    "        transfer_learning_path = os.path.join(output_path, 'final_params.pickle')\n",
    "    else:\n",
    "        tranier = SPINN_Trainer(output_path, BC_path, b_bottom, Nz, b_norm, transfer_learning_path=transfer_learning_path)\n",
    "        start = time.time()\n",
    "        tranier.train(series_epochs, series_log_iter, loss_threshold=loss_threshold)\n",
    "        runtime = time.time() - start\n",
    "        print(f'Runtime: {runtime:.2f} sec')\n",
    "        transfer_learning_path = os.path.join(output_path, 'final_params.pickle')\n",
    "    \n",
    "print(f'Total Runtime: {time.time() - start_time:.2f} sec')"
   ]
  },
  {
   "cell_type": "code",
   "execution_count": null,
   "metadata": {},
   "outputs": [],
   "source": [
    "from cmspinn.spinn_jax_viz import spinn_cube"
   ]
  },
  {
   "cell_type": "code",
   "execution_count": null,
   "metadata": {},
   "outputs": [],
   "source": [
    "spinn_output_path = os.path.join(Path(b_bottom_paths).parent, 'SPINN')\n",
    "vtk_output_path = os.path.join(Path(b_bottom_paths).parent, 'SPINN_vtk')\n",
    "os.makedirs(vtk_output_path, exist_ok=True)"
   ]
  },
  {
   "cell_type": "code",
   "execution_count": null,
   "metadata": {},
   "outputs": [
    {
     "name": "stdout",
     "output_type": "stream",
     "text": [
      "/userhome/jeon_mg/workspace/_data/NOAA12673/SPINN_vtk/B_spinn_20170906_083600.vtk\n",
      "/userhome/jeon_mg/workspace/_data/NOAA12673/SPINN_vtk/B_spinn_20170906_084800.vtk\n",
      "/userhome/jeon_mg/workspace/_data/NOAA12673/SPINN_vtk/B_spinn_20170906_090000.vtk\n",
      "/userhome/jeon_mg/workspace/_data/NOAA12673/SPINN_vtk/B_spinn_20170906_091200.vtk\n",
      "/userhome/jeon_mg/workspace/_data/NOAA12673/SPINN_vtk/B_spinn_20170906_092400.vtk\n",
      "/userhome/jeon_mg/workspace/_data/NOAA12673/SPINN_vtk/B_spinn_20170906_093600.vtk\n",
      "/userhome/jeon_mg/workspace/_data/NOAA12673/SPINN_vtk/B_spinn_20170906_094800.vtk\n",
      "/userhome/jeon_mg/workspace/_data/NOAA12673/SPINN_vtk/B_spinn_20170906_100000.vtk\n",
      "/userhome/jeon_mg/workspace/_data/NOAA12673/SPINN_vtk/B_spinn_20170906_101200.vtk\n",
      "/userhome/jeon_mg/workspace/_data/NOAA12673/SPINN_vtk/B_spinn_20170906_102400.vtk\n",
      "/userhome/jeon_mg/workspace/_data/NOAA12673/SPINN_vtk/B_spinn_20170906_103600.vtk\n",
      "/userhome/jeon_mg/workspace/_data/NOAA12673/SPINN_vtk/B_spinn_20170906_104800.vtk\n",
      "/userhome/jeon_mg/workspace/_data/NOAA12673/SPINN_vtk/B_spinn_20170906_110000.vtk\n",
      "/userhome/jeon_mg/workspace/_data/NOAA12673/SPINN_vtk/B_spinn_20170906_111200.vtk\n",
      "/userhome/jeon_mg/workspace/_data/NOAA12673/SPINN_vtk/B_spinn_20170906_112400.vtk\n",
      "/userhome/jeon_mg/workspace/_data/NOAA12673/SPINN_vtk/B_spinn_20170906_113600.vtk\n",
      "/userhome/jeon_mg/workspace/_data/NOAA12673/SPINN_vtk/B_spinn_20170906_114800.vtk\n",
      "/userhome/jeon_mg/workspace/_data/NOAA12673/SPINN_vtk/B_spinn_20170906_120000.vtk\n",
      "/userhome/jeon_mg/workspace/_data/NOAA12673/SPINN_vtk/B_spinn_20170906_121200.vtk\n",
      "/userhome/jeon_mg/workspace/_data/NOAA12673/SPINN_vtk/B_spinn_20170906_122400.vtk\n",
      "/userhome/jeon_mg/workspace/_data/NOAA12673/SPINN_vtk/B_spinn_20170906_123600.vtk\n",
      "/userhome/jeon_mg/workspace/_data/NOAA12673/SPINN_vtk/B_spinn_20170906_124800.vtk\n",
      "/userhome/jeon_mg/workspace/_data/NOAA12673/SPINN_vtk/B_spinn_20170906_130000.vtk\n",
      "Runtime: 217.39 sec\n"
     ]
    }
   ],
   "source": [
    "start = time.time()\n",
    "\n",
    "for b_bottom_path in sorted(glob.glob(os.path.join(b_bottom_paths, '*.npy'))):\n",
    "    b_bottom_date = os.path.basename(b_bottom_path)[9:-4]\n",
    "\n",
    "    target_path = os.path.join(spinn_output_path, b_bottom_date)\n",
    "\n",
    "    final_model_path = os.path.join(target_path, 'final_params.pickle')\n",
    "    parameters_path = os.path.join(target_path, 'parameters.pickle')\n",
    "    \n",
    "    vtk_path = os.path.join(vtk_output_path, f'B_spinn_{b_bottom_date}.vtk')\n",
    "\n",
    "    spinn = spinn_cube(final_model_path, parameters_path)\n",
    "    spinn.calculate_magnetic_fields()\n",
    "    spinn.grid.save(vtk_path)\n",
    "    \n",
    "    print(vtk_path)\n",
    "\n",
    "runtime = time.time() - start\n",
    "print(f'Runtime: {runtime:.2f} sec')"
   ]
  },
  {
   "cell_type": "code",
   "execution_count": null,
   "metadata": {},
   "outputs": [],
   "source": []
  }
 ],
 "metadata": {
  "kernelspec": {
   "display_name": "python3",
   "language": "python",
   "name": "python3"
  }
 },
 "nbformat": 4,
 "nbformat_minor": 2
}
