{
 "cells": [
  {
   "cell_type": "markdown",
   "metadata": {},
   "source": [
    "# SPINN (series)"
   ]
  },
  {
   "cell_type": "code",
   "execution_count": null,
   "metadata": {},
   "outputs": [],
   "source": [
    "#| default_exp spinn_jax_trainer"
   ]
  },
  {
   "cell_type": "code",
   "execution_count": null,
   "metadata": {},
   "outputs": [],
   "source": [
    "from setproctitle import setproctitle\n",
    "setproctitle(\"SPINN (series)\")"
   ]
  },
  {
   "cell_type": "code",
   "execution_count": null,
   "metadata": {},
   "outputs": [],
   "source": [
    "#| export\n",
    "import os"
   ]
  },
  {
   "cell_type": "code",
   "execution_count": null,
   "metadata": {},
   "outputs": [],
   "source": [
    "os.environ[\"XLA_PYTHON_CLIENT_PREALLOCATE\"] = \"false\"\n",
    "os.environ[\"CUDA_DEVICE_ORDER\"]=\"PCI_BUS_ID\"\n",
    "os.environ[\"CUDA_VISIBLE_DEVICES\"]= \"2\""
   ]
  },
  {
   "cell_type": "code",
   "execution_count": null,
   "metadata": {},
   "outputs": [],
   "source": [
    "#| export\n",
    "import jax \n",
    "import jax.numpy as jnp\n",
    "import optax\n",
    "import numpy as np \n",
    "import matplotlib.pyplot as plt\n",
    "import time \n",
    "import pickle\n",
    "from tqdm import trange"
   ]
  },
  {
   "cell_type": "code",
   "execution_count": null,
   "metadata": {},
   "outputs": [],
   "source": [
    "#| export\n",
    "from cmspinn.spinn_jax import SPINN3d, generate_train_data, apply_model_spinn, update_model"
   ]
  },
  {
   "cell_type": "code",
   "execution_count": null,
   "metadata": {},
   "outputs": [],
   "source": [
    "#| export\n",
    "import glob\n",
    "import time\n",
    "from pathlib import Path"
   ]
  },
  {
   "cell_type": "code",
   "execution_count": null,
   "metadata": {},
   "outputs": [],
   "source": [
    "b_bottom_paths = os.path.expanduser('~/workspace/_data/NOAA12673/b_bottom')\n",
    "b_bottom_list = sorted(glob.glob(os.path.join(b_bottom_paths, '*.npy')))\n",
    "spinn_output_path = os.path.join(Path(b_bottom_paths).parent, 'SPINN')\n",
    "Path(spinn_output_path).mkdir(parents=True, exist_ok=True)"
   ]
  },
  {
   "cell_type": "code",
   "execution_count": null,
   "metadata": {},
   "outputs": [],
   "source": [
    "spinn_BC_path = os.path.join(Path(b_bottom_paths).parent, 'SPINN_BC')"
   ]
  },
  {
   "cell_type": "code",
   "execution_count": null,
   "metadata": {},
   "outputs": [],
   "source": [
    "#| export\n",
    "class SPINN_Trainer:\n",
    "    def __init__(self, output_path, BC_path, b_bottom, Nz, b_norm, transfer_learning_path=None):\n",
    "        os.makedirs(output_path, exist_ok=True)\n",
    "        \n",
    "        Nx, Ny, _ = b_bottom.shape\n",
    "\n",
    "        features = 128\n",
    "        n_layers = 3\n",
    "        feat_sizes = tuple([features for _ in range(n_layers)]) \n",
    "        r = 128 \n",
    "        out_dim = 3 \n",
    "\n",
    "        lr = 5e-4\n",
    "\n",
    "        pos_enc = 0\n",
    "        mlp = 'modified_mlp'\n",
    "\n",
    "        n_max_x = 2*(Nx/Nz)\n",
    "        n_max_y = 2*(Ny/Nz)\n",
    "        n_max_z = 2*(Nz/Nz)\n",
    "\n",
    "        parameters = {'feat_sizes' : feat_sizes, \n",
    "              'r' : r, \n",
    "              'out_dim' : out_dim, \n",
    "              'Nx' : Nx, \n",
    "              'Ny' : Ny, \n",
    "              'Nz' : Nz, \n",
    "              'b_norm' : b_norm,\n",
    "              'pos_enc' : pos_enc,\n",
    "              'mlp' : mlp,\n",
    "              'lr': lr,\n",
    "              'n_max_x': n_max_x,\n",
    "              'n_max_y': n_max_y,\n",
    "              'n_max_z': n_max_z,}\n",
    "\n",
    "        \n",
    "        parameters_path = os.path.join(output_path, \"parameters.pickle\")\n",
    "        with open(parameters_path, \"wb\") as f:\n",
    "            pickle.dump(parameters, f)\n",
    "\n",
    "\n",
    "        seed = 111\n",
    "        key = jax.random.PRNGKey(seed)\n",
    "        key, subkey = jax.random.split(key, 2)\n",
    "\n",
    "        model = SPINN3d(feat_sizes, r, out_dim, pos_enc=pos_enc, mlp=mlp)\n",
    "        if transfer_learning_path is None:\n",
    "            params = model.init(\n",
    "                        subkey,\n",
    "                        jnp.ones((Nx, 1)),\n",
    "                        jnp.ones((Ny, 1)),\n",
    "                        jnp.ones((Nz, 1))\n",
    "                    )\n",
    "            apply_fn = jax.jit(model.apply)\n",
    "            optim = optax.adam(learning_rate=lr)\n",
    "            state = optim.init(params)\n",
    "        else:\n",
    "            model.init(\n",
    "                        subkey,\n",
    "                        jnp.ones((Nx, 1)),\n",
    "                        jnp.ones((Ny, 1)),\n",
    "                        jnp.ones((Nz, 1))\n",
    "                    )\n",
    "            apply_fn = jax.jit(model.apply)\n",
    "            with open(transfer_learning_path, 'rb') as f:\n",
    "                params = pickle.load(f)\n",
    "\n",
    "            optim = optax.adam(learning_rate=lr)\n",
    "            state = optim.init(params)\n",
    "\n",
    "        with open(BC_path, 'rb') as f:\n",
    "            boundary_data = pickle.load(f)\n",
    "\n",
    "        train_data = generate_train_data(subkey, Nx, Ny, Nz, n_max_x, n_max_y, n_max_z)\n",
    "        train_boundary_data = [train_data, boundary_data]\n",
    "\n",
    "        self.apply_fn = apply_fn\n",
    "        self.params = params\n",
    "        self.train_boundary_data = train_boundary_data\n",
    "        self.optim = optim\n",
    "        self.state = state\n",
    "        self.output_path = output_path\n",
    "\n",
    "    def train(self, total_iterations, log_iterations, loss_threshold=0.001):\n",
    "        params = self.params\n",
    "        state = self.state\n",
    "\n",
    "        losses = []\n",
    "        print('Complie Start')\n",
    "        start = time.time()\n",
    "        loss, gradient = apply_model_spinn(self.apply_fn, params, self.train_boundary_data)\n",
    "        losses.append(loss.item())\n",
    "        params, state = update_model(self.optim, gradient, params, state)\n",
    "        runtime = time.time() - start\n",
    "        print(f'Complie End --> total: {runtime:.2f}sec')\n",
    "\n",
    "        start = time.time()\n",
    "        for e in trange(1, total_iterations + 1):\n",
    "\n",
    "            loss, gradient = apply_model_spinn(self.apply_fn, params, self.train_boundary_data)\n",
    "            losses.append(loss.item())\n",
    "            if loss.item() < loss_threshold:\n",
    "                print(f'Epoch: {e}/{total_iterations} --> loss: {loss:.8f} < {loss_threshold}')\n",
    "                break\n",
    "            \n",
    "            params, state = update_model(self.optim, gradient, params, state)\n",
    "            \n",
    "            if e % log_iterations == 0:\n",
    "                print(f'Epoch: {e}/{total_iterations} --> total loss: {loss:.8f}')\n",
    "                params_path = os.path.join(self.output_path, f\"params_{e}.pickle\")\n",
    "                with open(params_path, \"wb\") as f:\n",
    "                    pickle.dump(params, f)\n",
    "\n",
    "        final_params_path = os.path.join(self.output_path, f\"final_params.pickle\")\n",
    "        with open(final_params_path, \"wb\") as f:\n",
    "            pickle.dump(params, f)\n",
    "\n",
    "        np.save(os.path.join(self.output_path, 'losses.npy'), losses)\n",
    "\n",
    "        runtime = time.time() - start\n",
    "        print(f'Runtime --> total: {runtime:.2f}sec ({(runtime/(total_iterations-1)*1000):.2f}ms/iter.)')"
   ]
  },
  {
   "cell_type": "code",
   "execution_count": null,
   "metadata": {},
   "outputs": [],
   "source": [
    "Nz = 160\n",
    "b_norm = 2500\n",
    "\n",
    "epochs = 50000\n",
    "log_iter = 1000\n",
    "\n",
    "series_epochs = 2000\n",
    "series_log_iter = 100\n",
    "\n",
    "loss_threshold = 0.01"
   ]
  },
  {
   "cell_type": "code",
   "execution_count": null,
   "metadata": {},
   "outputs": [
    {
     "name": "stdout",
     "output_type": "stream",
     "text": [
      "Complie Start\n",
      "Complie End --> total: 18.21sec\n"
     ]
    },
    {
     "name": "stderr",
     "output_type": "stream",
     "text": [
      "  2%|▏         | 1003/50000 [00:32<26:33, 30.74it/s]"
     ]
    },
    {
     "name": "stdout",
     "output_type": "stream",
     "text": [
      "Epoch: 1000/50000 --> total loss: 0.02508836\n"
     ]
    },
    {
     "name": "stderr",
     "output_type": "stream",
     "text": [
      "  4%|▍         | 2003/50000 [01:04<25:51, 30.93it/s]"
     ]
    },
    {
     "name": "stdout",
     "output_type": "stream",
     "text": [
      "Epoch: 2000/50000 --> total loss: 0.01509597\n"
     ]
    },
    {
     "name": "stderr",
     "output_type": "stream",
     "text": [
      "  6%|▌         | 3003/50000 [01:36<25:24, 30.83it/s]"
     ]
    },
    {
     "name": "stdout",
     "output_type": "stream",
     "text": [
      "Epoch: 3000/50000 --> total loss: 0.01353082\n"
     ]
    },
    {
     "name": "stderr",
     "output_type": "stream",
     "text": [
      "  8%|▊         | 4003/50000 [02:08<24:47, 30.92it/s]"
     ]
    },
    {
     "name": "stdout",
     "output_type": "stream",
     "text": [
      "Epoch: 4000/50000 --> total loss: 0.01216163\n"
     ]
    },
    {
     "name": "stderr",
     "output_type": "stream",
     "text": [
      " 10%|█         | 5003/50000 [02:40<24:22, 30.76it/s]"
     ]
    },
    {
     "name": "stdout",
     "output_type": "stream",
     "text": [
      "Epoch: 5000/50000 --> total loss: 0.01112062\n"
     ]
    },
    {
     "name": "stderr",
     "output_type": "stream",
     "text": [
      " 12%|█▏        | 6003/50000 [03:13<23:44, 30.89it/s]"
     ]
    },
    {
     "name": "stdout",
     "output_type": "stream",
     "text": [
      "Epoch: 6000/50000 --> total loss: 0.01043476\n"
     ]
    },
    {
     "name": "stderr",
     "output_type": "stream",
     "text": [
      " 13%|█▎        | 6539/50000 [03:30<23:18, 31.08it/s]\n"
     ]
    },
    {
     "name": "stdout",
     "output_type": "stream",
     "text": [
      "Epoch: 6540/50000 --> loss: 0.00999985 < 0.01\n",
      "Runtime --> total: 210.42sec (4.21ms/iter.)\n",
      "Runtime: 228.64 sec\n",
      "Complie Start\n",
      "Complie End --> total: 17.00sec\n"
     ]
    },
    {
     "name": "stderr",
     "output_type": "stream",
     "text": [
      "  5%|▌         | 104/2000 [00:03<01:01, 30.59it/s]"
     ]
    },
    {
     "name": "stdout",
     "output_type": "stream",
     "text": [
      "Epoch: 100/2000 --> total loss: 0.01025323\n"
     ]
    },
    {
     "name": "stderr",
     "output_type": "stream",
     "text": [
      " 10%|█         | 204/2000 [00:06<00:58, 30.80it/s]"
     ]
    },
    {
     "name": "stdout",
     "output_type": "stream",
     "text": [
      "Epoch: 200/2000 --> total loss: 0.01003259\n"
     ]
    },
    {
     "name": "stderr",
     "output_type": "stream",
     "text": [
      " 12%|█▏        | 247/2000 [00:08<00:56, 30.85it/s]\n"
     ]
    },
    {
     "name": "stdout",
     "output_type": "stream",
     "text": [
      "Epoch: 248/2000 --> loss: 0.00999980 < 0.01\n",
      "Runtime --> total: 8.01sec (4.01ms/iter.)\n",
      "Runtime: 25.02 sec\n",
      "Complie Start\n",
      "Complie End --> total: 17.37sec\n"
     ]
    },
    {
     "name": "stderr",
     "output_type": "stream",
     "text": [
      "  5%|▌         | 104/2000 [00:03<01:01, 30.78it/s]"
     ]
    },
    {
     "name": "stdout",
     "output_type": "stream",
     "text": [
      "Epoch: 100/2000 --> total loss: 0.01049765\n"
     ]
    },
    {
     "name": "stderr",
     "output_type": "stream",
     "text": [
      " 10%|█         | 204/2000 [00:06<00:58, 30.64it/s]"
     ]
    },
    {
     "name": "stdout",
     "output_type": "stream",
     "text": [
      "Epoch: 200/2000 --> total loss: 0.01038593\n"
     ]
    },
    {
     "name": "stderr",
     "output_type": "stream",
     "text": [
      " 15%|█▌        | 304/2000 [00:09<00:54, 30.91it/s]"
     ]
    },
    {
     "name": "stdout",
     "output_type": "stream",
     "text": [
      "Epoch: 300/2000 --> total loss: 0.01031721\n"
     ]
    },
    {
     "name": "stderr",
     "output_type": "stream",
     "text": [
      " 20%|██        | 404/2000 [00:13<00:51, 30.94it/s]"
     ]
    },
    {
     "name": "stdout",
     "output_type": "stream",
     "text": [
      "Epoch: 400/2000 --> total loss: 0.01023902\n"
     ]
    },
    {
     "name": "stderr",
     "output_type": "stream",
     "text": [
      " 25%|██▌       | 504/2000 [00:16<00:48, 30.92it/s]"
     ]
    },
    {
     "name": "stdout",
     "output_type": "stream",
     "text": [
      "Epoch: 500/2000 --> total loss: 0.01034957\n"
     ]
    },
    {
     "name": "stderr",
     "output_type": "stream",
     "text": [
      " 30%|███       | 604/2000 [00:19<00:45, 30.83it/s]"
     ]
    },
    {
     "name": "stdout",
     "output_type": "stream",
     "text": [
      "Epoch: 600/2000 --> total loss: 0.01029011\n"
     ]
    },
    {
     "name": "stderr",
     "output_type": "stream",
     "text": [
      " 35%|███▌      | 704/2000 [00:22<00:42, 30.59it/s]"
     ]
    },
    {
     "name": "stdout",
     "output_type": "stream",
     "text": [
      "Epoch: 700/2000 --> total loss: 0.01002608\n"
     ]
    },
    {
     "name": "stderr",
     "output_type": "stream",
     "text": [
      " 38%|███▊      | 752/2000 [00:24<00:40, 30.90it/s]\n"
     ]
    },
    {
     "name": "stdout",
     "output_type": "stream",
     "text": [
      "Epoch: 753/2000 --> loss: 0.00999780 < 0.01\n",
      "Runtime --> total: 24.34sec (12.18ms/iter.)\n",
      "Runtime: 41.72 sec\n",
      "Complie Start\n",
      "Complie End --> total: 17.52sec\n"
     ]
    },
    {
     "name": "stderr",
     "output_type": "stream",
     "text": [
      "  5%|▌         | 104/2000 [00:03<01:01, 30.75it/s]"
     ]
    },
    {
     "name": "stdout",
     "output_type": "stream",
     "text": [
      "Epoch: 100/2000 --> total loss: 0.01074501\n"
     ]
    },
    {
     "name": "stderr",
     "output_type": "stream",
     "text": [
      " 10%|█         | 204/2000 [00:06<00:58, 30.50it/s]"
     ]
    },
    {
     "name": "stdout",
     "output_type": "stream",
     "text": [
      "Epoch: 200/2000 --> total loss: 0.01056560\n"
     ]
    },
    {
     "name": "stderr",
     "output_type": "stream",
     "text": [
      " 15%|█▌        | 304/2000 [00:09<00:55, 30.79it/s]"
     ]
    },
    {
     "name": "stdout",
     "output_type": "stream",
     "text": [
      "Epoch: 300/2000 --> total loss: 0.01048623\n"
     ]
    },
    {
     "name": "stderr",
     "output_type": "stream",
     "text": [
      " 20%|██        | 404/2000 [00:13<00:52, 30.61it/s]"
     ]
    },
    {
     "name": "stdout",
     "output_type": "stream",
     "text": [
      "Epoch: 400/2000 --> total loss: 0.01048418\n"
     ]
    },
    {
     "name": "stderr",
     "output_type": "stream",
     "text": [
      " 25%|██▌       | 504/2000 [00:16<00:48, 30.93it/s]"
     ]
    },
    {
     "name": "stdout",
     "output_type": "stream",
     "text": [
      "Epoch: 500/2000 --> total loss: 0.01050294\n"
     ]
    },
    {
     "name": "stderr",
     "output_type": "stream",
     "text": [
      " 30%|███       | 604/2000 [00:19<00:45, 30.43it/s]"
     ]
    },
    {
     "name": "stdout",
     "output_type": "stream",
     "text": [
      "Epoch: 600/2000 --> total loss: 0.01034918\n"
     ]
    },
    {
     "name": "stderr",
     "output_type": "stream",
     "text": [
      " 35%|███▌      | 704/2000 [00:22<00:41, 30.93it/s]"
     ]
    },
    {
     "name": "stdout",
     "output_type": "stream",
     "text": [
      "Epoch: 700/2000 --> total loss: 0.01023860\n"
     ]
    },
    {
     "name": "stderr",
     "output_type": "stream",
     "text": [
      " 40%|████      | 804/2000 [00:26<00:39, 30.50it/s]"
     ]
    },
    {
     "name": "stdout",
     "output_type": "stream",
     "text": [
      "Epoch: 800/2000 --> total loss: 0.01017779\n"
     ]
    },
    {
     "name": "stderr",
     "output_type": "stream",
     "text": [
      " 45%|████▌     | 904/2000 [00:29<00:35, 30.92it/s]"
     ]
    },
    {
     "name": "stdout",
     "output_type": "stream",
     "text": [
      "Epoch: 900/2000 --> total loss: 0.01064013\n"
     ]
    },
    {
     "name": "stderr",
     "output_type": "stream",
     "text": [
      " 50%|█████     | 1004/2000 [00:32<00:32, 30.62it/s]"
     ]
    },
    {
     "name": "stdout",
     "output_type": "stream",
     "text": [
      "Epoch: 1000/2000 --> total loss: 0.01005933\n"
     ]
    },
    {
     "name": "stderr",
     "output_type": "stream",
     "text": [
      " 55%|█████▌    | 1100/2000 [00:35<00:29, 30.85it/s]\n"
     ]
    },
    {
     "name": "stdout",
     "output_type": "stream",
     "text": [
      "Epoch: 1100/2000 --> total loss: 0.01002633\n",
      "Epoch: 1101/2000 --> loss: 0.00999764 < 0.01\n",
      "Runtime --> total: 35.66sec (17.84ms/iter.)\n",
      "Runtime: 53.18 sec\n",
      "Complie Start\n",
      "Complie End --> total: 18.06sec\n"
     ]
    },
    {
     "name": "stderr",
     "output_type": "stream",
     "text": [
      "  3%|▎         | 60/2000 [00:01<01:04, 30.25it/s]\n"
     ]
    },
    {
     "name": "stdout",
     "output_type": "stream",
     "text": [
      "Epoch: 61/2000 --> loss: 0.00998374 < 0.01\n",
      "Runtime --> total: 1.99sec (1.00ms/iter.)\n",
      "Runtime: 20.05 sec\n",
      "Complie Start\n",
      "Complie End --> total: 18.29sec\n"
     ]
    },
    {
     "name": "stderr",
     "output_type": "stream",
     "text": [
      "  2%|▏         | 43/2000 [00:01<01:04, 30.13it/s]\n"
     ]
    },
    {
     "name": "stdout",
     "output_type": "stream",
     "text": [
      "Epoch: 44/2000 --> loss: 0.00998162 < 0.01\n",
      "Runtime --> total: 1.43sec (0.72ms/iter.)\n",
      "Runtime: 19.72 sec\n",
      "Complie Start\n",
      "Complie End --> total: 18.28sec\n"
     ]
    },
    {
     "name": "stderr",
     "output_type": "stream",
     "text": [
      "  2%|▏         | 43/2000 [00:01<01:05, 30.05it/s]\n"
     ]
    },
    {
     "name": "stdout",
     "output_type": "stream",
     "text": [
      "Epoch: 44/2000 --> loss: 0.00999071 < 0.01\n",
      "Runtime --> total: 1.44sec (0.72ms/iter.)\n",
      "Runtime: 19.72 sec\n",
      "Complie Start\n",
      "Complie End --> total: 18.29sec\n"
     ]
    },
    {
     "name": "stderr",
     "output_type": "stream",
     "text": [
      "  2%|▏         | 41/2000 [00:01<01:05, 29.89it/s]\n"
     ]
    },
    {
     "name": "stdout",
     "output_type": "stream",
     "text": [
      "Epoch: 42/2000 --> loss: 0.00998686 < 0.01\n",
      "Runtime --> total: 1.38sec (0.69ms/iter.)\n",
      "Runtime: 19.67 sec\n",
      "Complie Start\n",
      "Complie End --> total: 18.06sec\n"
     ]
    },
    {
     "name": "stderr",
     "output_type": "stream",
     "text": [
      "  2%|▏         | 35/2000 [00:01<01:05, 29.94it/s]\n"
     ]
    },
    {
     "name": "stdout",
     "output_type": "stream",
     "text": [
      "Epoch: 36/2000 --> loss: 0.00995998 < 0.01\n",
      "Runtime --> total: 1.18sec (0.59ms/iter.)\n",
      "Runtime: 19.24 sec\n",
      "Complie Start\n",
      "Complie End --> total: 18.91sec\n"
     ]
    },
    {
     "name": "stderr",
     "output_type": "stream",
     "text": [
      "  2%|▏         | 37/2000 [00:01<01:05, 29.83it/s]\n"
     ]
    },
    {
     "name": "stdout",
     "output_type": "stream",
     "text": [
      "Epoch: 38/2000 --> loss: 0.00998883 < 0.01\n",
      "Runtime --> total: 1.25sec (0.62ms/iter.)\n",
      "Runtime: 20.16 sec\n",
      "Complie Start\n",
      "Complie End --> total: 18.74sec\n"
     ]
    },
    {
     "name": "stderr",
     "output_type": "stream",
     "text": [
      "  2%|▏         | 46/2000 [00:01<01:06, 29.57it/s]\n"
     ]
    },
    {
     "name": "stdout",
     "output_type": "stream",
     "text": [
      "Epoch: 47/2000 --> loss: 0.00998967 < 0.01\n",
      "Runtime --> total: 1.57sec (0.78ms/iter.)\n",
      "Runtime: 20.31 sec\n",
      "Complie Start\n",
      "Complie End --> total: 19.18sec\n"
     ]
    },
    {
     "name": "stderr",
     "output_type": "stream",
     "text": [
      "  3%|▎         | 56/2000 [00:01<01:04, 30.14it/s]\n"
     ]
    },
    {
     "name": "stdout",
     "output_type": "stream",
     "text": [
      "Epoch: 57/2000 --> loss: 0.00998930 < 0.01\n",
      "Runtime --> total: 1.87sec (0.93ms/iter.)\n",
      "Runtime: 21.05 sec\n",
      "Complie Start\n",
      "Complie End --> total: 19.59sec\n"
     ]
    },
    {
     "name": "stderr",
     "output_type": "stream",
     "text": [
      "  2%|▏         | 42/2000 [00:01<01:05, 30.12it/s]\n"
     ]
    },
    {
     "name": "stdout",
     "output_type": "stream",
     "text": [
      "Epoch: 43/2000 --> loss: 0.00999844 < 0.01\n",
      "Runtime --> total: 1.40sec (0.70ms/iter.)\n",
      "Runtime: 20.99 sec\n",
      "Complie Start\n",
      "Complie End --> total: 19.02sec\n"
     ]
    },
    {
     "name": "stderr",
     "output_type": "stream",
     "text": [
      "  3%|▎         | 56/2000 [00:01<01:04, 30.29it/s]\n"
     ]
    },
    {
     "name": "stdout",
     "output_type": "stream",
     "text": [
      "Epoch: 57/2000 --> loss: 0.00999411 < 0.01\n",
      "Runtime --> total: 1.86sec (0.93ms/iter.)\n",
      "Runtime: 20.88 sec\n",
      "Complie Start\n",
      "Complie End --> total: 18.72sec\n"
     ]
    },
    {
     "name": "stderr",
     "output_type": "stream",
     "text": [
      "  2%|▏         | 44/2000 [00:01<01:05, 30.02it/s]\n"
     ]
    },
    {
     "name": "stdout",
     "output_type": "stream",
     "text": [
      "Epoch: 45/2000 --> loss: 0.00999483 < 0.01\n",
      "Runtime --> total: 1.48sec (0.74ms/iter.)\n",
      "Runtime: 20.20 sec\n",
      "Complie Start\n",
      "Complie End --> total: 18.62sec\n"
     ]
    },
    {
     "name": "stderr",
     "output_type": "stream",
     "text": [
      "  3%|▎         | 65/2000 [00:02<01:03, 30.25it/s]\n"
     ]
    },
    {
     "name": "stdout",
     "output_type": "stream",
     "text": [
      "Epoch: 66/2000 --> loss: 0.00999522 < 0.01\n",
      "Runtime --> total: 2.16sec (1.08ms/iter.)\n",
      "Runtime: 20.77 sec\n",
      "Complie Start\n",
      "Complie End --> total: 19.12sec\n"
     ]
    },
    {
     "name": "stderr",
     "output_type": "stream",
     "text": [
      "  4%|▍         | 81/2000 [00:02<01:02, 30.51it/s]\n"
     ]
    },
    {
     "name": "stdout",
     "output_type": "stream",
     "text": [
      "Epoch: 82/2000 --> loss: 0.00999606 < 0.01\n",
      "Runtime --> total: 2.66sec (1.33ms/iter.)\n",
      "Runtime: 21.78 sec\n",
      "Complie Start\n",
      "Complie End --> total: 18.67sec\n"
     ]
    },
    {
     "name": "stderr",
     "output_type": "stream",
     "text": [
      "  5%|▌         | 104/2000 [00:03<01:01, 30.78it/s]"
     ]
    },
    {
     "name": "stdout",
     "output_type": "stream",
     "text": [
      "Epoch: 100/2000 --> total loss: 0.01123935\n"
     ]
    },
    {
     "name": "stderr",
     "output_type": "stream",
     "text": [
      " 10%|█         | 204/2000 [00:06<00:57, 31.00it/s]"
     ]
    },
    {
     "name": "stdout",
     "output_type": "stream",
     "text": [
      "Epoch: 200/2000 --> total loss: 0.01109009\n"
     ]
    },
    {
     "name": "stderr",
     "output_type": "stream",
     "text": [
      " 15%|█▌        | 304/2000 [00:09<00:55, 30.38it/s]"
     ]
    },
    {
     "name": "stdout",
     "output_type": "stream",
     "text": [
      "Epoch: 300/2000 --> total loss: 0.01077992\n"
     ]
    },
    {
     "name": "stderr",
     "output_type": "stream",
     "text": [
      " 20%|██        | 404/2000 [00:13<00:51, 30.86it/s]"
     ]
    },
    {
     "name": "stdout",
     "output_type": "stream",
     "text": [
      "Epoch: 400/2000 --> total loss: 0.01066878\n"
     ]
    },
    {
     "name": "stderr",
     "output_type": "stream",
     "text": [
      " 25%|██▌       | 504/2000 [00:16<00:49, 30.34it/s]"
     ]
    },
    {
     "name": "stdout",
     "output_type": "stream",
     "text": [
      "Epoch: 500/2000 --> total loss: 0.01050695\n"
     ]
    },
    {
     "name": "stderr",
     "output_type": "stream",
     "text": [
      " 30%|███       | 604/2000 [00:19<00:46, 30.21it/s]"
     ]
    },
    {
     "name": "stdout",
     "output_type": "stream",
     "text": [
      "Epoch: 600/2000 --> total loss: 0.01038185\n"
     ]
    },
    {
     "name": "stderr",
     "output_type": "stream",
     "text": [
      " 35%|███▌      | 704/2000 [00:22<00:42, 30.47it/s]"
     ]
    },
    {
     "name": "stdout",
     "output_type": "stream",
     "text": [
      "Epoch: 700/2000 --> total loss: 0.01033161\n"
     ]
    },
    {
     "name": "stderr",
     "output_type": "stream",
     "text": [
      " 40%|████      | 804/2000 [00:26<00:39, 30.43it/s]"
     ]
    },
    {
     "name": "stdout",
     "output_type": "stream",
     "text": [
      "Epoch: 800/2000 --> total loss: 0.01021169\n"
     ]
    },
    {
     "name": "stderr",
     "output_type": "stream",
     "text": [
      " 45%|████▌     | 904/2000 [00:29<00:35, 30.56it/s]"
     ]
    },
    {
     "name": "stdout",
     "output_type": "stream",
     "text": [
      "Epoch: 900/2000 --> total loss: 0.01007387\n"
     ]
    },
    {
     "name": "stderr",
     "output_type": "stream",
     "text": [
      " 49%|████▉     | 976/2000 [00:31<00:33, 30.67it/s]\n"
     ]
    },
    {
     "name": "stdout",
     "output_type": "stream",
     "text": [
      "Epoch: 977/2000 --> loss: 0.00999301 < 0.01\n",
      "Runtime --> total: 31.83sec (15.92ms/iter.)\n",
      "Runtime: 50.50 sec\n",
      "Complie Start\n",
      "Complie End --> total: 18.25sec\n"
     ]
    },
    {
     "name": "stderr",
     "output_type": "stream",
     "text": [
      "  3%|▎         | 51/2000 [00:01<01:04, 30.41it/s]\n"
     ]
    },
    {
     "name": "stdout",
     "output_type": "stream",
     "text": [
      "Epoch: 52/2000 --> loss: 0.00996890 < 0.01\n",
      "Runtime --> total: 1.68sec (0.84ms/iter.)\n",
      "Runtime: 19.94 sec\n",
      "Complie Start\n",
      "Complie End --> total: 17.92sec\n"
     ]
    },
    {
     "name": "stderr",
     "output_type": "stream",
     "text": [
      "  2%|▏         | 40/2000 [00:01<01:05, 29.99it/s]\n"
     ]
    },
    {
     "name": "stdout",
     "output_type": "stream",
     "text": [
      "Epoch: 41/2000 --> loss: 0.00998980 < 0.01\n",
      "Runtime --> total: 1.34sec (0.67ms/iter.)\n",
      "Runtime: 19.27 sec\n",
      "Complie Start\n",
      "Complie End --> total: 19.86sec\n"
     ]
    },
    {
     "name": "stderr",
     "output_type": "stream",
     "text": [
      "  1%|▏         | 27/2000 [00:00<01:06, 29.73it/s]\n"
     ]
    },
    {
     "name": "stdout",
     "output_type": "stream",
     "text": [
      "Epoch: 28/2000 --> loss: 0.00993900 < 0.01\n",
      "Runtime --> total: 0.92sec (0.46ms/iter.)\n",
      "Runtime: 20.78 sec\n",
      "Complie Start\n",
      "Complie End --> total: 18.23sec\n"
     ]
    },
    {
     "name": "stderr",
     "output_type": "stream",
     "text": [
      "  1%|▏         | 29/2000 [00:00<01:07, 29.33it/s]\n"
     ]
    },
    {
     "name": "stdout",
     "output_type": "stream",
     "text": [
      "Epoch: 30/2000 --> loss: 0.00995449 < 0.01\n",
      "Runtime --> total: 1.00sec (0.50ms/iter.)\n",
      "Runtime: 19.22 sec\n",
      "Complie Start\n",
      "Complie End --> total: 18.53sec\n"
     ]
    },
    {
     "name": "stderr",
     "output_type": "stream",
     "text": [
      "  1%|▏         | 27/2000 [00:00<01:06, 29.66it/s]"
     ]
    },
    {
     "name": "stdout",
     "output_type": "stream",
     "text": [
      "Epoch: 28/2000 --> loss: 0.00999631 < 0.01\n",
      "Runtime --> total: 0.92sec (0.46ms/iter.)\n",
      "Runtime: 19.45 sec\n",
      "Total Runtime: 771.21 sec\n"
     ]
    },
    {
     "name": "stderr",
     "output_type": "stream",
     "text": [
      "\n"
     ]
    }
   ],
   "source": [
    "transfer_learning_path = None\n",
    "\n",
    "start_time = time.time()\n",
    "\n",
    "for b_bottom_path in sorted(glob.glob(os.path.join(b_bottom_paths, '*.npy'))):\n",
    "\n",
    "    b_bottom_date = os.path.basename(b_bottom_path)[9:-4]\n",
    "    \n",
    "    with open(b_bottom_path, 'rb') as f:\n",
    "        b_bottom = np.load(f)\n",
    "\n",
    "    output_path = os.path.join(spinn_output_path, b_bottom_date)\n",
    "\n",
    "    BC_path = os.path.join(spinn_BC_path, f'b_BC_{b_bottom_date}.pickle')\n",
    "\n",
    "    final_params_path = os.path.join(output_path, 'final_params.pickle')\n",
    "    if os.path.exists(final_params_path):\n",
    "        transfer_learning_path = final_params_path\n",
    "        continue\n",
    "\n",
    "    if transfer_learning_path is None:\n",
    "        tranier = SPINN_Trainer(output_path, BC_path, b_bottom, Nz, b_norm, transfer_learning_path=None)\n",
    "        start = time.time()\n",
    "        tranier.train(epochs, log_iter, loss_threshold=loss_threshold)\n",
    "        runtime = time.time() - start\n",
    "        print(f'Runtime: {runtime:.2f} sec')\n",
    "        transfer_learning_path = os.path.join(output_path, 'final_params.pickle')\n",
    "    else:\n",
    "        tranier = SPINN_Trainer(output_path, BC_path, b_bottom, Nz, b_norm, transfer_learning_path=transfer_learning_path)\n",
    "        start = time.time()\n",
    "        tranier.train(series_epochs, series_log_iter, loss_threshold=loss_threshold)\n",
    "        runtime = time.time() - start\n",
    "        print(f'Runtime: {runtime:.2f} sec')\n",
    "        transfer_learning_path = os.path.join(output_path, 'final_params.pickle')\n",
    "    \n",
    "print(f'Total Runtime: {time.time() - start_time:.2f} sec')"
   ]
  },
  {
   "cell_type": "code",
   "execution_count": null,
   "metadata": {},
   "outputs": [],
   "source": [
    "from cmspinn.spinn_jax_viz import spinn_cube"
   ]
  },
  {
   "cell_type": "code",
   "execution_count": null,
   "metadata": {},
   "outputs": [],
   "source": [
    "spinn_output_path = os.path.join(Path(b_bottom_paths).parent, 'SPINN')\n",
    "vtk_output_path = os.path.join(Path(b_bottom_paths).parent, 'SPINN_vtk')\n",
    "os.makedirs(vtk_output_path, exist_ok=True)"
   ]
  },
  {
   "cell_type": "code",
   "execution_count": null,
   "metadata": {},
   "outputs": [
    {
     "name": "stdout",
     "output_type": "stream",
     "text": [
      "/userhome/jeon_mg/workspace/_data/NOAA12673/SPINN_vtk/B_spinn_20170906_083600.vtk\n",
      "/userhome/jeon_mg/workspace/_data/NOAA12673/SPINN_vtk/B_spinn_20170906_084800.vtk\n",
      "/userhome/jeon_mg/workspace/_data/NOAA12673/SPINN_vtk/B_spinn_20170906_090000.vtk\n",
      "/userhome/jeon_mg/workspace/_data/NOAA12673/SPINN_vtk/B_spinn_20170906_091200.vtk\n",
      "/userhome/jeon_mg/workspace/_data/NOAA12673/SPINN_vtk/B_spinn_20170906_092400.vtk\n",
      "/userhome/jeon_mg/workspace/_data/NOAA12673/SPINN_vtk/B_spinn_20170906_093600.vtk\n",
      "/userhome/jeon_mg/workspace/_data/NOAA12673/SPINN_vtk/B_spinn_20170906_094800.vtk\n",
      "/userhome/jeon_mg/workspace/_data/NOAA12673/SPINN_vtk/B_spinn_20170906_100000.vtk\n",
      "/userhome/jeon_mg/workspace/_data/NOAA12673/SPINN_vtk/B_spinn_20170906_101200.vtk\n",
      "/userhome/jeon_mg/workspace/_data/NOAA12673/SPINN_vtk/B_spinn_20170906_102400.vtk\n",
      "/userhome/jeon_mg/workspace/_data/NOAA12673/SPINN_vtk/B_spinn_20170906_103600.vtk\n",
      "/userhome/jeon_mg/workspace/_data/NOAA12673/SPINN_vtk/B_spinn_20170906_104800.vtk\n",
      "/userhome/jeon_mg/workspace/_data/NOAA12673/SPINN_vtk/B_spinn_20170906_110000.vtk\n",
      "/userhome/jeon_mg/workspace/_data/NOAA12673/SPINN_vtk/B_spinn_20170906_111200.vtk\n",
      "/userhome/jeon_mg/workspace/_data/NOAA12673/SPINN_vtk/B_spinn_20170906_112400.vtk\n",
      "/userhome/jeon_mg/workspace/_data/NOAA12673/SPINN_vtk/B_spinn_20170906_113600.vtk\n",
      "/userhome/jeon_mg/workspace/_data/NOAA12673/SPINN_vtk/B_spinn_20170906_114800.vtk\n",
      "/userhome/jeon_mg/workspace/_data/NOAA12673/SPINN_vtk/B_spinn_20170906_120000.vtk\n",
      "/userhome/jeon_mg/workspace/_data/NOAA12673/SPINN_vtk/B_spinn_20170906_121200.vtk\n",
      "/userhome/jeon_mg/workspace/_data/NOAA12673/SPINN_vtk/B_spinn_20170906_122400.vtk\n",
      "/userhome/jeon_mg/workspace/_data/NOAA12673/SPINN_vtk/B_spinn_20170906_123600.vtk\n",
      "/userhome/jeon_mg/workspace/_data/NOAA12673/SPINN_vtk/B_spinn_20170906_124800.vtk\n",
      "/userhome/jeon_mg/workspace/_data/NOAA12673/SPINN_vtk/B_spinn_20170906_130000.vtk\n",
      "Runtime: 113.74 sec\n"
     ]
    }
   ],
   "source": [
    "start = time.time()\n",
    "\n",
    "for b_bottom_path in sorted(glob.glob(os.path.join(b_bottom_paths, '*.npy'))):\n",
    "    b_bottom_date = os.path.basename(b_bottom_path)[9:-4]\n",
    "\n",
    "    target_path = os.path.join(spinn_output_path, b_bottom_date)\n",
    "\n",
    "    final_model_path = os.path.join(target_path, 'final_params.pickle')\n",
    "    parameters_path = os.path.join(target_path, 'parameters.pickle')\n",
    "    \n",
    "    vtk_path = os.path.join(vtk_output_path, f'B_spinn_{b_bottom_date}.vtk')\n",
    "\n",
    "    spinn = spinn_cube(final_model_path, parameters_path)\n",
    "    spinn.calculate_magnetic_fields()\n",
    "    spinn.grid.save(vtk_path)\n",
    "    \n",
    "    print(vtk_path)\n",
    "\n",
    "runtime = time.time() - start\n",
    "print(f'Runtime: {runtime:.2f} sec')"
   ]
  },
  {
   "cell_type": "code",
   "execution_count": null,
   "metadata": {},
   "outputs": [],
   "source": []
  }
 ],
 "metadata": {
  "kernelspec": {
   "display_name": "python3",
   "language": "python",
   "name": "python3"
  }
 },
 "nbformat": 4,
 "nbformat_minor": 2
}
