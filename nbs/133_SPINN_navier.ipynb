{
 "cells": [
  {
   "attachments": {},
   "cell_type": "markdown",
   "id": "0c8e0401-0200-4711-8960-1e838c148f35",
   "metadata": {},
   "source": [
    "# SPINN Navier Stokes cleanup\n",
    "> SPINN navier stokes cleanup"
   ]
  },
  {
   "cell_type": "code",
   "execution_count": null,
   "id": "a55d735f-7c4b-42c7-b9fe-35398335bf22",
   "metadata": {},
   "outputs": [],
   "source": [
    "import jax"
   ]
  },
  {
   "cell_type": "code",
   "execution_count": null,
   "id": "b50c9375-d2d4-4359-8008-ea4849490692",
   "metadata": {},
   "outputs": [
    {
     "data": {
      "text/plain": [
       "Array([  0, 111], dtype=uint32)"
      ]
     },
     "execution_count": null,
     "metadata": {},
     "output_type": "execute_result"
    }
   ],
   "source": [
    "seed = 111\n",
    "key = jax.random.PRNGKey(seed)\n",
    "key"
   ]
  },
  {
   "cell_type": "code",
   "execution_count": null,
   "id": "c561037a-551e-4fbc-857c-58d9462e1835",
   "metadata": {},
   "outputs": [
    {
     "data": {
      "text/plain": [
       "(Array([2623418170, 2720574883], dtype=uint32),\n",
       " Array([2399137871, 1034659656], dtype=uint32))"
      ]
     },
     "execution_count": null,
     "metadata": {},
     "output_type": "execute_result"
    }
   ],
   "source": [
    "key, subkey"
   ]
  },
  {
   "cell_type": "code",
   "execution_count": null,
   "id": "df0db1a5-59aa-4c23-a896-b1d660cd2e04",
   "metadata": {},
   "outputs": [],
   "source": [
    "from typing import Sequence\n",
    "from flax import linen as nn"
   ]
  },
  {
   "cell_type": "code",
   "execution_count": null,
   "id": "5b128125-a900-4baa-b19b-68c5114fc518",
   "metadata": {},
   "outputs": [],
   "source": [
    "class SPINN4d(nn.Module):\n",
    "    features: Sequence[int]\n",
    "    r: int\n",
    "    out_dim: int\n",
    "    mlp: str\n",
    "\n",
    "    @nn.compact\n",
    "    def __call__(self, t, x, y, z):\n",
    "        inputs, outputs, tx, txy, pred = [t, x, y, z], [], [], [], []\n",
    "        # inputs, outputs = [t, x, y, z], []\n",
    "        init = nn.initializers.glorot_normal()\n",
    "        for X in inputs:\n",
    "            for fs in self.features[:-1]:\n",
    "                X = nn.Dense(fs, kernel_init=init)(X)\n",
    "                X = nn.activation.tanh(X)\n",
    "            X = nn.Dense(self.r*self.out_dim, kernel_init=init)(X)\n",
    "            outputs += [jnp.transpose(X, (1, 0))]\n",
    "\n",
    "        for i in range(self.out_dim):\n",
    "            tx += [jnp.einsum('ft, fx->ftx', \n",
    "            outputs[0][self.r*i:self.r*(i+1)], \n",
    "            outputs[1][self.r*i:self.r*(i+1)])]\n",
    "\n",
    "            txy += [jnp.einsum('ftx, fy->ftxy', \n",
    "            tx[i], \n",
    "            outputs[2][self.r*i:self.r*(i+1)])]\n",
    "\n",
    "            pred += [jnp.einsum('ftxy, fz->txyz', \n",
    "            txy[i], \n",
    "            outputs[3][self.r*i:self.r*(i+1)])]\n",
    "\n",
    "        if len(pred) == 1:\n",
    "            # 1-dimensional output\n",
    "            return pred[0]\n",
    "        else:\n",
    "            # n-dimensional output\n",
    "            return pred"
   ]
  },
  {
   "cell_type": "code",
   "execution_count": null,
   "id": "ad5a933a-0cee-4927-aa47-85322442f924",
   "metadata": {},
   "outputs": [
    {
     "data": {
      "text/plain": [
       "(64, 64, 64, 64, 64)"
      ]
     },
     "execution_count": null,
     "metadata": {},
     "output_type": "execute_result"
    }
   ],
   "source": [
    "# feature size of each layer\n",
    "features = 64\n",
    "\n",
    "# the number of layer\n",
    "n_layers = 5\n",
    "\n",
    "# feature sizes\n",
    "feat_sizes = tuple([features for _ in range(n_layers)])\n",
    "\n",
    "feat_sizes"
   ]
  },
  {
   "cell_type": "code",
   "execution_count": null,
   "id": "b36636b5-2423-48ca-8349-85146957d330",
   "metadata": {},
   "outputs": [],
   "source": [
    "# rank of a approximated tensor\n",
    "r = 128\n",
    "\n",
    "# sizee of model output\n",
    "out_dim = 3\n",
    "\n",
    "# type of mlp\n",
    "mlp = 'modified_mlp'"
   ]
  },
  {
   "cell_type": "code",
   "execution_count": null,
   "id": "0cb3907b-946f-4bf1-bf3e-f9fc67d4f78f",
   "metadata": {},
   "outputs": [
    {
     "data": {
      "text/plain": [
       "SPINN4d(\n",
       "    # attributes\n",
       "    features = (64, 64, 64, 64, 64)\n",
       "    r = 128\n",
       "    out_dim = 3\n",
       "    mlp = 'modified_mlp'\n",
       ")"
      ]
     },
     "execution_count": null,
     "metadata": {},
     "output_type": "execute_result"
    }
   ],
   "source": [
    "model = SPINN4d(feat_sizes, r, out_dim, mlp)\n",
    "model"
   ]
  },
  {
   "cell_type": "code",
   "execution_count": null,
   "id": "d0fcdf5c-ed50-410a-aa51-7f0edec919e2",
   "metadata": {},
   "outputs": [],
   "source": [
    "import jax.numpy as jnp"
   ]
  },
  {
   "cell_type": "code",
   "execution_count": null,
   "id": "8a1003f0-c910-44dd-9abf-7a8fa2a48bf8",
   "metadata": {},
   "outputs": [],
   "source": [
    "# the number of collocation points\n",
    "nc = 32"
   ]
  },
  {
   "cell_type": "code",
   "execution_count": null,
   "id": "ce21abda-2ef1-488b-978c-a3552ece2010",
   "metadata": {},
   "outputs": [],
   "source": [
    "params = model.init(\n",
    "            key,\n",
    "            jnp.ones((nc, 1)),\n",
    "            jnp.ones((nc, 1)),\n",
    "            jnp.ones((nc, 1)),\n",
    "            jnp.ones((nc, 1))\n",
    "        )"
   ]
  },
  {
   "cell_type": "code",
   "execution_count": null,
   "id": "d1b4b182-58a5-497f-a304-16c6b532e7ec",
   "metadata": {},
   "outputs": [
    {
     "data": {
      "text/plain": [
       "<PjitFunction of <bound method Module.apply of SPINN4d(\n",
       "    # attributes\n",
       "    features = (64, 64, 64, 64, 64)\n",
       "    r = 128\n",
       "    out_dim = 3\n",
       "    mlp = 'modified_mlp'\n",
       ")>>"
      ]
     },
     "execution_count": null,
     "metadata": {},
     "output_type": "execute_result"
    }
   ],
   "source": [
    "apply_fn = jax.jit(model.apply)\n",
    "apply_fn"
   ]
  },
  {
   "cell_type": "code",
   "execution_count": null,
   "id": "7b510043-15d2-4bb9-ad80-52f5a078905a",
   "metadata": {},
   "outputs": [
    {
     "data": {
      "text/plain": [
       "150272"
      ]
     },
     "execution_count": null,
     "metadata": {},
     "output_type": "execute_result"
    }
   ],
   "source": [
    "# count total params\n",
    "total_params = sum(x.size for x in jax.tree_util.tree_leaves(params))\n",
    "total_params"
   ]
  },
  {
   "cell_type": "code",
   "execution_count": null,
   "id": "d1e9c469-35de-47b2-9d23-3c3eb1d45a15",
   "metadata": {},
   "outputs": [],
   "source": [
    "# learning rate\n",
    "lr = 1e-3\n",
    "\n",
    "# lbda_c\n",
    "lbda_c = 100\n",
    "\n",
    "# lbda_ic\n",
    "lbda_ic = 10"
   ]
  },
  {
   "cell_type": "code",
   "execution_count": null,
   "id": "0a64d666-42ac-4c4e-983b-cbcf895e09e2",
   "metadata": {},
   "outputs": [
    {
     "data": {
      "text/plain": [
       "'nl5_fs64_lr0.001_s111_r128_lc100_li10_modified_mlp'"
      ]
     },
     "execution_count": null,
     "metadata": {},
     "output_type": "execute_result"
    }
   ],
   "source": [
    "# name model\n",
    "name = [\n",
    "    f'nc{nc}',\n",
    "    f'nl{n_layers}',\n",
    "    f'fs{features}',\n",
    "    f'lr{lr}',\n",
    "    f's{seed}',\n",
    "    f'r{r}',\n",
    "    f'lc{lbda_c}',\n",
    "    f'li{lbda_ic}',\n",
    "    f'{mlp}'\n",
    "]\n",
    "name = '_'.join(name)\n",
    "name"
   ]
  },
  {
   "cell_type": "code",
   "execution_count": null,
   "id": "6bd44d3c-3989-458d-9d3e-28b35fc99f87",
   "metadata": {},
   "outputs": [],
   "source": [
    "import os"
   ]
  },
  {
   "cell_type": "code",
   "execution_count": null,
   "id": "b2fea51a-e81f-4d3c-926d-72d87cf8b079",
   "metadata": {},
   "outputs": [
    {
     "data": {
      "text/plain": [
       "'/home/tensor/workspace/Python_stuff/zpinn/nbs/results/navier_stokes4d/spinn/nl5_fs64_lr0.001_s111_r128_lc100_li10_modified_mlp'"
      ]
     },
     "execution_count": null,
     "metadata": {},
     "output_type": "execute_result"
    }
   ],
   "source": [
    "model_type = 'spinn'\n",
    "equation = 'navier_stokes4d'\n",
    "root_dir = os.path.join(os.getcwd(), 'results', equation, model_type)\n",
    "result_dir = os.path.join(root_dir, name)\n",
    "result_dir"
   ]
  },
  {
   "cell_type": "code",
   "execution_count": null,
   "id": "fd4d5400-2c89-4b35-82ca-61007cd775e8",
   "metadata": {},
   "outputs": [],
   "source": [
    "os.makedirs(result_dir, exist_ok=True)"
   ]
  },
  {
   "cell_type": "code",
   "execution_count": null,
   "id": "e9d0d035-5f06-4399-8fc5-db4ece4d9806",
   "metadata": {},
   "outputs": [],
   "source": [
    "import optax"
   ]
  },
  {
   "cell_type": "code",
   "execution_count": null,
   "id": "fed12fe6-d31b-4cfe-9f85-d515b08fc310",
   "metadata": {},
   "outputs": [],
   "source": [
    "optim = optax.adam(learning_rate=lr)\n",
    "state = optim.init(params)"
   ]
  },
  {
   "cell_type": "code",
   "execution_count": null,
   "id": "c1583d83-d580-4cdf-a869-44c7b528ce00",
   "metadata": {},
   "outputs": [
    {
     "data": {
      "text/plain": [
       "(Array([ 246877504, 3749814588], dtype=uint32),\n",
       " Array([4235481140,  694578851], dtype=uint32))"
      ]
     },
     "execution_count": null,
     "metadata": {},
     "output_type": "execute_result"
    }
   ],
   "source": [
    "key, subkey = jax.random.split(key, 2)\n",
    "key, subkey"
   ]
  },
  {
   "cell_type": "code",
   "execution_count": null,
   "id": "659dfc50-fe4a-46f5-8be3-4bddf151f32a",
   "metadata": {},
   "outputs": [],
   "source": [
    "nu = 0.05"
   ]
  },
  {
   "cell_type": "code",
   "execution_count": null,
   "id": "2ef500fa-d690-4018-9776-e0618e3372c4",
   "metadata": {},
   "outputs": [],
   "source": [
    "from functools import partial"
   ]
  },
  {
   "cell_type": "code",
   "execution_count": null,
   "id": "b633f746-5deb-4631-8570-a1bd9a0597ea",
   "metadata": {},
   "outputs": [],
   "source": [
    "# 3d time-dependent navier-stokes forcing term\n",
    "def navier_stokes4d_forcing_term(t, x, y, z, nu):\n",
    "    # forcing terms in the PDE\n",
    "    # f_x = -24*jnp.exp(-18*nu*t)*jnp.sin(2*y)*jnp.cos(2*y)*jnp.sin(z)*jnp.cos(z)\n",
    "    f_x = -6*jnp.exp(-18*nu*t)*jnp.sin(4*y)*jnp.sin(2*z)\n",
    "    # f_y = -24*jnp.exp(-18*nu*t)*jnp.sin(2*x)*jnp.cos(2*x)*jnp.sin(z)*jnp.cos(z)\n",
    "    f_y = -6*jnp.exp(-18*nu*t)*jnp.sin(4*x)*jnp.sin(2*z)\n",
    "    # f_z = 24*jnp.exp(-18*nu*t)*jnp.sin(2*x)*jnp.cos(2*x)*jnp.sin(2*y)*jnp.cos(2*y)\n",
    "    f_z = 6*jnp.exp(-18*nu*t)*jnp.sin(4*x)*jnp.sin(4*y)\n",
    "    return f_x, f_y, f_z\n",
    "\n",
    "# 3d time-dependent navier-stokes exact vorticity\n",
    "def navier_stokes4d_exact_w(t, x, y, z, nu):\n",
    "    # analytic form of vorticity\n",
    "    w_x = -3*jnp.exp(-9*nu*t)*jnp.sin(2*x)*jnp.cos(2*y)*jnp.cos(z)\n",
    "    w_y = 6*jnp.exp(-9*nu*t)*jnp.cos(2*x)*jnp.sin(2*y)*jnp.cos(z)\n",
    "    w_z = -6*jnp.exp(-9*nu*t)*jnp.cos(2*x)*jnp.cos(2*y)*jnp.sin(z)\n",
    "    return w_x, w_y, w_z\n",
    "\n",
    "\n",
    "# 3d time-dependent navier-stokes exact velocity\n",
    "def navier_stokes4d_exact_u(t, x, y, z, nu):\n",
    "    # analytic form of velocity\n",
    "    u_x = 2*jnp.exp(-9*nu*t)*jnp.cos(2*x)*jnp.sin(2*y)*jnp.sin(z)\n",
    "    u_y = -1*jnp.exp(-9*nu*t)*jnp.sin(2*x)*jnp.cos(2*y)*jnp.sin(z)\n",
    "    u_z = -2*jnp.exp(-9*nu*t)*jnp.sin(2*x)*jnp.sin(2*y)*jnp.cos(z)\n",
    "    return u_x, u_y, u_z"
   ]
  },
  {
   "cell_type": "code",
   "execution_count": null,
   "id": "93c0d2a0-1f7d-4698-af84-e29e8cb1e2ed",
   "metadata": {},
   "outputs": [],
   "source": [
    "#======================== Navier-Stokes equation 4-d ========================#\n",
    "#---------------------------------- SPINN -----------------------------------#\n",
    "@partial(jax.jit, static_argnums=(0,))\n",
    "def _spinn_train_generator_navier_stokes4d(nc, nu, key):\n",
    "    keys = jax.random.split(key, 4)\n",
    "    \n",
    "    # collocation points\n",
    "    tc = jax.random.uniform(keys[0], (nc, 1), minval=0., maxval=5.)\n",
    "    xc = jax.random.uniform(keys[1], (nc, 1), minval=0., maxval=2.*jnp.pi)\n",
    "    yc = jax.random.uniform(keys[2], (nc, 1), minval=0., maxval=2.*jnp.pi)\n",
    "    zc = jax.random.uniform(keys[3], (nc, 1), minval=0., maxval=2.*jnp.pi)\n",
    "\n",
    "    tcm, xcm, ycm, zcm = jnp.meshgrid(\n",
    "        tc.ravel(), xc.ravel(), yc.ravel(), zc.ravel(), indexing='ij'\n",
    "    )\n",
    "    fc = navier_stokes4d_forcing_term(tcm, xcm, ycm, zcm, nu)\n",
    "\n",
    "    # initial points\n",
    "    ti = jnp.zeros((1, 1))\n",
    "    xi = xc\n",
    "    yi = yc\n",
    "    zi = zc\n",
    "    tim, xim, yim, zim = jnp.meshgrid(\n",
    "        ti.ravel(), xi.ravel(), yi.ravel(), zi.ravel(), indexing='ij'\n",
    "    )\n",
    "    wi = navier_stokes4d_exact_w(tim, xim, yim, zim, nu)\n",
    "    ui = navier_stokes4d_exact_u(tim, xim, yim, zim, nu)\n",
    "    \n",
    "    # boundary points (hard-coded)\n",
    "    tb = [tc, tc, tc, tc, tc, tc]\n",
    "    xb = [jnp.array([[-1.]]), jnp.array([[1.]]), xc, xc, xc, xc]\n",
    "    yb = [yc, yc, jnp.array([[-1.]]), jnp.array([[1.]]), yc, yc]\n",
    "    zb = [zc, zc, zc, zc, jnp.array([[-1.]]), jnp.array([[1.]])]\n",
    "    wb = []\n",
    "    for i in range(6):\n",
    "        tbm, xbm, ybm, zbm = jnp.meshgrid(\n",
    "            tb[i].ravel(), xb[i].ravel(), yb[i].ravel(), zb[i].ravel(), indexing='ij'\n",
    "        )\n",
    "        wb += [navier_stokes4d_exact_w(tbm, xbm, ybm, zbm, nu)]\n",
    "    return tc, xc, yc, zc, fc, ti, xi, yi, zi, wi, ui, tb, xb, yb, zb, wb"
   ]
  },
  {
   "cell_type": "code",
   "execution_count": null,
   "id": "bae5441d-f61c-42e5-a00b-2b36db58ce06",
   "metadata": {},
   "outputs": [],
   "source": [
    "train_data = _spinn_train_generator_navier_stokes4d(nc, nu, subkey)"
   ]
  },
  {
   "cell_type": "code",
   "execution_count": null,
   "id": "78aad852-7c50-4c8e-80e7-443f8a28b9cf",
   "metadata": {},
   "outputs": [],
   "source": [
    "# the number of collocation points\n",
    "nc_test = 20"
   ]
  },
  {
   "cell_type": "code",
   "execution_count": null,
   "id": "fa8f5971-cee1-4328-93c1-a8fdf45e2367",
   "metadata": {},
   "outputs": [],
   "source": [
    "#----------------------- Navier-Stokes equation 4-d -------------------------#\n",
    "@partial(jax.jit, static_argnums=(0, 1,))\n",
    "def _test_generator_navier_stokes4d(nc_test, nu):\n",
    "    t = jnp.linspace(0, 5, nc_test)\n",
    "    x = jnp.linspace(0, 2*jnp.pi, nc_test)\n",
    "    y = jnp.linspace(0, 2*jnp.pi, nc_test)\n",
    "    z = jnp.linspace(0, 2*jnp.pi, nc_test)\n",
    "    t = jax.lax.stop_gradient(t)\n",
    "    x = jax.lax.stop_gradient(x)\n",
    "    y = jax.lax.stop_gradient(y)\n",
    "    z = jax.lax.stop_gradient(z)\n",
    "    tm, xm, ym, zm = jnp.meshgrid(\n",
    "        t, x, y, z, indexing='ij'\n",
    "    )\n",
    "    w_gt = navier_stokes4d_exact_w(tm, xm, ym, zm, nu)\n",
    "    t = t.reshape(-1, 1)\n",
    "    x = x.reshape(-1, 1)\n",
    "    y = y.reshape(-1, 1)\n",
    "    z = z.reshape(-1, 1)\n",
    "    return t, x, y, z, w_gt"
   ]
  },
  {
   "cell_type": "code",
   "execution_count": null,
   "id": "56817324-cf56-468f-a952-c9e52043a4c3",
   "metadata": {},
   "outputs": [
    {
     "data": {
      "text/plain": [
       "(20, 1)"
      ]
     },
     "execution_count": null,
     "metadata": {},
     "output_type": "execute_result"
    }
   ],
   "source": [
    "test_data = _test_generator_navier_stokes4d(nc_test, nu)\n",
    "test_data[1].shape"
   ]
  },
  {
   "cell_type": "code",
   "execution_count": null,
   "id": "5211650c-3721-4447-b418-143acde3c236",
   "metadata": {},
   "outputs": [],
   "source": [
    "def relative_l2(u, u_gt):\n",
    "    return jnp.linalg.norm(u-u_gt) / jnp.linalg.norm(u_gt)\n",
    "\n",
    "def vorx(apply_fn, params, t, x, y, z):\n",
    "    # vorticity vector w/ forward-mode AD\n",
    "    # w_x = uz_y - uy_z\n",
    "    vec_z = jnp.ones(z.shape)\n",
    "    vec_y = jnp.ones(y.shape)\n",
    "    uy_z = jvp(lambda z: apply_fn(params, t, x, y, z)[1], (z,), (vec_z,))[1]\n",
    "    uz_y = jvp(lambda y: apply_fn(params, t, x, y, z)[2], (y,), (vec_y,))[1]\n",
    "    wx = uz_y - uy_z\n",
    "    return wx\n",
    "\n",
    "\n",
    "def vory(apply_fn, params, t, x, y, z):\n",
    "    # vorticity vector w/ forward-mode AD\n",
    "    # w_y = ux_z - uz_x\n",
    "    vec_z = jnp.ones(z.shape)\n",
    "    vec_x = jnp.ones(x.shape)\n",
    "    ux_z = jvp(lambda z: apply_fn(params, t, x, y, z)[0], (z,), (vec_z,))[1]\n",
    "    uz_x = jvp(lambda x: apply_fn(params, t, x, y, z)[2], (x,), (vec_x,))[1]\n",
    "    wy = ux_z - uz_x\n",
    "    return wy\n",
    "\n",
    "def vorz(apply_fn, params, t, x, y, z):\n",
    "    # vorticity vector w/ forward-mode AD\n",
    "    # w_z = uy_x - ux_y\n",
    "    vec_y = jnp.ones(y.shape)\n",
    "    vec_x = jnp.ones(x.shape)\n",
    "    ux_y = jvp(lambda y: apply_fn(params, t, x, y, z)[0], (y,), (vec_y,))[1]\n",
    "    uy_x = jvp(lambda x: apply_fn(params, t, x, y, z)[1], (x,), (vec_x,))[1]\n",
    "    wz = uy_x - ux_y\n",
    "    return wz\n",
    "    \n",
    "@partial(jax.jit, static_argnums=(0,))\n",
    "def _eval_ns4d(apply_fn, params, *test_data):\n",
    "    t, x, y, z, w_gt = test_data\n",
    "    error = 0\n",
    "    wx = vorx(apply_fn, params, t, x, y, z)\n",
    "    wy = vory(apply_fn, params, t, x, y, z)\n",
    "    wz = vorz(apply_fn, params, t, x, y, z)\n",
    "    error = relative_l2(wx, w_gt[0]) + relative_l2(wy, w_gt[1]) + relative_l2(wz, w_gt[2])\n",
    "    return error / 3"
   ]
  },
  {
   "cell_type": "code",
   "execution_count": null,
   "id": "b6c6ca50-73d1-4a89-8460-f50282f7533d",
   "metadata": {},
   "outputs": [],
   "source": [
    "# evaluation function\n",
    "eval_fn = _eval_ns4d"
   ]
  },
  {
   "cell_type": "code",
   "execution_count": null,
   "id": "abbbcb14",
   "metadata": {},
   "outputs": [],
   "source": [
    "from jax import jvp\n",
    "\n",
    "def hvp_fwdfwd(f, primals, tangents, return_primals=False):\n",
    "    g = lambda primals: jvp(f, (primals,), tangents)[1]\n",
    "    primals_out, tangents_out = jvp(g, primals, tangents)\n",
    "    if return_primals:\n",
    "        return primals_out, tangents_out\n",
    "    else:\n",
    "        return tangents_out"
   ]
  },
  {
   "cell_type": "code",
   "execution_count": null,
   "id": "d0ee64db-2f01-4365-ab76-9a3f831bf152",
   "metadata": {},
   "outputs": [],
   "source": [
    "@partial(jax.jit, static_argnums=(0,))\n",
    "def apply_model_spinn(apply_fn, params, nu, lbda_c, lbda_ic, *train_data):\n",
    "    def residual_loss(params, t, x, y, z, f):\n",
    "        # calculate u\n",
    "        ux, uy, uz = apply_fn(params, t, x, y, z)\n",
    "        \n",
    "        # calculate w (3D vorticity vector)\n",
    "        wx = vorx(apply_fn, params, t, x, y, z)\n",
    "        wy = vory(apply_fn, params, t, x, y, z)\n",
    "        wz = vorz(apply_fn, params, t, x, y, z)\n",
    "        \n",
    "        # tangent vector dx/dx\n",
    "        # assumes t, x, y, z have same shape (very important)\n",
    "        vec = jnp.ones(t.shape)\n",
    "\n",
    "        # x-component\n",
    "        wx_t = jvp(lambda t: vorx(apply_fn, params, t, x, y, z), (t,), (vec,))[1]\n",
    "        wx_x, wx_xx = hvp_fwdfwd(lambda x: vorx(apply_fn, params, t, x, y, z), (x,), (vec,), True)\n",
    "        wx_y, wx_yy = hvp_fwdfwd(lambda y: vorx(apply_fn, params, t, x, y, z), (y,), (vec,), True)\n",
    "        wx_z, wx_zz = hvp_fwdfwd(lambda z: vorx(apply_fn, params, t, x, y, z), (z,), (vec,), True)\n",
    "        \n",
    "        ux_x = jvp(lambda x: apply_fn(params, t, x, y, z)[0], (x,), (vec,))[1]\n",
    "        ux_y = jvp(lambda y: apply_fn(params, t, x, y, z)[0], (y,), (vec,))[1]\n",
    "        ux_z = jvp(lambda z: apply_fn(params, t, x, y, z)[0], (z,), (vec,))[1]\n",
    "\n",
    "        loss_x = jnp.mean((wx_t + ux*wx_x + uy*wx_y + uz*wx_z - \\\n",
    "             (wx*ux_x + wy*ux_y + wz*ux_z) - \\\n",
    "                nu*(wx_xx + wx_yy + wx_zz) - \\\n",
    "                    f[0])**2)\n",
    "\n",
    "        # y-component\n",
    "        wy_t = jvp(lambda t: vory(apply_fn, params, t, x, y, z), (t,), (vec,))[1]\n",
    "        wy_x, wy_xx = hvp_fwdfwd(lambda x: vory(apply_fn, params, t, x, y, z), (x,), (vec,), True)\n",
    "        wy_y, wy_yy = hvp_fwdfwd(lambda y: vory(apply_fn, params, t, x, y, z), (y,), (vec,), True)\n",
    "        wy_z, wy_zz = hvp_fwdfwd(lambda z: vory(apply_fn, params, t, x, y, z), (z,), (vec,), True)\n",
    "        \n",
    "        uy_x = jvp(lambda x: apply_fn(params, t, x, y, z)[1], (x,), (vec,))[1]\n",
    "        uy_y = jvp(lambda y: apply_fn(params, t, x, y, z)[1], (y,), (vec,))[1]\n",
    "        uy_z = jvp(lambda z: apply_fn(params, t, x, y, z)[1], (z,), (vec,))[1]\n",
    "\n",
    "        loss_y = jnp.mean((wy_t + ux*wy_x + uy*wy_y + uz*wy_z - \\\n",
    "             (wx*uy_x + wy*uy_y + wz*uy_z) - \\\n",
    "                nu*(wy_xx + wy_yy + wy_zz) - \\\n",
    "                    f[1])**2)\n",
    "\n",
    "        # z-component\n",
    "        wz_t = jvp(lambda t: vorz(apply_fn, params, t, x, y, z), (t,), (vec,))[1]\n",
    "        wz_x, wz_xx = hvp_fwdfwd(lambda x: vorz(apply_fn, params, t, x, y, z), (x,), (vec,), True)\n",
    "        wz_y, wz_yy = hvp_fwdfwd(lambda y: vorz(apply_fn, params, t, x, y, z), (y,), (vec,), True)\n",
    "        wz_z, wz_zz = hvp_fwdfwd(lambda z: vorz(apply_fn, params, t, x, y, z), (z,), (vec,), True)\n",
    "        \n",
    "        uz_x = jvp(lambda x: apply_fn(params, t, x, y, z)[2], (x,), (vec,))[1]\n",
    "        uz_y = jvp(lambda y: apply_fn(params, t, x, y, z)[2], (y,), (vec,))[1]\n",
    "        uz_z = jvp(lambda z: apply_fn(params, t, x, y, z)[2], (z,), (vec,))[1]\n",
    "\n",
    "        loss_z = jnp.mean((wz_t + ux*wz_x + uy*wz_y + uz*wz_z - \\\n",
    "             (wx*uz_x + wy*uz_y + wz*uz_z) - \\\n",
    "                nu*(wz_xx + wz_yy + wz_zz) - \\\n",
    "                    f[2])**2)\n",
    "\n",
    "        loss_c = jnp.mean((ux_x + uy_y + uz_z)**2)\n",
    "\n",
    "        return loss_x + loss_y + loss_z + lbda_c*loss_c\n",
    "\n",
    "    def initial_loss(params, t, x, y, z, w, u):\n",
    "        ux, uy, uz = apply_fn(params, t, x, y, z)\n",
    "        wx = vorx(apply_fn, params, t, x, y, z)\n",
    "        wy = vory(apply_fn, params, t, x, y, z)\n",
    "        wz = vorz(apply_fn, params, t, x, y, z)\n",
    "        loss = jnp.mean((wx - w[0])**2) + jnp.mean((wy - w[1])**2) + jnp.mean((wz - w[2])**2)\n",
    "        loss += jnp.mean((ux - u[0])**2) + jnp.mean((uy - u[1])**2) + jnp.mean((uz - u[2])**2)\n",
    "        return loss\n",
    "\n",
    "    def boundary_loss(params, t, x, y, z, w):\n",
    "        loss = 0.\n",
    "        for i in range(6):\n",
    "            wx = vorx(apply_fn, params, t[i], x[i], y[i], z[i])\n",
    "            wy = vory(apply_fn, params, t[i], x[i], y[i], z[i])\n",
    "            wz = vorz(apply_fn, params, t[i], x[i], y[i], z[i])\n",
    "            loss += (1/6.) * jnp.mean((wx - w[i][0])**2) + jnp.mean((wy - w[i][1])**2) + jnp.mean((wz - w[i][2])**2)\n",
    "        return loss\n",
    "\n",
    "    # unpack data\n",
    "    tc, xc, yc, zc, fc, ti, xi, yi, zi, wi, ui, tb, xb, yb, zb, wb = train_data\n",
    "\n",
    "    # isolate loss func from redundant arguments\n",
    "    loss_fn = lambda params: residual_loss(params, tc, xc, yc, zc, fc) + \\\n",
    "                        lbda_ic*initial_loss(params, ti, xi, yi, zi, wi, ui) + \\\n",
    "                        boundary_loss(params, tb, xb, yb, zb, wb)\n",
    "\n",
    "    loss, gradient = jax.value_and_grad(loss_fn)(params)\n",
    "\n",
    "    return loss, gradient"
   ]
  },
  {
   "cell_type": "code",
   "execution_count": null,
   "id": "9ff30a0b",
   "metadata": {},
   "outputs": [],
   "source": [
    "@partial(jax.jit, static_argnums=(0,))\n",
    "def update_model(optim, gradient, params, state):\n",
    "    updates, state = optim.update(gradient, state)\n",
    "    params = optax.apply_updates(params, updates)\n",
    "    return params, state"
   ]
  },
  {
   "cell_type": "code",
   "execution_count": null,
   "id": "d074b068-60b2-4363-8746-a2cda5c542e7",
   "metadata": {},
   "outputs": [],
   "source": [
    "loss, gradient = apply_model_spinn(apply_fn, params, nu, lbda_c, lbda_ic, *train_data)"
   ]
  },
  {
   "cell_type": "code",
   "execution_count": null,
   "id": "308c0b43-270f-4017-accd-3fdc1469122a",
   "metadata": {},
   "outputs": [],
   "source": [
    "params, state = update_model(optim, gradient, params, state)"
   ]
  },
  {
   "cell_type": "code",
   "execution_count": null,
   "id": "4028618b",
   "metadata": {},
   "outputs": [],
   "source": [
    "error = eval_fn(apply_fn, params, *test_data)"
   ]
  },
  {
   "cell_type": "code",
   "execution_count": null,
   "id": "bf4a1666",
   "metadata": {},
   "outputs": [
    {
     "name": "stdout",
     "output_type": "stream",
     "text": [
      "total loss: 134.97689819, error: 1.00003636\n"
     ]
    }
   ],
   "source": [
    "print(f'total loss: {loss:.8f}, error: {error:.8f}')"
   ]
  },
  {
   "cell_type": "code",
   "execution_count": null,
   "id": "78e16547",
   "metadata": {},
   "outputs": [],
   "source": [
    "import matplotlib.pyplot as plt"
   ]
  },
  {
   "cell_type": "code",
   "execution_count": null,
   "id": "49eae71f",
   "metadata": {},
   "outputs": [],
   "source": [
    "def _navier_stokes4d(apply_fn, params, test_data, result_dir, e):\n",
    "    print(\"visualizing solution...\")\n",
    "\n",
    "    os.makedirs(os.path.join(result_dir, f'vis/{e:05d}'), exist_ok=True)\n",
    "\n",
    "    fig = plt.figure(figsize=(30, 5))\n",
    "    for t, sub in zip([0, 1, 2, 3, 4, 5], [161, 162, 163, 164, 165, 166]):\n",
    "        t = jnp.array([[t]])\n",
    "        x = jnp.linspace(0, 2*jnp.pi, 4).reshape(-1, 1)\n",
    "        y = jnp.linspace(0, 2*jnp.pi, 30).reshape(-1, 1)\n",
    "        z = jnp.linspace(0, 2*jnp.pi, 30).reshape(-1, 1)\n",
    "        wx = vorx(apply_fn, params, t, x, y, z)\n",
    "        wy = vory(apply_fn, params, t, x, y, z)\n",
    "        wz = vorz(apply_fn, params, t, x, y, z)\n",
    "\n",
    "        # c = jnp.sqrt(u_x**2 + u_y**2 + u_z**2)   # magnitude\n",
    "        c = jnp.arctan2(wy, wz)    # zenith angle\n",
    "        c = (c.ravel() - c.min()) / c.ptp()\n",
    "        c = jnp.concatenate((c, jnp.repeat(c, 2)))\n",
    "        c = plt.cm.plasma(c)\n",
    "\n",
    "        x, y, z = jnp.meshgrid(jnp.squeeze(x), jnp.squeeze(y), jnp.squeeze(z), indexing='ij')\n",
    "\n",
    "        ax = fig.add_subplot(sub, projection='3d')\n",
    "        ax.quiver(x, y, z, jnp.squeeze(wx), jnp.squeeze(wy), jnp.squeeze(wz), length=0.1, colors=c, alpha=1, linewidth=0.7)\n",
    "        plt.title(f't={jnp.squeeze(t)}')\n",
    "    \n",
    "    plt.savefig(os.path.join(result_dir, f'vis/{e:05d}/pred.png'))\n",
    "    plt.close()"
   ]
  },
  {
   "cell_type": "code",
   "execution_count": null,
   "id": "39ee7ffa",
   "metadata": {},
   "outputs": [
    {
     "name": "stdout",
     "output_type": "stream",
     "text": [
      "visualizing solution...\n"
     ]
    }
   ],
   "source": [
    "_navier_stokes4d(apply_fn, params, test_data, result_dir, e=1)"
   ]
  },
  {
   "cell_type": "code",
   "execution_count": null,
   "id": "b7b8d629-85ca-448e-b60e-066f2d569def",
   "metadata": {},
   "outputs": [],
   "source": [
    "epochs = 1000"
   ]
  },
  {
   "cell_type": "code",
   "execution_count": null,
   "id": "605b8ad0-e8dd-44b6-9f18-7054a7ebc225",
   "metadata": {},
   "outputs": [],
   "source": [
    "import time\n",
    "from tqdm import trange"
   ]
  },
  {
   "cell_type": "code",
   "execution_count": null,
   "id": "a5d29fee",
   "metadata": {},
   "outputs": [],
   "source": [
    "log_iter = 100\n",
    "plot_iter = 100\n",
    "best = 100000. # best error"
   ]
  },
  {
   "cell_type": "code",
   "execution_count": null,
   "id": "3eb9d055",
   "metadata": {},
   "outputs": [
    {
     "name": "stderr",
     "output_type": "stream",
     "text": [
      " 10%|▉         | 99/1000 [00:10<01:31,  9.89it/s]"
     ]
    },
    {
     "name": "stdout",
     "output_type": "stream",
     "text": [
      "Epoch: 100/1000 --> total loss: 95.65531158, error: 0.90177166, best error 0.91455835\n",
      "visualizing solution...\n"
     ]
    },
    {
     "name": "stderr",
     "output_type": "stream",
     "text": [
      " 20%|█▉        | 199/1000 [00:23<01:20,  9.98it/s]"
     ]
    },
    {
     "name": "stdout",
     "output_type": "stream",
     "text": [
      "Epoch: 200/1000 --> total loss: 41.20937347, error: 0.70664871, best error 0.74622047\n",
      "visualizing solution...\n"
     ]
    },
    {
     "name": "stderr",
     "output_type": "stream",
     "text": [
      " 30%|██▉       | 299/1000 [00:36<01:10,  9.92it/s]"
     ]
    },
    {
     "name": "stdout",
     "output_type": "stream",
     "text": [
      "Epoch: 300/1000 --> total loss: 26.06181145, error: 0.51984829, best error 0.50875151\n",
      "visualizing solution...\n"
     ]
    },
    {
     "name": "stderr",
     "output_type": "stream",
     "text": [
      " 40%|███▉      | 399/1000 [00:49<01:00,  9.93it/s]"
     ]
    },
    {
     "name": "stdout",
     "output_type": "stream",
     "text": [
      "Epoch: 400/1000 --> total loss: 3.93560553, error: 0.26011056, best error 0.26011056\n",
      "visualizing solution...\n"
     ]
    },
    {
     "name": "stderr",
     "output_type": "stream",
     "text": [
      " 50%|████▉     | 499/1000 [01:02<00:53,  9.30it/s]"
     ]
    },
    {
     "name": "stdout",
     "output_type": "stream",
     "text": [
      "Epoch: 500/1000 --> total loss: 1.66154373, error: 0.17931287, best error 0.19282588\n",
      "visualizing solution...\n"
     ]
    },
    {
     "name": "stderr",
     "output_type": "stream",
     "text": [
      " 60%|█████▉    | 598/1000 [01:14<00:42,  9.53it/s]"
     ]
    },
    {
     "name": "stdout",
     "output_type": "stream",
     "text": [
      "Epoch: 600/1000 --> total loss: 2.47873926, error: 0.17698327, best error 0.19282588\n",
      "visualizing solution...\n"
     ]
    },
    {
     "name": "stderr",
     "output_type": "stream",
     "text": [
      " 70%|██████▉   | 699/1000 [01:27<00:31,  9.62it/s]"
     ]
    },
    {
     "name": "stdout",
     "output_type": "stream",
     "text": [
      "Epoch: 700/1000 --> total loss: 1.57854688, error: 0.13691574, best error 0.19282588\n",
      "visualizing solution...\n"
     ]
    },
    {
     "name": "stderr",
     "output_type": "stream",
     "text": [
      " 80%|███████▉  | 799/1000 [01:40<00:20,  9.97it/s]"
     ]
    },
    {
     "name": "stdout",
     "output_type": "stream",
     "text": [
      "Epoch: 800/1000 --> total loss: 1.02764773, error: 0.13225016, best error 0.13567518\n",
      "visualizing solution...\n"
     ]
    },
    {
     "name": "stderr",
     "output_type": "stream",
     "text": [
      " 90%|████████▉ | 899/1000 [01:53<00:10,  9.98it/s]"
     ]
    },
    {
     "name": "stdout",
     "output_type": "stream",
     "text": [
      "Epoch: 900/1000 --> total loss: 0.87361717, error: 0.11081986, best error 0.11430246\n",
      "visualizing solution...\n"
     ]
    },
    {
     "name": "stderr",
     "output_type": "stream",
     "text": [
      "100%|█████████▉| 999/1000 [02:05<00:00, 10.06it/s]"
     ]
    },
    {
     "name": "stdout",
     "output_type": "stream",
     "text": [
      "Epoch: 1000/1000 --> total loss: 0.47723839, error: 0.09555665, best error 0.09825733\n",
      "visualizing solution...\n"
     ]
    },
    {
     "name": "stderr",
     "output_type": "stream",
     "text": [
      "100%|██████████| 1000/1000 [02:07<00:00,  7.81it/s]\n"
     ]
    }
   ],
   "source": [
    "for e in trange(1, epochs + 1):\n",
    "    if e == 2:\n",
    "        # exclude compiling time\n",
    "        start = time.time()\n",
    "    if e % 100 == 0:\n",
    "        # sample new input data\n",
    "        key, subkey = jax.random.split(key, 2)\n",
    "        train_data = _spinn_train_generator_navier_stokes4d(nc, nu, subkey)\n",
    "\n",
    "    loss, gradient = apply_model_spinn(apply_fn, params, nu, lbda_c, lbda_ic, *train_data)\n",
    "    params, state = update_model(optim, gradient, params, state)\n",
    "\n",
    "    if e % 10 == 0:\n",
    "        if loss < best:\n",
    "            best = loss\n",
    "            best_error = eval_fn(apply_fn, params, *test_data)\n",
    "\n",
    "    # log\n",
    "    if e % log_iter == 0:\n",
    "        error = eval_fn(apply_fn, params, *test_data)\n",
    "        print(f'Epoch: {e}/{epochs} --> total loss: {loss:.8f}, error: {error:.8f}, best error {best_error:.8f}')\n",
    "        with open(os.path.join(result_dir, 'log (loss, error).csv'), 'a') as f:\n",
    "            f.write(f'{loss}, {error}, {best_error}\\n')\n",
    "\n",
    "    # visualization\n",
    "    if e % plot_iter == 0:\n",
    "        _navier_stokes4d(apply_fn, params, test_data, result_dir, e)"
   ]
  },
  {
   "cell_type": "code",
   "execution_count": null,
   "id": "9f881a53-77b7-4601-9318-d8c7aa7d42db",
   "metadata": {},
   "outputs": [],
   "source": []
  }
 ],
 "metadata": {
  "kernelspec": {
   "display_name": "python3",
   "language": "python",
   "name": "python3"
  }
 },
 "nbformat": 4,
 "nbformat_minor": 5
}
