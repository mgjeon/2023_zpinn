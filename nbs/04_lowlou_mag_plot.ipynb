{
 "cells": [
  {
   "cell_type": "markdown",
   "id": "9a341c0d-eebf-4911-bebc-3e7fa94a1dfc",
   "metadata": {},
   "source": [
    "# Low and Lou NLFFF visualization\n",
    "> Draw field lines"
   ]
  },
  {
   "cell_type": "code",
   "execution_count": null,
   "id": "50bde2dd-d028-48f2-9fac-539de6dd7eef",
   "metadata": {},
   "outputs": [],
   "source": [
    "import numpy as np\n",
    "import pyvista as pv\n",
    "import matplotlib.pyplot as plt"
   ]
  },
  {
   "cell_type": "code",
   "execution_count": null,
   "id": "9ee5cfce-0061-40e0-b628-dc259ebcc0ef",
   "metadata": {},
   "outputs": [],
   "source": [
    "#| eval:false\n",
    "pv.start_xvfb()\n",
    "pv.global_theme.trame.server_proxy_enabled = True"
   ]
  },
  {
   "cell_type": "code",
   "execution_count": null,
   "id": "217b336e-4997-4be2-bb94-3a4452f375ae",
   "metadata": {},
   "outputs": [],
   "source": [
    "from zpinn.lowloumag import LowLouMag"
   ]
  },
  {
   "cell_type": "code",
   "execution_count": null,
   "id": "29cdf57d-49be-488e-a318-23a91fa26ec2",
   "metadata": {},
   "outputs": [
    {
     "data": {
      "text/markdown": [
       "### Low and Lou (1990) NLFFF\n",
       "bounds = [-1, 1, -1, 1, 0, 2]<br>\n",
       "resolutions = [64, 64, 64]<br>\n",
       "n = 1<br>\n",
       "m = 1<br>\n",
       "l = 0.3<br>\n",
       "Phi = 1.5707963267948966<br>\n"
      ],
      "text/plain": [
       "<zpinn.lowloumag.LowLouMag>"
      ]
     },
     "execution_count": null,
     "metadata": {},
     "output_type": "execute_result"
    }
   ],
   "source": [
    "b = LowLouMag()\n",
    "b"
   ]
  },
  {
   "cell_type": "code",
   "execution_count": null,
   "id": "0749a504-251a-41b3-8777-659b6686624f",
   "metadata": {},
   "outputs": [],
   "source": [
    "b.calculate()"
   ]
  },
  {
   "cell_type": "code",
   "execution_count": null,
   "id": "c6cda3c3-58f8-4985-8f9b-3e7ec01b20ac",
   "metadata": {},
   "outputs": [
    {
     "data": {
      "text/html": [
       "<table><tr><th>Header</th><th>Data Arrays</th></tr><tr><td>\n",
       "<table>\n",
       "<tr><th>ImageData</th><th>Information</th></tr>\n",
       "<tr><td>N Cells</td><td>250047</td></tr>\n",
       "<tr><td>N Points</td><td>262144</td></tr>\n",
       "<tr><td>X Bounds</td><td>-1.000e+00, 1.000e+00</td></tr>\n",
       "<tr><td>Y Bounds</td><td>-1.000e+00, 1.000e+00</td></tr>\n",
       "<tr><td>Z Bounds</td><td>0.000e+00, 2.000e+00</td></tr>\n",
       "<tr><td>Dimensions</td><td>64, 64, 64</td></tr>\n",
       "<tr><td>Spacing</td><td>3.175e-02, 3.175e-02, 3.175e-02</td></tr>\n",
       "<tr><td>N Arrays</td><td>3</td></tr>\n",
       "</table>\n",
       "\n",
       "</td><td>\n",
       "<table>\n",
       "<tr><th>Name</th><th>Field</th><th>Type</th><th>N Comp</th><th>Min</th><th>Max</th></tr>\n",
       "<tr><td>B</td><td>Points</td><td>float64</td><td>3</td><td>-1.419e+02</td><td>2.308e+02</td></tr>\n",
       "<tr><td><b>mag</b></td><td>Points</td><td>float64</td><td>1</td><td>3.360e-01</td><td>2.315e+02</td></tr>\n",
       "<tr><td>alpha</td><td>Points</td><td>float64</td><td>1</td><td>-9.731e+00</td><td>9.731e+00</td></tr>\n",
       "</table>\n",
       "\n",
       "</td></tr> </table>"
      ],
      "text/plain": [
       "ImageData (0x7fd2f43c2920)\n",
       "  N Cells:      250047\n",
       "  N Points:     262144\n",
       "  X Bounds:     -1.000e+00, 1.000e+00\n",
       "  Y Bounds:     -1.000e+00, 1.000e+00\n",
       "  Z Bounds:     0.000e+00, 2.000e+00\n",
       "  Dimensions:   64, 64, 64\n",
       "  Spacing:      3.175e-02, 3.175e-02, 3.175e-02\n",
       "  N Arrays:     3"
      ]
     },
     "execution_count": null,
     "metadata": {},
     "output_type": "execute_result"
    }
   ],
   "source": [
    "b.grid"
   ]
  },
  {
   "cell_type": "code",
   "execution_count": null,
   "id": "7699fa9d-f774-41dd-9551-9472fbad983f",
   "metadata": {},
   "outputs": [],
   "source": [
    "x_ind_min, y_ind_min, z_ind_min = 0, 0, 0\n",
    "Nx, Ny, Nz = b.grid.dimensions\n",
    "x_ind_max, y_ind_max, z_ind_max = Nx-1, Ny-1, Nz-1\n",
    "\n",
    "bottom_subset = (x_ind_min, x_ind_max, y_ind_min, y_ind_max, 0, 0)"
   ]
  },
  {
   "cell_type": "code",
   "execution_count": null,
   "id": "e15b18ba-cba2-44ba-9b7a-23e489c160d3",
   "metadata": {},
   "outputs": [
    {
     "data": {
      "text/html": [
       "<table><tr><th>Header</th><th>Data Arrays</th></tr><tr><td>\n",
       "<table>\n",
       "<tr><th>ImageData</th><th>Information</th></tr>\n",
       "<tr><td>N Cells</td><td>3969</td></tr>\n",
       "<tr><td>N Points</td><td>4096</td></tr>\n",
       "<tr><td>X Bounds</td><td>-1.000e+00, 1.000e+00</td></tr>\n",
       "<tr><td>Y Bounds</td><td>-1.000e+00, 1.000e+00</td></tr>\n",
       "<tr><td>Z Bounds</td><td>0.000e+00, 0.000e+00</td></tr>\n",
       "<tr><td>Dimensions</td><td>64, 64, 1</td></tr>\n",
       "<tr><td>Spacing</td><td>3.175e-02, 3.175e-02, 3.175e-02</td></tr>\n",
       "<tr><td>N Arrays</td><td>3</td></tr>\n",
       "</table>\n",
       "\n",
       "</td><td>\n",
       "<table>\n",
       "<tr><th>Name</th><th>Field</th><th>Type</th><th>N Comp</th><th>Min</th><th>Max</th></tr>\n",
       "<tr><td>B</td><td>Points</td><td>float64</td><td>3</td><td>-1.419e+02</td><td>2.308e+02</td></tr>\n",
       "<tr><td><b>mag</b></td><td>Points</td><td>float64</td><td>1</td><td>2.433e+00</td><td>2.315e+02</td></tr>\n",
       "<tr><td>alpha</td><td>Points</td><td>float64</td><td>1</td><td>-9.731e+00</td><td>9.731e+00</td></tr>\n",
       "</table>\n",
       "\n",
       "</td></tr> </table>"
      ],
      "text/plain": [
       "ImageData (0x7fd2cbcebdc0)\n",
       "  N Cells:      3969\n",
       "  N Points:     4096\n",
       "  X Bounds:     -1.000e+00, 1.000e+00\n",
       "  Y Bounds:     -1.000e+00, 1.000e+00\n",
       "  Z Bounds:     0.000e+00, 0.000e+00\n",
       "  Dimensions:   64, 64, 1\n",
       "  Spacing:      3.175e-02, 3.175e-02, 3.175e-02\n",
       "  N Arrays:     3"
      ]
     },
     "execution_count": null,
     "metadata": {},
     "output_type": "execute_result"
    }
   ],
   "source": [
    "bottom = b.grid.extract_subset(bottom_subset)\n",
    "bottom.active_vectors_name = 'B'\n",
    "bottom.active_scalars_name = 'mag'\n",
    "bottom"
   ]
  },
  {
   "cell_type": "code",
   "execution_count": null,
   "id": "3ece6f77-1883-4cba-a2a7-b002b8b68928",
   "metadata": {},
   "outputs": [
    {
     "data": {
      "text/plain": [
       "((4096,), (4096,), (4096, 3), (4096,))"
      ]
     },
     "execution_count": null,
     "metadata": {},
     "output_type": "execute_result"
    }
   ],
   "source": [
    "bottom.x.shape, bottom.y.shape, bottom['B'].shape, bottom['alpha'].shape"
   ]
  },
  {
   "cell_type": "code",
   "execution_count": null,
   "id": "1e411ef4-6214-4a02-8778-c9869c6f05b1",
   "metadata": {},
   "outputs": [
    {
     "data": {
      "text/plain": [
       "((64, 64), (64, 64), (64, 64, 3), (64, 64))"
      ]
     },
     "execution_count": null,
     "metadata": {},
     "output_type": "execute_result"
    }
   ],
   "source": [
    "x_bottom = bottom.x.reshape(Nx, Ny)\n",
    "y_bottom = bottom.y.reshape(Nx, Ny)\n",
    "B_bottom = bottom['B'].reshape(Nx, Ny, 3)\n",
    "alpha_bottom = bottom['alpha'].reshape(Nx, Ny)\n",
    "\n",
    "x_bottom.shape, y_bottom.shape, B_bottom.shape, alpha_bottom.shape"
   ]
  },
  {
   "cell_type": "code",
   "execution_count": null,
   "id": "9db3e715-7af9-467e-8d3c-0445a1ab7cd2",
   "metadata": {},
   "outputs": [
    {
     "data": {
      "image/png": "[encoded data removed]",
      "text/plain": [
       "<Figure size 600x600 with 1 Axes>"
      ]
     },
     "metadata": {},
     "output_type": "display_data"
    }
   ],
   "source": [
    "#| eval:false\n",
    "plt.close()\n",
    "fig, ax = plt.subplots(figsize=(6,6))\n",
    "CS = plt.contour(x_bottom, y_bottom, alpha_bottom, \n",
    "                 origin='lower', colors='k')\n",
    "ax.set_xlabel('x')\n",
    "ax.set_ylabel('y')\n",
    "ax.clabel(CS, fontsize=9, inline=True)\n",
    "ax.set_title(r\"$\\alpha(z=0)$\")\n",
    "plt.show()"
   ]
  },
  {
   "cell_type": "code",
   "execution_count": null,
   "id": "63d9d0ca-f85e-44e5-9c34-e810aa1856f6",
   "metadata": {},
   "outputs": [
    {
     "data": {
      "image/png": "[encoded data removed]",
      "text/plain": [
       "<Figure size 600x600 with 1 Axes>"
      ]
     },
     "metadata": {},
     "output_type": "display_data"
    }
   ],
   "source": [
    "plt.close()\n",
    "fig, ax = plt.subplots(figsize=(6,6))\n",
    "CS = plt.contour(x_bottom, y_bottom, B_bottom[:, :, 2], \n",
    "                 origin='lower', colors='k')\n",
    "ax.set_xlabel('x')\n",
    "ax.set_ylabel('y')\n",
    "ax.clabel(CS, fontsize=9, inline=True)\n",
    "ax.set_title(r\"$B_z(z=0)$\")\n",
    "plt.show()"
   ]
  },
  {
   "cell_type": "code",
   "execution_count": null,
   "id": "75259951-9868-420e-86ee-31bc3abea348",
   "metadata": {},
   "outputs": [],
   "source": [
    "import copy"
   ]
  },
  {
   "cell_type": "code",
   "execution_count": null,
   "id": "88f16b71-d6a7-4881-bea6-b12b685c0dd5",
   "metadata": {},
   "outputs": [
    {
     "data": {
      "text/html": [
       "<table><tr><th>Header</th><th>Data Arrays</th></tr><tr><td>\n",
       "<table>\n",
       "<tr><th>ImageData</th><th>Information</th></tr>\n",
       "<tr><td>N Cells</td><td>250047</td></tr>\n",
       "<tr><td>N Points</td><td>262144</td></tr>\n",
       "<tr><td>X Bounds</td><td>-1.000e+00, 1.000e+00</td></tr>\n",
       "<tr><td>Y Bounds</td><td>-1.000e+00, 1.000e+00</td></tr>\n",
       "<tr><td>Z Bounds</td><td>0.000e+00, 2.000e+00</td></tr>\n",
       "<tr><td>Dimensions</td><td>64, 64, 64</td></tr>\n",
       "<tr><td>Spacing</td><td>3.175e-02, 3.175e-02, 3.175e-02</td></tr>\n",
       "<tr><td>N Arrays</td><td>3</td></tr>\n",
       "</table>\n",
       "\n",
       "</td><td>\n",
       "<table>\n",
       "<tr><th>Name</th><th>Field</th><th>Type</th><th>N Comp</th><th>Min</th><th>Max</th></tr>\n",
       "<tr><td>B</td><td>Points</td><td>float64</td><td>3</td><td>-1.419e+02</td><td>2.308e+02</td></tr>\n",
       "<tr><td><b>mag</b></td><td>Points</td><td>float64</td><td>1</td><td>3.360e-01</td><td>2.315e+02</td></tr>\n",
       "<tr><td>alpha</td><td>Points</td><td>float64</td><td>1</td><td>-9.731e+00</td><td>9.731e+00</td></tr>\n",
       "</table>\n",
       "\n",
       "</td></tr> </table>"
      ],
      "text/plain": [
       "ImageData (0x7fd2cbd306a0)\n",
       "  N Cells:      250047\n",
       "  N Points:     262144\n",
       "  X Bounds:     -1.000e+00, 1.000e+00\n",
       "  Y Bounds:     -1.000e+00, 1.000e+00\n",
       "  Z Bounds:     0.000e+00, 2.000e+00\n",
       "  Dimensions:   64, 64, 64\n",
       "  Spacing:      3.175e-02, 3.175e-02, 3.175e-02\n",
       "  N Arrays:     3"
      ]
     },
     "execution_count": null,
     "metadata": {},
     "output_type": "execute_result"
    }
   ],
   "source": [
    "grid_mesh = copy.deepcopy(b.grid)\n",
    "grid_mesh"
   ]
  },
  {
   "cell_type": "code",
   "execution_count": null,
   "id": "f776dc3e-65c7-4c05-936c-3e90a2725f51",
   "metadata": {},
   "outputs": [
    {
     "data": {
      "text/html": [
       "<table><tr><th>Header</th><th>Data Arrays</th></tr><tr><td>\n",
       "<table>\n",
       "<tr><th>ImageData</th><th>Information</th></tr>\n",
       "<tr><td>N Cells</td><td>3969</td></tr>\n",
       "<tr><td>N Points</td><td>4096</td></tr>\n",
       "<tr><td>X Bounds</td><td>-1.000e+00, 1.000e+00</td></tr>\n",
       "<tr><td>Y Bounds</td><td>-1.000e+00, 1.000e+00</td></tr>\n",
       "<tr><td>Z Bounds</td><td>0.000e+00, 0.000e+00</td></tr>\n",
       "<tr><td>Dimensions</td><td>64, 64, 1</td></tr>\n",
       "<tr><td>Spacing</td><td>3.175e-02, 3.175e-02, 3.175e-02</td></tr>\n",
       "<tr><td>N Arrays</td><td>3</td></tr>\n",
       "</table>\n",
       "\n",
       "</td><td>\n",
       "<table>\n",
       "<tr><th>Name</th><th>Field</th><th>Type</th><th>N Comp</th><th>Min</th><th>Max</th></tr>\n",
       "<tr><td>B</td><td>Points</td><td>float64</td><td>3</td><td>-1.419e+02</td><td>2.308e+02</td></tr>\n",
       "<tr><td><b>mag</b></td><td>Points</td><td>float64</td><td>1</td><td>2.433e+00</td><td>2.315e+02</td></tr>\n",
       "<tr><td>alpha</td><td>Points</td><td>float64</td><td>1</td><td>-9.731e+00</td><td>9.731e+00</td></tr>\n",
       "</table>\n",
       "\n",
       "</td></tr> </table>"
      ],
      "text/plain": [
       "ImageData (0x7fd2601aaf20)\n",
       "  N Cells:      3969\n",
       "  N Points:     4096\n",
       "  X Bounds:     -1.000e+00, 1.000e+00\n",
       "  Y Bounds:     -1.000e+00, 1.000e+00\n",
       "  Z Bounds:     0.000e+00, 0.000e+00\n",
       "  Dimensions:   64, 64, 1\n",
       "  Spacing:      3.175e-02, 3.175e-02, 3.175e-02\n",
       "  N Arrays:     3"
      ]
     },
     "execution_count": null,
     "metadata": {},
     "output_type": "execute_result"
    }
   ],
   "source": [
    "bottom_mesh = copy.deepcopy(bottom)\n",
    "bottom_mesh"
   ]
  },
  {
   "cell_type": "code",
   "execution_count": null,
   "id": "8f7024a0-159d-457f-afa8-88673c925490",
   "metadata": {},
   "outputs": [
    {
     "data": {
      "text/html": [
       "<table><tr><th>Header</th><th>Data Arrays</th></tr><tr><td>\n",
       "<table>\n",
       "<tr><th>PolyData</th><th>Information</th></tr>\n",
       "<tr><td>N Cells</td><td>3969</td></tr>\n",
       "<tr><td>N Points</td><td>4096</td></tr>\n",
       "<tr><td>N Strips</td><td>0</td></tr>\n",
       "<tr><td>X Bounds</td><td>-1.000e+00, 1.000e+00</td></tr>\n",
       "<tr><td>Y Bounds</td><td>-1.000e+00, 1.000e+00</td></tr>\n",
       "<tr><td>Z Bounds</td><td>0.000e+00, 0.000e+00</td></tr>\n",
       "<tr><td>N Arrays</td><td>5</td></tr>\n",
       "</table>\n",
       "\n",
       "</td><td>\n",
       "<table>\n",
       "<tr><th>Name</th><th>Field</th><th>Type</th><th>N Comp</th><th>Min</th><th>Max</th></tr>\n",
       "<tr><td>B</td><td>Points</td><td>float64</td><td>3</td><td>-1.419e+02</td><td>2.308e+02</td></tr>\n",
       "<tr><td><b>mag</b></td><td>Points</td><td>float64</td><td>1</td><td>2.433e+00</td><td>2.315e+02</td></tr>\n",
       "<tr><td>alpha</td><td>Points</td><td>float64</td><td>1</td><td>-9.731e+00</td><td>9.731e+00</td></tr>\n",
       "<tr><td>vtkOriginalPointIds</td><td>Points</td><td>int64</td><td>1</td><td>0.000e+00</td><td>4.095e+03</td></tr>\n",
       "<tr><td>vtkOriginalCellIds</td><td>Cells</td><td>int64</td><td>1</td><td>0.000e+00</td><td>3.968e+03</td></tr>\n",
       "</table>\n",
       "\n",
       "</td></tr> </table>"
      ],
      "text/plain": [
       "PolyData (0x7fd2601abe20)\n",
       "  N Cells:    3969\n",
       "  N Points:   4096\n",
       "  N Strips:   0\n",
       "  X Bounds:   -1.000e+00, 1.000e+00\n",
       "  Y Bounds:   -1.000e+00, 1.000e+00\n",
       "  Z Bounds:   0.000e+00, 0.000e+00\n",
       "  N Arrays:   5"
      ]
     },
     "execution_count": null,
     "metadata": {},
     "output_type": "execute_result"
    }
   ],
   "source": [
    "bottom_surface = bottom_mesh.extract_surface()\n",
    "bottom_surface"
   ]
  },
  {
   "cell_type": "code",
   "execution_count": null,
   "id": "cc77f6c3-4db4-40d0-8400-6826ef4a848c",
   "metadata": {},
   "outputs": [
    {
     "data": {
      "application/vnd.jupyter.widget-view+json": {
       "model_id": "f246687e54c84c8fb683d56cb3e61ae9",
       "version_major": 2,
       "version_minor": 0
      },
      "text/plain": [
       "Widget(value=\"<iframe src='/proxy/35431/index.html?ui=P_0x7fd21c31f2e0_22&reconnect=auto' style='width: 99%; h…"
      ]
     },
     "metadata": {},
     "output_type": "display_data"
    },
    {
     "name": "stderr",
     "output_type": "stream",
     "text": [
      "WARNING:aiohttp.websocket:Client protocols [''] don’t overlap server-known ones ()\n"
     ]
    }
   ],
   "source": [
    "#| eval:false\n",
    "p = pv.Plotter()\n",
    "p.show_bounds()\n",
    "p.add_mesh(grid_mesh.outline())\n",
    "p.add_mesh(bottom_surface)\n",
    "p.show()"
   ]
  },
  {
   "cell_type": "code",
   "execution_count": null,
   "id": "250765be-31e6-4fd0-bac0-8bd7d3584371",
   "metadata": {},
   "outputs": [],
   "source": [
    "def draw_alpha_bottom(p):\n",
    "    ctr = bottom_surface.contour(scalars='alpha')\n",
    "    p.add_mesh(ctr, cmap='plasma')"
   ]
  },
  {
   "cell_type": "code",
   "execution_count": null,
   "id": "620e97ff-656e-4c1c-b508-aa3a4a16b62a",
   "metadata": {},
   "outputs": [
    {
     "data": {
      "application/vnd.jupyter.widget-view+json": {
       "model_id": "441138b92bfc4643a0c3dbc971813fe3",
       "version_major": 2,
       "version_minor": 0
      },
      "text/plain": [
       "Widget(value=\"<iframe src='/proxy/35431/index.html?ui=P_0x7fd14e804400_62&reconnect=auto' style='width: 99%; h…"
      ]
     },
     "metadata": {},
     "output_type": "display_data"
    },
    {
     "name": "stderr",
     "output_type": "stream",
     "text": [
      "WARNING:aiohttp.websocket:Client protocols [''] don’t overlap server-known ones ()\n"
     ]
    }
   ],
   "source": [
    "#| eval:false\n",
    "p = pv.Plotter()\n",
    "p.show_bounds()\n",
    "p.add_mesh(grid_mesh.outline())\n",
    "draw_alpha_bottom(p)\n",
    "p.show()"
   ]
  },
  {
   "cell_type": "code",
   "execution_count": null,
   "id": "65210269-ad15-49f3-9731-e4d201dc22a0",
   "metadata": {},
   "outputs": [],
   "source": [
    "def draw_alpha_3D(p):\n",
    "    ctr = grid_mesh.contour(scalars='alpha')\n",
    "    p.add_mesh(ctr, cmap='plasma', opacity=0.5)"
   ]
  },
  {
   "cell_type": "code",
   "execution_count": null,
   "id": "9932d445-add2-4550-886f-75f348794caa",
   "metadata": {},
   "outputs": [
    {
     "data": {
      "application/vnd.jupyter.widget-view+json": {
       "model_id": "70100094f949440aac839f61621bcf40",
       "version_major": 2,
       "version_minor": 0
      },
      "text/plain": [
       "Widget(value=\"<iframe src='/proxy/35431/index.html?ui=P_0x7fd1c25edff0_72&reconnect=auto' style='width: 99%; h…"
      ]
     },
     "metadata": {},
     "output_type": "display_data"
    },
    {
     "name": "stderr",
     "output_type": "stream",
     "text": [
      "WARNING:aiohttp.websocket:Client protocols [''] don’t overlap server-known ones ()\n"
     ]
    }
   ],
   "source": [
    "#| eval:false\n",
    "p = pv.Plotter()\n",
    "p.show_bounds()\n",
    "p.add_mesh(grid_mesh.outline())\n",
    "draw_alpha_3D(p)\n",
    "p.show()"
   ]
  },
  {
   "cell_type": "code",
   "execution_count": null,
   "id": "285ecc9b-be8d-4703-8b4c-0d6e08e77b53",
   "metadata": {},
   "outputs": [],
   "source": [
    "def draw_Bz_bottom(p):\n",
    "    sargs = dict(title=\"B_z\")\n",
    "    ctr = bottom_surface.contour(scalars=bottom_surface['B'][:, 2])\n",
    "    p.add_mesh(ctr, cmap='plasma', scalar_bar_args=sargs)"
   ]
  },
  {
   "cell_type": "code",
   "execution_count": null,
   "id": "e1a06e6a-653e-4f5c-a387-f6ece629817c",
   "metadata": {},
   "outputs": [
    {
     "data": {
      "application/vnd.jupyter.widget-view+json": {
       "model_id": "6cd8ef8de5ab4eaca4882948f314c02c",
       "version_major": 2,
       "version_minor": 0
      },
      "text/plain": [
       "Widget(value=\"<iframe src='/proxy/35431/index.html?ui=P_0x7fd1efb941f0_60&reconnect=auto' style='width: 99%; h…"
      ]
     },
     "metadata": {},
     "output_type": "display_data"
    },
    {
     "name": "stderr",
     "output_type": "stream",
     "text": [
      "WARNING:aiohttp.websocket:Client protocols [''] don’t overlap server-known ones ()\n"
     ]
    }
   ],
   "source": [
    "#| eval:false\n",
    "p = pv.Plotter()\n",
    "p.show_bounds()\n",
    "p.add_mesh(grid_mesh.outline())\n",
    "draw_Bz_bottom(p)\n",
    "p.show()"
   ]
  },
  {
   "cell_type": "code",
   "execution_count": null,
   "id": "414a3530-bf89-4da3-8980-6391a8180c9b",
   "metadata": {},
   "outputs": [],
   "source": [
    "def draw_Bz_3D(p):\n",
    "    sargs = dict(title=\"B_z\")\n",
    "    ctr = grid_mesh.contour(scalars=grid_mesh['B'][:, 2])\n",
    "    p.add_mesh(ctr, cmap='plasma', scalar_bar_args=sargs, opacity=0.5)"
   ]
  },
  {
   "cell_type": "code",
   "execution_count": null,
   "id": "6023db93-332b-4edd-95cc-012b14170078",
   "metadata": {},
   "outputs": [
    {
     "data": {
      "application/vnd.jupyter.widget-view+json": {
       "model_id": "725695c3ce244533be99a9fc242405b3",
       "version_major": 2,
       "version_minor": 0
      },
      "text/plain": [
       "Widget(value=\"<iframe src='/proxy/35431/index.html?ui=P_0x7fd143aff730_73&reconnect=auto' style='width: 99%; h…"
      ]
     },
     "metadata": {},
     "output_type": "display_data"
    },
    {
     "name": "stderr",
     "output_type": "stream",
     "text": [
      "WARNING:aiohttp.websocket:Client protocols [''] don’t overlap server-known ones ()\n"
     ]
    }
   ],
   "source": [
    "#| eval:false\n",
    "p = pv.Plotter()\n",
    "p.show_bounds()\n",
    "p.add_mesh(grid_mesh.outline())\n",
    "draw_Bz_3D(p)\n",
    "p.show()"
   ]
  },
  {
   "cell_type": "code",
   "execution_count": null,
   "id": "d0b550d2-fca0-4db9-97d2-1a08d4c98e83",
   "metadata": {},
   "outputs": [],
   "source": [
    "def draw_streamline(p, noseed=False):\n",
    "    seed = pv.Plane(center=(0,0,0), direction=(0,0,1), \n",
    "                i_size=2, j_size=2, \n",
    "                i_resolution=10, j_resolution=10)\n",
    "    if noseed == False: p.add_mesh(seed)\n",
    "    strl = grid_mesh.streamlines_from_source(seed,\n",
    "                                             vectors='B',\n",
    "                                             max_time=180,\n",
    "                                             initial_step_length=0.1,\n",
    "                                             integration_direction='both')\n",
    "    \n",
    "    p.add_mesh(strl.tube(radius=0.005), cmap='bwr', ambient=0.2)"
   ]
  },
  {
   "cell_type": "code",
   "execution_count": null,
   "id": "02329117-b63c-4df1-bf49-231da45530c3",
   "metadata": {},
   "outputs": [
    {
     "data": {
      "application/vnd.jupyter.widget-view+json": {
       "model_id": "ad7088b02e76424284838e0d90957d01",
       "version_major": 2,
       "version_minor": 0
      },
      "text/plain": [
       "Widget(value=\"<iframe src='/proxy/35431/index.html?ui=P_0x7fd14c71b220_70&reconnect=auto' style='width: 99%; h…"
      ]
     },
     "metadata": {},
     "output_type": "display_data"
    },
    {
     "name": "stderr",
     "output_type": "stream",
     "text": [
      "WARNING:aiohttp.websocket:Client protocols [''] don’t overlap server-known ones ()\n"
     ]
    }
   ],
   "source": [
    "#| eval:false\n",
    "p = pv.Plotter()\n",
    "p.show_bounds()\n",
    "p.add_mesh(grid_mesh.outline())\n",
    "draw_alpha_bottom(p)\n",
    "draw_streamline(p)\n",
    "p.show()"
   ]
  },
  {
   "cell_type": "code",
   "execution_count": null,
   "id": "72c0c544-35f7-4615-bdd0-e20917c36a0f",
   "metadata": {},
   "outputs": [
    {
     "data": {
      "application/vnd.jupyter.widget-view+json": {
       "model_id": "e485d8ce05d0457889225f09abfdc9cb",
       "version_major": 2,
       "version_minor": 0
      },
      "text/plain": [
       "Widget(value=\"<iframe src='/proxy/35431/index.html?ui=P_0x7fd143aff070_74&reconnect=auto' style='width: 99%; h…"
      ]
     },
     "metadata": {},
     "output_type": "display_data"
    },
    {
     "name": "stderr",
     "output_type": "stream",
     "text": [
      "WARNING:aiohttp.websocket:Client protocols [''] don’t overlap server-known ones ()\n"
     ]
    }
   ],
   "source": [
    "#| eval:false\n",
    "p = pv.Plotter()\n",
    "p.show_bounds()\n",
    "p.add_mesh(grid_mesh.outline())\n",
    "draw_alpha_3D(p)\n",
    "draw_streamline(p, noseed=True)\n",
    "p.show()"
   ]
  },
  {
   "cell_type": "code",
   "execution_count": null,
   "id": "5e35c194-587e-45fe-8724-d93b6d5c9f14",
   "metadata": {},
   "outputs": [
    {
     "data": {
      "application/vnd.jupyter.widget-view+json": {
       "model_id": "edf840aacdf642fc96c7830c9ef3033a",
       "version_major": 2,
       "version_minor": 0
      },
      "text/plain": [
       "Widget(value=\"<iframe src='/proxy/35431/index.html?ui=P_0x7fd143aff550_75&reconnect=auto' style='width: 99%; h…"
      ]
     },
     "metadata": {},
     "output_type": "display_data"
    },
    {
     "name": "stderr",
     "output_type": "stream",
     "text": [
      "WARNING:aiohttp.websocket:Client protocols [''] don’t overlap server-known ones ()\n"
     ]
    }
   ],
   "source": [
    "#| eval:false\n",
    "p = pv.Plotter()\n",
    "p.show_bounds()\n",
    "p.add_mesh(grid_mesh.outline())\n",
    "draw_Bz_3D(p)\n",
    "draw_streamline(p, noseed=True)\n",
    "p.show()"
   ]
  },
  {
   "cell_type": "code",
   "execution_count": null,
   "id": "1dc65b96-a62b-4138-9c83-0c57d36f940a",
   "metadata": {},
   "outputs": [],
   "source": []
  }
 ],
 "metadata": {
  "kernelspec": {
   "display_name": "zpinn",
   "language": "python",
   "name": "zpinn"
  }
 },
 "nbformat": 4,
 "nbformat_minor": 5
}
