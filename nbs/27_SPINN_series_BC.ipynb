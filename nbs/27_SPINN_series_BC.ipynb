{
 "cells": [
  {
   "cell_type": "markdown",
   "metadata": {},
   "source": [
    "# SPINN (series) Calculate Boundary Conditoin (Potential Field)"
   ]
  },
  {
   "cell_type": "code",
   "execution_count": null,
   "metadata": {},
   "outputs": [],
   "source": [
    "from setproctitle import setproctitle\n",
    "setproctitle(\"SPINN (pot)\")"
   ]
  },
  {
   "cell_type": "code",
   "execution_count": null,
   "metadata": {},
   "outputs": [],
   "source": [
    "import os"
   ]
  },
  {
   "cell_type": "code",
   "execution_count": null,
   "metadata": {},
   "outputs": [],
   "source": [
    "os.environ[\"CUDA_DEVICE_ORDER\"]=\"PCI_BUS_ID\"\n",
    "os.environ[\"CUDA_VISIBLE_DEVICES\"]= \"2\""
   ]
  },
  {
   "cell_type": "code",
   "execution_count": null,
   "metadata": {},
   "outputs": [],
   "source": [
    "import numpy as np \n",
    "import matplotlib.pyplot as plt\n",
    "from pathlib import Path"
   ]
  },
  {
   "cell_type": "code",
   "execution_count": null,
   "metadata": {},
   "outputs": [],
   "source": [
    "b_bottom_paths = os.path.expanduser('~/workspace/_data/NOAA12673/b_bottom')\n",
    "Nz = 160\n",
    "b_norm = 2500"
   ]
  },
  {
   "cell_type": "code",
   "execution_count": null,
   "metadata": {},
   "outputs": [],
   "source": [
    "output_path = os.path.join(Path(b_bottom_paths).parent, 'SPINN_BC')\n",
    "os.makedirs(output_path, exist_ok=True)"
   ]
  },
  {
   "cell_type": "code",
   "execution_count": null,
   "metadata": {},
   "outputs": [],
   "source": [
    "from cmspinn.potential_field import cal_and_save_potential_boundary_for_spinn"
   ]
  },
  {
   "cell_type": "code",
   "execution_count": null,
   "metadata": {},
   "outputs": [],
   "source": [
    "import glob"
   ]
  },
  {
   "cell_type": "code",
   "execution_count": null,
   "metadata": {},
   "outputs": [
    {
     "name": "stderr",
     "output_type": "stream",
     "text": [
      "Potential Field: 100%|██████████| 380/380 [00:11<00:00, 32.47it/s]\n",
      "Potential Field: 100%|██████████| 380/380 [00:11<00:00, 33.19it/s]\n",
      "Potential Field: 100%|██████████| 380/380 [00:11<00:00, 32.19it/s]\n",
      "Potential Field: 100%|██████████| 380/380 [00:11<00:00, 32.47it/s]\n",
      "Potential Field: 100%|██████████| 380/380 [00:11<00:00, 32.25it/s]\n",
      "Potential Field: 100%|██████████| 380/380 [00:11<00:00, 32.69it/s]\n",
      "Potential Field: 100%|██████████| 380/380 [00:11<00:00, 32.82it/s]\n",
      "Potential Field: 100%|██████████| 380/380 [00:11<00:00, 32.55it/s]\n",
      "Potential Field: 100%|██████████| 380/380 [00:11<00:00, 31.94it/s]\n",
      "Potential Field: 100%|██████████| 380/380 [00:11<00:00, 33.24it/s]\n",
      "Potential Field: 100%|██████████| 380/380 [00:11<00:00, 32.20it/s]\n",
      "Potential Field: 100%|██████████| 380/380 [00:11<00:00, 32.60it/s]\n",
      "Potential Field: 100%|██████████| 380/380 [00:11<00:00, 32.82it/s]\n",
      "Potential Field: 100%|██████████| 380/380 [00:11<00:00, 32.86it/s]\n",
      "Potential Field: 100%|██████████| 380/380 [00:11<00:00, 33.00it/s]\n",
      "Potential Field: 100%|██████████| 380/380 [00:11<00:00, 32.49it/s]\n",
      "Potential Field: 100%|██████████| 380/380 [00:11<00:00, 32.50it/s]\n",
      "Potential Field: 100%|██████████| 380/380 [00:11<00:00, 32.31it/s]\n",
      "Potential Field: 100%|██████████| 380/380 [00:11<00:00, 32.20it/s]\n",
      "Potential Field: 100%|██████████| 380/380 [00:11<00:00, 32.80it/s]\n",
      "Potential Field: 100%|██████████| 380/380 [00:11<00:00, 32.35it/s]\n",
      "Potential Field: 100%|██████████| 380/380 [00:11<00:00, 31.84it/s]\n",
      "Potential Field: 100%|██████████| 380/380 [00:11<00:00, 32.11it/s]\n"
     ]
    }
   ],
   "source": [
    "for b_bottom_path in sorted(glob.glob(os.path.join(b_bottom_paths, '*.npy'))):\n",
    "    b_bottom_date = os.path.basename(b_bottom_path)[9:-4]\n",
    "    b_BC_path = os.path.join(output_path, f'b_BC_{b_bottom_date}.pickle')\n",
    "\n",
    "    with open(b_bottom_path, 'rb') as f:\n",
    "        b_bottom = np.load(f)\n",
    "\n",
    "    cal_and_save_potential_boundary_for_spinn(b_bottom, Nz, b_norm, b_BC_path)                             "
   ]
  },
  {
   "cell_type": "code",
   "execution_count": null,
   "metadata": {},
   "outputs": [],
   "source": []
  }
 ],
 "metadata": {
  "kernelspec": {
   "display_name": "python3",
   "language": "python",
   "name": "python3"
  }
 },
 "nbformat": 4,
 "nbformat_minor": 2
}
