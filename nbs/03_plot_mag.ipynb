{
 "cells": [
  {
   "cell_type": "markdown",
   "id": "80ddb292-8be1-448d-973b-7b55b06ca9cf",
   "metadata": {},
   "source": [
    "# Plot a Magnetic Field\n",
    "> How to plot a magnetic field using pyvista"
   ]
  },
  {
   "cell_type": "markdown",
   "id": "25496bdc-e062-4ee9-9c3e-1230d046e365",
   "metadata": {},
   "source": [
    "https://docs.pyvista.org/version/stable/examples/99-advanced/magnetic-fields.html"
   ]
  },
  {
   "cell_type": "code",
   "execution_count": null,
   "id": "a44f6707-b44b-4129-8f06-aa4e430dba27",
   "metadata": {},
   "outputs": [],
   "source": [
    "import numpy as np\n",
    "\n",
    "import pyvista as pv\n",
    "from pyvista import examples"
   ]
  },
  {
   "cell_type": "code",
   "execution_count": null,
   "id": "9b1c439a-36a1-4c5b-a8e0-0973b9e4f5f4",
   "metadata": {},
   "outputs": [
    {
     "data": {
      "text/html": [
       "<table><tr><th>Header</th><th>Data Arrays</th></tr><tr><td>\n",
       "<table>\n",
       "<tr><th>UniformGrid</th><th>Information</th></tr>\n",
       "<tr><td>N Cells</td><td>512000</td></tr>\n",
       "<tr><td>N Points</td><td>531441</td></tr>\n",
       "<tr><td>X Bounds</td><td>-4.000e+01, 4.000e+01</td></tr>\n",
       "<tr><td>Y Bounds</td><td>-4.000e+01, 4.000e+01</td></tr>\n",
       "<tr><td>Z Bounds</td><td>-4.000e+01, 4.000e+01</td></tr>\n",
       "<tr><td>Dimensions</td><td>81, 81, 81</td></tr>\n",
       "<tr><td>Spacing</td><td>1.000e+00, 1.000e+00, 1.000e+00</td></tr>\n",
       "<tr><td>N Arrays</td><td>1</td></tr>\n",
       "</table>\n",
       "\n",
       "</td><td>\n",
       "<table>\n",
       "<tr><th>Name</th><th>Field</th><th>Type</th><th>N Comp</th><th>Min</th><th>Max</th></tr>\n",
       "<tr><td><b>B</b></td><td>Points</td><td>float64</td><td>3</td><td>-3.196e+02</td><td>3.196e+02</td></tr>\n",
       "</table>\n",
       "\n",
       "</td></tr> </table>"
      ],
      "text/plain": [
       "UniformGrid (0x7fb28398a260)\n",
       "  N Cells:      512000\n",
       "  N Points:     531441\n",
       "  X Bounds:     -4.000e+01, 4.000e+01\n",
       "  Y Bounds:     -4.000e+01, 4.000e+01\n",
       "  Z Bounds:     -4.000e+01, 4.000e+01\n",
       "  Dimensions:   81, 81, 81\n",
       "  Spacing:      1.000e+00, 1.000e+00, 1.000e+00\n",
       "  N Arrays:     1"
      ]
     },
     "execution_count": null,
     "metadata": {},
     "output_type": "execute_result"
    }
   ],
   "source": [
    "grid = examples.download_coil_magnetic_field()\n",
    "grid"
   ]
  },
  {
   "cell_type": "code",
   "execution_count": null,
   "id": "497427f6-dfe0-46c8-9980-9d28e403bc80",
   "metadata": {},
   "outputs": [
    {
     "data": {
      "text/plain": [
       "pyvista.core.grid.UniformGrid"
      ]
     },
     "execution_count": null,
     "metadata": {},
     "output_type": "execute_result"
    }
   ],
   "source": [
    "type(grid)"
   ]
  },
  {
   "cell_type": "code",
   "execution_count": null,
   "id": "3b375abe-f3dc-45a0-ac3d-9eca1657413f",
   "metadata": {},
   "outputs": [
    {
     "data": {
      "text/plain": [
       "pyvista DataSetAttributes\n",
       "Association     : POINT\n",
       "Active Scalars  : B\n",
       "Active Vectors  : B\n",
       "Active Texture  : None\n",
       "Active Normals  : None\n",
       "Contains arrays :\n",
       "    B                       float64    (531441, 3)          VECTORS"
      ]
     },
     "execution_count": null,
     "metadata": {},
     "output_type": "execute_result"
    }
   ],
   "source": [
    "grid.point_data"
   ]
  },
  {
   "cell_type": "code",
   "execution_count": null,
   "id": "4ae93333-d979-45e0-9edb-4ae4975c5a71",
   "metadata": {},
   "outputs": [
    {
     "data": {
      "application/vnd.jupyter.widget-view+json": {
       "model_id": "6b1bd1c156144faab89deb09023f806a",
       "version_major": 2,
       "version_minor": 0
      },
      "text/plain": [
       "Widget(value=\"<iframe src='http://localhost:34223/index.html?ui=P_0x7fb2c5ead3f0_0&reconnect=auto' style='widt…"
      ]
     },
     "metadata": {},
     "output_type": "display_data"
    }
   ],
   "source": [
    "coils = []\n",
    "for z in np.linspace(-8, 8, 16):\n",
    "    coils.append(pv.Polygon((0, 0, z), radius=5, n_sides=100, fill=False))\n",
    "coil_block = pv.MultiBlock(coils)\n",
    "coil_block.plot(render_lines_as_tubes=True, line_width=10)"
   ]
  },
  {
   "cell_type": "code",
   "execution_count": null,
   "id": "6d975994-e5fe-4381-bae9-4f11985e3309",
   "metadata": {},
   "outputs": [
    {
     "data": {
      "application/vnd.jupyter.widget-view+json": {
       "model_id": "52833bbad99945ceb5c77a26de68dd21",
       "version_major": 2,
       "version_minor": 0
      },
      "text/plain": [
       "Widget(value=\"<iframe src='http://localhost:34223/index.html?ui=P_0x7fb28004a980_2&reconnect=auto' style='widt…"
      ]
     },
     "metadata": {},
     "output_type": "display_data"
    }
   ],
   "source": [
    "seed = pv.Disc(inner=1, outer=5.4, r_res=2, c_res=12)\n",
    "strl = grid.streamlines_from_source(\n",
    "    seed,\n",
    "    vectors='B',\n",
    "    max_time=180,\n",
    "    initial_step_length=0.1,\n",
    "    integration_direction='both',\n",
    ")\n",
    "\n",
    "pl = pv.Plotter()\n",
    "pl.add_mesh(seed)\n",
    "pl.add_mesh(\n",
    "    strl.tube(radius=0.1),\n",
    "    cmap='bwr',\n",
    "    ambient=0.2,\n",
    ")\n",
    "pl.add_mesh(coil_block, render_lines_as_tubes=True, line_width=5, color='w')\n",
    "pl.camera.zoom(3)\n",
    "pl.show()"
   ]
  },
  {
   "cell_type": "code",
   "execution_count": null,
   "id": "2caf2a8b-d08f-49d2-8023-905ce5858199",
   "metadata": {},
   "outputs": [
    {
     "data": {
      "application/vnd.jupyter.widget-view+json": {
       "model_id": "9634505224e04e359c381bfd33da069b",
       "version_major": 2,
       "version_minor": 0
      },
      "text/plain": [
       "Widget(value=\"<iframe src='http://localhost:34223/index.html?ui=P_0x7fb28004a8f0_3&reconnect=auto' style='widt…"
      ]
     },
     "metadata": {},
     "output_type": "display_data"
    }
   ],
   "source": [
    "# Take the norm of the magnetic field\n",
    "scalars = np.linalg.norm(grid['B'], axis=1)\n",
    "\n",
    "# Customize the opacity to make it easier to visualize the strength of the\n",
    "# field nearby the coil\n",
    "opacity = 1 - np.geomspace(1.0, 0.05, 10)\n",
    "\n",
    "# Add this all to the plotter\n",
    "pl = pv.Plotter()\n",
    "pl.add_mesh(\n",
    "    strl.tube(radius=0.1),\n",
    "    color='black',\n",
    ")\n",
    "pl.add_mesh(coil_block, render_lines_as_tubes=True, line_width=5, color='w')\n",
    "vol = pl.add_volume(\n",
    "    grid,\n",
    "    scalars=scalars,\n",
    "    opacity=opacity,\n",
    "    cmap='hot',\n",
    "    show_scalar_bar=False,\n",
    ")\n",
    "vol.prop.interpolation_type = 'linear'\n",
    "pl.camera.zoom(5)\n",
    "pl.show()"
   ]
  },
  {
   "cell_type": "code",
   "execution_count": null,
   "id": "d7c2d807-0cc7-4bb3-90d0-4b4ecd63b251",
   "metadata": {},
   "outputs": [],
   "source": []
  }
 ],
 "metadata": {
  "kernelspec": {
   "display_name": "zpinn",
   "language": "python",
   "name": "zpinn"
  }
 },
 "nbformat": 4,
 "nbformat_minor": 5
}
