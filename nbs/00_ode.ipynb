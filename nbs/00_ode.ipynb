{
 "cells": [
  {
   "attachments": {},
   "cell_type": "markdown",
   "metadata": {},
   "source": [
    "# ODE (IVP / BVP)\n",
    "\n",
    "> How to solve ODE (Ordinary Differential Equation) using scipy\n",
    "- IVP : Initial Value Problem\n",
    "- BVP : Boundary Value Problem"
   ]
  },
  {
   "cell_type": "code",
   "execution_count": null,
   "metadata": {},
   "outputs": [],
   "source": [
    "#| default_exp ode"
   ]
  },
  {
   "cell_type": "code",
   "execution_count": null,
   "metadata": {},
   "outputs": [],
   "source": [
    "#| hide\n",
    "from nbdev.showdoc import *"
   ]
  },
  {
   "cell_type": "code",
   "execution_count": null,
   "metadata": {},
   "outputs": [],
   "source": [
    "#| export\n",
    "import numpy as np\n",
    "import matplotlib.pyplot as plt"
   ]
  },
  {
   "attachments": {},
   "cell_type": "markdown",
   "metadata": {},
   "source": [
    "All numerical methods in Python need `numpy`.\n",
    "\n",
    "To draw the result (solution of ODE) as a graph, we need a visualization software such as `matplotlib`."
   ]
  },
  {
   "attachments": {},
   "cell_type": "markdown",
   "metadata": {},
   "source": [
    "## Reduction to single 1st order ODE"
   ]
  },
  {
   "attachments": {},
   "cell_type": "markdown",
   "metadata": {},
   "source": [
    "### nth-order ODE\n",
    "Every n-th order ODE\n",
    "\n",
    "$$\n",
    "\\frac{d^n f(x)}{dx^n} = \\mathcal{F}\\left(x, f(x), \\frac{df(x)}{dx}, \\frac{d^2 f(x)}{dx^2}, \\cdots, \\frac{d^{n-1} f(x)}{dx^{n-1}} \\right)\n",
    "$$ \n",
    "\n",
    "can be expressed in the 1st order ODE form\n",
    "\n",
    "$$\n",
    "\\frac{d\\mathbf{S}}{dx} = \\mathbf{F}(x, \\mathbf{S}(x))\n",
    "$$\n",
    "\n",
    "with a state vector $\\mathbf{S}(x)$ defined as following:\n",
    "\n",
    "$$\n",
    "\\mathbf{S}(x) = \\begin{bmatrix}\n",
    "                     f(x) \\\\\n",
    "                     \\displaystyle\\frac{df(x)}{dx} \\\\\n",
    "                     \\displaystyle\\frac{d^2 f(x)}{dx^2} \\\\\n",
    "                     \\vdots \\\\\n",
    "                     \\displaystyle\\frac{d^{n-1} f(x)}{dx^{n-1}}  \\\\\n",
    "                 \\end{bmatrix}\n",
    "              = \\begin{bmatrix}\n",
    "                     S[0] \\\\\n",
    "                     S[1] \\\\\n",
    "                     S[2] \\\\\n",
    "                     \\vdots \\\\\n",
    "                     S[n-1]  \\\\\n",
    "                 \\end{bmatrix}\n",
    "$$\n",
    "\n",
    "Then, the given ODE $\\frac{d\\mathbf{S}}{dx}$ can be expressed using the elements of $\\mathbf{S}(x)$.\n",
    "\n",
    "$$\n",
    "\\frac{d\\mathbf{S}}{dx} = \\begin{bmatrix}\n",
    "                             \\displaystyle\\frac{df(x)}{dx} \\\\\n",
    "                             \\displaystyle\\frac{d^2 f(x)}{dx^2} \\\\\n",
    "                             \\displaystyle\\frac{d^3 f(x)}{dx^3} \\\\\n",
    "                             \\vdots \\\\\n",
    "                             \\displaystyle\\frac{d^{n} f(x)}{dx^{n}}  \\\\\n",
    "                         \\end{bmatrix}\n",
    "                        = \\begin{bmatrix}\n",
    "                             \\displaystyle\\frac{df(x)}{dx} \\\\\n",
    "                             \\displaystyle\\frac{d^2 f(x)}{dx^2} \\\\\n",
    "                             \\displaystyle\\frac{d^3 f(x)}{dx^3} \\\\\n",
    "                             \\vdots \\\\\n",
    "                             \\mathcal{F}\\left(x, f(x), \\frac{df(x)}{dx}, \\frac{d^2 f(x)}{dx^2}, \\cdots, \\frac{d^{n-1} f(x)}{dx^{n-1}} \\right)  \\\\\n",
    "                         \\end{bmatrix}\n",
    "                         = \\begin{bmatrix}\n",
    "                             S[1] \\\\\n",
    "                             S[2] \\\\\n",
    "                             S[3] \\\\\n",
    "                             \\vdots \\\\\n",
    "                             \\mathcal{F}\\left(x, S[0], S[1], S[2], \\cdots, S[n-1] \\right)  \\\\\n",
    "                         \\end{bmatrix}\n",
    "$$"
   ]
  },
  {
   "attachments": {},
   "cell_type": "markdown",
   "metadata": {},
   "source": [
    "### System of 1st order ODEs\n",
    "\n",
    "Every system of 1st order ODEs\n",
    "\n",
    "$$\n",
    "\\begin{cases}\n",
    "  \\displaystyle\\frac{df_1(x)}{dx} = \\mathcal{G_1}\\left(x, f_1(x), f_2(x), \\cdots, f_k(x) \\right) \\\\ \n",
    "  \\displaystyle\\frac{df_2(x)}{dx} = \\mathcal{G_2}\\left(x, f_1(x), f_2(x), \\cdots, f_k(x) \\right) \\\\\n",
    "  \\quad\\; \\vdots \\\\\n",
    "  \\displaystyle\\frac{df_k(x)}{dx} = \\mathcal{G_k}\\left(x, f_1(x), f_2(x), \\cdots, f_k(x) \\right) \\\\ \n",
    "\\end{cases}\n",
    "$$ \n",
    "\n",
    "can be expressed in the 1st order ODE form\n",
    "\n",
    "$$\n",
    "\\frac{d\\mathbf{S}}{dx} = \\mathbf{F}(x, \\mathbf{S}(x))\n",
    "$$\n",
    "\n",
    "with a state vector $\\mathbf{S}(x)$ defined as following:\n",
    "\n",
    "$$\n",
    "\\mathbf{S}(x) = \\begin{bmatrix}\n",
    "                     f_1(x) \\\\\n",
    "                     f_2(x) \\\\\n",
    "                     \\vdots \\\\\n",
    "                     f_k(x)  \\\\\n",
    "                 \\end{bmatrix}\n",
    "              = \\begin{bmatrix}\n",
    "                     S[0] \\\\\n",
    "                     S[1] \\\\\n",
    "                     S[2] \\\\\n",
    "                     \\vdots \\\\\n",
    "                     S[k-1]  \\\\\n",
    "                 \\end{bmatrix}\n",
    "$$\n",
    "\n",
    "Then, the given ODE $\\frac{d\\mathbf{S}}{dx}$ can be expressed using the elements of $\\mathbf{S}(x)$.\n",
    "\n",
    "$$\n",
    "\\frac{d\\mathbf{S}}{dx} = \\begin{bmatrix}\n",
    "                             \\displaystyle\\frac{df_1(x)}{dx} \\\\\n",
    "                             \\displaystyle\\frac{df_2(x)}{dx} \\\\\n",
    "                             \\vdots \\\\\n",
    "                             \\displaystyle\\frac{df_k(x)}{dx}  \\\\\n",
    "                         \\end{bmatrix}\n",
    "                       = \\begin{bmatrix}\n",
    "                             \\mathcal{G_1}\\left(x, f_1(x), f_2(x), \\cdots, f_k(x) \\right) \\\\\n",
    "                             \\mathcal{G_2}\\left(x, f_1(x), f_2(x), \\cdots, f_k(x) \\right) \\\\\n",
    "                             \\vdots \\\\\n",
    "                             \\mathcal{G_k}\\left(x, f_1(x), f_2(x), \\cdots, f_k(x) \\right)  \\\\\n",
    "                         \\end{bmatrix}\n",
    "                       = \\begin{bmatrix}\n",
    "                             \\mathcal{G_1}\\left(x, S[0], S[1], \\cdots, S[k-1] \\right) \\\\\n",
    "                             \\mathcal{G_2}\\left(x, S[0], S[1], \\cdots, S[k-1] \\right) \\\\\n",
    "                             \\vdots \\\\\n",
    "                             \\mathcal{G_3}\\left(x, S[0], S[1], \\cdots, S[k-1] \\right)  \\\\\n",
    "                         \\end{bmatrix}\n",
    "$$"
   ]
  },
  {
   "attachments": {},
   "cell_type": "markdown",
   "metadata": {},
   "source": [
    "## ODE - IVP(Initial Value Problem)"
   ]
  },
  {
   "attachments": {},
   "cell_type": "markdown",
   "metadata": {},
   "source": [
    "### How to solve IVP using scipy\n",
    "\n",
    "The overall structure is as follows:\n",
    "\n",
    "```python\n",
    "from scipy.integrate import solve_ivp\n",
    "\n",
    "sol = solve_ivp(F, t_span, y0, t_eval=t)\n",
    "```"
   ]
  },
  {
   "attachments": {},
   "cell_type": "markdown",
   "metadata": {},
   "source": [
    "### The given problem\n",
    "\n",
    "- Target `y`\n",
    "$$\n",
    "\\mathbf{S}(t)\n",
    "$$\n",
    "\n",
    "- ODE system `F(t, y)`\n",
    "$$\n",
    "\\frac{d\\mathbf{S}}{dt} = \\mathbf{F}(t, \\mathbf{S}(t))\n",
    "$$\n",
    "\n",
    "- Domain `t_span=[t_0, t_f]`\n",
    "$$\n",
    "t \\in [t_0, t_f]\n",
    "$$\n",
    "    - If the number of points `N` is given, `t = np.linspace(t_span[0], t_span[1], N)`.\n",
    "\n",
    "    - If the spacing `h` is given, `t = np.arange(t_span[0], t_span[1]+h, h)`. Here, the purpose of `+h` in `t_span[1]+h` is to include the value of `t_span[1]` in the array `t`.\n",
    "\n",
    "\n",
    "- Initial condition `y0`\n",
    "$$\n",
    "\\mathbf{S}(t_0)\n",
    "$$"
   ]
  },
  {
   "attachments": {},
   "cell_type": "markdown",
   "metadata": {},
   "source": [
    "### Solution\n",
    "\n",
    "- Target `sol.y`\n",
    "$$\n",
    "\\mathbf{S}(t)\n",
    "$$\n",
    "\n",
    "- Domain `sol.t`\n",
    "$$\n",
    "t = [t_0, \\cdots, t_f]\n",
    "$$"
   ]
  },
  {
   "attachments": {},
   "cell_type": "markdown",
   "metadata": {},
   "source": [
    "### References\n",
    "- [scipy solve_ivp docs](https://docs.scipy.org/doc/scipy/reference/generated/scipy.integrate.solve_ivp.html)\n",
    "- [PDF about IVP and BVP in Python](https://acme.byu.edu/0000017c-ccfe-da17-a5fd-cdfeff540000/acmefiles-08-bvp-2021-pdf)\n",
    "- [Python Programming and Numerical Methods, Chap 22](https://pythonnumericalmethods.berkeley.edu/notebooks/chapter22.00-ODE-Initial-Value-Problems.html)\n",
    "- [Blog post about odeint vs solve_ivp](https://danielmuellerkomorowska.com/2021/02/16/differential-equations-with-scipy-odeint-or-solve_ivp/)"
   ]
  },
  {
   "attachments": {},
   "cell_type": "markdown",
   "metadata": {},
   "source": [
    "## IVP Example1\n",
    "\n",
    "$$\n",
    "\\begin{cases}\n",
    "  y''+ 3y = \\sin t \\\\ \n",
    "  t \\in [0, 5] \\\\\n",
    "  y(0) = -\\frac{\\pi}{2} \\\\\n",
    "  y'(0) = \\pi \\\\\n",
    "\\end{cases}\n",
    "$$ "
   ]
  },
  {
   "attachments": {},
   "cell_type": "markdown",
   "metadata": {},
   "source": [
    "### Rewrite ODE using $\\mathbf{S}(t)$\n",
    "\n",
    "- Target `y`\n",
    "$$\n",
    "\\mathbf{S}(t) = \\begin{bmatrix}\n",
    "                    y(t) \\\\\n",
    "                    y'(t) \\\\\n",
    "                \\end{bmatrix}\n",
    "              = \\begin{bmatrix}\n",
    "                    S[0] \\\\\n",
    "                    S[1] \\\\\n",
    "                \\end{bmatrix}\n",
    "$$\n",
    "\n",
    "- ODE system `F(t, y)`\n",
    "$$\n",
    "\\frac{d\\mathbf{S}}{dt} = \\mathbf{F}(t, \\mathbf{S}(t)) \n",
    "                       = \\begin{bmatrix}\n",
    "                            y'(t) \\\\\n",
    "                            y''(t) \\\\\n",
    "                         \\end{bmatrix}\n",
    "                       = \\begin{bmatrix}\n",
    "                            y' \\\\\n",
    "                            -3y + \\sin t \\\\\n",
    "                         \\end{bmatrix}\n",
    "                       = \\begin{bmatrix}\n",
    "                            S[1] \\\\\n",
    "                            -3S[0] + \\sin t \\\\\n",
    "                         \\end{bmatrix}\n",
    "$$\n",
    "\n",
    "- Domain\n",
    "\n",
    "```python\n",
    "t_span = [0, 5]\n",
    "h = 0.1 # spacing\n",
    "t = np.arange(t_span[0], t_span[1]+h, h)\n",
    "```\n",
    "\n",
    "- Initial condition `y0`\n",
    "$$\n",
    "\\mathbf{S}(0) = \\begin{bmatrix}\n",
    "                    y(0) \\\\\n",
    "                    y'(0) \\\\\n",
    "                \\end{bmatrix}\n",
    "              = \\begin{bmatrix}\n",
    "                    -\\frac{\\pi}{2} \\\\\n",
    "                    \\pi \\\\\n",
    "                \\end{bmatrix}\n",
    "$$"
   ]
  },
  {
   "cell_type": "code",
   "execution_count": null,
   "metadata": {},
   "outputs": [],
   "source": [
    "from scipy.integrate import solve_ivp"
   ]
  },
  {
   "cell_type": "code",
   "execution_count": null,
   "metadata": {},
   "outputs": [],
   "source": [
    "def F(t, y):\n",
    "    return [y[1], -3*y[0] + np.sin(t)]\n",
    "\n",
    "t_span = [0, 5]\n",
    "h = 0.1\n",
    "t = np.arange(t_span[0], t_span[1]+h, h)\n",
    "\n",
    "y0 = [-np.pi/2, np.pi]"
   ]
  },
  {
   "attachments": {},
   "cell_type": "markdown",
   "metadata": {},
   "source": [
    "We can solve this problem from the above information."
   ]
  },
  {
   "cell_type": "code",
   "execution_count": null,
   "metadata": {},
   "outputs": [],
   "source": [
    "sol = solve_ivp(F, t_span, y0, t_eval=t)"
   ]
  },
  {
   "attachments": {},
   "cell_type": "markdown",
   "metadata": {},
   "source": [
    "Solution info"
   ]
  },
  {
   "cell_type": "code",
   "execution_count": null,
   "metadata": {},
   "outputs": [
    {
     "data": {
      "text/plain": [
       "  message: The solver successfully reached the end of the integration interval.\n",
       "  success: True\n",
       "   status: 0\n",
       "        t: [ 0.000e+00  1.000e-01 ...  4.900e+00  5.000e+00]\n",
       "        y: [[-1.571e+00 -1.235e+00 ...  1.669e+00  1.710e+00]\n",
       "            [ 3.142e+00  3.568e+00 ...  7.144e-01  1.089e-01]]\n",
       "      sol: None\n",
       " t_events: None\n",
       " y_events: None\n",
       "     nfev: 62\n",
       "     njev: 0\n",
       "      nlu: 0"
      ]
     },
     "execution_count": null,
     "metadata": {},
     "output_type": "execute_result"
    }
   ],
   "source": [
    "sol"
   ]
  },
  {
   "attachments": {},
   "cell_type": "markdown",
   "metadata": {},
   "source": [
    "Domain $t$"
   ]
  },
  {
   "cell_type": "code",
   "execution_count": null,
   "metadata": {},
   "outputs": [
    {
     "data": {
      "text/plain": [
       "array([0. , 0.1, 0.2, 0.3, 0.4, 0.5, 0.6, 0.7, 0.8, 0.9, 1. , 1.1, 1.2,\n",
       "       1.3, 1.4, 1.5, 1.6, 1.7, 1.8, 1.9, 2. , 2.1, 2.2, 2.3, 2.4, 2.5,\n",
       "       2.6, 2.7, 2.8, 2.9, 3. , 3.1, 3.2, 3.3, 3.4, 3.5, 3.6, 3.7, 3.8,\n",
       "       3.9, 4. , 4.1, 4.2, 4.3, 4.4, 4.5, 4.6, 4.7, 4.8, 4.9, 5. ])"
      ]
     },
     "execution_count": null,
     "metadata": {},
     "output_type": "execute_result"
    }
   ],
   "source": [
    "sol.t"
   ]
  },
  {
   "attachments": {},
   "cell_type": "markdown",
   "metadata": {},
   "source": [
    "Target state vector $\\mathbf{S}(t)$"
   ]
  },
  {
   "cell_type": "code",
   "execution_count": null,
   "metadata": {},
   "outputs": [
    {
     "data": {
      "text/plain": [
       "array([[-1.57079633, -1.23453277, -0.86030514, -0.45843048, -0.03984597,\n",
       "         0.38403622,  0.80132899,  1.20010117,  1.56956933,  1.89899569,\n",
       "         2.17913795,  2.40237059,  2.56269013,  2.65611774,  2.6797985 ,\n",
       "         2.63269535,  2.5161626 ,  2.33394593,  2.09215279,  1.79786469,\n",
       "         1.45927277,  1.08592922,  0.68838898,  0.27820968, -0.13264009,\n",
       "        -0.53292218, -0.91109765, -1.256714  , -1.56047376, -1.81423449,\n",
       "        -2.01153094, -2.14738851, -2.21825989, -2.22290454, -2.16239147,\n",
       "        -2.04004441, -1.8604542 , -1.62961589, -1.35504951, -1.04569361,\n",
       "        -0.71190521, -0.36459551, -0.01451474,  0.32717482,  0.64994   ,\n",
       "         0.94388468,  1.1997787 ,  1.40987673,  1.56773208,  1.66861058,\n",
       "         1.70977222],\n",
       "       [ 3.14159265,  3.56848512,  3.89917004,  4.12291412,  4.23214869,\n",
       "         4.2232754 ,  4.09666617,  3.85641458,  3.50881107,  3.06297723,\n",
       "         2.53105399,  1.92817178,  1.2724329 ,  0.58252342, -0.12206293,\n",
       "        -0.82113985, -1.49509935, -2.12491179, -2.6921902 , -3.18147272,\n",
       "        -3.57870191, -3.87238992, -4.05472707, -4.1215818 , -4.07245453,\n",
       "        -3.90935802, -3.63694804, -3.26339319, -2.80039309, -2.26317843,\n",
       "        -1.6687201 , -1.03427919, -0.37891539,  0.27809265,  0.9172542 ,\n",
       "         1.51906741,  2.0664037 ,  2.54275331,  2.93405992,  3.22939312,\n",
       "         3.42094842,  3.50425349,  3.47731635,  3.3409717 ,  3.09984441,\n",
       "         2.76235405,  2.34064082,  1.84820122,  1.30038394,  0.71442752,\n",
       "         0.10888429]])"
      ]
     },
     "execution_count": null,
     "metadata": {},
     "output_type": "execute_result"
    }
   ],
   "source": [
    "sol.y"
   ]
  },
  {
   "attachments": {},
   "cell_type": "markdown",
   "metadata": {},
   "source": [
    "Draw the solution"
   ]
  },
  {
   "cell_type": "code",
   "execution_count": null,
   "metadata": {},
   "outputs": [],
   "source": [
    "#| export\n",
    "def draw_solution_y_yp(t, # the array of time domain [t1, t2, ... ,tN]  \n",
    "                       y, # the array of ode output [y(t), y'(t)]\n",
    "                      **kwargs):\n",
    "    \"\"\" Draw ode output [y(t), y'(t)] \"\"\"\n",
    "    fig, axes = plt.subplots(nrows=2, ncols=1)\n",
    "\n",
    "    axes[0].plot(t, y[0], **kwargs) # y(t)\n",
    "    axes[0].axhline(0, color='k', linewidth=2) # x-axis\n",
    "    axes[0].axvline(0, color='k', linewidth=2) # y-axis\n",
    "    axes[0].grid(True)\n",
    "    axes[0].set_xlabel('t')\n",
    "    axes[0].set_ylabel('y(t)')\n",
    "    \n",
    "    axes[1].plot(t, y[1], **kwargs) # y'(t)\n",
    "    axes[1].axhline(0, color='k', linewidth=2) # x-axis\n",
    "    axes[1].axvline(0, color='k', linewidth=2) # y-axis\n",
    "    axes[1].grid(True)\n",
    "    axes[1].set_xlabel('t')\n",
    "    axes[1].set_ylabel(r\"$y'(t)$\")\n",
    "    \n",
    "    plt.tight_layout()"
   ]
  },
  {
   "cell_type": "code",
   "execution_count": null,
   "metadata": {},
   "outputs": [
    {
     "data": {
      "text/markdown": [
       "---\n",
       "\n",
       "### draw_solution_y_yp\n",
       "\n",
       ">      draw_solution_y_yp (t, y, **kwargs)\n",
       "\n",
       "Draw ode output [y(t), y'(t)]\n",
       "\n",
       "|    | **Details** |\n",
       "| -- | ----------- |\n",
       "| t | the array of time domain [t1, t2, ... ,tN] |\n",
       "| y | the array of ode output [y(t), y'(t)] |\n",
       "| kwargs |  |"
      ],
      "text/plain": [
       "---\n",
       "\n",
       "### draw_solution_y_yp\n",
       "\n",
       ">      draw_solution_y_yp (t, y, **kwargs)\n",
       "\n",
       "Draw ode output [y(t), y'(t)]\n",
       "\n",
       "|    | **Details** |\n",
       "| -- | ----------- |\n",
       "| t | the array of time domain [t1, t2, ... ,tN] |\n",
       "| y | the array of ode output [y(t), y'(t)] |\n",
       "| kwargs |  |"
      ]
     },
     "execution_count": null,
     "metadata": {},
     "output_type": "execute_result"
    }
   ],
   "source": [
    "show_doc(draw_solution_y_yp)"
   ]
  },
  {
   "cell_type": "code",
   "execution_count": null,
   "metadata": {},
   "outputs": [
    {
     "data": {
      "image/png": "[encoded data removed]",
      "text/plain": [
       "<Figure size 640x480 with 2 Axes>"
      ]
     },
     "metadata": {},
     "output_type": "display_data"
    }
   ],
   "source": [
    "draw_solution_y_yp(sol.t, sol.y, color='blue')"
   ]
  },
  {
   "attachments": {},
   "cell_type": "markdown",
   "metadata": {},
   "source": [
    "If `dense_output = True`, we get a solution [**function**](https://docs.scipy.org/doc/scipy/reference/generated/scipy.integrate.OdeSolution.html#scipy.integrate.OdeSolution) as the sol.sol object."
   ]
  },
  {
   "cell_type": "code",
   "execution_count": null,
   "metadata": {},
   "outputs": [
    {
     "data": {
      "text/plain": [
       "  message: The solver successfully reached the end of the integration interval.\n",
       "  success: True\n",
       "   status: 0\n",
       "        t: [ 0.000e+00  1.000e-01 ...  4.900e+00  5.000e+00]\n",
       "        y: [[-1.571e+00 -1.235e+00 ...  1.669e+00  1.710e+00]\n",
       "            [ 3.142e+00  3.568e+00 ...  7.144e-01  1.089e-01]]\n",
       "      sol: <scipy.integrate._ivp.common.OdeSolution object>\n",
       " t_events: None\n",
       " y_events: None\n",
       "     nfev: 62\n",
       "     njev: 0\n",
       "      nlu: 0"
      ]
     },
     "execution_count": null,
     "metadata": {},
     "output_type": "execute_result"
    }
   ],
   "source": [
    "sol = solve_ivp(F, t_span, y0, t_eval=t, dense_output=True)\n",
    "sol"
   ]
  },
  {
   "cell_type": "code",
   "execution_count": null,
   "metadata": {},
   "outputs": [
    {
     "data": {
      "text/plain": [
       "<scipy.integrate._ivp.common.OdeSolution>"
      ]
     },
     "execution_count": null,
     "metadata": {},
     "output_type": "execute_result"
    }
   ],
   "source": [
    "sol.sol"
   ]
  },
  {
   "attachments": {},
   "cell_type": "markdown",
   "metadata": {},
   "source": [
    "Then we can calculate values at any point using this function.\n",
    "\n",
    "So, it can be also used for smooth plotting."
   ]
  },
  {
   "cell_type": "code",
   "execution_count": null,
   "metadata": {},
   "outputs": [
    {
     "data": {
      "text/plain": [
       "(2, 1000)"
      ]
     },
     "execution_count": null,
     "metadata": {},
     "output_type": "execute_result"
    }
   ],
   "source": [
    "t_eval = np.linspace(-1, 6, 1000)\n",
    "y_eval = sol.sol(t_eval)\n",
    "y_eval.shape"
   ]
  },
  {
   "cell_type": "code",
   "execution_count": null,
   "metadata": {},
   "outputs": [
    {
     "data": {
      "image/png": "[encoded data removed]",
      "text/plain": [
       "<Figure size 640x480 with 2 Axes>"
      ]
     },
     "metadata": {},
     "output_type": "display_data"
    }
   ],
   "source": [
    "draw_solution_y_yp(t_eval, y_eval, color='red')"
   ]
  },
  {
   "attachments": {},
   "cell_type": "markdown",
   "metadata": {},
   "source": [
    "## IVP Example2\n",
    "\n",
    "$$\n",
    "\\begin{cases}\n",
    "  y''- y = \\sin t \\\\ \n",
    "  t \\in [0, 5] \\\\\n",
    "  y(0) = -\\frac{1}{2} \\\\\n",
    "  y'(0) = 0 \\\\\n",
    "\\end{cases}\n",
    "$$ \n",
    "\n",
    "- Analytic solution\n",
    "$$\n",
    "y = -\\frac{1}{2}(e^{-t} + \\sin t)\n",
    "$$"
   ]
  },
  {
   "attachments": {},
   "cell_type": "markdown",
   "metadata": {},
   "source": [
    "### Rewrite ODE using $\\mathbf{S}(t)$\n",
    "\n",
    "- Target `y`\n",
    "$$\n",
    "\\mathbf{S}(t) = \\begin{bmatrix}\n",
    "                    y(t) \\\\\n",
    "                    y'(t) \\\\\n",
    "                \\end{bmatrix}\n",
    "              = \\begin{bmatrix}\n",
    "                    S[0] \\\\\n",
    "                    S[1] \\\\\n",
    "                \\end{bmatrix}\n",
    "$$\n",
    "\n",
    "- ODE system `F(t, y)`\n",
    "$$\n",
    "\\frac{d\\mathbf{S}}{dt} = \\mathbf{F}(t, \\mathbf{S}(t)) \n",
    "                       = \\begin{bmatrix}\n",
    "                            y'(t) \\\\\n",
    "                            y''(t) \\\\\n",
    "                         \\end{bmatrix}\n",
    "                       = \\begin{bmatrix}\n",
    "                            y' \\\\\n",
    "                            y + \\sin t \\\\\n",
    "                         \\end{bmatrix}\n",
    "                       = \\begin{bmatrix}\n",
    "                            S[1] \\\\\n",
    "                            S[0] + \\sin t \\\\\n",
    "                         \\end{bmatrix}\n",
    "$$\n",
    "\n",
    "- Domain\n",
    "\n",
    "```python\n",
    "t_span = [0, 5]\n",
    "N = 100 # number of points\n",
    "t = np.linspace(t_span[0], t_span[1], N)\n",
    "```\n",
    "\n",
    "- Initial condition `y0`\n",
    "$$\n",
    "\\mathbf{S}(0) = \\begin{bmatrix}\n",
    "                    y(0) \\\\\n",
    "                    y'(0) \\\\\n",
    "                \\end{bmatrix}\n",
    "              = \\begin{bmatrix}\n",
    "                    -\\frac{1}{2} \\\\\n",
    "                    0 \\\\\n",
    "                \\end{bmatrix}\n",
    "$$"
   ]
  },
  {
   "cell_type": "code",
   "execution_count": null,
   "metadata": {},
   "outputs": [],
   "source": [
    "from scipy.integrate import solve_ivp"
   ]
  },
  {
   "cell_type": "code",
   "execution_count": null,
   "metadata": {},
   "outputs": [],
   "source": [
    "def F(t, y):\n",
    "    return [y[1], y[0] + np.sin(t)]\n",
    "\n",
    "t_span = [0, 5]\n",
    "N = 100\n",
    "t = np.linspace(t_span[0], t_span[1], N)\n",
    "\n",
    "y0 = [-1/2, 0]"
   ]
  },
  {
   "cell_type": "code",
   "execution_count": null,
   "metadata": {},
   "outputs": [
    {
     "data": {
      "text/plain": [
       "  message: The solver successfully reached the end of the integration interval.\n",
       "  success: True\n",
       "   status: 0\n",
       "        t: [ 0.000e+00  5.051e-02 ...  4.949e+00  5.000e+00]\n",
       "        y: [[-5.000e-01 -5.006e-01 ...  4.837e-01  4.773e-01]\n",
       "            [ 0.000e+00 -2.399e-02 ... -1.128e-01 -1.373e-01]]\n",
       "      sol: <scipy.integrate._ivp.common.OdeSolution object>\n",
       " t_events: None\n",
       " y_events: None\n",
       "     nfev: 62\n",
       "     njev: 0\n",
       "      nlu: 0"
      ]
     },
     "execution_count": null,
     "metadata": {},
     "output_type": "execute_result"
    }
   ],
   "source": [
    "sol = solve_ivp(F, t_span, y0, t_eval=t, dense_output=True)\n",
    "sol"
   ]
  },
  {
   "cell_type": "code",
   "execution_count": null,
   "metadata": {},
   "outputs": [
    {
     "data": {
      "text/plain": [
       "(2, 1000)"
      ]
     },
     "execution_count": null,
     "metadata": {},
     "output_type": "execute_result"
    }
   ],
   "source": [
    "t_eval = np.linspace(t_span[0], t_span[1], 1000)\n",
    "y_eval = sol.sol(t_eval)\n",
    "y_eval.shape"
   ]
  },
  {
   "cell_type": "code",
   "execution_count": null,
   "metadata": {},
   "outputs": [
    {
     "data": {
      "image/png": "[encoded data removed]",
      "text/plain": [
       "<Figure size 640x480 with 2 Axes>"
      ]
     },
     "metadata": {},
     "output_type": "display_data"
    }
   ],
   "source": [
    "draw_solution_y_yp(t_eval, y_eval, color='red')"
   ]
  },
  {
   "attachments": {},
   "cell_type": "markdown",
   "metadata": {},
   "source": [
    "Since we know the analytical solution (exact solution) of this ODE, let's draw the analytical solution and numerical solution together."
   ]
  },
  {
   "cell_type": "code",
   "execution_count": null,
   "metadata": {},
   "outputs": [],
   "source": [
    "#| export\n",
    "def draw_solution_y_with_exact_y(t, # the array of time domain [t1, t2, ... ,tN]  \n",
    "                                    f, # the array of ode output target function y(t)\n",
    "                                    f_exact):  # the array of ode analytic function y(t)\n",
    "    \"\"\" Draw ode output y(t) with analytical y(t) \"\"\"\n",
    "    fig, ax = plt.subplots(nrows=1, ncols=1)\n",
    "\n",
    "    ax.plot(t, f, color='blue', linestyle='solid', label='numerical') # y(t)\n",
    "    ax.plot(t, f, color='red', linestyle='dashed', label='analytic') # y(t)                                 \n",
    "    ax.axhline(0, color='k', linewidth=2) # x-axis\n",
    "    ax.axvline(0, color='k', linewidth=2) # y-axis\n",
    "    ax.grid(True)\n",
    "    ax.set_xlabel('t')\n",
    "    ax.set_ylabel('y(t)')\n",
    "    ax.legend()\n",
    "                                        \n",
    "    plt.tight_layout()"
   ]
  },
  {
   "cell_type": "code",
   "execution_count": null,
   "metadata": {},
   "outputs": [
    {
     "data": {
      "text/markdown": [
       "---\n",
       "\n",
       "### draw_solution_y_with_exact_y\n",
       "\n",
       ">      draw_solution_y_with_exact_y (t, f, f_exact)\n",
       "\n",
       "Draw ode output y(t) with analytical y(t)\n",
       "\n",
       "|    | **Details** |\n",
       "| -- | ----------- |\n",
       "| t | the array of time domain [t1, t2, ... ,tN] |\n",
       "| f | the array of ode output target function y(t) |\n",
       "| f_exact | the array of ode analytic function y(t) |"
      ],
      "text/plain": [
       "---\n",
       "\n",
       "### draw_solution_y_with_exact_y\n",
       "\n",
       ">      draw_solution_y_with_exact_y (t, f, f_exact)\n",
       "\n",
       "Draw ode output y(t) with analytical y(t)\n",
       "\n",
       "|    | **Details** |\n",
       "| -- | ----------- |\n",
       "| t | the array of time domain [t1, t2, ... ,tN] |\n",
       "| f | the array of ode output target function y(t) |\n",
       "| f_exact | the array of ode analytic function y(t) |"
      ]
     },
     "execution_count": null,
     "metadata": {},
     "output_type": "execute_result"
    }
   ],
   "source": [
    "show_doc(draw_solution_y_with_exact_y)"
   ]
  },
  {
   "attachments": {},
   "cell_type": "markdown",
   "metadata": {},
   "source": [
    "- Analytical solution\n",
    "$$\n",
    "y = -\\frac{1}{2}(e^{-t} + \\sin t)\n",
    "$$"
   ]
  },
  {
   "cell_type": "code",
   "execution_count": null,
   "metadata": {},
   "outputs": [
    {
     "data": {
      "text/plain": [
       "(1000,)"
      ]
     },
     "execution_count": null,
     "metadata": {},
     "output_type": "execute_result"
    }
   ],
   "source": [
    "f_exact = lambda t: -0.5*(np.exp(-t) + np.sin(t))\n",
    "y_exact = f_exact(t_eval)\n",
    "y_exact.shape"
   ]
  },
  {
   "cell_type": "code",
   "execution_count": null,
   "metadata": {},
   "outputs": [
    {
     "data": {
      "image/png": "[encoded data removed]",
      "text/plain": [
       "<Figure size 640x480 with 1 Axes>"
      ]
     },
     "metadata": {},
     "output_type": "display_data"
    }
   ],
   "source": [
    "draw_solution_y_with_exact_y(t_eval, y_eval[0], y_exact)"
   ]
  },
  {
   "attachments": {},
   "cell_type": "markdown",
   "metadata": {},
   "source": [
    "To see the effect of `N` (number of points within domain) to this problem, I create a new function whose input is N and pass this function to the `ipywidgets.interact`."
   ]
  },
  {
   "cell_type": "code",
   "execution_count": null,
   "metadata": {},
   "outputs": [],
   "source": [
    "#| export\n",
    "def solve_and_draw_solution_y_with_exact_y(N # the number of points within the domain\n",
    "                                          ):\n",
    "    \"\"\"[Ineractive purpose] Given N, solve the ivp problem and plot the solution function y(t)\"\"\"\n",
    "    t = np.linspace(t_span[0], t_span[1], N)\n",
    "    sol = solve_ivp(F, t_span, y0, t_eval=t) # Here, we don't use dense_output because we want to see the effect of N\n",
    "    t_eval = np.linspace(t_span[0], t_span[1], 1000)\n",
    "    y_exact = f_exact(t_eval)\n",
    "\n",
    "    fig, ax = plt.subplots(nrows=1, ncols=1)\n",
    "\n",
    "    ax.plot(sol.t, sol.y[0], color='blue', linestyle='solid', label='numerical') # y(t)\n",
    "    ax.plot(t_eval, y_exact, color='red', linestyle='dashed', label='analytic') # y(t)                                 \n",
    "    ax.axhline(0, color='k', linewidth=2) # x-axis\n",
    "    ax.axvline(0, color='k', linewidth=2) # y-axis\n",
    "    ax.grid(True)\n",
    "    ax.set_xlabel('t')\n",
    "    ax.set_ylabel('y(t)')\n",
    "    ax.legend()\n",
    "                                        \n",
    "    plt.tight_layout()"
   ]
  },
  {
   "cell_type": "code",
   "execution_count": null,
   "metadata": {},
   "outputs": [
    {
     "data": {
      "text/markdown": [
       "---\n",
       "\n",
       "### solve_and_draw_solution_y_with_exact_y\n",
       "\n",
       ">      solve_and_draw_solution_y_with_exact_y (N)\n",
       "\n",
       "[Ineractive purpose] Given N, solve the ivp problem and plot the solution function y(t)\n",
       "\n",
       "|    | **Details** |\n",
       "| -- | ----------- |\n",
       "| N | the number of points within the domain |"
      ],
      "text/plain": [
       "---\n",
       "\n",
       "### solve_and_draw_solution_y_with_exact_y\n",
       "\n",
       ">      solve_and_draw_solution_y_with_exact_y (N)\n",
       "\n",
       "[Ineractive purpose] Given N, solve the ivp problem and plot the solution function y(t)\n",
       "\n",
       "|    | **Details** |\n",
       "| -- | ----------- |\n",
       "| N | the number of points within the domain |"
      ]
     },
     "execution_count": null,
     "metadata": {},
     "output_type": "execute_result"
    }
   ],
   "source": [
    "show_doc(solve_and_draw_solution_y_with_exact_y)"
   ]
  },
  {
   "cell_type": "code",
   "execution_count": null,
   "metadata": {},
   "outputs": [],
   "source": [
    "from ipywidgets import interact"
   ]
  },
  {
   "cell_type": "code",
   "execution_count": null,
   "metadata": {},
   "outputs": [
    {
     "data": {
      "application/vnd.jupyter.widget-view+json": {
       "model_id": "ed83a464368846e69d8f2309b41d9e1d",
       "version_major": 2,
       "version_minor": 0
      },
      "text/plain": [
       "interactive(children=(IntSlider(value=26, description='N', max=50, min=2), Output()), _dom_classes=('widget-in…"
      ]
     },
     "metadata": {},
     "output_type": "display_data"
    },
    {
     "data": {
      "text/plain": [
       "<function __main__.solve_and_draw_solution_y_with_exact_y(N)>"
      ]
     },
     "execution_count": null,
     "metadata": {},
     "output_type": "execute_result"
    }
   ],
   "source": [
    "interact(solve_and_draw_solution_y_with_exact_y, N=(2, 50, 1))"
   ]
  },
  {
   "attachments": {},
   "cell_type": "markdown",
   "metadata": {},
   "source": [
    "As we expected, increasing `N` increases the accuracy of the solution."
   ]
  },
  {
   "attachments": {},
   "cell_type": "markdown",
   "metadata": {},
   "source": [
    "## ODE - BVP(Boundary Value Problem)"
   ]
  },
  {
   "attachments": {},
   "cell_type": "markdown",
   "metadata": {},
   "source": [
    "### How to solve BVP using scipy\n",
    "\n",
    "The overall structure is as follows:\n",
    "\n",
    "```python\n",
    "from scipy.integrate import solve_bvp\n",
    "\n",
    "sol = solve_bvp(F, bc, x, y0)\n",
    "```"
   ]
  },
  {
   "attachments": {},
   "cell_type": "markdown",
   "metadata": {},
   "source": [
    "### The given problem\n",
    "\n",
    "- Target `y`\n",
    "$$\n",
    "\\mathbf{S}(x) = \\begin{bmatrix}\n",
    "                     f(x) \\\\\n",
    "                     \\displaystyle\\frac{df(x)}{dx} \\\\\n",
    "                     \\displaystyle\\frac{d^2 f(x)}{dx^2} \\\\\n",
    "                     \\vdots \\\\\n",
    "                     \\displaystyle\\frac{d^{n-1} f(x)}{dx^{n-1}}  \\\\\n",
    "                 \\end{bmatrix}\n",
    "              = \\begin{bmatrix}\n",
    "                     S[0] \\\\\n",
    "                     S[1] \\\\\n",
    "                     S[2] \\\\\n",
    "                     \\vdots \\\\\n",
    "                     S[n-1]  \\\\\n",
    "                 \\end{bmatrix}\n",
    "$$\n",
    "\n",
    "- ODE system `F(x, y)`\n",
    "$$\n",
    "\\frac{d\\mathbf{S}}{dx} = \\mathbf{F}(x, \\mathbf{S}(x)) = \\begin{bmatrix}\n",
    "                             \\displaystyle\\frac{df(x)}{dx} \\\\\n",
    "                             \\displaystyle\\frac{d^2 f(x)}{dx^2} \\\\\n",
    "                             \\displaystyle\\frac{d^3 f(x)}{dx^3} \\\\\n",
    "                             \\vdots \\\\\n",
    "                             \\displaystyle\\frac{d^{n} f(x)}{dx^{n}}  \\\\\n",
    "                         \\end{bmatrix}\n",
    "                         = \\begin{bmatrix}\n",
    "                             S[1] \\\\\n",
    "                             S[2] \\\\\n",
    "                             S[3] \\\\\n",
    "                             \\vdots \\\\\n",
    "                             \\mathcal{F}\\left(x, S[0], S[1], S[2], \\cdots, S[n-1] \\right)  \\\\\n",
    "                         \\end{bmatrix}\n",
    "$$\n",
    "\n",
    "- Domain `x_span=[x_a, x_b]`\n",
    "$$\n",
    "x \\in [x_a, x_b]\n",
    "$$\n",
    "    - If the number of points `N` is given, `x = np.linspace(x_span[0], x_span[1], N)`.\n",
    "\n",
    "    - If the spacing `h` is given, `x = np.arange(x_span[0], x_span[1]+h, h)`. Here, the purpose of `+h` in `x_span[1]+h` is to include the value of `x_span[1]` in the array `x`.\n",
    "\n",
    "\n",
    "- Boundary condition function `bc` defined from `ya`, `yb`\n",
    "\n",
    "$$\n",
    "\\text{ya} = \\mathbf{S}(x_a) = \\begin{bmatrix}\n",
    "                                     f(x=x_a) \\\\\n",
    "                                     \\displaystyle\\frac{df(x)}{dx}\\Bigr|_{x=x_a} \\\\\n",
    "                                     \\displaystyle\\frac{d^2 f(x)}{dx^2}\\Bigr|_{x=x_a} \\\\\n",
    "                                     \\vdots \\\\\n",
    "                                     \\displaystyle\\frac{d^{n-1} f(x)}{dx^{n-1}}\\Bigr|_{x=x_a}  \\\\\n",
    "                              \\end{bmatrix}\n",
    "$$\n",
    "\n",
    "$$\n",
    "\\text{yb} = \\mathbf{S}(x_b) = \\begin{bmatrix}\n",
    "                                     f(x=x_b) \\\\\n",
    "                                     \\displaystyle\\frac{df(x)}{dx}\\Bigr|_{x=x_b} \\\\\n",
    "                                     \\displaystyle\\frac{d^2 f(x)}{dx^2}\\Bigr|_{x=x_b} \\\\\n",
    "                                     \\vdots \\\\\n",
    "                                     \\displaystyle\\frac{d^{n-1} f(x)}{dx^{n-1}}\\Bigr|_{x=x_b}  \\\\\n",
    "                              \\end{bmatrix}\n",
    "$$\n",
    "\n",
    "Since the number of elements of $\\text{ya}$ and $\\text{yb}$ is larger than the number of boundary conditions required by the ODE, we often know the part of elements of $\\text{ya}$ and $\\text{yb}$. \n",
    "\n",
    "\n",
    "$$\n",
    "\\text{bc} = \\begin{bmatrix}\n",
    "                 \\text{ya} - \\mathbf{S}(x_a) \\\\\n",
    "                 \\text{yb} - \\mathbf{S}(x_b)\n",
    "            \\end{bmatrix}\n",
    "$$\n",
    "\n",
    "Therefore, the elements of $\\text{bc}$ are zero when boundary conditions are satisfied.\n",
    "\n",
    "- Initial guess `y0`\n",
    "\n",
    "For the given spacing `h`, \n",
    "\n",
    "\n",
    "$$\n",
    "\\begin{align}\n",
    "\\text{y0} & = [\\mathbf{S}(x_a), \\mathbf{S}(x_a + h), \\mathbf{S}(x_a + 2h), \\cdots, \\mathbf{S}(x_b)] \\\\\n",
    "          & = \\begin{bmatrix}\n",
    "                  f(x=x_a) & f(x=x_a+h) & f(x=x_a+2h) & \\cdots & f(x=x_b) \\\\ \n",
    "                  \\displaystyle\\frac{df(x)}{dx}\\Bigr|_{x=x_a} & \\displaystyle\\frac{df(x)}{dx}\\Bigr|_{x=x_a+h} & \\displaystyle\\frac{df(x)}{dx}\\Bigr|_{x=x_a+2h} & \\cdots & \\displaystyle\\frac{df(x)}{dx}\\Bigr|_{x=x_b} \\\\\n",
    "                  \\displaystyle\\frac{d^2f(x)}{dx^2}\\Bigr|_{x=x_a} & \\displaystyle\\frac{d^2f(x)}{dx^2}\\Bigr|_{x=x_a+h} & \\displaystyle\\frac{d^2f(x)}{dx^2}\\Bigr|_{x=x_a+2h} & \\cdots & \\displaystyle\\frac{d^2f(x)}{dx^2}\\Bigr|_{x=x_b} \\\\\n",
    "                  \\vdots & \\vdots & \\vdots & \\vdots & \\vdots \\\\ \n",
    "                  \\displaystyle\\frac{d^{n-1}f(x)}{dx^{n-1}}\\Bigr|_{x=x_a} & \\displaystyle\\frac{d^{n-1}f(x)}{dx^{n-1}}\\Bigr|_{x=x_a+h} & \\displaystyle\\frac{d^{n-1}f(x)}{dx^{n-1}}\\Bigr|_{x=x_a+2h} & \\cdots & \\displaystyle\\frac{d^{n-1}f(x)}{dx^{n-1}}\\Bigr|_{x=x_b} \\\\\n",
    "               \\end{bmatrix}\n",
    "\\end{align}\n",
    "$$\n",
    "\n",
    "We must give the solver this initial guess `y0` to solve BVP."
   ]
  },
  {
   "attachments": {},
   "cell_type": "markdown",
   "metadata": {},
   "source": [
    "### Solution\n",
    "\n",
    "- Target `sol.y`\n",
    "$$\n",
    "\\mathbf{S}(x) = \\begin{bmatrix}\n",
    "                     f(x) \\\\\n",
    "                     \\displaystyle\\frac{df(x)}{dx} \\\\\n",
    "                     \\displaystyle\\frac{d^2 f(x)}{dx^2} \\\\\n",
    "                     \\vdots \\\\\n",
    "                     \\displaystyle\\frac{d^{n-1} f(x)}{dx^{n-1}}  \\\\\n",
    "                 \\end{bmatrix}\n",
    "$$\n",
    "\n",
    "- Domain `sol.x`\n",
    "$$\n",
    "x = [x_a, \\cdots, x_b]\n",
    "$$"
   ]
  },
  {
   "attachments": {},
   "cell_type": "markdown",
   "metadata": {},
   "source": [
    "### Homogeneous BVP\n",
    "\n",
    "If the differential equation is homogeneous \n",
    "\n",
    "$$\n",
    "\\frac{d\\mathbf{S}}{dx} - \\mathbf{F}(x, \\mathbf{S}(x); \\lambda) = 0\n",
    "$$\n",
    "\n",
    "and the boundary conditions are also homogeneous\n",
    "\n",
    "$$\n",
    "\\mathbf{S}(x_a) = 0 \n",
    "$$\n",
    "\n",
    "$$\n",
    "\\mathbf{S}(x_b) = 0\n",
    "$$\n",
    "\n",
    "then this BVP is a homogeneous problem.\n",
    "\n",
    "Since every homogeneous problem has a trivial solution (zero solution), there is a condition for nontrivial solutions (nonzero solutions).\n",
    "\n",
    "For the condition there should exist the unknown parameter $\\lambda$ of the homogeneous ODE, which is just a constant, not a target function.\n",
    "\n",
    "Depending the value of the parameter $\\lambda$, the homogeneous BVP does not have a solution or has either a trivial solution or a nontrivial solution. \n",
    "\n",
    "The condition for nontrivial solutions is called a **dispersion relation** and the value of the parameter $\\lambda$ which gives a nontrivial solution is called **eigenvalue** and that nontrivial solution is called corresponding **eigenfunction**.\n",
    "\n",
    "In that sense, homogeneous BVP (with parameters) is essentially a eigenvalue problem in linear algebra."
   ]
  },
  {
   "attachments": {},
   "cell_type": "markdown",
   "metadata": {},
   "source": [
    "### References\n",
    "- [scipy solve_bvp docs](https://docs.scipy.org/doc/scipy/reference/generated/scipy.integrate.solve_bvp.html)\n",
    "- [PDF about IVP and BVP in Python](https://acme.byu.edu/0000017c-ccfe-da17-a5fd-cdfeff540000/acmefiles-08-bvp-2021-pdf)\n",
    "- [Python Programming and Numerical Methods, Chap 23](https://pythonnumericalmethods.berkeley.edu/notebooks/chapter23.00-ODE-Boundary-Value-Problems.html)\n",
    "- [Differential Equations in Paul's Online Math Notes, Chap 8](https://tutorial.math.lamar.edu/Classes/DE/IntroBVP.aspx)"
   ]
  },
  {
   "attachments": {},
   "cell_type": "markdown",
   "metadata": {},
   "source": [
    "## BVP Example1 - solve_bvp\n",
    "\n",
    "$$\n",
    "\\begin{cases}\n",
    "  y''+ 9y = \\cos x \\\\ \n",
    "  x \\in [0, \\pi] \\\\\n",
    "  y'(0) = 5 \\\\\n",
    "  y(\\pi) = \\displaystyle-\\frac{5}{3} \\\\\n",
    "\\end{cases}\n",
    "$$ "
   ]
  },
  {
   "attachments": {},
   "cell_type": "markdown",
   "metadata": {},
   "source": [
    "### Rewrite ODE using $\\mathbf{S}(t)$\n",
    "\n",
    "- Target `y`\n",
    "$$\n",
    "\\mathbf{S}(x) = \\begin{bmatrix}\n",
    "                     y(x) \\\\\n",
    "                     y'(x)\n",
    "                 \\end{bmatrix}\n",
    "              = \\begin{bmatrix}\n",
    "                     S[0] \\\\\n",
    "                     S[1]\n",
    "                 \\end{bmatrix}\n",
    "$$\n",
    "\n",
    "- ODE system `F(x, y)`\n",
    "$$\n",
    "\\frac{d\\mathbf{S}}{dx} = \\mathbf{F}(x, \\mathbf{S}(x)) \n",
    "                       = \\begin{bmatrix}\n",
    "                             y'(x) \\\\\n",
    "                             y''(x)\n",
    "                         \\end{bmatrix}\n",
    "                       = \\begin{bmatrix}\n",
    "                             y'(x) \\\\\n",
    "                             -9y + \\cos t\n",
    "                         \\end{bmatrix}\n",
    "                       = \\begin{bmatrix}\n",
    "                             S[1] \\\\\n",
    "                             -9S[0] + \\cos x\n",
    "                         \\end{bmatrix} \n",
    "$$\n",
    "\n",
    "- Domain\n",
    "  \n",
    "```python\n",
    "x_span = [0, np.pi]\n",
    "N = 100 # number of points\n",
    "x = np.linspace(x_span[0], x_span[1], N)\n",
    "```\n",
    "\n",
    "- Boundary condition function `bc` defined from `ya`, `yb`\n",
    "\n",
    "$$\n",
    "\\text{ya} = \\mathbf{S}(0) = \\begin{bmatrix}\n",
    "                                 y(0) \\\\\n",
    "                                 y'(0)\n",
    "                             \\end{bmatrix}\n",
    "                          = \\begin{bmatrix}\n",
    "                                 ? \\\\\n",
    "                                 5\n",
    "                             \\end{bmatrix}\n",
    "                          = \\begin{bmatrix}\n",
    "                                 \\text{ya}[0] \\\\\n",
    "                                 \\text{ya}[1]\n",
    "                             \\end{bmatrix}\n",
    "$$\n",
    "\n",
    "$$\n",
    "\\text{yb} = \\mathbf{S}(\\pi) = \\begin{bmatrix}\n",
    "                                 y(\\pi) \\\\\n",
    "                                 y'(\\pi)\n",
    "                             \\end{bmatrix}\n",
    "                            = \\begin{bmatrix}\n",
    "                                 \\displaystyle-\\frac{5}{3} \\\\\n",
    "                                 ?\n",
    "                              \\end{bmatrix}\n",
    "                            = \\begin{bmatrix}\n",
    "                                 \\text{yb}[0] \\\\\n",
    "                                 \\text{yb}[1]\n",
    "                              \\end{bmatrix}\n",
    "$$\n",
    "\n",
    "\n",
    "$$\n",
    "\\text{bc} = \\begin{bmatrix}\n",
    "                 \\text{ya} - \\mathbf{S}(x_a) \\\\\n",
    "                 \\text{yb} - \\mathbf{S}(\\pi)\n",
    "            \\end{bmatrix}\n",
    "          = \\begin{bmatrix}\n",
    "                 \\text{ya}[1] - 5 \\\\\n",
    "                 \\text{yb}[0] - \\left(\\displaystyle-\\frac{5}{3}\\right)\n",
    "            \\end{bmatrix}\n",
    "          = \\begin{bmatrix}\n",
    "                 \\text{ya}[1] - 5 \\\\\n",
    "                 \\text{yb}[0] + \\displaystyle\\frac{5}{3}\n",
    "            \\end{bmatrix}\n",
    "$$\n",
    "\n",
    "\n",
    "- Initial guess `y0`\n",
    "\n",
    "For the given spacing `h`, \n",
    "\n",
    "$$\n",
    "\\begin{align}\n",
    "\\text{y0} & = [\\mathbf{S}(0), \\mathbf{S}(0 + h), \\mathbf{S}(0 + 2h), \\cdots, \\mathbf{S}(\\pi)] \\\\\n",
    "          & = \\begin{bmatrix}\n",
    "                  f(x=0) & f(x=0+h) & f(x=0+2h) & \\cdots & f(x=\\pi) \\\\ \n",
    "                  \\displaystyle\\frac{df(x)}{dx}\\Bigr|_{x=0} & \\displaystyle\\frac{df(x)}{dx}\\Bigr|_{x=0+h} & \\displaystyle\\frac{df(x)}{dx}\\Bigr|_{x=0+2h} & \\cdots & \\displaystyle\\frac{df(x)}{dx}\\Bigr|_{x=\\pi} \\\\\n",
    "                  \\displaystyle\\frac{d^2f(x)}{dx^2}\\Bigr|_{x=0} & \\displaystyle\\frac{d^2f(x)}{dx^2}\\Bigr|_{x=0+h} & \\displaystyle\\frac{d^2f(x)}{dx^2}\\Bigr|_{x=0+2h} & \\cdots & \\displaystyle\\frac{d^2f(x)}{dx^2}\\Bigr|_{x=\\pi} \\\\\n",
    "                  \\vdots & \\vdots & \\vdots & \\vdots & \\vdots \\\\ \n",
    "                  \\displaystyle\\frac{d^{n-1}f(x)}{dx^{n-1}}\\Bigr|_{x=0} & \\displaystyle\\frac{d^{n-1}f(x)}{dx^{n-1}}\\Bigr|_{x=0+h} & \\displaystyle\\frac{d^{n-1}f(x)}{dx^{n-1}}\\Bigr|_{x=0+2h} & \\cdots & \\displaystyle\\frac{d^{n-1}f(x)}{dx^{n-1}}\\Bigr|_{x=\\pi} \\\\\n",
    "               \\end{bmatrix}\n",
    "\\end{align}\n",
    "$$\n",
    "\n",
    "```python\n",
    "y_init = np.ones_like(x)\n",
    "dy_init = np.ones_like(x)\n",
    "y0 = np.vstack([y_init, dy_init])\n",
    "```"
   ]
  },
  {
   "cell_type": "code",
   "execution_count": null,
   "metadata": {},
   "outputs": [],
   "source": [
    "from scipy.integrate import solve_bvp"
   ]
  },
  {
   "cell_type": "code",
   "execution_count": null,
   "metadata": {},
   "outputs": [],
   "source": [
    "def F(x, y):\n",
    "    return [y[1], -9*y[0] + np.cos(x)]\n",
    "\n",
    "def bc(ya, yb):\n",
    "    return [ya[1] - 5, yb[0] + 5/3]"
   ]
  },
  {
   "cell_type": "code",
   "execution_count": null,
   "metadata": {},
   "outputs": [
    {
     "data": {
      "text/plain": [
       "array([0.        , 0.03173326, 0.06346652, 0.09519978, 0.12693304,\n",
       "       0.1586663 , 0.19039955, 0.22213281, 0.25386607, 0.28559933,\n",
       "       0.31733259, 0.34906585, 0.38079911, 0.41253237, 0.44426563,\n",
       "       0.47599889, 0.50773215, 0.53946541, 0.57119866, 0.60293192,\n",
       "       0.63466518, 0.66639844, 0.6981317 , 0.72986496, 0.76159822,\n",
       "       0.79333148, 0.82506474, 0.856798  , 0.88853126, 0.92026451,\n",
       "       0.95199777, 0.98373103, 1.01546429, 1.04719755, 1.07893081,\n",
       "       1.11066407, 1.14239733, 1.17413059, 1.20586385, 1.23759711,\n",
       "       1.26933037, 1.30106362, 1.33279688, 1.36453014, 1.3962634 ,\n",
       "       1.42799666, 1.45972992, 1.49146318, 1.52319644, 1.5549297 ,\n",
       "       1.58666296, 1.61839622, 1.65012947, 1.68186273, 1.71359599,\n",
       "       1.74532925, 1.77706251, 1.80879577, 1.84052903, 1.87226229,\n",
       "       1.90399555, 1.93572881, 1.96746207, 1.99919533, 2.03092858,\n",
       "       2.06266184, 2.0943951 , 2.12612836, 2.15786162, 2.18959488,\n",
       "       2.22132814, 2.2530614 , 2.28479466, 2.31652792, 2.34826118,\n",
       "       2.37999443, 2.41172769, 2.44346095, 2.47519421, 2.50692747,\n",
       "       2.53866073, 2.57039399, 2.60212725, 2.63386051, 2.66559377,\n",
       "       2.69732703, 2.72906028, 2.76079354, 2.7925268 , 2.82426006,\n",
       "       2.85599332, 2.88772658, 2.91945984, 2.9511931 , 2.98292636,\n",
       "       3.01465962, 3.04639288, 3.07812614, 3.10985939, 3.14159265])"
      ]
     },
     "execution_count": null,
     "metadata": {},
     "output_type": "execute_result"
    }
   ],
   "source": [
    "x_span = [0, np.pi]\n",
    "N = 100\n",
    "x = np.linspace(x_span[0], x_span[1], N)\n",
    "x"
   ]
  },
  {
   "cell_type": "code",
   "execution_count": null,
   "metadata": {},
   "outputs": [
    {
     "data": {
      "text/plain": [
       "array([[1., 1., 1., 1., 1., 1., 1., 1., 1., 1., 1., 1., 1., 1., 1., 1.,\n",
       "        1., 1., 1., 1., 1., 1., 1., 1., 1., 1., 1., 1., 1., 1., 1., 1.,\n",
       "        1., 1., 1., 1., 1., 1., 1., 1., 1., 1., 1., 1., 1., 1., 1., 1.,\n",
       "        1., 1., 1., 1., 1., 1., 1., 1., 1., 1., 1., 1., 1., 1., 1., 1.,\n",
       "        1., 1., 1., 1., 1., 1., 1., 1., 1., 1., 1., 1., 1., 1., 1., 1.,\n",
       "        1., 1., 1., 1., 1., 1., 1., 1., 1., 1., 1., 1., 1., 1., 1., 1.,\n",
       "        1., 1., 1., 1.],\n",
       "       [1., 1., 1., 1., 1., 1., 1., 1., 1., 1., 1., 1., 1., 1., 1., 1.,\n",
       "        1., 1., 1., 1., 1., 1., 1., 1., 1., 1., 1., 1., 1., 1., 1., 1.,\n",
       "        1., 1., 1., 1., 1., 1., 1., 1., 1., 1., 1., 1., 1., 1., 1., 1.,\n",
       "        1., 1., 1., 1., 1., 1., 1., 1., 1., 1., 1., 1., 1., 1., 1., 1.,\n",
       "        1., 1., 1., 1., 1., 1., 1., 1., 1., 1., 1., 1., 1., 1., 1., 1.,\n",
       "        1., 1., 1., 1., 1., 1., 1., 1., 1., 1., 1., 1., 1., 1., 1., 1.,\n",
       "        1., 1., 1., 1.]])"
      ]
     },
     "execution_count": null,
     "metadata": {},
     "output_type": "execute_result"
    }
   ],
   "source": [
    "y_init = np.ones_like(x)\n",
    "dy_init = np.ones_like(x)\n",
    "y0 = np.vstack([y_init, dy_init])\n",
    "y0"
   ]
  },
  {
   "cell_type": "code",
   "execution_count": null,
   "metadata": {},
   "outputs": [
    {
     "data": {
      "text/plain": [
       "       message: The algorithm converged to the desired accuracy.\n",
       "       success: True\n",
       "        status: 0\n",
       "             x: [ 0.000e+00  3.173e-02 ...  3.110e+00  3.142e+00]\n",
       "           sol: <scipy.interpolate._interpolate.PPoly object>\n",
       "             p: None\n",
       "             y: [[ 1.667e+00  1.818e+00 ... -1.501e+00 -1.667e+00]\n",
       "                 [ 5.000e+00  4.534e+00 ... -5.421e+00 -5.000e+00]]\n",
       "            yp: [[ 5.000e+00  4.534e+00 ... -5.421e+00 -5.000e+00]\n",
       "                 [-1.400e+01 -1.536e+01 ...  1.251e+01  1.400e+01]]\n",
       " rms_residuals: [ 6.168e-06  6.239e-06 ...  7.190e-06  6.478e-06]\n",
       "         niter: 1"
      ]
     },
     "execution_count": null,
     "metadata": {},
     "output_type": "execute_result"
    }
   ],
   "source": [
    "sol = solve_bvp(F, bc, x, y0)\n",
    "sol"
   ]
  },
  {
   "attachments": {},
   "cell_type": "markdown",
   "metadata": {},
   "source": [
    "`solve_bvp` always gives solution [function](https://docs.scipy.org/doc/scipy/reference/generated/scipy.interpolate.PPoly.html#scipy.interpolate.PPoly), unlike `solve_ivp`. There is no `dense_output` option."
   ]
  },
  {
   "cell_type": "code",
   "execution_count": null,
   "metadata": {},
   "outputs": [
    {
     "data": {
      "text/plain": [
       "<scipy.interpolate._interpolate.PPoly>"
      ]
     },
     "execution_count": null,
     "metadata": {},
     "output_type": "execute_result"
    }
   ],
   "source": [
    "sol.sol"
   ]
  },
  {
   "attachments": {},
   "cell_type": "markdown",
   "metadata": {},
   "source": [
    "Domain"
   ]
  },
  {
   "cell_type": "code",
   "execution_count": null,
   "metadata": {},
   "outputs": [
    {
     "data": {
      "text/plain": [
       "array([0.        , 0.03173326, 0.06346652, 0.09519978, 0.12693304,\n",
       "       0.1586663 , 0.19039955, 0.22213281, 0.25386607, 0.28559933,\n",
       "       0.31733259, 0.34906585, 0.38079911, 0.41253237, 0.44426563,\n",
       "       0.47599889, 0.50773215, 0.53946541, 0.57119866, 0.60293192,\n",
       "       0.63466518, 0.66639844, 0.6981317 , 0.72986496, 0.76159822,\n",
       "       0.79333148, 0.82506474, 0.856798  , 0.88853126, 0.92026451,\n",
       "       0.95199777, 0.98373103, 1.01546429, 1.04719755, 1.07893081,\n",
       "       1.11066407, 1.14239733, 1.17413059, 1.20586385, 1.23759711,\n",
       "       1.26933037, 1.30106362, 1.33279688, 1.36453014, 1.3962634 ,\n",
       "       1.42799666, 1.45972992, 1.49146318, 1.52319644, 1.5549297 ,\n",
       "       1.58666296, 1.61839622, 1.65012947, 1.68186273, 1.71359599,\n",
       "       1.74532925, 1.77706251, 1.80879577, 1.84052903, 1.87226229,\n",
       "       1.90399555, 1.93572881, 1.96746207, 1.99919533, 2.03092858,\n",
       "       2.06266184, 2.0943951 , 2.12612836, 2.15786162, 2.18959488,\n",
       "       2.22132814, 2.2530614 , 2.28479466, 2.31652792, 2.34826118,\n",
       "       2.37999443, 2.41172769, 2.44346095, 2.47519421, 2.50692747,\n",
       "       2.53866073, 2.57039399, 2.60212725, 2.63386051, 2.66559377,\n",
       "       2.69732703, 2.72906028, 2.76079354, 2.7925268 , 2.82426006,\n",
       "       2.85599332, 2.88772658, 2.91945984, 2.9511931 , 2.98292636,\n",
       "       3.01465962, 3.04639288, 3.07812614, 3.10985939, 3.14159265])"
      ]
     },
     "execution_count": null,
     "metadata": {},
     "output_type": "execute_result"
    }
   ],
   "source": [
    "sol.x"
   ]
  },
  {
   "attachments": {},
   "cell_type": "markdown",
   "metadata": {},
   "source": [
    "Solution"
   ]
  },
  {
   "cell_type": "code",
   "execution_count": null,
   "metadata": {},
   "outputs": [
    {
     "data": {
      "text/plain": [
       "array([[ 1.66666846,  1.81805145,  1.95397555,  2.07320827,  2.17466729,\n",
       "         2.25743026,  2.32074312,  2.36402694,  2.3868832 ,  2.38909739,\n",
       "         2.37064095,  2.33167154,  2.27253163,  2.19374541,  2.09601405,\n",
       "         1.98020934,  1.84736586,  1.69867159,  1.53545714,  1.3591838 ,\n",
       "         1.17143022,  0.97387822,  0.76829752,  0.55652976,  0.34047183,\n",
       "         0.12205872, -0.09675397, -0.31400776, -0.52775896, -0.73609625,\n",
       "        -0.93715802, -1.1291491 , -1.31035711, -1.47916786, -1.63407996,\n",
       "        -1.7737184 , -1.89684698, -2.00237945, -2.08938935, -2.15711833,\n",
       "        -2.20498304, -2.23258033, -2.23969093, -2.22628133, -2.19250412,\n",
       "        -2.13869654, -2.06537741, -1.97324238, -1.86315763, -1.73615197,\n",
       "        -1.59340748, -1.43624882, -1.26613114, -1.08462693, -0.89341169,\n",
       "        -0.69424876, -0.48897333, -0.27947575, -0.0676844 ,  0.14445179,\n",
       "         0.35498106,  0.56196648,  0.76350357,  0.95773752,  1.14288009,\n",
       "         1.31722577,  1.47916726,  1.62721012,  1.75998624,  1.87626633,\n",
       "         1.97497103,  2.05518076,  2.11614403,  2.15728428,  2.17820515,\n",
       "         2.17869407,  2.15872421,  2.11845477,  2.05822951,  1.97857373,\n",
       "         1.88018945,  1.76394914,  1.63088781,  1.48219365,  1.31919728,\n",
       "         1.14335976,  0.95625931,  0.75957709,  0.55508194,  0.3446144 ,\n",
       "         0.13007007, -0.0866176 , -0.30349475, -0.51860484, -0.73000633,\n",
       "        -0.9357903 , -1.13409766, -1.32313606, -1.50119607, -1.66666667],\n",
       "       [ 5.        ,  4.53375897,  4.02642759,  3.48256846,  2.90707502,\n",
       "         2.30512729,  1.682145  ,  1.04373854,  0.39565815, -0.25625808,\n",
       "        -0.90613705, -1.54812387, -2.17643476, -2.78540948, -3.36956251,\n",
       "        -3.9236327 , -4.44263092, -4.92188518, -5.35708294, -5.74431011,\n",
       "        -6.08008647, -6.36139721, -6.58572011, -6.75104848, -6.85590919,\n",
       "        -6.89937607, -6.88107822, -6.80120339, -6.66049623, -6.46025152,\n",
       "        -6.20230244, -5.88900395, -5.52321144, -5.10825483, -4.64790845,\n",
       "        -4.14635677, -3.60815656, -3.03819557, -2.44164824, -1.82392887,\n",
       "        -1.19064254, -0.54753435,  0.09956262,  0.74478015,  1.382268  ,\n",
       "         2.00624696,  2.61106112,  3.19122916,  3.74149396,  4.25687019,\n",
       "         4.73268953,  5.16464288,  5.54881943,  5.88174202,  6.16039871,\n",
       "         6.38226997,  6.54535155,  6.6481726 ,  6.68980899,  6.66989167,\n",
       "         6.58861002,  6.44671009,  6.24548787,  5.98677753,  5.67293478,\n",
       "         5.30681557,  4.89175014,  4.43151292,  3.93028828,  3.39263266,\n",
       "         2.82343326,  2.22786374,  1.61133744,  0.97945821,  0.33796974,\n",
       "        -0.30729651, -0.95047416, -1.58571504, -2.2072422 , -2.80940219,\n",
       "        -3.38671636, -3.93393047, -4.44606226, -4.91844668, -5.34677808,\n",
       "        -5.72714929, -6.056087  , -6.33058326, -6.54812274, -6.70670554,\n",
       "        -6.80486535, -6.84168272, -6.81679347, -6.73039195, -6.5832294 ,\n",
       "        -6.37660709, -6.11236462, -5.79286328, -5.42096471, -5.00000497]])"
      ]
     },
     "execution_count": null,
     "metadata": {},
     "output_type": "execute_result"
    }
   ],
   "source": [
    "sol.y"
   ]
  },
  {
   "attachments": {},
   "cell_type": "markdown",
   "metadata": {},
   "source": [
    "Define the function for drawing bvp solutions y(x), y'(x)"
   ]
  },
  {
   "cell_type": "code",
   "execution_count": null,
   "metadata": {},
   "outputs": [],
   "source": [
    "#| export\n",
    "def draw_bvp_solution_y_yp(x, # the array of time domain [x1, x2, ... ,xN]  \n",
    "                           y, # the array of ode output [y(x), y'(x)]\n",
    "                          **kwargs):\n",
    "    \"\"\" Draw ode output [y(x), y'(x)] \"\"\"\n",
    "    fig, axes = plt.subplots(nrows=2, ncols=1)\n",
    "\n",
    "    axes[0].plot(x, y[0], **kwargs) # y(t)\n",
    "    axes[0].axhline(0, color='k', linewidth=2) # x-axis\n",
    "    axes[0].axvline(0, color='k', linewidth=2) # y-axis\n",
    "    axes[0].grid(True)\n",
    "    axes[0].set_xlabel('x')\n",
    "    axes[0].set_ylabel('y(x)')\n",
    "    \n",
    "    axes[1].plot(x, y[1], **kwargs) # y'(t)\n",
    "    axes[1].axhline(0, color='k', linewidth=2) # x-axis\n",
    "    axes[1].axvline(0, color='k', linewidth=2) # y-axis\n",
    "    axes[1].grid(True)\n",
    "    axes[1].set_xlabel('x')\n",
    "    axes[1].set_ylabel(r\"$y'(x)$\")\n",
    "    \n",
    "    plt.tight_layout()"
   ]
  },
  {
   "cell_type": "code",
   "execution_count": null,
   "metadata": {},
   "outputs": [
    {
     "data": {
      "text/markdown": [
       "---\n",
       "\n",
       "### draw_bvp_solution_y_yp\n",
       "\n",
       ">      draw_bvp_solution_y_yp (x, y, **kwargs)\n",
       "\n",
       "Draw ode output [y(x), y'(x)]\n",
       "\n",
       "|    | **Details** |\n",
       "| -- | ----------- |\n",
       "| x | the array of time domain [x1, x2, ... ,xN] |\n",
       "| y | the array of ode output [y(x), y'(x)] |\n",
       "| kwargs |  |"
      ],
      "text/plain": [
       "---\n",
       "\n",
       "### draw_bvp_solution_y_yp\n",
       "\n",
       ">      draw_bvp_solution_y_yp (x, y, **kwargs)\n",
       "\n",
       "Draw ode output [y(x), y'(x)]\n",
       "\n",
       "|    | **Details** |\n",
       "| -- | ----------- |\n",
       "| x | the array of time domain [x1, x2, ... ,xN] |\n",
       "| y | the array of ode output [y(x), y'(x)] |\n",
       "| kwargs |  |"
      ]
     },
     "execution_count": null,
     "metadata": {},
     "output_type": "execute_result"
    }
   ],
   "source": [
    "show_doc(draw_bvp_solution_y_yp)"
   ]
  },
  {
   "attachments": {},
   "cell_type": "markdown",
   "metadata": {},
   "source": [
    "Draw the solutions with `sol.x` and `sol.y`"
   ]
  },
  {
   "cell_type": "code",
   "execution_count": null,
   "metadata": {},
   "outputs": [
    {
     "data": {
      "image/png": "[encoded data removed]",
      "text/plain": [
       "<Figure size 640x480 with 2 Axes>"
      ]
     },
     "metadata": {},
     "output_type": "display_data"
    }
   ],
   "source": [
    "draw_bvp_solution_y_yp(sol.x, sol.y, color='blue')"
   ]
  },
  {
   "cell_type": "code",
   "execution_count": null,
   "metadata": {},
   "outputs": [],
   "source": [
    "x_eval = np.linspace(x_span[0], x_span[1], 1000)\n",
    "y_eval = sol.sol(x_eval)"
   ]
  },
  {
   "cell_type": "code",
   "execution_count": null,
   "metadata": {},
   "outputs": [
    {
     "data": {
      "image/png": "[encoded data removed]",
      "text/plain": [
       "<Figure size 640x480 with 2 Axes>"
      ]
     },
     "metadata": {},
     "output_type": "display_data"
    }
   ],
   "source": [
    "draw_bvp_solution_y_yp(x_eval, y_eval, color='red')"
   ]
  },
  {
   "attachments": {},
   "cell_type": "markdown",
   "metadata": {},
   "source": [
    "## BVP Example1 - solve_ivp\n",
    "\n",
    "We can solve the given BVP using shooting method, by converting BVP into IVP and using `solve_ivp` & `fsolve`.\n",
    "\n",
    "The given BVP is as follows:\n",
    "$$\n",
    "\\begin{cases}\n",
    "  y''+ 9y = \\cos x \\\\ \n",
    "  x \\in [0, \\pi] \\\\\n",
    "  y'(0) = 5 \\\\\n",
    "  y(\\pi) = \\displaystyle-\\frac{5}{3} \\\\\n",
    "\\end{cases}\n",
    "$$ \n",
    "\n",
    "To convert this BVP into IVP, we define $y(0) = \\alpha$, where $\\alpha$ is unknown.\n",
    "\n",
    "Then the given BVP is converted into IVP with a boundary condition at the other end of the domain.\n",
    "$$\n",
    "\\begin{cases}\n",
    "  y''+ 9y = \\cos x \\\\ \n",
    "  x \\in [0, \\pi] \\\\\n",
    "  y(0) = \\alpha \\\\\n",
    "  y'(0) = 5 \\\\\n",
    "  \\\\\n",
    "  y(\\pi) = \\displaystyle-\\frac{5}{3}\n",
    "\\end{cases}\n",
    "$$ \n",
    "\n",
    "First we solve the IVP with initial guess $\\alpha$ then the get the boundary condition at $x=\\pi$ as \n",
    "- $y(\\pi)$ = `sol.y[0][-1]`\n",
    "- $y'(\\pi)$ = `sol.y[1][-1]`\n",
    "\n",
    "Since we know $y(\\pi) = \\displaystyle-\\frac{5}{3}$, we define following function $\\text{obj}(\\alpha)$\n",
    "\n",
    "$$\n",
    "\\text{obj}(\\alpha) = \\text{sol.y[0][-1]}(\\alpha) - y(\\pi) = \\text{sol.y[0][-1]}(\\alpha) + \\displaystyle\\frac{5}{3}\n",
    "$$\n",
    "\n",
    "If we can find $\\alpha$ such that $\\text{obj}(\\alpha)=0$, then we find appropriate initial condition $y(0) = \\alpha$ and also we find the wanted solution."
   ]
  },
  {
   "attachments": {},
   "cell_type": "markdown",
   "metadata": {},
   "source": [
    "### Rewrite ODE using $\\mathbf{S}(t)$\n",
    "\n",
    "- Target `y`\n",
    "$$\n",
    "\\mathbf{S}(x) = \\begin{bmatrix}\n",
    "                     y(x) \\\\\n",
    "                     y'(x)\n",
    "                 \\end{bmatrix}\n",
    "              = \\begin{bmatrix}\n",
    "                     S[0] \\\\\n",
    "                     S[1]\n",
    "                 \\end{bmatrix}\n",
    "$$\n",
    "\n",
    "- ODE system `F(x, y)`\n",
    "$$\n",
    "\\frac{d\\mathbf{S}}{dx} = \\mathbf{F}(x, \\mathbf{S}(x)) \n",
    "                       = \\begin{bmatrix}\n",
    "                             y'(x) \\\\\n",
    "                             y''(x)\n",
    "                         \\end{bmatrix}\n",
    "                       = \\begin{bmatrix}\n",
    "                             y'(x) \\\\\n",
    "                             -9y + \\cos t\n",
    "                         \\end{bmatrix}\n",
    "                       = \\begin{bmatrix}\n",
    "                             S[1] \\\\\n",
    "                             -9S[0] + \\cos x\n",
    "                         \\end{bmatrix} \n",
    "$$\n",
    "\n",
    "- Domain\n",
    "  \n",
    "```python\n",
    "x_span = [0, np.pi]\n",
    "N = 100 # number of points\n",
    "x = np.linspace(x_span[0], x_span[1], N)\n",
    "```\n",
    "\n",
    "- Initial condition `y0`\n",
    "$$\n",
    "\\mathbf{S}(0) = \\begin{bmatrix}\n",
    "                    y(0) \\\\\n",
    "                    y'(0) \\\\\n",
    "                \\end{bmatrix}\n",
    "              = \\begin{bmatrix}\n",
    "                    \\alpha \\\\\n",
    "                    5 \\\\\n",
    "                \\end{bmatrix}\n",
    "$$\n",
    "\n",
    "with boundary condition $y(\\pi) = \\displaystyle-\\frac{5}{3}$\n",
    "\n",
    "- Objective function $\\text{obj}(\\alpha)$\n",
    "\n",
    "$$\n",
    "\\text{obj}(\\alpha) = \\text{sol.y[0][-1]}(\\alpha) - y(\\pi) = \\text{sol.y[0][-1]}(\\alpha) + \\displaystyle\\frac{5}{3}\n",
    "$$"
   ]
  },
  {
   "cell_type": "code",
   "execution_count": null,
   "metadata": {},
   "outputs": [],
   "source": [
    "from scipy.integrate import solve_ivp"
   ]
  },
  {
   "cell_type": "code",
   "execution_count": null,
   "metadata": {},
   "outputs": [],
   "source": [
    "def F(x, y):\n",
    "    return [y[1], -9*y[0] + np.cos(x)]\n",
    "\n",
    "x_span = [0, np.pi]\n",
    "N = 100\n",
    "x = np.linspace(x_span[0], x_span[1], N)\n",
    "\n",
    "def obj(a # initial guess of root. it should be array.\n",
    "       ):\n",
    "    y0 = [a[0], 5]\n",
    "    sol = solve_ivp(F, x_span, y0, t_eval=x)\n",
    "    return sol.y[0][-1] + 5/3"
   ]
  },
  {
   "cell_type": "code",
   "execution_count": null,
   "metadata": {},
   "outputs": [],
   "source": [
    "from scipy.optimize import fsolve"
   ]
  },
  {
   "cell_type": "code",
   "execution_count": null,
   "metadata": {},
   "outputs": [
    {
     "data": {
      "text/plain": [
       "array([1.66250783])"
      ]
     },
     "execution_count": null,
     "metadata": {},
     "output_type": "execute_result"
    }
   ],
   "source": [
    "fsolve(obj, [1])"
   ]
  },
  {
   "cell_type": "code",
   "execution_count": null,
   "metadata": {},
   "outputs": [
    {
     "data": {
      "text/plain": [
       "1.6625078282923273"
      ]
     },
     "execution_count": null,
     "metadata": {},
     "output_type": "execute_result"
    }
   ],
   "source": [
    "a, = fsolve(obj, [1])\n",
    "a"
   ]
  },
  {
   "cell_type": "code",
   "execution_count": null,
   "metadata": {},
   "outputs": [
    {
     "data": {
      "text/plain": [
       "  message: The solver successfully reached the end of the integration interval.\n",
       "  success: True\n",
       "   status: 0\n",
       "        t: [ 0.000e+00  3.173e-02 ...  3.110e+00  3.142e+00]\n",
       "        y: [[ 1.663e+00  1.814e+00 ... -1.502e+00 -1.667e+00]\n",
       "            [ 5.000e+00  4.535e+00 ... -5.409e+00 -4.987e+00]]\n",
       "      sol: <scipy.integrate._ivp.common.OdeSolution object>\n",
       " t_events: None\n",
       " y_events: None\n",
       "     nfev: 68\n",
       "     njev: 0\n",
       "      nlu: 0"
      ]
     },
     "execution_count": null,
     "metadata": {},
     "output_type": "execute_result"
    }
   ],
   "source": [
    "y0 = [a, 5]\n",
    "sol = solve_ivp(F, x_span, y0, t_eval=x, dense_output=True)\n",
    "sol"
   ]
  },
  {
   "cell_type": "code",
   "execution_count": null,
   "metadata": {},
   "outputs": [
    {
     "data": {
      "image/png": "[encoded data removed]",
      "text/plain": [
       "<Figure size 640x480 with 2 Axes>"
      ]
     },
     "metadata": {},
     "output_type": "display_data"
    }
   ],
   "source": [
    "draw_bvp_solution_y_yp(sol.t, sol.y, color='blue')"
   ]
  },
  {
   "attachments": {},
   "cell_type": "markdown",
   "metadata": {},
   "source": [
    "Ok, it works. Then we make this more interactive."
   ]
  },
  {
   "attachments": {},
   "cell_type": "markdown",
   "metadata": {},
   "source": [
    "The ODE itserlf and domain are the same in both `solve_bvp` and `solve_ivp`."
   ]
  },
  {
   "cell_type": "code",
   "execution_count": null,
   "metadata": {},
   "outputs": [],
   "source": [
    "def F(x, y):\n",
    "    return [y[1], -9*y[0] + np.cos(x)]\n",
    "\n",
    "x_span = [0, np.pi]\n",
    "N = 100\n",
    "x = np.linspace(x_span[0], x_span[1], N)"
   ]
  },
  {
   "attachments": {},
   "cell_type": "markdown",
   "metadata": {},
   "source": [
    "For `solve_bvp`, we define `bc` and `y0_bvp`."
   ]
  },
  {
   "cell_type": "code",
   "execution_count": null,
   "metadata": {},
   "outputs": [
    {
     "data": {
      "text/plain": [
       "array([[1., 1., 1., 1., 1., 1., 1., 1., 1., 1., 1., 1., 1., 1., 1., 1.,\n",
       "        1., 1., 1., 1., 1., 1., 1., 1., 1., 1., 1., 1., 1., 1., 1., 1.,\n",
       "        1., 1., 1., 1., 1., 1., 1., 1., 1., 1., 1., 1., 1., 1., 1., 1.,\n",
       "        1., 1., 1., 1., 1., 1., 1., 1., 1., 1., 1., 1., 1., 1., 1., 1.,\n",
       "        1., 1., 1., 1., 1., 1., 1., 1., 1., 1., 1., 1., 1., 1., 1., 1.,\n",
       "        1., 1., 1., 1., 1., 1., 1., 1., 1., 1., 1., 1., 1., 1., 1., 1.,\n",
       "        1., 1., 1., 1.],\n",
       "       [1., 1., 1., 1., 1., 1., 1., 1., 1., 1., 1., 1., 1., 1., 1., 1.,\n",
       "        1., 1., 1., 1., 1., 1., 1., 1., 1., 1., 1., 1., 1., 1., 1., 1.,\n",
       "        1., 1., 1., 1., 1., 1., 1., 1., 1., 1., 1., 1., 1., 1., 1., 1.,\n",
       "        1., 1., 1., 1., 1., 1., 1., 1., 1., 1., 1., 1., 1., 1., 1., 1.,\n",
       "        1., 1., 1., 1., 1., 1., 1., 1., 1., 1., 1., 1., 1., 1., 1., 1.,\n",
       "        1., 1., 1., 1., 1., 1., 1., 1., 1., 1., 1., 1., 1., 1., 1., 1.,\n",
       "        1., 1., 1., 1.]])"
      ]
     },
     "execution_count": null,
     "metadata": {},
     "output_type": "execute_result"
    }
   ],
   "source": [
    "def bc(ya, yb):\n",
    "    return [ya[1] - 5, yb[0] + 5/3]\n",
    "\n",
    "y_init = np.ones_like(x)\n",
    "dy_init = np.ones_like(x)\n",
    "y0_bvp = np.vstack([y_init, dy_init])\n",
    "y0_bvp"
   ]
  },
  {
   "attachments": {},
   "cell_type": "markdown",
   "metadata": {},
   "source": [
    "The `bvp` solution is"
   ]
  },
  {
   "cell_type": "code",
   "execution_count": null,
   "metadata": {},
   "outputs": [
    {
     "data": {
      "text/plain": [
       "       message: The algorithm converged to the desired accuracy.\n",
       "       success: True\n",
       "        status: 0\n",
       "             x: [ 0.000e+00  3.173e-02 ...  3.110e+00  3.142e+00]\n",
       "           sol: <scipy.interpolate._interpolate.PPoly object>\n",
       "             p: None\n",
       "             y: [[ 1.667e+00  1.818e+00 ... -1.501e+00 -1.667e+00]\n",
       "                 [ 5.000e+00  4.534e+00 ... -5.421e+00 -5.000e+00]]\n",
       "            yp: [[ 5.000e+00  4.534e+00 ... -5.421e+00 -5.000e+00]\n",
       "                 [-1.400e+01 -1.536e+01 ...  1.251e+01  1.400e+01]]\n",
       " rms_residuals: [ 6.168e-06  6.239e-06 ...  7.190e-06  6.478e-06]\n",
       "         niter: 1"
      ]
     },
     "execution_count": null,
     "metadata": {},
     "output_type": "execute_result"
    }
   ],
   "source": [
    "sol_bvp = solve_bvp(F, bc, x, y0_bvp)\n",
    "sol_bvp"
   ]
  },
  {
   "cell_type": "code",
   "execution_count": null,
   "metadata": {},
   "outputs": [],
   "source": [
    "x_eval = np.linspace(x_span[0], x_span[1], 1000)\n",
    "y_eval = sol_bvp.sol(x_eval)"
   ]
  },
  {
   "cell_type": "code",
   "execution_count": null,
   "metadata": {},
   "outputs": [],
   "source": [
    "def solve_and_draw_with_bvp(a # initial condition guess in shooting method\n",
    "                            ):\n",
    "    \"\"\"Given a, solve ivp and draw the result with bvp result (correct result)\"\"\"\n",
    "\n",
    "    # solve bvp with shooting method\n",
    "    y0 = [a, 5]\n",
    "    sol_ivp = solve_ivp(F, x_span, y0, t_eval=x, dense_output=True)\n",
    "\n",
    "    y_eval_ivp = sol_ivp.sol(x_eval)\n",
    "    \n",
    "    fig, ax = plt.subplots(nrows=1, ncols=1)\n",
    "    \n",
    "    ax.plot(np.pi, -5/3, 'ko') # BC \n",
    "    ax.plot(x_eval, y_eval_ivp[0], color='blue', linestyle='solid', label='shooting')\n",
    "    ax.plot(x_eval, y_eval[0], color='red', linestyle='dashed', label='bvp')\n",
    "    ax.axhline(0, color='k', linewidth=2) # x-axis\n",
    "    ax.axvline(0, color='k', linewidth=2) # y-axis\n",
    "    ax.grid(True)\n",
    "    ax.set_xlabel('x')\n",
    "    ax.set_ylabel('y(x)')\n",
    "    \n",
    "    plt.tight_layout()"
   ]
  },
  {
   "cell_type": "code",
   "execution_count": null,
   "metadata": {},
   "outputs": [],
   "source": [
    "from ipywidgets import interact"
   ]
  },
  {
   "cell_type": "code",
   "execution_count": null,
   "metadata": {},
   "outputs": [
    {
     "data": {
      "application/vnd.jupyter.widget-view+json": {
       "model_id": "21cf6d5edbaf4343996ee88ea26a70ee",
       "version_major": 2,
       "version_minor": 0
      },
      "text/plain": [
       "interactive(children=(FloatSlider(value=0.0, description='a', max=3.0, min=-3.0, step=0.01), Output()), _dom_c…"
      ]
     },
     "metadata": {},
     "output_type": "display_data"
    },
    {
     "data": {
      "text/plain": [
       "<function __main__.solve_and_draw_with_bvp(a)>"
      ]
     },
     "execution_count": null,
     "metadata": {},
     "output_type": "execute_result"
    }
   ],
   "source": [
    "interact(solve_and_draw_with_bvp, a=(-3, 3, 0.01))"
   ]
  },
  {
   "attachments": {},
   "cell_type": "markdown",
   "metadata": {},
   "source": [
    "As you can see, about $a=1.66$ is the appropriate initial condition."
   ]
  },
  {
   "attachments": {},
   "cell_type": "markdown",
   "metadata": {},
   "source": [
    "## BVP Example2\n",
    "\n",
    "$$\n",
    "\\begin{cases}\n",
    "  y'' = -g \\\\ \n",
    "  x \\in [0, 5] \\\\\n",
    "  y(0) = 0 \\\\\n",
    "  y(5) = 50 \\\\\n",
    "\\end{cases}\n",
    "$$ \n",
    "\n",
    "where $g=9.8$"
   ]
  },
  {
   "attachments": {},
   "cell_type": "markdown",
   "metadata": {},
   "source": [
    "### Rewrite ODE using $\\mathbf{S}(t)$ - solve_bvp\n",
    "\n",
    "- Target `y`\n",
    "$$\n",
    "\\mathbf{S}(x) = \\begin{bmatrix}\n",
    "                     y(x) \\\\\n",
    "                     y'(x)\n",
    "                 \\end{bmatrix}\n",
    "              = \\begin{bmatrix}\n",
    "                     S[0] \\\\\n",
    "                     S[1]\n",
    "                 \\end{bmatrix}\n",
    "$$\n",
    "\n",
    "- ODE system `F(x, y)`\n",
    "$$\n",
    "\\frac{d\\mathbf{S}}{dx} = \\mathbf{F}(x, \\mathbf{S}(x)) \n",
    "                       = \\begin{bmatrix}\n",
    "                             y'(x) \\\\\n",
    "                             y''(x)\n",
    "                         \\end{bmatrix}\n",
    "                       = \\begin{bmatrix}\n",
    "                             y'(x) \\\\\n",
    "                             -g\n",
    "                         \\end{bmatrix}\n",
    "                       = \\begin{bmatrix}\n",
    "                             S[1] \\\\\n",
    "                             -g\n",
    "                         \\end{bmatrix} \n",
    "$$\n",
    "\n",
    "- Domain\n",
    "  \n",
    "```python\n",
    "x_span = [0, 5]\n",
    "N = 100 # number of points\n",
    "x = np.linspace(x_span[0], x_span[1], N)\n",
    "```\n",
    "\n",
    "- Boundary condition function `bc` defined from `ya`, `yb`\n",
    "\n",
    "$$\n",
    "\\text{ya} = \\mathbf{S}(0) = \\begin{bmatrix}\n",
    "                                 y(0) \\\\\n",
    "                                 y'(0)\n",
    "                             \\end{bmatrix}\n",
    "                          = \\begin{bmatrix}\n",
    "                                 0 \\\\\n",
    "                                 ?\n",
    "                             \\end{bmatrix}\n",
    "                          = \\begin{bmatrix}\n",
    "                                 \\text{ya}[0] \\\\\n",
    "                                 \\text{ya}[1]\n",
    "                             \\end{bmatrix}\n",
    "$$\n",
    "\n",
    "$$\n",
    "\\text{yb} = \\mathbf{S}(5) = \\begin{bmatrix}\n",
    "                                 y(\\pi) \\\\\n",
    "                                 y'(\\pi)\n",
    "                             \\end{bmatrix}\n",
    "                            = \\begin{bmatrix}\n",
    "                                 50 \\\\\n",
    "                                 ?\n",
    "                              \\end{bmatrix}\n",
    "                            = \\begin{bmatrix}\n",
    "                                 \\text{yb}[0] \\\\\n",
    "                                 \\text{yb}[1]\n",
    "                              \\end{bmatrix}\n",
    "$$\n",
    "\n",
    "\n",
    "$$\n",
    "\\text{bc} = \\begin{bmatrix}\n",
    "                 \\text{ya} - \\mathbf{S}(0) \\\\\n",
    "                 \\text{yb} - \\mathbf{S}(5)\n",
    "            \\end{bmatrix}\n",
    "          = \\begin{bmatrix}\n",
    "                 \\text{ya}[0] - 0 \\\\\n",
    "                 \\text{yb}[0] - 50\n",
    "            \\end{bmatrix}\n",
    "          = \\begin{bmatrix}\n",
    "                 \\text{ya}[0]\\\\\n",
    "                 \\text{yb}[0] -50\n",
    "            \\end{bmatrix}\n",
    "$$\n",
    "\n",
    "\n",
    "- Initial guess `y0`\n",
    "\n",
    "For the given spacing `h`, \n",
    "\n",
    "$$\n",
    "\\begin{align}\n",
    "\\text{y0} & = [\\mathbf{S}(0), \\mathbf{S}(0 + h), \\mathbf{S}(0 + 2h), \\cdots, \\mathbf{S}(\\pi)] \\\\\n",
    "          & = \\begin{bmatrix}\n",
    "                  f(x=0) & f(x=0+h) & f(x=0+2h) & \\cdots & f(x=\\pi) \\\\ \n",
    "                  \\displaystyle\\frac{df(x)}{dx}\\Bigr|_{x=0} & \\displaystyle\\frac{df(x)}{dx}\\Bigr|_{x=0+h} & \\displaystyle\\frac{df(x)}{dx}\\Bigr|_{x=0+2h} & \\cdots & \\displaystyle\\frac{df(x)}{dx}\\Bigr|_{x=\\pi} \\\\\n",
    "                  \\displaystyle\\frac{d^2f(x)}{dx^2}\\Bigr|_{x=0} & \\displaystyle\\frac{d^2f(x)}{dx^2}\\Bigr|_{x=0+h} & \\displaystyle\\frac{d^2f(x)}{dx^2}\\Bigr|_{x=0+2h} & \\cdots & \\displaystyle\\frac{d^2f(x)}{dx^2}\\Bigr|_{x=\\pi} \\\\\n",
    "                  \\vdots & \\vdots & \\vdots & \\vdots & \\vdots \\\\ \n",
    "                  \\displaystyle\\frac{d^{n-1}f(x)}{dx^{n-1}}\\Bigr|_{x=0} & \\displaystyle\\frac{d^{n-1}f(x)}{dx^{n-1}}\\Bigr|_{x=0+h} & \\displaystyle\\frac{d^{n-1}f(x)}{dx^{n-1}}\\Bigr|_{x=0+2h} & \\cdots & \\displaystyle\\frac{d^{n-1}f(x)}{dx^{n-1}}\\Bigr|_{x=\\pi} \\\\\n",
    "               \\end{bmatrix}\n",
    "\\end{align}\n",
    "$$\n",
    "\n",
    "```python\n",
    "y_init = np.ones_like(x)\n",
    "dy_init = np.ones_like(x)\n",
    "y0 = np.vstack([y_init, dy_init])\n",
    "```"
   ]
  },
  {
   "cell_type": "code",
   "execution_count": null,
   "metadata": {},
   "outputs": [],
   "source": [
    "from scipy.integrate import solve_bvp"
   ]
  },
  {
   "cell_type": "code",
   "execution_count": null,
   "metadata": {},
   "outputs": [],
   "source": [
    "#| eval:false\n",
    "def F(x, y):\n",
    "    g = 9.8\n",
    "    return [y[1], -g] \n",
    "\n",
    "x_span = [0, 5]\n",
    "N = 100\n",
    "x = np.linspace(x_span[0], x_span[1], N)\n",
    "\n",
    "def bc(ya, yb):\n",
    "    return [ya[0], yb[0]-50]\n",
    "\n",
    "y_init = np.ones_like(x)\n",
    "dy_init = np.ones_like(x)\n",
    "y0 = np.vstack([y_init, dy_init])"
   ]
  },
  {
   "cell_type": "code",
   "execution_count": null,
   "metadata": {},
   "outputs": [
    {
     "ename": "ValueError",
     "evalue": "setting an array element with a sequence. The requested array has an inhomogeneous shape after 1 dimensions. The detected shape was (2,) + inhomogeneous part.",
     "output_type": "error",
     "traceback": [
      "\u001b[0;31m---------------------------------------------------------------------------\u001b[0m",
      "\u001b[0;31mValueError\u001b[0m                                Traceback (most recent call last)",
      "Cell \u001b[0;32mIn[69], line 2\u001b[0m\n\u001b[1;32m      1\u001b[0m \u001b[39m#| eval:false\u001b[39;00m\n\u001b[0;32m----> 2\u001b[0m sol \u001b[39m=\u001b[39m solve_bvp(F, bc, x, y0)\n",
      "File \u001b[0;32m~/mambaforge/envs/zpinn/lib/python3.10/site-packages/scipy/integrate/_bvp.py:1063\u001b[0m, in \u001b[0;36msolve_bvp\u001b[0;34m(fun, bc, x, y, p, S, fun_jac, bc_jac, tol, max_nodes, verbose, bc_tol)\u001b[0m\n\u001b[1;32m   1058\u001b[0m max_iteration \u001b[39m=\u001b[39m \u001b[39m10\u001b[39m\n\u001b[1;32m   1060\u001b[0m fun_wrapped, bc_wrapped, fun_jac_wrapped, bc_jac_wrapped \u001b[39m=\u001b[39m wrap_functions(\n\u001b[1;32m   1061\u001b[0m     fun, bc, fun_jac, bc_jac, k, a, S, D, dtype)\n\u001b[0;32m-> 1063\u001b[0m f \u001b[39m=\u001b[39m fun_wrapped(x, y, p)\n\u001b[1;32m   1064\u001b[0m \u001b[39mif\u001b[39;00m f\u001b[39m.\u001b[39mshape \u001b[39m!=\u001b[39m y\u001b[39m.\u001b[39mshape:\n\u001b[1;32m   1065\u001b[0m     \u001b[39mraise\u001b[39;00m \u001b[39mValueError\u001b[39;00m(\u001b[39m\"\u001b[39m\u001b[39m`fun` return is expected to have shape \u001b[39m\u001b[39m{}\u001b[39;00m\u001b[39m, \u001b[39m\u001b[39m\"\u001b[39m\n\u001b[1;32m   1066\u001b[0m                      \u001b[39m\"\u001b[39m\u001b[39mbut actually has \u001b[39m\u001b[39m{}\u001b[39;00m\u001b[39m.\u001b[39m\u001b[39m\"\u001b[39m\u001b[39m.\u001b[39mformat(y\u001b[39m.\u001b[39mshape, f\u001b[39m.\u001b[39mshape))\n",
      "File \u001b[0;32m~/mambaforge/envs/zpinn/lib/python3.10/site-packages/scipy/integrate/_bvp.py:647\u001b[0m, in \u001b[0;36mwrap_functions.<locals>.fun_p\u001b[0;34m(x, y, _)\u001b[0m\n\u001b[1;32m    646\u001b[0m \u001b[39mdef\u001b[39;00m \u001b[39mfun_p\u001b[39m(x, y, _):\n\u001b[0;32m--> 647\u001b[0m     \u001b[39mreturn\u001b[39;00m np\u001b[39m.\u001b[39;49masarray(fun(x, y), dtype)\n",
      "\u001b[0;31mValueError\u001b[0m: setting an array element with a sequence. The requested array has an inhomogeneous shape after 1 dimensions. The detected shape was (2,) + inhomogeneous part."
     ]
    }
   ],
   "source": [
    "#| eval:false\n",
    "sol = solve_bvp(F, bc, x, y0)"
   ]
  },
  {
   "attachments": {},
   "cell_type": "markdown",
   "metadata": {},
   "source": [
    "Why this error happens?\n",
    "\n",
    "It is because `g` is scalar (length 1), so the length of `y[1]` is not equal to the length of `g`.\n",
    "\n",
    "To resolve this error, the possible solution is to use  `-g + 0*y[0]` instead of just `-g`.\n"
   ]
  },
  {
   "cell_type": "code",
   "execution_count": null,
   "metadata": {},
   "outputs": [],
   "source": [
    "def F(x, y):\n",
    "    g = 9.8\n",
    "    return [y[1], -g + 0*y[0]] \n",
    "\n",
    "x_span = [0, 5]\n",
    "N = 100\n",
    "x = np.linspace(x_span[0], x_span[1], N)\n",
    "\n",
    "def bc(ya, yb):\n",
    "    return [ya[0], yb[0]-50]\n",
    "\n",
    "y_init = np.ones_like(x)\n",
    "dy_init = np.ones_like(x)\n",
    "y0 = np.vstack([y_init, dy_init])"
   ]
  },
  {
   "cell_type": "code",
   "execution_count": null,
   "metadata": {},
   "outputs": [
    {
     "data": {
      "text/plain": [
       "       message: The algorithm converged to the desired accuracy.\n",
       "       success: True\n",
       "        status: 0\n",
       "             x: [ 0.000e+00  5.051e-02 ...  4.949e+00  5.000e+00]\n",
       "           sol: <scipy.interpolate._interpolate.PPoly object>\n",
       "             p: None\n",
       "             y: [[ 1.354e-14  1.730e+00 ...  5.072e+01  5.000e+01]\n",
       "                 [ 3.450e+01  3.401e+01 ... -1.401e+01 -1.450e+01]]\n",
       "            yp: [[ 3.450e+01  3.401e+01 ... -1.401e+01 -1.450e+01]\n",
       "                 [-9.800e+00 -9.800e+00 ... -9.800e+00 -9.800e+00]]\n",
       " rms_residuals: [ 3.654e-16  3.654e-16 ...  1.038e-14  1.864e-15]\n",
       "         niter: 1"
      ]
     },
     "execution_count": null,
     "metadata": {},
     "output_type": "execute_result"
    }
   ],
   "source": [
    "sol = solve_bvp(F, bc, x, y0)\n",
    "sol"
   ]
  },
  {
   "cell_type": "code",
   "execution_count": null,
   "metadata": {},
   "outputs": [
    {
     "data": {
      "image/png": "[encoded data removed]",
      "text/plain": [
       "<Figure size 640x480 with 2 Axes>"
      ]
     },
     "metadata": {},
     "output_type": "display_data"
    }
   ],
   "source": [
    "draw_bvp_solution_y_yp(sol.x, sol.y, color='blue')"
   ]
  },
  {
   "attachments": {},
   "cell_type": "markdown",
   "metadata": {},
   "source": [
    "### Rewrite ODE using $\\mathbf{S}(t)$ - solve_ivp\n",
    "\n",
    "- Target `y`\n",
    "$$\n",
    "\\mathbf{S}(x) = \\begin{bmatrix}\n",
    "                     y(x) \\\\\n",
    "                     y'(x)\n",
    "                 \\end{bmatrix}\n",
    "              = \\begin{bmatrix}\n",
    "                     S[0] \\\\\n",
    "                     S[1]\n",
    "                 \\end{bmatrix}\n",
    "$$\n",
    "\n",
    "- ODE system `F(x, y)`\n",
    "$$\n",
    "\\frac{d\\mathbf{S}}{dx} = \\mathbf{F}(x, \\mathbf{S}(x)) \n",
    "                       = \\begin{bmatrix}\n",
    "                             y'(x) \\\\\n",
    "                             y''(x)\n",
    "                         \\end{bmatrix}\n",
    "                       = \\begin{bmatrix}\n",
    "                             y'(x) \\\\\n",
    "                             -g\n",
    "                         \\end{bmatrix}\n",
    "                       = \\begin{bmatrix}\n",
    "                             S[1] \\\\\n",
    "                             -g\n",
    "                         \\end{bmatrix} \n",
    "$$\n",
    "\n",
    "- Domain\n",
    "  \n",
    "```python\n",
    "x_span = [0, 5]\n",
    "N = 100 # number of points\n",
    "x = np.linspace(x_span[0], x_span[1], N)\n",
    "```\n",
    "\n",
    "- Initial condition `y0`\n",
    "$$\n",
    "\\mathbf{S}(0) = \\begin{bmatrix}\n",
    "                    y(0) \\\\\n",
    "                    y'(0) \\\\\n",
    "                \\end{bmatrix}\n",
    "              = \\begin{bmatrix}\n",
    "                    0 \\\\\n",
    "                    \\alpha \\\\\n",
    "                \\end{bmatrix}\n",
    "$$\n",
    "\n",
    "with boundary condition $y(5) = 50$\n",
    "\n",
    "- Objective function $\\text{obj}(\\alpha)$\n",
    "\n",
    "$$\n",
    "\\text{obj}(\\alpha) = \\underbrace{\\text{sol.y[0][-1]}}_{\\text{depends on }\\alpha}  - y(5) = \\underbrace{\\text{sol.y[0][-1]}}_{\\text{depends on }\\alpha} - 50\n",
    "$$"
   ]
  },
  {
   "cell_type": "code",
   "execution_count": null,
   "metadata": {},
   "outputs": [],
   "source": [
    "from scipy.integrate import solve_ivp"
   ]
  },
  {
   "cell_type": "code",
   "execution_count": null,
   "metadata": {},
   "outputs": [],
   "source": [
    "def F(x, y):\n",
    "    g = 9.8\n",
    "    return [y[1], -g]\n",
    "\n",
    "x_span = [0, 5]\n",
    "N = 100\n",
    "x = np.linspace(x_span[0], x_span[1], N)\n",
    "\n",
    "def obj(a):\n",
    "    y0 = [0, a[0]]\n",
    "    sol = solve_ivp(F, x_span, y0, t_eval=x)\n",
    "    return sol.y[0][-1] - 50"
   ]
  },
  {
   "cell_type": "code",
   "execution_count": null,
   "metadata": {},
   "outputs": [],
   "source": [
    "from scipy.optimize import fsolve"
   ]
  },
  {
   "cell_type": "code",
   "execution_count": null,
   "metadata": {},
   "outputs": [
    {
     "data": {
      "text/plain": [
       "34.49999999999998"
      ]
     },
     "execution_count": null,
     "metadata": {},
     "output_type": "execute_result"
    }
   ],
   "source": [
    "a, = fsolve(obj, [1])\n",
    "a"
   ]
  },
  {
   "cell_type": "code",
   "execution_count": null,
   "metadata": {},
   "outputs": [
    {
     "data": {
      "text/plain": [
       "  message: The solver successfully reached the end of the integration interval.\n",
       "  success: True\n",
       "   status: 0\n",
       "        t: [ 0.000e+00  5.051e-02 ...  4.949e+00  5.000e+00]\n",
       "        y: [[ 0.000e+00  1.730e+00 ...  5.072e+01  5.000e+01]\n",
       "            [ 3.450e+01  3.401e+01 ... -1.401e+01 -1.450e+01]]\n",
       "      sol: <scipy.integrate._ivp.common.OdeSolution object>\n",
       " t_events: None\n",
       " y_events: None\n",
       "     nfev: 44\n",
       "     njev: 0\n",
       "      nlu: 0"
      ]
     },
     "execution_count": null,
     "metadata": {},
     "output_type": "execute_result"
    }
   ],
   "source": [
    "y0 = [0, a]\n",
    "sol_ivp = solve_ivp(F, x_span, y0, t_eval=x, dense_output=True)\n",
    "sol_ivp"
   ]
  },
  {
   "cell_type": "code",
   "execution_count": null,
   "metadata": {},
   "outputs": [
    {
     "data": {
      "image/png": "[encoded data removed]",
      "text/plain": [
       "<Figure size 640x480 with 2 Axes>"
      ]
     },
     "metadata": {},
     "output_type": "display_data"
    }
   ],
   "source": [
    "draw_solution_y_yp(sol_ivp.t, sol_ivp.y, color='blue')"
   ]
  },
  {
   "cell_type": "code",
   "execution_count": null,
   "metadata": {},
   "outputs": [],
   "source": [
    "x_eval = np.linspace(x_span[0], x_span[1], 1000)\n",
    "y_eval = sol.sol(x_eval)"
   ]
  },
  {
   "cell_type": "code",
   "execution_count": null,
   "metadata": {},
   "outputs": [],
   "source": [
    "def solve_and_draw_with_bvp(a # initial condition guess in shooting method\n",
    "                            ):\n",
    "    \"\"\"Given a, solve ivp and draw the result with bvp result (correct result)\"\"\"\n",
    "\n",
    "    # solve bvp with shooting method\n",
    "    y0 = [0, a]\n",
    "    sol_ivp = solve_ivp(F, x_span, y0, t_eval=x, dense_output=True)\n",
    "\n",
    "    y_eval_ivp = sol_ivp.sol(x_eval)\n",
    "    \n",
    "    fig, ax = plt.subplots(nrows=1, ncols=1)\n",
    "    \n",
    "    ax.plot(5, 50, 'ko') # BC \n",
    "    ax.plot(x_eval, y_eval_ivp[0], color='blue', linestyle='solid', label='shooting')\n",
    "    ax.plot(x_eval, y_eval[0], color='red', linestyle='dashed', label='bvp')\n",
    "    ax.axhline(0, color='k', linewidth=2) # x-axis\n",
    "    ax.axvline(0, color='k', linewidth=2) # y-axis\n",
    "    ax.grid(True)\n",
    "    ax.set_xlabel('x')\n",
    "    ax.set_ylabel('y(x)')\n",
    "    \n",
    "    plt.tight_layout()"
   ]
  },
  {
   "cell_type": "code",
   "execution_count": null,
   "metadata": {},
   "outputs": [],
   "source": [
    "from ipywidgets import interact"
   ]
  },
  {
   "cell_type": "code",
   "execution_count": null,
   "metadata": {},
   "outputs": [
    {
     "data": {
      "application/vnd.jupyter.widget-view+json": {
       "model_id": "624d207c48f74733baa47697d08e0b99",
       "version_major": 2,
       "version_minor": 0
      },
      "text/plain": [
       "interactive(children=(FloatSlider(value=25.0, description='a', max=50.0, step=0.5), Output()), _dom_classes=('…"
      ]
     },
     "metadata": {},
     "output_type": "display_data"
    },
    {
     "data": {
      "text/plain": [
       "<function __main__.solve_and_draw_with_bvp(a)>"
      ]
     },
     "execution_count": null,
     "metadata": {},
     "output_type": "execute_result"
    }
   ],
   "source": [
    "interact(solve_and_draw_with_bvp, a=(0, 50, 0.5))"
   ]
  },
  {
   "attachments": {},
   "cell_type": "markdown",
   "metadata": {},
   "source": [
    "As you can see, about $a=34.5$ is the appropriate initial condition."
   ]
  },
  {
   "cell_type": "code",
   "execution_count": null,
   "metadata": {},
   "outputs": [],
   "source": []
  }
 ],
 "metadata": {
  "kernelspec": {
   "display_name": "python3",
   "language": "python",
   "name": "python3"
  }
 },
 "nbformat": 4,
 "nbformat_minor": 4
}
