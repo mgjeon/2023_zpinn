{
 "cells": [
  {
   "cell_type": "markdown",
   "metadata": {},
   "source": [
    "# ODE (IVP / BVP)\n",
    "\n",
    "> How to solve ODE (Ordinary Differential Equation) using scipy\n",
    "> IVP : Initial Value Problem\n",
    "> BVP : Boundary Value Problem"
   ]
  },
  {
   "cell_type": "code",
   "execution_count": null,
   "metadata": {},
   "outputs": [],
   "source": [
    "#| default_exp ode"
   ]
  },
  {
   "cell_type": "code",
   "execution_count": null,
   "metadata": {},
   "outputs": [],
   "source": [
    "#| hide\n",
    "from nbdev.showdoc import *"
   ]
  },
  {
   "cell_type": "code",
   "execution_count": null,
   "metadata": {},
   "outputs": [],
   "source": [
    "#| export\n",
    "import numpy as np\n",
    "from scipy.integrate import solve_ivp"
   ]
  },
  {
   "cell_type": "markdown",
   "metadata": {},
   "source": [
    "## Reduction to single 1st order ODE\n",
    "\n",
    "### nth-order ODE\n",
    "Every n-th order ODE\n",
    "\n",
    "$$\n",
    "\\frac{d^n f(x)}{dx^n} = \\mathcal{F}\\left(x, f(x), \\frac{df(x)}{dx}, \\frac{d^2 f(x)}{dx^2}, \\cdots, \\frac{d^{n-1} f(x)}{dx^{n-1}} \\right)\n",
    "$$ \n",
    "\n",
    "can be expressed in the 1st order ODE form\n",
    "\n",
    "$$\n",
    "\\frac{d\\mathbf{S}}{dx} = \\mathbf{F}(x, \\mathbf{S}(x))\n",
    "$$\n",
    "\n",
    "with a state vector $\\mathbf{S}(x)$ defined as following:\n",
    "\n",
    "$$\n",
    "\\mathbf{S}(x) = \\begin{bmatrix}\n",
    "                     f(x) \\\\\n",
    "                     \\displaystyle\\frac{df(x)}{dx} \\\\\n",
    "                     \\displaystyle\\frac{d^2 f(x)}{dx^2} \\\\\n",
    "                     \\vdots \\\\\n",
    "                     \\displaystyle\\frac{d^{n-1} f(x)}{dx^{n-1}}  \\\\\n",
    "                 \\end{bmatrix}\n",
    "              = \\begin{bmatrix}\n",
    "                     S[0] \\\\\n",
    "                     S[1] \\\\\n",
    "                     S[2] \\\\\n",
    "                     \\vdots \\\\\n",
    "                     S[n-1]  \\\\\n",
    "                 \\end{bmatrix}\n",
    "$$\n",
    "\n",
    "Then, the given ODE $\\frac{d\\mathbf{S}}{dx}$ can be expressed using the elements of $\\mathbf{S}(x)$.\n",
    "\n",
    "$$\n",
    "\\frac{d\\mathbf{S}}{dx} = \\begin{bmatrix}\n",
    "                             \\displaystyle\\frac{df(x)}{dx} \\\\\n",
    "                             \\displaystyle\\frac{d^2 f(x)}{dx^2} \\\\\n",
    "                             \\displaystyle\\frac{d^3 f(x)}{dx^3} \\\\\n",
    "                             \\vdots \\\\\n",
    "                             \\displaystyle\\frac{d^{n} f(x)}{dx^{n}}  \\\\\n",
    "                         \\end{bmatrix}\n",
    "                        = \\begin{bmatrix}\n",
    "                             \\displaystyle\\frac{df(x)}{dx} \\\\\n",
    "                             \\displaystyle\\frac{d^2 f(x)}{dx^2} \\\\\n",
    "                             \\displaystyle\\frac{d^3 f(x)}{dx^3} \\\\\n",
    "                             \\vdots \\\\\n",
    "                             \\mathcal{F}\\left(x, f(x), \\frac{df(x)}{dx}, \\frac{d^2 f(x)}{dx^2}, \\cdots, \\frac{d^{n-1} f(x)}{dx^{n-1}} \\right)  \\\\\n",
    "                         \\end{bmatrix}\n",
    "                         = \\begin{bmatrix}\n",
    "                             S[1] \\\\\n",
    "                             S[2] \\\\\n",
    "                             S[3] \\\\\n",
    "                             \\vdots \\\\\n",
    "                             \\mathcal{F}\\left(x, S[0], S[1], S[2], \\cdots, S[n-1] \\right)  \\\\\n",
    "                         \\end{bmatrix}\n",
    "$$\n",
    "\n",
    "\n",
    "\n",
    "### System of 1st order ODEs\n",
    "\n",
    "Every system of 1st order ODEs\n",
    "\n",
    "$$\n",
    "\\begin{cases}\n",
    "  \\displaystyle\\frac{df_1(x)}{dx} = \\mathcal{G_1}\\left(x, f_1(x), f_2(x), \\cdots, f_k(x) \\right) \\\\ \n",
    "  \\displaystyle\\frac{df_2(x)}{dx} = \\mathcal{G_2}\\left(x, f_1(x), f_2(x), \\cdots, f_k(x) \\right) \\\\\n",
    "  \\quad\\; \\vdots \\\\\n",
    "  \\displaystyle\\frac{df_k(x)}{dx} = \\mathcal{G_k}\\left(x, f_1(x), f_2(x), \\cdots, f_k(x) \\right) \\\\ \n",
    "\\end{cases}\n",
    "$$ \n",
    "\n",
    "can be expressed in the 1st order ODE form\n",
    "\n",
    "$$\n",
    "\\frac{d\\mathbf{S}}{dx} = \\mathbf{F}(x, \\mathbf{S}(x))\n",
    "$$\n",
    "\n",
    "with a state vector $\\mathbf{S}(x)$ defined as following:\n",
    "\n",
    "$$\n",
    "\\mathbf{S}(x) = \\begin{bmatrix}\n",
    "                     f_1(x) \\\\\n",
    "                     f_2(x) \\\\\n",
    "                     \\vdots \\\\\n",
    "                     f_k(x)  \\\\\n",
    "                 \\end{bmatrix}\n",
    "              = \\begin{bmatrix}\n",
    "                     S[0] \\\\\n",
    "                     S[1] \\\\\n",
    "                     S[2] \\\\\n",
    "                     \\vdots \\\\\n",
    "                     S[k-1]  \\\\\n",
    "                 \\end{bmatrix}\n",
    "$$\n",
    "\n",
    "Then, the given ODE $\\frac{d\\mathbf{S}}{dx}$ can be expressed using the elements of $\\mathbf{S}(x)$.\n",
    "\n",
    "$$\n",
    "\\frac{d\\mathbf{S}}{dx} = \\begin{bmatrix}\n",
    "                             \\displaystyle\\frac{df_1(x)}{dx} \\\\\n",
    "                             \\displaystyle\\frac{df_2(x)}{dx} \\\\\n",
    "                             \\vdots \\\\\n",
    "                             \\displaystyle\\frac{df_k(x)}{dx}  \\\\\n",
    "                         \\end{bmatrix}\n",
    "                       = \\begin{bmatrix}\n",
    "                             \\mathcal{G_1}\\left(x, f_1(x), f_2(x), \\cdots, f_k(x) \\right) \\\\\n",
    "                             \\mathcal{G_2}\\left(x, f_1(x), f_2(x), \\cdots, f_k(x) \\right) \\\\\n",
    "                             \\vdots \\\\\n",
    "                             \\mathcal{G_k}\\left(x, f_1(x), f_2(x), \\cdots, f_k(x) \\right)  \\\\\n",
    "                         \\end{bmatrix}\n",
    "                       = \\begin{bmatrix}\n",
    "                             \\mathcal{G_1}\\left(x, S[0], S[1], \\cdots, S[k-1] \\right) \\\\\n",
    "                             \\mathcal{G_2}\\left(x, S[0], S[1], \\cdots, S[k-1] \\right) \\\\\n",
    "                             \\vdots \\\\\n",
    "                             \\mathcal{G_3}\\left(x, S[0], S[1], \\cdots, S[k-1] \\right)  \\\\\n",
    "                         \\end{bmatrix}\n",
    "$$"
   ]
  },
  {
   "cell_type": "markdown",
   "metadata": {},
   "source": [
    "## ODE - IVP(Initial Value Problem)\n",
    "\n",
    "\n",
    "### How to solve IVP using scipy\n",
    "\n",
    "```python\n",
    "from scipy.integrate import solve_ivp\n",
    "\n",
    "sol = solve_ivp(F, t_span, y0, t_eval=t)\n",
    "```\n",
    "\n",
    "### The given problem\n",
    "\n",
    "- Target `y`\n",
    "$$\n",
    "\\mathbf{S}(t)\n",
    "$$\n",
    "\n",
    "- ODE system `F(t, y)`\n",
    "$$\n",
    "\\frac{d\\mathbf{S}}{dt} = \\mathbf{F}(t, \\mathbf{S}(t))\n",
    "$$\n",
    "\n",
    "- Domain `t_span=[t_0, t_f]`\n",
    "$$\n",
    "t \\in [t_0, t_f]\n",
    "$$\n",
    "    - If the number of points `N` is given, `t = np.linspace(t_span[0], t_span[1], N)`.\n",
    "\n",
    "    - If the spacing `h` is given, `t = np.arange(t_span[0], t_span[1]+h, h)`. Here, the purpose of `+h` in `t_span[1]+h` is to include the value of `t_span[1]` in the array `t`.\n",
    "\n",
    "\n",
    "- Initial condition `y0`\n",
    "$$\n",
    "\\mathbf{S}(t_0)\n",
    "$$\n",
    "\n",
    "### Solution\n",
    "\n",
    "- Target `sol.y`\n",
    "$$\n",
    "\\mathbf{S}(t)\n",
    "$$\n",
    "\n",
    "- Domain `sol.t`\n",
    "$$\n",
    "t = [t_0, \\cdots, t_f]\n",
    "$$\n",
    "\n",
    "### References\n",
    "- [scipy solve_ivp docs](https://docs.scipy.org/doc/scipy/reference/generated/scipy.integrate.solve_ivp.html)\n",
    "- [PDF about IVP and BVP in Python](https://acme.byu.edu/0000017c-ccfe-da17-a5fd-cdfeff540000/acmefiles-08-bvp-2021-pdf)\n",
    "- [Python Programming and Numerical Methods, Chap 22](https://pythonnumericalmethods.berkeley.edu/notebooks/chapter22.00-ODE-Initial-Value-Problems.html)\n",
    "- [Blog post about odeint vs solve_ivp](https://danielmuellerkomorowska.com/2021/02/16/differential-equations-with-scipy-odeint-or-solve_ivp/)"
   ]
  },
  {
   "cell_type": "markdown",
   "metadata": {},
   "source": [
    "## IVP Example1\n",
    "\n",
    "$$\n",
    "\\begin{cases}\n",
    "  y''+ 3y = \\sin t \\\\ \n",
    "  t \\in [0, 5] \\\\\n",
    "  y(0) = -\\frac{\\pi}{2} \\\\\n",
    "  y'(0) = \\pi \\\\\n",
    "\\end{cases}\n",
    "$$ \n",
    "\n",
    "### Rewrite ODE using $\\mathbf{S}(t)$\n",
    "\n",
    "- Target `y`\n",
    "$$\n",
    "\\mathbf{S}(t) = \\begin{bmatrix}\n",
    "                    y(t) \\\\\n",
    "                    y'(t) \\\\\n",
    "                \\end{bmatrix}\n",
    "              = \\begin{bmatrix}\n",
    "                    S[0] \\\\\n",
    "                    S[1] \\\\\n",
    "                \\end{bmatrix}\n",
    "$$\n",
    "\n",
    "- ODE system `F(t, y)`\n",
    "$$\n",
    "\\frac{d\\mathbf{S}}{dt} = \\mathbf{F}(t, \\mathbf{S}(t)) \n",
    "                       = \\begin{bmatrix}\n",
    "                            y'(t) \\\\\n",
    "                            y''(t) \\\\\n",
    "                         \\end{bmatrix}\n",
    "                       = \\begin{bmatrix}\n",
    "                            y' \\\\\n",
    "                            -3y + \\sin t \\\\\n",
    "                         \\end{bmatrix}\n",
    "                       = \\begin{bmatrix}\n",
    "                            S[1] \\\\\n",
    "                            -3S[0] + \\sin t \\\\\n",
    "                         \\end{bmatrix}\n",
    "$$\n",
    "\n",
    "- Domain\n",
    "\n",
    "```python\n",
    "t_span = [0, 5]\n",
    "h = 0.1 # hyperparameter\n",
    "t = np.arange(t_span[0], t_span[1]+h, h)\n",
    "```\n",
    "\n",
    "- Initial condition `y0`\n",
    "$$\n",
    "\\mathbf{S}(0) = \\begin{bmatrix}\n",
    "                    y(0) \\\\\n",
    "                    y'(0) \\\\\n",
    "                \\end{bmatrix}\n",
    "              = \\begin{bmatrix}\n",
    "                    -\\frac{\\pi}{2} \\\\\n",
    "                    \\pi \\\\\n",
    "                \\end{bmatrix}\n",
    "$$\n"
   ]
  },
  {
   "cell_type": "code",
   "execution_count": null,
   "metadata": {},
   "outputs": [],
   "source": [
    "#| exporti\n",
    "#| hide\n",
    "def F(t, y):\n",
    "    return [y[1], -3*y[0] + np.sin(t)]\n",
    "\n",
    "t_span = [0, 5]\n",
    "h = 0.1\n",
    "t = np.arange(t_span[0], t_span[1]+h, h)\n",
    "\n",
    "y0 = [-np.pi/2, np.pi]"
   ]
  },
  {
   "cell_type": "markdown",
   "metadata": {},
   "source": [
    "We can solve this problem from the above information."
   ]
  },
  {
   "cell_type": "code",
   "execution_count": null,
   "metadata": {},
   "outputs": [],
   "source": [
    "sol = solve_ivp(F, t_span, y0, t_eval=t)"
   ]
  },
  {
   "cell_type": "markdown",
   "metadata": {},
   "source": [
    "Solution info"
   ]
  },
  {
   "cell_type": "code",
   "execution_count": null,
   "metadata": {},
   "outputs": [
    {
     "data": {
      "text/plain": [
       "  message: The solver successfully reached the end of the integration interval.\n",
       "  success: True\n",
       "   status: 0\n",
       "        t: [ 0.000e+00  1.000e-01 ...  4.900e+00  5.000e+00]\n",
       "        y: [[-1.571e+00 -1.235e+00 ...  1.669e+00  1.710e+00]\n",
       "            [ 3.142e+00  3.568e+00 ...  7.144e-01  1.089e-01]]\n",
       "      sol: None\n",
       " t_events: None\n",
       " y_events: None\n",
       "     nfev: 62\n",
       "     njev: 0\n",
       "      nlu: 0"
      ]
     },
     "execution_count": null,
     "metadata": {},
     "output_type": "execute_result"
    }
   ],
   "source": [
    "sol"
   ]
  },
  {
   "cell_type": "markdown",
   "metadata": {},
   "source": [
    "Domain $t$"
   ]
  },
  {
   "cell_type": "code",
   "execution_count": null,
   "metadata": {},
   "outputs": [
    {
     "data": {
      "text/plain": [
       "array([0. , 0.1, 0.2, 0.3, 0.4, 0.5, 0.6, 0.7, 0.8, 0.9, 1. , 1.1, 1.2,\n",
       "       1.3, 1.4, 1.5, 1.6, 1.7, 1.8, 1.9, 2. , 2.1, 2.2, 2.3, 2.4, 2.5,\n",
       "       2.6, 2.7, 2.8, 2.9, 3. , 3.1, 3.2, 3.3, 3.4, 3.5, 3.6, 3.7, 3.8,\n",
       "       3.9, 4. , 4.1, 4.2, 4.3, 4.4, 4.5, 4.6, 4.7, 4.8, 4.9, 5. ])"
      ]
     },
     "execution_count": null,
     "metadata": {},
     "output_type": "execute_result"
    }
   ],
   "source": [
    "sol.t"
   ]
  },
  {
   "cell_type": "markdown",
   "metadata": {},
   "source": [
    "Target state vector $\\mathbf{S}(t)$"
   ]
  },
  {
   "cell_type": "code",
   "execution_count": null,
   "metadata": {},
   "outputs": [
    {
     "data": {
      "text/plain": [
       "array([[-1.57079633, -1.23453277, -0.86030514, -0.45843048, -0.03984597,\n",
       "         0.38403622,  0.80132899,  1.20010117,  1.56956933,  1.89899569,\n",
       "         2.17913795,  2.40237059,  2.56269013,  2.65611774,  2.6797985 ,\n",
       "         2.63269535,  2.5161626 ,  2.33394593,  2.09215279,  1.79786469,\n",
       "         1.45927277,  1.08592922,  0.68838898,  0.27820968, -0.13264009,\n",
       "        -0.53292218, -0.91109765, -1.256714  , -1.56047376, -1.81423449,\n",
       "        -2.01153094, -2.14738851, -2.21825989, -2.22290454, -2.16239147,\n",
       "        -2.04004441, -1.8604542 , -1.62961589, -1.35504951, -1.04569361,\n",
       "        -0.71190521, -0.36459551, -0.01451474,  0.32717482,  0.64994   ,\n",
       "         0.94388468,  1.1997787 ,  1.40987673,  1.56773208,  1.66861058,\n",
       "         1.70977222],\n",
       "       [ 3.14159265,  3.56848512,  3.89917004,  4.12291412,  4.23214869,\n",
       "         4.2232754 ,  4.09666617,  3.85641458,  3.50881107,  3.06297723,\n",
       "         2.53105399,  1.92817178,  1.2724329 ,  0.58252342, -0.12206293,\n",
       "        -0.82113985, -1.49509935, -2.12491179, -2.6921902 , -3.18147272,\n",
       "        -3.57870191, -3.87238992, -4.05472707, -4.1215818 , -4.07245453,\n",
       "        -3.90935802, -3.63694804, -3.26339319, -2.80039309, -2.26317843,\n",
       "        -1.6687201 , -1.03427919, -0.37891539,  0.27809265,  0.9172542 ,\n",
       "         1.51906741,  2.0664037 ,  2.54275331,  2.93405992,  3.22939312,\n",
       "         3.42094842,  3.50425349,  3.47731635,  3.3409717 ,  3.09984441,\n",
       "         2.76235405,  2.34064082,  1.84820122,  1.30038394,  0.71442752,\n",
       "         0.10888429]])"
      ]
     },
     "execution_count": null,
     "metadata": {},
     "output_type": "execute_result"
    }
   ],
   "source": [
    "sol.y"
   ]
  },
  {
   "cell_type": "markdown",
   "metadata": {},
   "source": [
    "Draw the solution"
   ]
  },
  {
   "cell_type": "code",
   "execution_count": null,
   "metadata": {},
   "outputs": [],
   "source": [
    "import matplotlib.pyplot as plt"
   ]
  },
  {
   "cell_type": "code",
   "execution_count": null,
   "metadata": {},
   "outputs": [
    {
     "data": {
      "image/png": "[encoded data removed]",
      "text/plain": [
       "<Figure size 640x480 with 2 Axes>"
      ]
     },
     "metadata": {},
     "output_type": "display_data"
    }
   ],
   "source": [
    "#| code-fold:true\n",
    "fig, axes = plt.subplots(nrows=2, ncols=1)\n",
    "\n",
    "axes[0].plot(sol.t, sol.y[0], color='blue') # y(t)\n",
    "axes[0].axhline(0, color='k', linewidth=2) # x-axis\n",
    "axes[0].axvline(0, color='k', linewidth=2) # y-axis\n",
    "axes[0].grid(True)\n",
    "axes[0].set_xlabel('t')\n",
    "axes[0].set_ylabel('y(t)')\n",
    "\n",
    "axes[1].plot(sol.t, sol.y[1], color='blue') # y'(t)\n",
    "axes[1].axhline(0, color='k', linewidth=2) # x-axis\n",
    "axes[1].axvline(0, color='k', linewidth=2) # y-axis\n",
    "axes[1].grid(True)\n",
    "axes[1].set_xlabel('t')\n",
    "axes[1].set_ylabel(r\"$y'(t)$\")\n",
    "\n",
    "plt.tight_layout()"
   ]
  },
  {
   "cell_type": "markdown",
   "metadata": {},
   "source": [
    "If `dense_output = True`, we get a solution [**function**](https://docs.scipy.org/doc/scipy/reference/generated/scipy.integrate.OdeSolution.html#scipy.integrate.OdeSolution) as the sol.sol object."
   ]
  },
  {
   "cell_type": "code",
   "execution_count": null,
   "metadata": {},
   "outputs": [],
   "source": [
    "sol = solve_ivp(F, t_span, y0, t_eval=t, dense_output=True)"
   ]
  },
  {
   "cell_type": "code",
   "execution_count": null,
   "metadata": {},
   "outputs": [
    {
     "data": {
      "text/plain": [
       "  message: The solver successfully reached the end of the integration interval.\n",
       "  success: True\n",
       "   status: 0\n",
       "        t: [ 0.000e+00  1.000e-01 ...  4.900e+00  5.000e+00]\n",
       "        y: [[-1.571e+00 -1.235e+00 ...  1.669e+00  1.710e+00]\n",
       "            [ 3.142e+00  3.568e+00 ...  7.144e-01  1.089e-01]]\n",
       "      sol: <scipy.integrate._ivp.common.OdeSolution object>\n",
       " t_events: None\n",
       " y_events: None\n",
       "     nfev: 62\n",
       "     njev: 0\n",
       "      nlu: 0"
      ]
     },
     "execution_count": null,
     "metadata": {},
     "output_type": "execute_result"
    }
   ],
   "source": [
    "sol"
   ]
  },
  {
   "cell_type": "code",
   "execution_count": null,
   "metadata": {},
   "outputs": [
    {
     "data": {
      "text/plain": [
       "<scipy.integrate._ivp.common.OdeSolution>"
      ]
     },
     "execution_count": null,
     "metadata": {},
     "output_type": "execute_result"
    }
   ],
   "source": [
    "sol.sol"
   ]
  },
  {
   "cell_type": "markdown",
   "metadata": {},
   "source": [
    "Then we can calculate values at any point using this function.\n",
    "\n",
    "So, it can be also used for smooth plotting."
   ]
  },
  {
   "cell_type": "code",
   "execution_count": null,
   "metadata": {},
   "outputs": [],
   "source": [
    "t_eval = np.linspace(-1, 6, 1000)"
   ]
  },
  {
   "cell_type": "code",
   "execution_count": null,
   "metadata": {},
   "outputs": [],
   "source": [
    "y_eval = sol.sol(t_eval)"
   ]
  },
  {
   "cell_type": "code",
   "execution_count": null,
   "metadata": {},
   "outputs": [
    {
     "data": {
      "text/plain": [
       "(2, 1000)"
      ]
     },
     "execution_count": null,
     "metadata": {},
     "output_type": "execute_result"
    }
   ],
   "source": [
    "y_eval.shape"
   ]
  },
  {
   "cell_type": "code",
   "execution_count": null,
   "metadata": {},
   "outputs": [
    {
     "data": {
      "image/png": "[encoded data removed]",
      "text/plain": [
       "<Figure size 640x480 with 2 Axes>"
      ]
     },
     "metadata": {},
     "output_type": "display_data"
    }
   ],
   "source": [
    "#| code-fold:true\n",
    "fig, axes = plt.subplots(nrows=2, ncols=1)\n",
    "\n",
    "axes[0].plot(t_eval, y_eval[0], color='red') # y(t) eval\n",
    "axes[0].axhline(0, color='k', linewidth=2) # x-axis\n",
    "axes[0].axvline(0, color='k', linewidth=2) # y-axis\n",
    "axes[0].grid(True)\n",
    "axes[0].set_xlabel('t')\n",
    "axes[0].set_ylabel('y(t)')\n",
    "\n",
    "axes[1].plot(t_eval, y_eval[1], color='red') # y'(t) eval\n",
    "axes[1].axhline(0, color='k', linewidth=2) # x-axis\n",
    "axes[1].axvline(0, color='k', linewidth=2) # y-axis\n",
    "axes[1].grid(True)\n",
    "axes[1].set_xlabel('t')\n",
    "axes[1].set_ylabel(r\"$y'(t)$\")\n",
    "\n",
    "plt.tight_layout()"
   ]
  },
  {
   "cell_type": "code",
   "execution_count": null,
   "metadata": {},
   "outputs": [],
   "source": []
  }
 ],
 "metadata": {
  "kernelspec": {
   "display_name": "python3",
   "language": "python",
   "name": "python3"
  }
 },
 "nbformat": 4,
 "nbformat_minor": 4
}
