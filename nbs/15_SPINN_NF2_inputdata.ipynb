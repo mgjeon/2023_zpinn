{
 "cells": [
  {
   "attachments": {},
   "cell_type": "markdown",
   "metadata": {},
   "source": [
    "# SPINN NF2 inputdata generation\n",
    "> save using pickle"
   ]
  },
  {
   "cell_type": "code",
   "execution_count": null,
   "metadata": {},
   "outputs": [],
   "source": [
    "import os\n",
    "os.environ[\"CUDA_DEVICE_ORDER\"]=\"PCI_BUS_ID\"\n",
    "os.environ[\"CUDA_VISIBLE_DEVICES\"]= \"3\""
   ]
  },
  {
   "cell_type": "code",
   "execution_count": null,
   "metadata": {},
   "outputs": [],
   "source": [
    "from zpinn.lowloumag import LowLouMag"
   ]
  },
  {
   "cell_type": "code",
   "execution_count": null,
   "metadata": {},
   "outputs": [],
   "source": [
    "import json"
   ]
  },
  {
   "cell_type": "code",
   "execution_count": null,
   "metadata": {},
   "outputs": [],
   "source": [
    "with open('config.json') as config:\n",
    "    info = json.load(config)\n",
    "\n",
    "nx = info['nx']\n",
    "ny = info['ny']\n",
    "nz = info['nz']\n",
    "b_norm = info['b_norm']"
   ]
  },
  {
   "cell_type": "code",
   "execution_count": null,
   "metadata": {},
   "outputs": [
    {
     "data": {
      "text/html": [
       "<table style='width: 100%;'><tr><th>Header</th><th>Data Arrays</th></tr><tr><td>\n",
       "<table style='width: 100%;'>\n",
       "<tr><th>ImageData</th><th>Information</th></tr>\n",
       "<tr><td>N Cells</td><td>16581375</td></tr>\n",
       "<tr><td>N Points</td><td>16777216</td></tr>\n",
       "<tr><td>X Bounds</td><td>-1.000e+00, 1.000e+00</td></tr>\n",
       "<tr><td>Y Bounds</td><td>-1.000e+00, 1.000e+00</td></tr>\n",
       "<tr><td>Z Bounds</td><td>0.000e+00, 2.000e+00</td></tr>\n",
       "<tr><td>Dimensions</td><td>256, 256, 256</td></tr>\n",
       "<tr><td>Spacing</td><td>7.843e-03, 7.843e-03, 7.843e-03</td></tr>\n",
       "<tr><td>N Arrays</td><td>3</td></tr>\n",
       "</table>\n",
       "\n",
       "</td><td>\n",
       "<table style='width: 100%;'>\n",
       "<tr><th>Name</th><th>Field</th><th>Type</th><th>N Comp</th><th>Min</th><th>Max</th></tr>\n",
       "<tr><td>B</td><td>Points</td><td>float64</td><td>3</td><td>-1.431e+02</td><td>2.344e+02</td></tr>\n",
       "<tr><td><b>mag</b></td><td>Points</td><td>float64</td><td>1</td><td>3.360e-01</td><td>2.344e+02</td></tr>\n",
       "<tr><td>alpha</td><td>Points</td><td>float64</td><td>1</td><td>-9.742e+00</td><td>9.742e+00</td></tr>\n",
       "</table>\n",
       "\n",
       "</td></tr> </table>"
      ],
      "text/plain": [
       "ImageData (0x7f42ed528ac0)\n",
       "  N Cells:      16581375\n",
       "  N Points:     16777216\n",
       "  X Bounds:     -1.000e+00, 1.000e+00\n",
       "  Y Bounds:     -1.000e+00, 1.000e+00\n",
       "  Z Bounds:     0.000e+00, 2.000e+00\n",
       "  Dimensions:   256, 256, 256\n",
       "  Spacing:      7.843e-03, 7.843e-03, 7.843e-03\n",
       "  N Arrays:     3"
      ]
     },
     "execution_count": null,
     "metadata": {},
     "output_type": "execute_result"
    }
   ],
   "source": [
    "b = LowLouMag(resolutions=[nx, ny, nz])\n",
    "b.calculate()"
   ]
  },
  {
   "cell_type": "code",
   "execution_count": null,
   "metadata": {},
   "outputs": [],
   "source": [
    "import pickle"
   ]
  },
  {
   "cell_type": "code",
   "execution_count": null,
   "metadata": {},
   "outputs": [],
   "source": [
    "with open(\"b.pickle\",\"wb\") as f:\n",
    "    pickle.dump(b, f)"
   ]
  },
  {
   "cell_type": "code",
   "execution_count": null,
   "metadata": {},
   "outputs": [],
   "source": [
    "with open(\"bv.pickle\",\"wb\") as f:\n",
    "    pickle.dump(b.grid['B'], f)"
   ]
  },
  {
   "cell_type": "code",
   "execution_count": null,
   "metadata": {},
   "outputs": [
    {
     "ename": "KeyboardInterrupt",
     "evalue": "",
     "output_type": "error",
     "traceback": [
      "\u001b[0;31m---------------------------------------------------------------------------\u001b[0m",
      "\u001b[0;31mKeyboardInterrupt\u001b[0m                         Traceback (most recent call last)",
      "Cell \u001b[0;32mIn[9], line 2\u001b[0m\n\u001b[1;32m      1\u001b[0m \u001b[39mwith\u001b[39;00m \u001b[39mopen\u001b[39m(\u001b[39m\"\u001b[39m\u001b[39mb.pickle\u001b[39m\u001b[39m\"\u001b[39m,\u001b[39m\"\u001b[39m\u001b[39mrb\u001b[39m\u001b[39m\"\u001b[39m) \u001b[39mas\u001b[39;00m f:\n\u001b[0;32m----> 2\u001b[0m     b \u001b[39m=\u001b[39m pickle\u001b[39m.\u001b[39;49mload(f)\n",
      "File \u001b[0;32m~/mambaforge/envs/pinf/lib/python3.10/site-packages/pyvista/core/dataobject.py:600\u001b[0m, in \u001b[0;36mDataObject.__setstate__\u001b[0;34m(self, state)\u001b[0m\n\u001b[1;32m    598\u001b[0m     reader\u001b[39m.\u001b[39mReadFromInputStringOn()\n\u001b[1;32m    599\u001b[0m     reader\u001b[39m.\u001b[39mSetInputString(vtk_serialized)\n\u001b[0;32m--> 600\u001b[0m     reader\u001b[39m.\u001b[39;49mUpdate()\n\u001b[1;32m    602\u001b[0m \u001b[39melif\u001b[39;00m pickle_format\u001b[39m.\u001b[39mlower() \u001b[39m==\u001b[39m \u001b[39m'\u001b[39m\u001b[39mlegacy\u001b[39m\u001b[39m'\u001b[39m:\n\u001b[1;32m    603\u001b[0m     reader \u001b[39m=\u001b[39m _vtk\u001b[39m.\u001b[39mvtkDataSetReader()\n",
      "\u001b[0;31mKeyboardInterrupt\u001b[0m: "
     ]
    }
   ],
   "source": [
    "with open(\"b.pickle\",\"rb\") as f:\n",
    "    b = pickle.load(f)"
   ]
  },
  {
   "cell_type": "code",
   "execution_count": null,
   "metadata": {},
   "outputs": [],
   "source": [
    "with open(\"bv.pickle\",\"rb\") as f:\n",
    "    bv = pickle.load(f)"
   ]
  },
  {
   "cell_type": "code",
   "execution_count": null,
   "metadata": {},
   "outputs": [
    {
     "data": {
      "text/html": [
       "<table style='width: 100%;'><tr><th>Header</th><th>Data Arrays</th></tr><tr><td>\n",
       "<table style='width: 100%;'>\n",
       "<tr><th>PolyData</th><th>Information</th></tr>\n",
       "<tr><td>N Cells</td><td>261121</td></tr>\n",
       "<tr><td>N Points</td><td>262144</td></tr>\n",
       "<tr><td>N Strips</td><td>0</td></tr>\n",
       "<tr><td>X Bounds</td><td>-1.000e+00, 1.000e+00</td></tr>\n",
       "<tr><td>Y Bounds</td><td>-1.000e+00, 1.000e+00</td></tr>\n",
       "<tr><td>Z Bounds</td><td>0.000e+00, 0.000e+00</td></tr>\n",
       "<tr><td>N Arrays</td><td>5</td></tr>\n",
       "</table>\n",
       "\n",
       "</td><td>\n",
       "<table style='width: 100%;'>\n",
       "<tr><th>Name</th><th>Field</th><th>Type</th><th>N Comp</th><th>Min</th><th>Max</th></tr>\n",
       "<tr><td><b>B</b></td><td>Points</td><td>float64</td><td>3</td><td>-1.431e+02</td><td>2.345e+02</td></tr>\n",
       "<tr><td>mag</td><td>Points</td><td>float64</td><td>1</td><td>2.433e+00</td><td>2.346e+02</td></tr>\n",
       "<tr><td>alpha</td><td>Points</td><td>float64</td><td>1</td><td>-9.745e+00</td><td>9.745e+00</td></tr>\n",
       "<tr><td>vtkOriginalPointIds</td><td>Points</td><td>int64</td><td>1</td><td>0.000e+00</td><td>2.621e+05</td></tr>\n",
       "<tr><td>vtkOriginalCellIds</td><td>Cells</td><td>int64</td><td>1</td><td>0.000e+00</td><td>2.611e+05</td></tr>\n",
       "</table>\n",
       "\n",
       "</td></tr> </table>"
      ],
      "text/plain": [
       "PolyData (0x7fc07672d4e0)\n",
       "  N Cells:    261121\n",
       "  N Points:   262144\n",
       "  N Strips:   0\n",
       "  X Bounds:   -1.000e+00, 1.000e+00\n",
       "  Y Bounds:   -1.000e+00, 1.000e+00\n",
       "  Z Bounds:   0.000e+00, 0.000e+00\n",
       "  N Arrays:   5"
      ]
     },
     "execution_count": null,
     "metadata": {},
     "output_type": "execute_result"
    }
   ],
   "source": [
    "b.bottom"
   ]
  },
  {
   "cell_type": "code",
   "execution_count": null,
   "metadata": {},
   "outputs": [
    {
     "data": {
      "text/plain": [
       "(256, 256, 3)"
      ]
     },
     "execution_count": null,
     "metadata": {},
     "output_type": "execute_result"
    }
   ],
   "source": [
    "b_bottom = b.b_bottom\n",
    "b_bottom.shape"
   ]
  },
  {
   "cell_type": "code",
   "execution_count": null,
   "metadata": {},
   "outputs": [],
   "source": [
    "b_bottom = b_bottom / b_norm "
   ]
  },
  {
   "cell_type": "code",
   "execution_count": null,
   "metadata": {},
   "outputs": [],
   "source": [
    "with open(\"b_bottom.pickle\",\"wb\") as f:\n",
    "    pickle.dump(b_bottom, f)"
   ]
  },
  {
   "cell_type": "code",
   "execution_count": null,
   "metadata": {},
   "outputs": [],
   "source": [
    "with open(\"b_bottom.pickle\",\"rb\") as f:\n",
    "    b_bottom = pickle.load(f)"
   ]
  },
  {
   "cell_type": "code",
   "execution_count": null,
   "metadata": {},
   "outputs": [],
   "source": [
    "import matplotlib.pyplot as plt"
   ]
  },
  {
   "cell_type": "code",
   "execution_count": null,
   "metadata": {},
   "outputs": [
    {
     "data": {
      "text/plain": [
       "<matplotlib.image.AxesImage>"
      ]
     },
     "execution_count": null,
     "metadata": {},
     "output_type": "execute_result"
    },
    {
     "data": {
      "image/png": "[encoded data removed]",
      "text/plain": [
       "<Figure size 640x480 with 1 Axes>"
      ]
     },
     "metadata": {},
     "output_type": "display_data"
    }
   ],
   "source": [
    "plt.imshow(b_bottom[:, :, 2].transpose(), origin='lower')"
   ]
  },
  {
   "cell_type": "code",
   "execution_count": null,
   "metadata": {},
   "outputs": [
    {
     "name": "stderr",
     "output_type": "stream",
     "text": [
      "/userhome/jeon_mg/mambaforge/envs/pinf/lib/python3.10/site-packages/tqdm/auto.py:21: TqdmWarning: IProgress not found. Please update jupyter and ipywidgets. See https://ipywidgets.readthedocs.io/en/stable/user_install.html\n",
      "  from .autonotebook import tqdm as notebook_tqdm\n"
     ]
    }
   ],
   "source": [
    "import torch\n",
    "from torch import nn\n",
    "from torch.utils.data import DataLoader, TensorDataset\n",
    "import numpy as np\n",
    "from tqdm import tqdm"
   ]
  },
  {
   "cell_type": "code",
   "execution_count": null,
   "metadata": {},
   "outputs": [],
   "source": [
    "from zpinn.pinn_nf2_cleanup import PotentialModel, create_coordinates"
   ]
  },
  {
   "cell_type": "code",
   "execution_count": null,
   "metadata": {},
   "outputs": [],
   "source": [
    "bottom_values = b_bottom.reshape(-1, 3)\n",
    "bottom_bounds = (0, nx-1, 0, ny-1, 0, 0)\n",
    "bottom_coords = create_coordinates(bottom_bounds).reshape(-1, 3)"
   ]
  },
  {
   "cell_type": "code",
   "execution_count": null,
   "metadata": {},
   "outputs": [],
   "source": [
    "top_bounds = (0, nx-1, 0, ny-1, nz-1, nz-1)\n",
    "lateral_bounds_1 = (0, 0, 0, ny-1, 0, nz-1)\n",
    "lateral_bounds_2 = (nx-1, nx-1, 0, ny-1, 0, nz-1)\n",
    "lateral_bounds_3 = (0, nx-1, 0, 0, 0, nz-1)\n",
    "lateral_bounds_4 = (0, nx-1, ny-1, ny-1, 0, nz-1)\n",
    "\n",
    "top_coords = create_coordinates(top_bounds)\n",
    "lateral_coords_1 = create_coordinates(lateral_bounds_1)\n",
    "lateral_coords_2 = create_coordinates(lateral_bounds_2)\n",
    "lateral_coords_3 = create_coordinates(lateral_bounds_3)\n",
    "lateral_coords_4 = create_coordinates(lateral_bounds_4)"
   ]
  },
  {
   "cell_type": "code",
   "execution_count": null,
   "metadata": {},
   "outputs": [],
   "source": [
    "top_lateral_coordinates = [top_coords,\n",
    "                           lateral_coords_1,\n",
    "                           lateral_coords_2,\n",
    "                           lateral_coords_3,\n",
    "                           lateral_coords_4]"
   ]
  },
  {
   "cell_type": "code",
   "execution_count": null,
   "metadata": {},
   "outputs": [],
   "source": [
    "def get_potential_boundary(b_n, height, batch_size=2048, **kwargs):\n",
    "    assert not np.any(np.isnan(b_n)), 'Invalid data value'\n",
    "\n",
    "    cube_shape = (*b_n.shape, height)\n",
    "\n",
    "    b_n = b_n.reshape((-1)).astype(np.float32)\n",
    "    coords = [np.stack(np.mgrid[:cube_shape[0], :cube_shape[1], cube_shape[2] - 2:cube_shape[2] + 1], -1),       #top\n",
    "              np.stack(np.mgrid[:cube_shape[0], -1:2, :cube_shape[2]], -1),                                      #y=0\n",
    "              np.stack(np.mgrid[:cube_shape[0], cube_shape[1] - 2:cube_shape[1] + 1, :cube_shape[2]], -1),       #y=max\n",
    "              np.stack(np.mgrid[-1:2, :cube_shape[1], :cube_shape[2]], -1),                                      #x=0\n",
    "              np.stack(np.mgrid[cube_shape[0] - 2:cube_shape[0] + 1, :cube_shape[1], :cube_shape[2]], -1), ]     #x=max\n",
    "    fields = _compute_fields(coords, cube_shape, b_n, batch_size=batch_size, **kwargs)\n",
    "\n",
    "    fields = [fields[0][:, :, 1],\n",
    "              fields[1][:, 1, :], fields[2][:, 1, :],\n",
    "              fields[3][1, :, :], fields[4][1, :, :]]\n",
    "    coords = [coords[0][:, :, 1],\n",
    "              coords[1][:, 1, :], coords[2][:, 1, :],\n",
    "              coords[3][1, :, :], coords[4][1, :, :]]\n",
    "    return coords, fields\n",
    "\n",
    "def _compute_fields(coords, cube_shape, b_n, batch_size=2048, progress=False):\n",
    "    coords_shape = [c.shape[:-1] for c in coords]\n",
    "    flat_coords = np.concatenate([c.reshape(((-1, 3))) for c in coords])\n",
    "\n",
    "    r_p = np.stack(np.mgrid[:cube_shape[0], :cube_shape[1], :1], -1).reshape((-1, 3))\n",
    "\n",
    "    # torch code\n",
    "    # r = (x * y, 3); coords = (x*y*z, 3), c = (1, 3)\n",
    "    # --> (x * y, x * y * z, 3) --> (x * y, x * y * z) --> (x * y * z)\n",
    "    device = torch.device('cuda') if torch.cuda.is_available() else torch.device('cpu')\n",
    "    with torch.no_grad():\n",
    "        b_n = torch.tensor(b_n, dtype=torch.float32, )\n",
    "        r_p = torch.tensor(r_p, dtype=torch.float32, )\n",
    "        model = nn.DataParallel(PotentialModel(b_n, r_p, )).to(device)\n",
    "\n",
    "        flat_coords = torch.tensor(flat_coords, dtype=torch.float32, )\n",
    "\n",
    "        potential = []\n",
    "        iter = DataLoader(TensorDataset(flat_coords), batch_size=batch_size, num_workers=2)\n",
    "        iter = iter if progress else tqdm(iter, desc='Potential Field')\n",
    "        for coord, in iter:\n",
    "            coord = coord.to(device)\n",
    "            p_batch = model(coord)\n",
    "            potential += [p_batch.cpu()]\n",
    "\n",
    "    potential = torch.cat(potential).numpy()\n",
    "    idx = 0\n",
    "    fields = []\n",
    "    for s in coords_shape:\n",
    "        p = potential[idx:idx + np.prod(s)].reshape(s)\n",
    "        b = - 1 * np.stack(np.gradient(p, axis=[0, 1, 2], edge_order=2), axis=-1)\n",
    "        fields += [b]\n",
    "        idx += np.prod(s)\n",
    "\n",
    "    return fields"
   ]
  },
  {
   "cell_type": "code",
   "execution_count": null,
   "metadata": {},
   "outputs": [
    {
     "name": "stderr",
     "output_type": "stream",
     "text": [
      "Potential Field: 100%|██████████| 480/480 [00:19<00:00, 24.79it/s]\n"
     ]
    }
   ],
   "source": [
    "coords, fields = get_potential_boundary(b_bottom[:, :, 2], nz)"
   ]
  },
  {
   "cell_type": "code",
   "execution_count": null,
   "metadata": {},
   "outputs": [],
   "source": [
    "# bp_top = np.zeros((nx, ny, 3))\n",
    "# bp_lateral_1 = np.zeros((ny, nz, 3))\n",
    "# bp_lateral_2 = np.zeros((ny, nz, 3))\n",
    "# bp_lateral_3 = np.zeros((nx, nz, 3))\n",
    "# bp_lateral_4 = np.zeros((nx, nz, 3))"
   ]
  },
  {
   "cell_type": "code",
   "execution_count": null,
   "metadata": {},
   "outputs": [],
   "source": [
    "bp_top = fields[0]\n",
    "bp_lateral_3 = fields[1]\n",
    "bp_lateral_4 = fields[2]\n",
    "bp_lateral_1 = fields[3]\n",
    "bp_lateral_2 = fields[4]"
   ]
  },
  {
   "cell_type": "code",
   "execution_count": null,
   "metadata": {},
   "outputs": [],
   "source": [
    "bp_top = bp_top / b_norm\n",
    "bp_lateral_1 = bp_lateral_1 / b_norm\n",
    "bp_lateral_2 = bp_lateral_2 / b_norm\n",
    "bp_lateral_3 = bp_lateral_3 / b_norm \n",
    "bp_lateral_4 = bp_lateral_4 / b_norm"
   ]
  },
  {
   "cell_type": "code",
   "execution_count": null,
   "metadata": {},
   "outputs": [],
   "source": [
    "import pickle"
   ]
  },
  {
   "cell_type": "code",
   "execution_count": null,
   "metadata": {},
   "outputs": [],
   "source": [
    "\n",
    "\n",
    "with open(\"bp_top.pickle\",\"wb\") as f:\n",
    "    pickle.dump(bp_top, f)\n",
    "\n",
    "with open(\"bp_lateral_1.pickle\",\"wb\") as f:\n",
    "    pickle.dump(bp_lateral_1, f)\n",
    "\n",
    "with open(\"bp_lateral_2.pickle\",\"wb\") as f:\n",
    "    pickle.dump(bp_lateral_2, f)\n",
    "\n",
    "with open(\"bp_lateral_3.pickle\",\"wb\") as f:\n",
    "    pickle.dump(bp_lateral_3, f)\n",
    "\n",
    "with open(\"bp_lateral_4.pickle\",\"wb\") as f:\n",
    "    pickle.dump(bp_lateral_4, f)"
   ]
  },
  {
   "cell_type": "code",
   "execution_count": null,
   "metadata": {},
   "outputs": [
    {
     "data": {
      "text/plain": [
       "(262144, 3)"
      ]
     },
     "execution_count": null,
     "metadata": {},
     "output_type": "execute_result"
    }
   ],
   "source": [
    "b.grid['B'].shape"
   ]
  },
  {
   "cell_type": "code",
   "execution_count": null,
   "metadata": {},
   "outputs": [
    {
     "data": {
      "text/plain": [
       "((64, 64, 3), (64, 64, 3), (64, 64, 3), (64, 64, 3), (64, 64, 3), (64, 64, 3))"
      ]
     },
     "execution_count": null,
     "metadata": {},
     "output_type": "execute_result"
    }
   ],
   "source": [
    "b_bottom.shape, bp_top.shape, bp_lateral_1.shape, bp_lateral_2.shape, bp_lateral_3.shape, bp_lateral_4.shape"
   ]
  },
  {
   "cell_type": "code",
   "execution_count": null,
   "metadata": {},
   "outputs": [],
   "source": [
    "with open(\"bp_top.pickle\",\"rb\") as f:\n",
    "    bp_top = pickle.load(f)\n",
    "\n",
    "with open(\"bp_lateral_1.pickle\",\"rb\") as f:\n",
    "    bp_lateral_1 = pickle.load(f)\n",
    "\n",
    "with open(\"bp_lateral_2.pickle\",\"rb\") as f:\n",
    "    bp_lateral_2 = pickle.load(f)\n",
    "\n",
    "with open(\"bp_lateral_3.pickle\",\"rb\") as f:\n",
    "    bp_lateral_3 = pickle.load(f)\n",
    "\n",
    "with open(\"bp_lateral_4.pickle\",\"rb\") as f:\n",
    "    bp_lateral_4 = pickle.load(f)"
   ]
  },
  {
   "cell_type": "code",
   "execution_count": null,
   "metadata": {},
   "outputs": [
    {
     "data": {
      "text/plain": [
       "(262144, 3)"
      ]
     },
     "execution_count": null,
     "metadata": {},
     "output_type": "execute_result"
    }
   ],
   "source": [
    "bv.shape"
   ]
  },
  {
   "cell_type": "code",
   "execution_count": null,
   "metadata": {},
   "outputs": [
    {
     "data": {
      "text/plain": [
       "((64, 64, 3), (64, 64, 3), (64, 64, 3), (64, 64, 3), (64, 64, 3), (64, 64, 3))"
      ]
     },
     "execution_count": null,
     "metadata": {},
     "output_type": "execute_result"
    }
   ],
   "source": [
    "b_bottom.shape, bp_top.shape, bp_lateral_1.shape, bp_lateral_2.shape, bp_lateral_3.shape, bp_lateral_4.shape"
   ]
  },
  {
   "cell_type": "code",
   "execution_count": null,
   "metadata": {},
   "outputs": [],
   "source": []
  }
 ],
 "metadata": {
  "kernelspec": {
   "display_name": "python3",
   "language": "python",
   "name": "python3"
  }
 },
 "nbformat": 4,
 "nbformat_minor": 2
}
