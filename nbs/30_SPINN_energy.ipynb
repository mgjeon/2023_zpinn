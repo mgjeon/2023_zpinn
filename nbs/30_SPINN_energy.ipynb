{
 "cells": [
  {
   "cell_type": "markdown",
   "metadata": {},
   "source": [
    "# SPINN low energy problem"
   ]
  },
  {
   "cell_type": "code",
   "execution_count": null,
   "metadata": {},
   "outputs": [],
   "source": [
    "from setproctitle import setproctitle\n",
    "setproctitle(\"SPINN\")"
   ]
  },
  {
   "cell_type": "code",
   "execution_count": null,
   "metadata": {},
   "outputs": [],
   "source": [
    "import os"
   ]
  },
  {
   "cell_type": "code",
   "execution_count": null,
   "metadata": {},
   "outputs": [],
   "source": [
    "os.environ[\"XLA_PYTHON_CLIENT_PREALLOCATE\"] = \"false\"\n",
    "os.environ[\"CUDA_DEVICE_ORDER\"]=\"PCI_BUS_ID\"\n",
    "os.environ[\"CUDA_VISIBLE_DEVICES\"]= \"2\""
   ]
  },
  {
   "cell_type": "code",
   "execution_count": null,
   "metadata": {},
   "outputs": [],
   "source": [
    "# from cmspinn.potential_field import cal_and_save_potential_boundary_for_spinn"
   ]
  },
  {
   "cell_type": "code",
   "execution_count": null,
   "metadata": {},
   "outputs": [],
   "source": [
    "import jax \n",
    "import jax.numpy as jnp\n",
    "import optax\n",
    "import numpy as np \n",
    "import matplotlib.pyplot as plt\n",
    "import time \n",
    "import pickle\n",
    "from tqdm import trange"
   ]
  },
  {
   "cell_type": "code",
   "execution_count": null,
   "metadata": {},
   "outputs": [],
   "source": [
    "from cmspinn.spinn_jax import SPINN3d, update_model"
   ]
  },
  {
   "cell_type": "code",
   "execution_count": null,
   "metadata": {},
   "outputs": [],
   "source": [
    "import glob\n",
    "import time\n",
    "from pathlib import Path"
   ]
  },
  {
   "cell_type": "code",
   "execution_count": null,
   "metadata": {},
   "outputs": [],
   "source": [
    "from functools import partial\n",
    "from jax import jvp"
   ]
  },
  {
   "cell_type": "code",
   "execution_count": null,
   "metadata": {},
   "outputs": [],
   "source": [
    "import logging"
   ]
  },
  {
   "cell_type": "code",
   "execution_count": null,
   "metadata": {},
   "outputs": [],
   "source": [
    "logger = logging.getLogger()\n",
    "logger.setLevel(logging.INFO)\n",
    "for hdlr in logger.handlers[:]:  # remove all old handlers\n",
    "    logger.removeHandler(hdlr)\n",
    "logger.addHandler(logging.FileHandler(\"{0}/{1}.log\".format('/userhome/jeon_mg/workspace/_data', \"info_log\")))  # set the new file handler\n",
    "logger.addHandler(logging.StreamHandler())  # set the new console handler"
   ]
  },
  {
   "cell_type": "code",
   "execution_count": null,
   "metadata": {},
   "outputs": [],
   "source": [
    "n_max = 2"
   ]
  },
  {
   "cell_type": "code",
   "execution_count": null,
   "metadata": {},
   "outputs": [],
   "source": [
    "def curlx(apply_fn, params, x, y, z):\n",
    "    # curl vector w/ forward-mode AD\n",
    "    # w_x = uz_y - uy_z\n",
    "    vec_z = jnp.ones(z.shape)\n",
    "    vec_y = jnp.ones(y.shape)\n",
    "    uy_z = jvp(lambda z: apply_fn(params, x, y, z)[1], (z,), (vec_z,))[1]\n",
    "    uz_y = jvp(lambda y: apply_fn(params, x, y, z)[2], (y,), (vec_y,))[1]\n",
    "    wx = uz_y - uy_z\n",
    "    return wx\n",
    "\n",
    "\n",
    "def curly(apply_fn, params, x, y, z):\n",
    "    # curl vector w/ forward-mode AD\n",
    "    # w_y = ux_z - uz_x\n",
    "    vec_z = jnp.ones(z.shape)\n",
    "    vec_x = jnp.ones(x.shape)\n",
    "    ux_z = jvp(lambda z: apply_fn(params, x, y, z)[0], (z,), (vec_z,))[1]\n",
    "    uz_x = jvp(lambda x: apply_fn(params, x, y, z)[2], (x,), (vec_x,))[1]\n",
    "    wy = ux_z - uz_x\n",
    "    return wy\n",
    "\n",
    "def curlz(apply_fn, params, x, y, z):\n",
    "    # curl vector w/ forward-mode AD\n",
    "    # w_z = uy_x - ux_y\n",
    "    vec_y = jnp.ones(y.shape)\n",
    "    vec_x = jnp.ones(x.shape)\n",
    "    ux_y = jvp(lambda y: apply_fn(params, x, y, z)[0], (y,), (vec_y,))[1]\n",
    "    uy_x = jvp(lambda x: apply_fn(params, x, y, z)[1], (x,), (vec_x,))[1]\n",
    "    wz = uy_x - ux_y\n",
    "    return wz"
   ]
  },
  {
   "cell_type": "code",
   "execution_count": null,
   "metadata": {},
   "outputs": [],
   "source": [
    "@partial(jax.jit, static_argnums=(0,))\n",
    "def apply_model_spinn(apply_fn, params, train_boundary_data):\n",
    "    def residual_loss(params, x, y, z):\n",
    "        # calculate u\n",
    "        Bx, By, Bz = apply_fn(params, x, y, z)\n",
    "        B = jnp.stack([Bx, By, Bz], axis=-1)\n",
    "        \n",
    "        # calculate J\n",
    "        Jx = curlx(apply_fn, params, x, y, z)\n",
    "        Jy = curly(apply_fn, params, x, y, z)\n",
    "        Jz = curlz(apply_fn, params, x, y, z)\n",
    "        J = jnp.stack([Jx, Jy, Jz], axis=-1)\n",
    "\n",
    "        JxB = jnp.cross(J, B, axis=-1) \n",
    "\n",
    "        #-----------------------------------------------------------\n",
    "        # loss_ff = jnp.sum(JxB**2, axis=-1)\n",
    "        loss_ff = jnp.sum(JxB**2, axis=-1) / (jnp.sum(B**2, axis=-1) + 1e-7)\n",
    "        loss_ff = jnp.mean(loss_ff)\n",
    "\n",
    "        # loss_ff = jnp.mean(JxB**2)\n",
    "\n",
    "        # loss_ff = jnp.mean(loss_ff)\n",
    "        #-----------------------------------------------------------\n",
    "\n",
    "        # tangent vector dx/dx\n",
    "        # assumes x, y, z have same shape (very important)\n",
    "        vec_x = jnp.ones(x.shape)\n",
    "        vec_y = jnp.ones(y.shape)\n",
    "        vec_z = jnp.ones(z.shape)\n",
    "        \n",
    "        Bx_x = jvp(lambda x: apply_fn(params, x, y, z)[0], (x,), (vec_x,))[1]\n",
    "        # Bx_y = jvp(lambda y: apply_fn(params, x, y, z)[0], (y,), (vec,))[1]\n",
    "        # Bx_z = jvp(lambda z: apply_fn(params, x, y, z)[0], (z,), (vec,))[1]\n",
    "\n",
    "        # By_x = jvp(lambda x: apply_fn(params, x, y, z)[1], (x,), (vec,))[1]\n",
    "        By_y = jvp(lambda y: apply_fn(params, x, y, z)[1], (y,), (vec_y,))[1]\n",
    "        # By_z = jvp(lambda z: apply_fn(params, x, y, z)[1], (z,), (vec,))[1]\n",
    "\n",
    "        # Bz_x = jvp(lambda x: apply_fn(params, x, y, z)[2], (x,), (vec,))[1]\n",
    "        # Bz_y = jvp(lambda y: apply_fn(params, x, y, z)[2], (y,), (vec,))[1]\n",
    "        Bz_z = jvp(lambda z: apply_fn(params, x, y, z)[2], (z,), (vec_z,))[1]\n",
    "\n",
    "        divB = Bx_x + By_y + Bz_z\n",
    "        \n",
    "        #-----------------------------------------------------------\n",
    "        # loss_div = jnp.sum((divB)**2, axis=-1)\n",
    "        # loss_div = jnp.mean(loss_div)\n",
    "\n",
    "        loss_div = jnp.mean((divB)**2)\n",
    "        #-----------------------------------------------------------\n",
    "\n",
    "        loss = loss_ff + loss_div\n",
    "\n",
    "        return loss\n",
    "\n",
    "    def boundary_loss(params, x, y, z, *boundary_data):\n",
    "        \n",
    "        # loss = 0.\n",
    "        # for i in np.arange(4):\n",
    "        #     boundary_data_batched = boundary_batches[i, :, :, :]\n",
    "        #     xb = boundary_data_batched[:, 0, :][:, 0].reshape(-1, 1)\n",
    "        #     yb = boundary_data_batched[:, 0, :][:, 1].reshape(-1, 1)\n",
    "        #     zb = boundary_data_batched[:, 0, :][:, 2].reshape(-1, 1)\n",
    "\n",
    "        #     Bx, By, Bz = apply_fn(params, xb, yb, zb)\n",
    "        #     # Bx, By, Bz = Bx.reshape(-1, 1), By.reshape(-1, 1), Bz.reshape(-1, 1)\n",
    "\n",
    "        #     Bxb = boundary_data_batched[:, 1, :][:, 0].reshape(-1, 1)\n",
    "        #     Byb = boundary_data_batched[:, 1, :][:, 1].reshape(-1, 1)\n",
    "        #     Bzb = boundary_data_batched[:, 1, :][:, 2].reshape(-1, 1)\n",
    "\n",
    "        #     Bxb_mesh, Byb_mesh, Bzb_mesh = jnp.meshgrid(Bxb.ravel(), Byb.ravel(), Bzb.ravel(), indexing='ij')\n",
    "            \n",
    "        #     loss += jnp.mean((Bx - Bxb_mesh)**2) + jnp.mean((By - Byb_mesh)**2) + jnp.mean((Bz - Bzb_mesh)**2)\n",
    "\n",
    "        #0 z=0   bottom\n",
    "        #1 z=2   top                  \n",
    "        #2 x=0   lateral_1            \n",
    "        #3 x=2   lateral_2            \n",
    "        #4 y=0   lateral_3            \n",
    "        #5 y=2   lateral_4            \n",
    "\n",
    "        b_bottom, bp_top, bp_lateral_1, bp_lateral_2, bp_lateral_3, bp_lateral_4 = boundary_data\n",
    "        \n",
    "\n",
    "        loss = 0.\n",
    "        Bx, By, Bz = apply_fn(params,  x[0], y[0], z[0])\n",
    "        Bx, By, Bz = jnp.squeeze(Bx), jnp.squeeze(By), jnp.squeeze(Bz)\n",
    "        loss += (1/6)*jnp.mean((Bx - b_bottom[:, :, 0])**2) + jnp.mean((By - b_bottom[:, :, 1])**2) + jnp.mean((Bz - b_bottom[:, :, 2])**2)\n",
    "\n",
    "        #0 z=0   bottom\n",
    "        #1 z=2   top                  -> Only normal(Bz), Bx=0, By=0\n",
    "        #2 x=0   lateral_1            -> Only tangential(By, Bz), Bx=0\n",
    "        #3 x=2   lateral_2            -> Only tangential(By, Bz), Bx=0\n",
    "        #4 y=0   lateral_3            -> Only tangential(Bx, Bz), By=0\n",
    "        #5 y=2   lateral_4            -> Only tangential(Bx, Bz), By=0\n",
    "\n",
    "        # Bx, By, Bz = apply_fn(params,  x[1], y[1], z[1])\n",
    "        # Bx, By, Bz = jnp.squeeze(Bx), jnp.squeeze(By), jnp.squeeze(Bz)\n",
    "        # loss += jnp.mean(Bx**2) + jnp.mean(By**2)\n",
    "\n",
    "        # Bx, By, Bz = apply_fn(params,  x[2], y[2], z[2])\n",
    "        # Bx, By, Bz = jnp.squeeze(Bx), jnp.squeeze(By), jnp.squeeze(Bz)\n",
    "        # loss += jnp.mean(Bx**2)\n",
    "\n",
    "        # Bx, By, Bz = apply_fn(params,  x[3], y[3], z[3])\n",
    "        # Bx, By, Bz = jnp.squeeze(Bx), jnp.squeeze(By), jnp.squeeze(Bz)\n",
    "        # loss += jnp.mean(Bx**2)\n",
    "        \n",
    "        # Bx, By, Bz = apply_fn(params,  x[4], y[4], z[4])\n",
    "        # Bx, By, Bz = jnp.squeeze(Bx), jnp.squeeze(By), jnp.squeeze(Bz)\n",
    "        # loss += jnp.mean(By**2)\n",
    "\n",
    "        # Bx, By, Bz = apply_fn(params,  x[5], y[5], z[5])\n",
    "        # Bx, By, Bz = jnp.squeeze(Bx), jnp.squeeze(By), jnp.squeeze(Bz)\n",
    "        # loss += jnp.mean(By**2)\n",
    "\n",
    "        Bx, By, Bz = apply_fn(params,  x[1], y[1], z[1])\n",
    "        Bx, By, Bz = jnp.squeeze(Bx), jnp.squeeze(By), jnp.squeeze(Bz)\n",
    "        loss += (1/6)*jnp.mean((Bx - bp_top[:, :, 0])**2) + jnp.mean((By - bp_top[:, :, 1])**2) + jnp.mean((Bz - bp_top[:, :, 2])**2)\n",
    "\n",
    "        Bx, By, Bz = apply_fn(params,  x[2], y[2], z[2])\n",
    "        Bx, By, Bz = jnp.squeeze(Bx), jnp.squeeze(By), jnp.squeeze(Bz)\n",
    "        loss += (1/6)*jnp.mean((Bx - bp_lateral_1[:, :, 0])**2) + jnp.mean((By - bp_lateral_1[:, :, 1])**2) + jnp.mean((Bz - bp_lateral_1[:, :, 2])**2)\n",
    "\n",
    "        Bx, By, Bz = apply_fn(params,  x[3], y[3], z[3])\n",
    "        Bx, By, Bz = jnp.squeeze(Bx), jnp.squeeze(By), jnp.squeeze(Bz)\n",
    "        loss += (1/6)*jnp.mean((Bx - bp_lateral_2[:, :, 0])**2) + jnp.mean((By - bp_lateral_2[:, :, 1])**2) + jnp.mean((Bz - bp_lateral_2[:, :, 2])**2)\n",
    "\n",
    "        Bx, By, Bz = apply_fn(params,  x[4], y[4], z[4])\n",
    "        Bx, By, Bz = jnp.squeeze(Bx), jnp.squeeze(By), jnp.squeeze(Bz)\n",
    "        loss += (1/6)*jnp.mean((Bx - bp_lateral_3[:, :, 0])**2) + jnp.mean((By - bp_lateral_3[:, :, 1])**2) + jnp.mean((Bz - bp_lateral_3[:, :, 2])**2)\n",
    "\n",
    "        Bx, By, Bz = apply_fn(params,  x[5], y[5], z[5])\n",
    "        Bx, By, Bz = jnp.squeeze(Bx), jnp.squeeze(By), jnp.squeeze(Bz)\n",
    "        loss += (1/6)*jnp.mean((Bx - bp_lateral_4[:, :, 0])**2) + jnp.mean((By - bp_lateral_4[:, :, 1])**2) + jnp.mean((Bz - bp_lateral_4[:, :, 2])**2)\n",
    "\n",
    "        \n",
    "        return loss\n",
    "\n",
    "    # unpack data\n",
    "    train_data = train_boundary_data[0]\n",
    "    boundary_data = train_boundary_data[1]\n",
    "    xc, yc, zc, xb, yb, zb = train_data\n",
    "\n",
    "    # isolate loss func from redundant arguments\n",
    "    loss_fn = lambda params: residual_loss(params, xc, yc, zc) + boundary_loss(params, xb, yb, zb, *boundary_data)\n",
    "\n",
    "    loss, gradient = jax.value_and_grad(loss_fn)(params)\n",
    "\n",
    "    return loss, gradient"
   ]
  },
  {
   "cell_type": "code",
   "execution_count": null,
   "metadata": {},
   "outputs": [],
   "source": [
    "@partial(jax.jit, static_argnums=(1, 2, 3, 4, 5))\n",
    "def generate_train_data(key, nx, ny, nz, nc=None, spatial_norm=None):\n",
    "#     keys = jax.random.split(key, 4)\n",
    "#     xc = jax.random.uniform(keys[1], (nc, 1), minval=0., maxval=1)*nx / spatial_norm\n",
    "#     yc = jax.random.uniform(keys[2], (nc, 1), minval=0., maxval=1)*ny / spatial_norm\n",
    "#     zc = jax.random.uniform(keys[3], (nc, 1), minval=0., maxval=1)*nz / spatial_norm\n",
    "\n",
    "#     # # boundary points\n",
    "#     xb = [jnp.linspace(0, 1, nx).reshape(nx, 1)*nx / spatial_norm, # z=0   bottom\n",
    "#           jnp.linspace(0, 1, nx).reshape(nx, 1)*nx / spatial_norm, # z=2   top\n",
    "#           jnp.array([[0.]]) / spatial_norm,                     # x=0   lateral_1\n",
    "#           jnp.array([[nx]]) / spatial_norm,                     # x=2   lateral_2\n",
    "#           jnp.linspace(0, 1, nx).reshape(nx, 1)*nx / spatial_norm, # y=0   lateral_3\n",
    "#           jnp.linspace(0, 1, nx).reshape(nx, 1)*nx / spatial_norm] # y=2   lateral_4\n",
    "\n",
    "#     yb = [jnp.linspace(0, 1, ny).reshape(ny, 1)*ny / spatial_norm, \n",
    "#           jnp.linspace(0, 1, ny).reshape(ny, 1)*ny / spatial_norm, \n",
    "#           jnp.linspace(0, 1, ny).reshape(ny, 1)*ny / spatial_norm, \n",
    "#           jnp.linspace(0, 1, ny).reshape(ny, 1)*ny / spatial_norm, \n",
    "#           jnp.array([[0.]]) / spatial_norm, \n",
    "#           jnp.array([[ny]]) / spatial_norm]\n",
    "\n",
    "#     zb = [jnp.array([[0.]]) / spatial_norm, \n",
    "#           jnp.array([[nz]]) / spatial_norm, \n",
    "#           jnp.linspace(0, 1, nz).reshape(nz, 1)*nz / spatial_norm, \n",
    "#           jnp.linspace(0, 1, nz).reshape(nz, 1)*nz / spatial_norm, \n",
    "#           jnp.linspace(0, 1, nz).reshape(nz, 1)*nz / spatial_norm, \n",
    "#           jnp.linspace(0, 1, nz).reshape(nz, 1)*nz / spatial_norm]\n",
    "\n",
    "    xc = jnp.linspace(0, 2*n_max, nx).reshape(-1, 1)\n",
    "    yc = jnp.linspace(0, n_max, ny).reshape(-1, 1)\n",
    "    zc = jnp.linspace(0, n_max, nz).reshape(-1, 1)\n",
    "\n",
    "    # # boundary points\n",
    "    xb = [jnp.linspace(0, n_max, nx).reshape(-1, 1), # z=0   bottom\n",
    "          jnp.linspace(0, n_max, nx).reshape(-1, 1), # z=2   top\n",
    "          jnp.array([[0.]]),                     # x=0   lateral_1\n",
    "          jnp.array([[n_max]]),                     # x=2   lateral_2\n",
    "          jnp.linspace(0, n_max, nx).reshape(-1, 1), # y=0   lateral_3\n",
    "          jnp.linspace(0, n_max, nx).reshape(-1, 1)] # y=2   lateral_4\n",
    "\n",
    "    yb = [jnp.linspace(0, n_max, ny).reshape(-1, 1), \n",
    "          jnp.linspace(0, n_max, ny).reshape(-1, 1), \n",
    "          jnp.linspace(0, n_max, ny).reshape(-1, 1), \n",
    "          jnp.linspace(0, n_max, ny).reshape(-1, 1), \n",
    "          jnp.array([[0.]]), \n",
    "          jnp.array([[n_max]])]\n",
    "\n",
    "    zb = [jnp.array([[0.]]), \n",
    "          jnp.array([[n_max]]), \n",
    "          jnp.linspace(0, n_max, nz).reshape(-1, 1), \n",
    "          jnp.linspace(0, n_max, nz).reshape(-1, 1), \n",
    "          jnp.linspace(0, n_max, nz).reshape(-1, 1), \n",
    "          jnp.linspace(0, n_max, nz).reshape(-1, 1)]\n",
    "\n",
    "    return xc, yc, zc, xb, yb, zb"
   ]
  },
  {
   "cell_type": "code",
   "execution_count": null,
   "metadata": {},
   "outputs": [],
   "source": [
    "class SPINN_Trainer:\n",
    "    # def __init__(self, output_path, BC_path, Nx, Ny, Nz, Nc, spatial_norm, b_norm, transfer_learning_path=None):\n",
    "    def __init__(self, output_path, BC_path, Nx, Ny, Nz, b_norm, transfer_learning_path=None):\n",
    "        os.makedirs(output_path, exist_ok=True)\n",
    "        \n",
    "        features = 64\n",
    "        n_layers = 1\n",
    "        feat_sizes = tuple([features for _ in range(n_layers)]) \n",
    "        r = 64\n",
    "        out_dim = 3 \n",
    "\n",
    "        lr = 5e-4\n",
    "\n",
    "        pos_enc = 0\n",
    "        mlp = 'modified_mlp'\n",
    "\n",
    "        parameters = {'feat_sizes' : feat_sizes, \n",
    "              'r' : r, \n",
    "              'out_dim' : out_dim, \n",
    "              'Nx' : Nx, \n",
    "              'Ny' : Ny, \n",
    "              'Nz' : Nz, \n",
    "              'b_norm' : b_norm,\n",
    "              'pos_enc' : pos_enc,\n",
    "              'mlp' : mlp,\n",
    "              'lr': lr,\n",
    "              'Nx': Nx,\n",
    "              'Ny': Ny,\n",
    "              'Nz': Nz}\n",
    "        \n",
    "        logger.info(parameters)\n",
    "    \n",
    "        parameters_path = os.path.join(output_path, \"parameters.pickle\")\n",
    "        with open(parameters_path, \"wb\") as f:\n",
    "            pickle.dump(parameters, f)\n",
    "\n",
    "\n",
    "        seed = 111\n",
    "        key = jax.random.PRNGKey(seed)\n",
    "        key, subkey = jax.random.split(key, 2)\n",
    "\n",
    "        model = SPINN3d(feat_sizes, r, out_dim, pos_enc=pos_enc, mlp=mlp)\n",
    "        if transfer_learning_path is None:\n",
    "            params = model.init(\n",
    "                        subkey,\n",
    "                        jnp.ones((Nx, 1)),\n",
    "                        jnp.ones((Ny, 1)),\n",
    "                        jnp.ones((Nz, 1))\n",
    "                    )\n",
    "            apply_fn = jax.jit(model.apply)\n",
    "            optim = optax.adam(learning_rate=lr)\n",
    "            state = optim.init(params)\n",
    "        else:\n",
    "            model.init(\n",
    "                        subkey,\n",
    "                        jnp.ones((Nx, 1)),\n",
    "                        jnp.ones((Ny, 1)),\n",
    "                        jnp.ones((Nz, 1))\n",
    "                    )\n",
    "            apply_fn = jax.jit(model.apply)\n",
    "            with open(transfer_learning_path, 'rb') as f:\n",
    "                params = pickle.load(f)\n",
    "\n",
    "            optim = optax.adam(learning_rate=lr)\n",
    "            state = optim.init(params)\n",
    "\n",
    "        with open(BC_path, 'rb') as f:\n",
    "            boundary_data = pickle.load(f)\n",
    "\n",
    "        # train_data = generate_train_data(subkey, Nx, Ny, Nz, nc=Nc, spatial_norm=spatial_norm)\n",
    "        train_data = generate_train_data(subkey, Nx, Ny, Nz)\n",
    "        train_boundary_data = [train_data, boundary_data]\n",
    "\n",
    "        self.boundary_data = boundary_data\n",
    "\n",
    "        self.apply_fn = apply_fn\n",
    "        self.params = params\n",
    "        self.train_boundary_data = train_boundary_data\n",
    "        self.optim = optim\n",
    "        self.state = state\n",
    "        self.output_path = output_path\n",
    "\n",
    "        self.Nx = Nx \n",
    "        self.Ny = Ny \n",
    "        self.Nz = Nz\n",
    "\n",
    "        self.key = key\n",
    "\n",
    "        # self.Nc = Nc \n",
    "        # self.spatial_norm = spatial_norm\n",
    "\n",
    "    def train(self, total_iterations, log_iterations, loss_threshold=0.001):\n",
    "        params = self.params\n",
    "        state = self.state\n",
    "\n",
    "        losses = []\n",
    "        logger.info('Complie Start')\n",
    "        start = time.time()\n",
    "        loss, gradient = apply_model_spinn(self.apply_fn, params, self.train_boundary_data)\n",
    "        losses.append(loss.item())\n",
    "        params, state = update_model(self.optim, gradient, params, state)\n",
    "        runtime = time.time() - start\n",
    "        logger.info(f'Complie End --> total: {runtime:.2f}sec')\n",
    "\n",
    "        start = time.time()\n",
    "        for e in trange(1, total_iterations + 1):\n",
    "\n",
    "            # if e % 300 == 0:\n",
    "            #     # sample new input data\n",
    "            #     key, subkey = jax.random.split(self.key, 2)\n",
    "            #     train_data = generate_train_data(subkey, self.Nx, self.Ny, self.Nz, nc=self.Nc, spatial_norm=self.spatial_norm)\n",
    "            #     self.train_boundary_data = [train_data, self.boundary_data]\n",
    "\n",
    "            loss, gradient = apply_model_spinn(self.apply_fn, params, self.train_boundary_data)\n",
    "            losses.append(loss.item())\n",
    "            if loss.item() < loss_threshold:\n",
    "                logger.info(f'Epoch: {e}/{total_iterations} --> loss: {loss:.8f} < {loss_threshold}')\n",
    "                break\n",
    "            \n",
    "            params, state = update_model(self.optim, gradient, params, state)\n",
    "            \n",
    "            if e % log_iterations == 0:\n",
    "                logger.info(f'Epoch: {e}/{total_iterations} --> total loss: {loss:.8f}')\n",
    "                params_path = os.path.join(self.output_path, f\"params_{e}.pickle\")\n",
    "                with open(params_path, \"wb\") as f:\n",
    "                    pickle.dump(params, f)\n",
    "\n",
    "        final_params_path = os.path.join(self.output_path, f\"final_params.pickle\")\n",
    "        with open(final_params_path, \"wb\") as f:\n",
    "            pickle.dump(params, f)\n",
    "\n",
    "        np.save(os.path.join(self.output_path, 'losses.npy'), losses)\n",
    "\n",
    "        runtime = time.time() - start\n",
    "        logger.info(f'Runtime --> total: {runtime:.2f}sec ({(runtime/(total_iterations-1)*1000):.2f}ms/iter.)')"
   ]
  },
  {
   "cell_type": "code",
   "execution_count": null,
   "metadata": {},
   "outputs": [],
   "source": [
    "Nz = 160\n",
    "b_norm = 2500\n",
    "# Nc = 64\n",
    "# spatial_norm = 160\n",
    "\n",
    "epochs = 5000\n",
    "log_iter = 1000\n",
    "\n",
    "series_epochs = 2000\n",
    "series_log_iter = 100\n",
    "\n",
    "loss_threshold = 0.0001"
   ]
  },
  {
   "cell_type": "code",
   "execution_count": null,
   "metadata": {},
   "outputs": [],
   "source": [
    "b_bottom_paths = os.path.expanduser('~/workspace/_data/NOAA12673/b_bottom')\n",
    "# b_bottom_list = sorted(glob.glob(os.path.join(b_bottom_paths, '*.npy')))\n"
   ]
  },
  {
   "cell_type": "code",
   "execution_count": null,
   "metadata": {},
   "outputs": [],
   "source": [
    "import shutil "
   ]
  },
  {
   "cell_type": "code",
   "execution_count": null,
   "metadata": {},
   "outputs": [],
   "source": [
    "spinn_BC_path = os.path.join(Path(b_bottom_paths).parent, 'SPINN_BC')\n",
    "spinn_output_path = os.path.join(Path(b_bottom_paths).parent, 'SPINN_energy')\n",
    "Path(spinn_output_path).mkdir(parents=True, exist_ok=True)"
   ]
  },
  {
   "cell_type": "code",
   "execution_count": null,
   "metadata": {},
   "outputs": [],
   "source": [
    "# b_bottom_path = '/userhome/jeon_mg/workspace/_data/NOAA12673/b_bottom/b_bottom_20170906_083600.npy'\n",
    "# spinn_output_path = '/userhome/jeon_mg/workspace/_data/NOAA12673/SPINN_energy/'\n",
    "# spinn_BC_path = '/userhome/jeon_mg/workspace/_data/NOAA12673/SPINN_energy_BC/'\n",
    "# try:\n",
    "#     shutil.rmtree(spinn_BC_path)\n",
    "# except:\n",
    "#     pass\n",
    "# os.makedirs(spinn_BC_path, exist_ok=True)"
   ]
  },
  {
   "cell_type": "code",
   "execution_count": null,
   "metadata": {},
   "outputs": [],
   "source": [
    "b_bottom_path = '/userhome/jeon_mg/workspace/_data/NOAA12673/b_bottom/b_bottom_20170906_083600.npy'"
   ]
  },
  {
   "cell_type": "code",
   "execution_count": null,
   "metadata": {},
   "outputs": [],
   "source": [
    "b_bottom_date = os.path.basename(b_bottom_path)[9:-4]\n",
    "\n",
    "output_path = os.path.join(spinn_output_path, b_bottom_date)\n",
    "\n",
    "BC_path = os.path.join(spinn_BC_path, f'b_BC_{b_bottom_date}.pickle')\n",
    "\n",
    "with open(b_bottom_path, 'rb') as f:\n",
    "    b_bottom = np.load(f)\n",
    "\n",
    "Nx, Ny, _ = b_bottom.shape"
   ]
  },
  {
   "cell_type": "code",
   "execution_count": null,
   "metadata": {},
   "outputs": [],
   "source": [
    "# cal_and_save_potential_boundary_for_spinn(b_bottom, Nz, b_norm, BC_path)"
   ]
  },
  {
   "cell_type": "code",
   "execution_count": null,
   "metadata": {},
   "outputs": [],
   "source": [
    "try:\n",
    "    shutil.rmtree(output_path)\n",
    "except:\n",
    "    pass"
   ]
  },
  {
   "cell_type": "code",
   "execution_count": null,
   "metadata": {},
   "outputs": [
    {
     "name": "stderr",
     "output_type": "stream",
     "text": [
      "{'feat_sizes': (64, 64, 64, 64, 64), 'r': 64, 'out_dim': 3, 'Nx': 344, 'Ny': 224, 'Nz': 160, 'b_norm': 2500, 'pos_enc': 0, 'mlp': 'modified_mlp', 'lr': 0.0005}\n",
      "Unable to initialize backend 'tpu_driver': NOT_FOUND: Unable to find driver in registry given worker: \n",
      "Unable to initialize backend 'tpu': INVALID_ARGUMENT: TpuPlatform is not available.\n"
     ]
    }
   ],
   "source": [
    "# tranier = SPINN_Trainer(output_path, BC_path, Nx, Ny, Nz, Nc, spatial_norm, b_norm, transfer_learning_path=None)\n",
    "tranier = SPINN_Trainer(output_path, BC_path, Nx, Ny, Nz, b_norm, transfer_learning_path=None)"
   ]
  },
  {
   "cell_type": "code",
   "execution_count": null,
   "metadata": {},
   "outputs": [
    {
     "name": "stderr",
     "output_type": "stream",
     "text": [
      "Complie Start\n"
     ]
    },
    {
     "name": "stderr",
     "output_type": "stream",
     "text": [
      "Complie End --> total: 36.11sec\n",
      " 20%|█▉        | 999/5000 [00:37<02:27, 27.13it/s]Epoch: 1000/5000 --> total loss: 0.02946444\n",
      " 40%|███▉      | 1998/5000 [01:13<01:51, 26.92it/s]Epoch: 2000/5000 --> total loss: 0.02453821\n",
      " 60%|█████▉    | 2997/5000 [01:50<01:13, 27.30it/s]Epoch: 3000/5000 --> total loss: 0.01767790\n",
      " 80%|███████▉  | 3999/5000 [02:27<00:36, 27.13it/s]Epoch: 4000/5000 --> total loss: 0.01446471\n",
      "100%|█████████▉| 4998/5000 [03:04<00:00, 27.09it/s]Epoch: 5000/5000 --> total loss: 0.01302876\n",
      "100%|██████████| 5000/5000 [03:04<00:00, 27.09it/s]\n",
      "Runtime --> total: 184.56sec (36.92ms/iter.)\n"
     ]
    }
   ],
   "source": [
    "tranier.train(epochs, log_iter, loss_threshold=loss_threshold)"
   ]
  },
  {
   "cell_type": "code",
   "execution_count": null,
   "metadata": {},
   "outputs": [
    {
     "data": {
      "text/plain": [
       "[<matplotlib.lines.Line2D>]"
      ]
     },
     "execution_count": null,
     "metadata": {},
     "output_type": "execute_result"
    },
    {
     "data": {
      "image/png": "[encoded data removed]",
      "text/plain": [
       "<Figure size 640x480 with 1 Axes>"
      ]
     },
     "metadata": {},
     "output_type": "display_data"
    }
   ],
   "source": [
    "fig, ax = plt.subplots()\n",
    "\n",
    "ax.set_xlabel('Iteration')\n",
    "ax.set_ylabel('Loss')\n",
    "\n",
    "\n",
    "loss_path = os.path.join(output_path, 'losses.npy')\n",
    "\n",
    "with open(loss_path, \"rb\") as f:\n",
    "    losses = np.load(f)\n",
    "\n",
    "ax.plot(losses)"
   ]
  },
  {
   "cell_type": "code",
   "execution_count": null,
   "metadata": {},
   "outputs": [],
   "source": [
    "import numpy as np \n",
    "import pyvista as pv\n",
    "import jax \n",
    "import jax.numpy as jnp\n",
    "import numpy as np \n",
    "import matplotlib.pyplot as plt\n",
    "import pickle\n",
    "\n",
    "from cmspinn.mag_viz import create_coordinates"
   ]
  },
  {
   "cell_type": "code",
   "execution_count": null,
   "metadata": {},
   "outputs": [],
   "source": [
    "class spinn_cube:\n",
    "    def __init__(self, param_path, parameters_path):\n",
    "        self.param_path = param_path\n",
    "        self.parameters_path = parameters_path\n",
    "    \n",
    "    def calculate_magnetic_fields(self):\n",
    "        param_path = self.param_path\n",
    "        parameters_path = self.parameters_path\n",
    "\n",
    "        with open(parameters_path, \"rb\") as f:\n",
    "            parameters = pickle.load(f)\n",
    "\n",
    "        feat_sizes = parameters['feat_sizes']\n",
    "        r = parameters['r']\n",
    "        out_dim = parameters['out_dim']\n",
    "        Nx = parameters['Nx']\n",
    "        Ny = parameters['Ny']\n",
    "        Nz = parameters['Nz']\n",
    "        b_norm = parameters['b_norm']\n",
    "        pos_enc = parameters['pos_enc']\n",
    "        mlp = parameters['mlp']\n",
    "\n",
    "        subkey = jax.random.PRNGKey(0)\n",
    "        model = SPINN3d(feat_sizes, r, out_dim, pos_enc=pos_enc, mlp=mlp)\n",
    "        model.init(\n",
    "                    subkey,\n",
    "                    jnp.ones((Nx, 1)),\n",
    "                    jnp.ones((Ny, 1)),\n",
    "                    jnp.ones((Nz, 1))\n",
    "                   )\n",
    "        apply_fn = jax.jit(model.apply)\n",
    "\n",
    "        with open(param_path, 'rb') as f:\n",
    "            params = pickle.load(f)\n",
    "\n",
    "        spatial_norm = 160\n",
    "\n",
    "        # x = jnp.linspace(0, 1, Nx).reshape(-1, 1)*Nx / spatial_norm\n",
    "        # y = jnp.linspace(0, 1, Ny).reshape(-1, 1)*Ny / spatial_norm\n",
    "        # z = jnp.linspace(0, 1, Nz).reshape(-1, 1)*Nz / spatial_norm     \n",
    "\n",
    "        x = jnp.linspace(0, n_max, Nx).reshape(-1, 1)\n",
    "        y = jnp.linspace(0, n_max, Ny).reshape(-1, 1)\n",
    "        z = jnp.linspace(0, n_max, Nz).reshape(-1, 1) \n",
    "        x, y, z = jax.lax.stop_gradient(x), jax.lax.stop_gradient(y), jax.lax.stop_gradient(z)\n",
    "\n",
    "        Bx, By, Bz = apply_fn(params, x, y, z)\n",
    "        B = jnp.stack([Bx, By, Bz], axis=-1)*b_norm\n",
    "        \n",
    "        Bx = B[..., 0]\n",
    "        By = B[..., 1]\n",
    "        Bz = B[..., 2]\n",
    "\n",
    "        co_bounds = (0, Nx-1, 0, Ny-1, 0, Nz-1)\n",
    "        co_coords = create_coordinates(co_bounds).reshape(-1, 3)\n",
    "        co_coord = co_coords.reshape(Nx, Ny, Nz, 3)\n",
    "        x = co_coord[..., 0]\n",
    "        y = co_coord[..., 1]\n",
    "        z = co_coord[..., 2]\n",
    "        mesh = pv.StructuredGrid(x, y, z)\n",
    "        vectors = np.stack([Bx, By, Bz], axis=-1).transpose(2, 1, 0, 3).reshape(-1, 3)\n",
    "        mesh['B'] = vectors\n",
    "        mesh.active_vectors_name = 'B'\n",
    "        magnitude = np.linalg.norm(vectors, axis=-1)\n",
    "        mesh['mag'] = magnitude\n",
    "        mesh.active_scalars_name = 'mag'\n",
    "\n",
    "        self.grid = mesh \n",
    "        return self.grid"
   ]
  },
  {
   "cell_type": "code",
   "execution_count": null,
   "metadata": {},
   "outputs": [],
   "source": [
    "parameters_path = os.path.join(output_path, 'parameters.pickle')\n",
    "params_path = os.path.join(output_path, 'final_params.pickle')"
   ]
  },
  {
   "cell_type": "code",
   "execution_count": null,
   "metadata": {},
   "outputs": [],
   "source": [
    "spinn = spinn_cube(params_path, parameters_path)"
   ]
  },
  {
   "cell_type": "code",
   "execution_count": null,
   "metadata": {},
   "outputs": [],
   "source": [
    "spinn.calculate_magnetic_fields()\n",
    "spinn_vtk_path = params_path.replace('.pickle', '.vtk')\n",
    "spinn.grid.save(spinn_vtk_path)"
   ]
  },
  {
   "cell_type": "code",
   "execution_count": null,
   "metadata": {},
   "outputs": [],
   "source": [
    "B_spinn_mesh = pv.read(spinn_vtk_path)"
   ]
  },
  {
   "cell_type": "code",
   "execution_count": null,
   "metadata": {},
   "outputs": [
    {
     "data": {
      "text/html": [
       "<table style='width: 100%;'><tr><th>Header</th><th>Data Arrays</th></tr><tr><td>\n",
       "<table style='width: 100%;'>\n",
       "<tr><th>StructuredGrid</th><th>Information</th></tr>\n",
       "<tr><td>N Cells</td><td>12161751</td></tr>\n",
       "<tr><td>N Points</td><td>12328960</td></tr>\n",
       "<tr><td>X Bounds</td><td>0.000e+00, 3.430e+02</td></tr>\n",
       "<tr><td>Y Bounds</td><td>0.000e+00, 2.230e+02</td></tr>\n",
       "<tr><td>Z Bounds</td><td>0.000e+00, 1.590e+02</td></tr>\n",
       "<tr><td>Dimensions</td><td>344, 224, 160</td></tr>\n",
       "<tr><td>N Arrays</td><td>2</td></tr>\n",
       "</table>\n",
       "\n",
       "</td><td>\n",
       "<table style='width: 100%;'>\n",
       "<tr><th>Name</th><th>Field</th><th>Type</th><th>N Comp</th><th>Min</th><th>Max</th></tr>\n",
       "<tr><td><b>mag</b></td><td>Points</td><td>float32</td><td>1</td><td>3.106e-01</td><td>2.522e+03</td></tr>\n",
       "<tr><td>B</td><td>Points</td><td>float32</td><td>3</td><td>-2.250e+03</td><td>2.390e+03</td></tr>\n",
       "</table>\n",
       "\n",
       "</td></tr> </table>"
      ],
      "text/plain": [
       "StructuredGrid (0x7f0c3cf0e260)\n",
       "  N Cells:      12161751\n",
       "  N Points:     12328960\n",
       "  X Bounds:     0.000e+00, 3.430e+02\n",
       "  Y Bounds:     0.000e+00, 2.230e+02\n",
       "  Z Bounds:     0.000e+00, 1.590e+02\n",
       "  Dimensions:   344, 224, 160\n",
       "  N Arrays:     2"
      ]
     },
     "execution_count": null,
     "metadata": {},
     "output_type": "execute_result"
    }
   ],
   "source": [
    "B_spinn_mesh"
   ]
  },
  {
   "cell_type": "code",
   "execution_count": null,
   "metadata": {},
   "outputs": [],
   "source": [
    "B_pinn_path = os.path.expanduser('~/workspace/_data/NOAA12673/PINN_vtk')\n",
    "B_pinn_vtk = os.path.join(B_pinn_path, f'B_pinn_{b_bottom_date}.vtk')"
   ]
  },
  {
   "cell_type": "code",
   "execution_count": null,
   "metadata": {},
   "outputs": [],
   "source": [
    "B_pinn_mesh = pv.read(B_pinn_vtk)"
   ]
  },
  {
   "cell_type": "code",
   "execution_count": null,
   "metadata": {},
   "outputs": [
    {
     "data": {
      "text/html": [
       "<table style='width: 100%;'><tr><th>Header</th><th>Data Arrays</th></tr><tr><td>\n",
       "<table style='width: 100%;'>\n",
       "<tr><th>ImageData</th><th>Information</th></tr>\n",
       "<tr><td>N Cells</td><td>12161751</td></tr>\n",
       "<tr><td>N Points</td><td>12328960</td></tr>\n",
       "<tr><td>X Bounds</td><td>0.000e+00, 3.430e+02</td></tr>\n",
       "<tr><td>Y Bounds</td><td>0.000e+00, 2.230e+02</td></tr>\n",
       "<tr><td>Z Bounds</td><td>0.000e+00, 1.590e+02</td></tr>\n",
       "<tr><td>Dimensions</td><td>344, 224, 160</td></tr>\n",
       "<tr><td>Spacing</td><td>1.000e+00, 1.000e+00, 1.000e+00</td></tr>\n",
       "<tr><td>N Arrays</td><td>2</td></tr>\n",
       "</table>\n",
       "\n",
       "</td><td>\n",
       "<table style='width: 100%;'>\n",
       "<tr><th>Name</th><th>Field</th><th>Type</th><th>N Comp</th><th>Min</th><th>Max</th></tr>\n",
       "<tr><td><b>mag</b></td><td>Points</td><td>float64</td><td>1</td><td>9.868e-02</td><td>3.607e+03</td></tr>\n",
       "<tr><td>B</td><td>Points</td><td>float64</td><td>3</td><td>-3.542e+03</td><td>3.049e+03</td></tr>\n",
       "</table>\n",
       "\n",
       "</td></tr> </table>"
      ],
      "text/plain": [
       "ImageData (0x7f0c3cf0e740)\n",
       "  N Cells:      12161751\n",
       "  N Points:     12328960\n",
       "  X Bounds:     0.000e+00, 3.430e+02\n",
       "  Y Bounds:     0.000e+00, 2.230e+02\n",
       "  Z Bounds:     0.000e+00, 1.590e+02\n",
       "  Dimensions:   344, 224, 160\n",
       "  Spacing:      1.000e+00, 1.000e+00, 1.000e+00\n",
       "  N Arrays:     2"
      ]
     },
     "execution_count": null,
     "metadata": {},
     "output_type": "execute_result"
    }
   ],
   "source": [
    "B_pinn_mesh"
   ]
  },
  {
   "cell_type": "code",
   "execution_count": null,
   "metadata": {},
   "outputs": [],
   "source": [
    "b_potential_path = os.path.expanduser('~/workspace/_data/NOAA12673/b_potential')\n",
    "b_pot_vtk = os.path.join(b_potential_path, f'b_potential_{b_bottom_date}.vtk')"
   ]
  },
  {
   "cell_type": "code",
   "execution_count": null,
   "metadata": {},
   "outputs": [],
   "source": [
    "b_pot_mesh = pv.read(b_pot_vtk)"
   ]
  },
  {
   "cell_type": "code",
   "execution_count": null,
   "metadata": {},
   "outputs": [
    {
     "data": {
      "text/html": [
       "<table style='width: 100%;'><tr><th>Header</th><th>Data Arrays</th></tr><tr><td>\n",
       "<table style='width: 100%;'>\n",
       "<tr><th>StructuredGrid</th><th>Information</th></tr>\n",
       "<tr><td>N Cells</td><td>12161751</td></tr>\n",
       "<tr><td>N Points</td><td>12328960</td></tr>\n",
       "<tr><td>X Bounds</td><td>0.000e+00, 3.430e+02</td></tr>\n",
       "<tr><td>Y Bounds</td><td>0.000e+00, 2.230e+02</td></tr>\n",
       "<tr><td>Z Bounds</td><td>0.000e+00, 1.590e+02</td></tr>\n",
       "<tr><td>Dimensions</td><td>344, 224, 160</td></tr>\n",
       "<tr><td>N Arrays</td><td>2</td></tr>\n",
       "</table>\n",
       "\n",
       "</td><td>\n",
       "<table style='width: 100%;'>\n",
       "<tr><th>Name</th><th>Field</th><th>Type</th><th>N Comp</th><th>Min</th><th>Max</th></tr>\n",
       "<tr><td><b>mag</b></td><td>Points</td><td>float32</td><td>1</td><td>3.809e-01</td><td>4.382e+03</td></tr>\n",
       "<tr><td>B</td><td>Points</td><td>float32</td><td>3</td><td>-4.097e+03</td><td>2.957e+03</td></tr>\n",
       "</table>\n",
       "\n",
       "</td></tr> </table>"
      ],
      "text/plain": [
       "StructuredGrid (0x7f0c3cf0c640)\n",
       "  N Cells:      12161751\n",
       "  N Points:     12328960\n",
       "  X Bounds:     0.000e+00, 3.430e+02\n",
       "  Y Bounds:     0.000e+00, 2.230e+02\n",
       "  Z Bounds:     0.000e+00, 1.590e+02\n",
       "  Dimensions:   344, 224, 160\n",
       "  N Arrays:     2"
      ]
     },
     "execution_count": null,
     "metadata": {},
     "output_type": "execute_result"
    }
   ],
   "source": [
    "b_pot_mesh"
   ]
  },
  {
   "cell_type": "code",
   "execution_count": null,
   "metadata": {},
   "outputs": [],
   "source": [
    "B_spinn = B_spinn_mesh['B'].reshape(Nz, Ny, Nx, 3).transpose(2, 1, 0, 3)\n",
    "B_pinn = B_pinn_mesh['B'].reshape(Nz, Ny, Nx, 3).transpose(2, 1, 0, 3)\n",
    "b_pot = b_pot_mesh['B'].reshape(Nz, Ny, Nx, 3).transpose(2, 1, 0, 3)"
   ]
  },
  {
   "cell_type": "code",
   "execution_count": null,
   "metadata": {},
   "outputs": [],
   "source": [
    "from cmspinn.evaluation import *"
   ]
  },
  {
   "cell_type": "code",
   "execution_count": null,
   "metadata": {},
   "outputs": [],
   "source": [
    "stride = 2\n",
    "Mm_per_pixel = stride*0.36\n",
    "cm_per_pixel = Mm_per_pixel*1e8\n",
    "z_pixels = int(np.ceil(20 / (Mm_per_pixel)))\n",
    "\n",
    "dV = cm_per_pixel ** 3"
   ]
  },
  {
   "cell_type": "code",
   "execution_count": null,
   "metadata": {},
   "outputs": [
    {
     "name": "stderr",
     "output_type": "stream",
     "text": [
      "NOAA-12673\n",
      "Total Energy (SPINN): 1.1170465288688879e+33\n",
      "Total Energy (PINN): 2.3459297365139624e+33\n",
      "Total Energy (Potential): 1.678317091735516e+33\n",
      "Divergence (SPINN): 8.879692077636719\n",
      "Divergence (PINN): 0.09299450577812667\n",
      "Divergence (Potential): 9.19088363647461\n",
      "Force-free (SPINN): 198.2254180908203\n",
      "Force-free (PINN): 37.65801913405679\n",
      "Force-free (Potential): 0.00047644166625104845\n"
     ]
    }
   ],
   "source": [
    "logger.info(\"NOAA-12673\")\n",
    "logger.info(f\"Total Energy (SPINN): {(magnetic_energy(B_spinn) * dV).sum()}\")\n",
    "logger.info(f\"Total Energy (PINN): {(magnetic_energy(B_pinn) * dV).sum()}\")\n",
    "logger.info(f\"Total Energy (Potential): {(magnetic_energy(b_pot) * dV).sum()}\")\n",
    "logger.info(f\"Divergence (SPINN): {(divergence(B_spinn)**2).mean()}\")\n",
    "logger.info(f\"Divergence (PINN): {(divergence(B_pinn)**2).mean()}\")\n",
    "logger.info(f\"Divergence (Potential): {(divergence(b_pot)**2).mean()}\")\n",
    "logger.info(f\"Force-free (SPINN): {magnitude(np.cross(curl(B_spinn), B_spinn)).mean()}\")\n",
    "logger.info(f\"Force-free (PINN): {magnitude(np.cross(curl(B_pinn), B_pinn)).mean()}\")\n",
    "logger.info(f\"Force-free (Potential): {magnitude(np.cross(curl(b_pot), b_pot)).mean()}\")"
   ]
  },
  {
   "cell_type": "code",
   "execution_count": null,
   "metadata": {},
   "outputs": [],
   "source": [
    "from cmspinn.lowlow_metric import metric_df"
   ]
  },
  {
   "cell_type": "code",
   "execution_count": null,
   "metadata": {},
   "outputs": [],
   "source": [
    "import pandas as pd"
   ]
  },
  {
   "cell_type": "code",
   "execution_count": null,
   "metadata": {},
   "outputs": [],
   "source": [
    "pd.set_option('expand_frame_repr', False)"
   ]
  },
  {
   "cell_type": "code",
   "execution_count": null,
   "metadata": {},
   "outputs": [
    {
     "name": "stderr",
     "output_type": "stream",
     "text": [
      "  iteration  C_vec  C_cs  1-En  1-Em  eps     eps_p     sig_J        L1        L2  curlB\n",
      "0     SPINN    1.0   1.0   1.0   1.0  1.0  0.665576  0.574232  8.823478  8.879692    1.0\n",
      "  iteration  C_vec  C_cs  1-En  1-Em  eps     eps_p     sig_J        L1        L2  curlB\n",
      "0      PINN    1.0   1.0   1.0   1.0  1.0  1.397787  0.078727  0.268744  0.092995    1.0\n",
      "   iteration  C_vec  C_cs  1-En  1-Em  eps  eps_p     sig_J            L1        L2  curlB\n",
      "0  Potential    1.0   1.0   1.0   1.0  1.0    1.0  0.810296  2.927509e-10  9.190884    1.0\n",
      "    iteration     C_vec      C_cs      1-En      1-Em       eps     eps_p     sig_J        L1        L2     curlB\n",
      "0  SPINN/PINN  0.838135  0.697467  0.311145  0.176176  0.476164  0.665576  0.574232  8.823478  8.879692  0.610587\n",
      "    iteration     C_vec      C_cs      1-En      1-Em       eps     eps_p     sig_J        L1        L2     curlB\n",
      "0  PINN/SPINN  0.838135  0.697467 -0.401174 -2.528914  2.100116  1.397787  0.078727  0.268744  0.092995  1.637768\n"
     ]
    }
   ],
   "source": [
    "logger.info(metric_df(B=B_spinn, b=B_spinn, B_potential=b_pot, iteration='SPINN'))\n",
    "logger.info(metric_df(B=B_pinn, b=B_pinn, B_potential=b_pot, iteration='PINN'))\n",
    "logger.info(metric_df(B=b_pot, b=b_pot, B_potential=b_pot, iteration='Potential'))\n",
    "logger.info(metric_df(B=B_spinn, b=B_pinn, B_potential=b_pot, iteration='SPINN/PINN'))\n",
    "logger.info(metric_df(B=B_pinn, b=B_spinn, B_potential=b_pot, iteration='PINN/SPINN'))"
   ]
  },
  {
   "cell_type": "code",
   "execution_count": null,
   "metadata": {},
   "outputs": [],
   "source": [
    "# from cmspinn.mag_viz import mag_plotter"
   ]
  },
  {
   "cell_type": "code",
   "execution_count": null,
   "metadata": {},
   "outputs": [],
   "source": [
    "# pv.start_xvfb()\n",
    "# pv.global_theme.trame.server_proxy_enabled = True\n",
    "# pv.set_jupyter_backend('static')"
   ]
  },
  {
   "cell_type": "code",
   "execution_count": null,
   "metadata": {},
   "outputs": [],
   "source": [
    "# vmin = -3000\n",
    "# vmax = 3000\n",
    "\n",
    "# i_siz = 160\n",
    "# j_siz = 100\n",
    "\n",
    "# i_res = 15\n",
    "# j_res = 15"
   ]
  },
  {
   "cell_type": "code",
   "execution_count": null,
   "metadata": {},
   "outputs": [],
   "source": [
    "# B_spinn_plot = mag_plotter(B_spinn_mesh)\n",
    "# B_pinn_plot = mag_plotter(B_pinn_mesh)\n",
    "# b_pot_plot = mag_plotter(b_pot_mesh)"
   ]
  },
  {
   "cell_type": "code",
   "execution_count": null,
   "metadata": {},
   "outputs": [],
   "source": [
    "# B_spinn_plot.plt_Bz_imshow(z=0, vmin=vmin, vmax=vmax)"
   ]
  },
  {
   "cell_type": "code",
   "execution_count": null,
   "metadata": {},
   "outputs": [],
   "source": [
    "# B_pinn_plot.plt_Bz_imshow(z=0, vmin=vmin, vmax=vmax)"
   ]
  },
  {
   "cell_type": "code",
   "execution_count": null,
   "metadata": {},
   "outputs": [],
   "source": [
    "# b_pot_plot.plt_Bz_imshow(z=0, vmin=vmin, vmax=vmax)"
   ]
  },
  {
   "cell_type": "code",
   "execution_count": null,
   "metadata": {},
   "outputs": [],
   "source": [
    "# B_spinn_plot.pv_streamline_Bz(camera_position='xy', i_siz=i_siz, j_siz=j_siz, i_resolution=i_res, j_resolution=j_res, vmin=vmin, vmax=vmax)"
   ]
  },
  {
   "cell_type": "code",
   "execution_count": null,
   "metadata": {},
   "outputs": [],
   "source": [
    "# B_pinn_plot.pv_streamline_Bz(camera_position='xy', i_siz=i_siz, j_siz=j_siz, i_resolution=i_res, j_resolution=j_res, vmin=vmin, vmax=vmax)"
   ]
  },
  {
   "cell_type": "code",
   "execution_count": null,
   "metadata": {},
   "outputs": [],
   "source": [
    "# b_pot_plot.pv_streamline_Bz(camera_position='xy', i_siz=i_siz, j_siz=j_siz, i_resolution=i_res, j_resolution=j_res, vmin=vmin, vmax=vmax)"
   ]
  },
  {
   "cell_type": "markdown",
   "metadata": {},
   "source": [
    "## LowLou"
   ]
  },
  {
   "cell_type": "code",
   "execution_count": null,
   "metadata": {},
   "outputs": [],
   "source": [
    "Nz = 64\n",
    "b_norm = 100\n",
    "Nc = 64\n",
    "spatial_norm = 160\n",
    "\n",
    "epochs = 5000\n",
    "log_iter = 1000\n",
    "\n",
    "series_epochs = 2000\n",
    "series_log_iter = 100\n",
    "\n",
    "loss_threshold = 0.0001"
   ]
  },
  {
   "cell_type": "code",
   "execution_count": null,
   "metadata": {},
   "outputs": [],
   "source": [
    "b_bottom_path = '/userhome/jeon_mg/workspace/_data/lowlou_64_64_64/b_bottom.npy'\n",
    "\n",
    "output_path = os.path.join(spinn_output_path, 'lowlou')\n",
    "\n",
    "BC_path = '/userhome/jeon_mg/workspace/_data/lowlou_64_64_64/SPINN/boundary.pickle'\n",
    "\n",
    "with open(b_bottom_path, 'rb') as f:\n",
    "    b_bottom = np.load(f)\n",
    "\n",
    "Nx, Ny, _ = b_bottom.shape"
   ]
  },
  {
   "cell_type": "code",
   "execution_count": null,
   "metadata": {},
   "outputs": [],
   "source": [
    "import shutil \n",
    "try:\n",
    "    shutil.rmtree(output_path)\n",
    "except:\n",
    "    pass"
   ]
  },
  {
   "cell_type": "code",
   "execution_count": null,
   "metadata": {},
   "outputs": [
    {
     "name": "stderr",
     "output_type": "stream",
     "text": [
      "{'feat_sizes': (64, 64, 64, 64, 64), 'r': 64, 'out_dim': 3, 'Nx': 64, 'Ny': 64, 'Nz': 64, 'b_norm': 100, 'pos_enc': 0, 'mlp': 'modified_mlp', 'lr': 0.0005}\n"
     ]
    }
   ],
   "source": [
    "tranier = SPINN_Trainer(output_path, BC_path, Nx, Ny, Nz, b_norm, transfer_learning_path=None)"
   ]
  },
  {
   "cell_type": "code",
   "execution_count": null,
   "metadata": {},
   "outputs": [
    {
     "name": "stderr",
     "output_type": "stream",
     "text": [
      "Complie Start\n",
      "Complie End --> total: 35.61sec\n",
      " 20%|█▉        | 990/5000 [00:07<00:29, 134.72it/s]Epoch: 1000/5000 --> total loss: 0.00586407\n",
      " 40%|███▉      | 1991/5000 [00:14<00:22, 136.15it/s]Epoch: 2000/5000 --> total loss: 0.00189731\n",
      " 60%|█████▉    | 2995/5000 [00:21<00:14, 136.83it/s]Epoch: 3000/5000 --> total loss: 0.00110573\n",
      " 80%|███████▉  | 3994/5000 [00:29<00:07, 128.37it/s]Epoch: 4000/5000 --> total loss: 0.00085679\n",
      "100%|█████████▉| 4998/5000 [00:36<00:00, 136.53it/s]Epoch: 5000/5000 --> total loss: 0.00061970\n",
      "100%|██████████| 5000/5000 [00:36<00:00, 136.88it/s]\n",
      "Runtime --> total: 36.53sec (7.31ms/iter.)\n"
     ]
    }
   ],
   "source": [
    "tranier.train(epochs, log_iter, loss_threshold=loss_threshold)"
   ]
  },
  {
   "cell_type": "code",
   "execution_count": null,
   "metadata": {},
   "outputs": [
    {
     "data": {
      "text/plain": [
       "[<matplotlib.lines.Line2D>]"
      ]
     },
     "execution_count": null,
     "metadata": {},
     "output_type": "execute_result"
    },
    {
     "data": {
      "image/png": "[encoded data removed]",
      "text/plain": [
       "<Figure size 640x480 with 1 Axes>"
      ]
     },
     "metadata": {},
     "output_type": "display_data"
    }
   ],
   "source": [
    "fig, ax = plt.subplots()\n",
    "\n",
    "ax.set_xlabel('Iteration')\n",
    "ax.set_ylabel('Loss')\n",
    "\n",
    "loss_path = os.path.join(output_path, 'losses.npy')\n",
    "\n",
    "with open(loss_path, \"rb\") as f:\n",
    "    losses = np.load(f)\n",
    "\n",
    "ax.plot(losses)"
   ]
  },
  {
   "cell_type": "code",
   "execution_count": null,
   "metadata": {},
   "outputs": [],
   "source": [
    "parameters_path = os.path.join(output_path, 'parameters.pickle')\n",
    "params_path = os.path.join(output_path, 'final_params.pickle')"
   ]
  },
  {
   "cell_type": "code",
   "execution_count": null,
   "metadata": {},
   "outputs": [],
   "source": [
    "spinn = spinn_cube(params_path, parameters_path)"
   ]
  },
  {
   "cell_type": "code",
   "execution_count": null,
   "metadata": {},
   "outputs": [],
   "source": [
    "spinn.calculate_magnetic_fields()\n",
    "spinn_vtk_path = params_path.replace('.pickle', '.vtk')\n",
    "spinn.grid.save(spinn_vtk_path)"
   ]
  },
  {
   "cell_type": "code",
   "execution_count": null,
   "metadata": {},
   "outputs": [
    {
     "data": {
      "text/html": [
       "<table style='width: 100%;'><tr><th>Header</th><th>Data Arrays</th></tr><tr><td>\n",
       "<table style='width: 100%;'>\n",
       "<tr><th>StructuredGrid</th><th>Information</th></tr>\n",
       "<tr><td>N Cells</td><td>250047</td></tr>\n",
       "<tr><td>N Points</td><td>262144</td></tr>\n",
       "<tr><td>X Bounds</td><td>0.000e+00, 6.300e+01</td></tr>\n",
       "<tr><td>Y Bounds</td><td>0.000e+00, 6.300e+01</td></tr>\n",
       "<tr><td>Z Bounds</td><td>0.000e+00, 6.300e+01</td></tr>\n",
       "<tr><td>Dimensions</td><td>64, 64, 64</td></tr>\n",
       "<tr><td>N Arrays</td><td>2</td></tr>\n",
       "</table>\n",
       "\n",
       "</td><td>\n",
       "<table style='width: 100%;'>\n",
       "<tr><th>Name</th><th>Field</th><th>Type</th><th>N Comp</th><th>Min</th><th>Max</th></tr>\n",
       "<tr><td><b>mag</b></td><td>Points</td><td>float32</td><td>1</td><td>4.946e-02</td><td>2.694e+02</td></tr>\n",
       "<tr><td>B</td><td>Points</td><td>float32</td><td>3</td><td>-2.217e+02</td><td>2.094e+02</td></tr>\n",
       "</table>\n",
       "\n",
       "</td></tr> </table>"
      ],
      "text/plain": [
       "StructuredGrid (0x7f111c50f8e0)\n",
       "  N Cells:      250047\n",
       "  N Points:     262144\n",
       "  X Bounds:     0.000e+00, 6.300e+01\n",
       "  Y Bounds:     0.000e+00, 6.300e+01\n",
       "  Z Bounds:     0.000e+00, 6.300e+01\n",
       "  Dimensions:   64, 64, 64\n",
       "  N Arrays:     2"
      ]
     },
     "execution_count": null,
     "metadata": {},
     "output_type": "execute_result"
    }
   ],
   "source": [
    "B_spinn_mesh = pv.read(spinn_vtk_path)\n",
    "B_spinn_mesh"
   ]
  },
  {
   "cell_type": "code",
   "execution_count": null,
   "metadata": {},
   "outputs": [
    {
     "data": {
      "text/html": [
       "<table style='width: 100%;'><tr><th>Header</th><th>Data Arrays</th></tr><tr><td>\n",
       "<table style='width: 100%;'>\n",
       "<tr><th>ImageData</th><th>Information</th></tr>\n",
       "<tr><td>N Cells</td><td>250047</td></tr>\n",
       "<tr><td>N Points</td><td>262144</td></tr>\n",
       "<tr><td>X Bounds</td><td>0.000e+00, 6.300e+01</td></tr>\n",
       "<tr><td>Y Bounds</td><td>0.000e+00, 6.300e+01</td></tr>\n",
       "<tr><td>Z Bounds</td><td>0.000e+00, 6.300e+01</td></tr>\n",
       "<tr><td>Dimensions</td><td>64, 64, 64</td></tr>\n",
       "<tr><td>Spacing</td><td>1.000e+00, 1.000e+00, 1.000e+00</td></tr>\n",
       "<tr><td>N Arrays</td><td>2</td></tr>\n",
       "</table>\n",
       "\n",
       "</td><td>\n",
       "<table style='width: 100%;'>\n",
       "<tr><th>Name</th><th>Field</th><th>Type</th><th>N Comp</th><th>Min</th><th>Max</th></tr>\n",
       "<tr><td><b>mag</b></td><td>Points</td><td>float64</td><td>1</td><td>1.278e-01</td><td>2.636e+02</td></tr>\n",
       "<tr><td>B</td><td>Points</td><td>float64</td><td>3</td><td>-2.226e+02</td><td>2.117e+02</td></tr>\n",
       "</table>\n",
       "\n",
       "</td></tr> </table>"
      ],
      "text/plain": [
       "ImageData (0x7f111c50fee0)\n",
       "  N Cells:      250047\n",
       "  N Points:     262144\n",
       "  X Bounds:     0.000e+00, 6.300e+01\n",
       "  Y Bounds:     0.000e+00, 6.300e+01\n",
       "  Z Bounds:     0.000e+00, 6.300e+01\n",
       "  Dimensions:   64, 64, 64\n",
       "  Spacing:      1.000e+00, 1.000e+00, 1.000e+00\n",
       "  N Arrays:     2"
      ]
     },
     "execution_count": null,
     "metadata": {},
     "output_type": "execute_result"
    }
   ],
   "source": [
    "B_pinn_vtk = '/userhome/jeon_mg/workspace/_data/lowlou_64_64_64/PINN/vtk/B_pinn_10000.vtk'\n",
    "B_pinn_mesh = pv.read(B_pinn_vtk)\n",
    "B_pinn_mesh"
   ]
  },
  {
   "cell_type": "code",
   "execution_count": null,
   "metadata": {},
   "outputs": [
    {
     "data": {
      "text/html": [
       "<table style='width: 100%;'><tr><th>Header</th><th>Data Arrays</th></tr><tr><td>\n",
       "<table style='width: 100%;'>\n",
       "<tr><th>StructuredGrid</th><th>Information</th></tr>\n",
       "<tr><td>N Cells</td><td>250047</td></tr>\n",
       "<tr><td>N Points</td><td>262144</td></tr>\n",
       "<tr><td>X Bounds</td><td>0.000e+00, 6.300e+01</td></tr>\n",
       "<tr><td>Y Bounds</td><td>0.000e+00, 6.300e+01</td></tr>\n",
       "<tr><td>Z Bounds</td><td>0.000e+00, 6.300e+01</td></tr>\n",
       "<tr><td>Dimensions</td><td>64, 64, 64</td></tr>\n",
       "<tr><td>N Arrays</td><td>2</td></tr>\n",
       "</table>\n",
       "\n",
       "</td><td>\n",
       "<table style='width: 100%;'>\n",
       "<tr><th>Name</th><th>Field</th><th>Type</th><th>N Comp</th><th>Min</th><th>Max</th></tr>\n",
       "<tr><td><b>mag</b></td><td>Points</td><td>float32</td><td>1</td><td>9.527e-02</td><td>2.333e+02</td></tr>\n",
       "<tr><td>B</td><td>Points</td><td>float32</td><td>3</td><td>-2.045e+02</td><td>2.152e+02</td></tr>\n",
       "</table>\n",
       "\n",
       "</td></tr> </table>"
      ],
      "text/plain": [
       "StructuredGrid (0x7f111c50c520)\n",
       "  N Cells:      250047\n",
       "  N Points:     262144\n",
       "  X Bounds:     0.000e+00, 6.300e+01\n",
       "  Y Bounds:     0.000e+00, 6.300e+01\n",
       "  Z Bounds:     0.000e+00, 6.300e+01\n",
       "  Dimensions:   64, 64, 64\n",
       "  N Arrays:     2"
      ]
     },
     "execution_count": null,
     "metadata": {},
     "output_type": "execute_result"
    }
   ],
   "source": [
    "b_pot_vtk = '/userhome/jeon_mg/workspace/_data/lowlou_64_64_64/b_potential.vtk'\n",
    "b_pot_mesh = pv.read(b_pot_vtk)\n",
    "b_pot_mesh"
   ]
  },
  {
   "cell_type": "code",
   "execution_count": null,
   "metadata": {},
   "outputs": [
    {
     "data": {
      "text/html": [
       "<table style='width: 100%;'><tr><th>Header</th><th>Data Arrays</th></tr><tr><td>\n",
       "<table style='width: 100%;'>\n",
       "<tr><th>StructuredGrid</th><th>Information</th></tr>\n",
       "<tr><td>N Cells</td><td>250047</td></tr>\n",
       "<tr><td>N Points</td><td>262144</td></tr>\n",
       "<tr><td>X Bounds</td><td>0.000e+00, 6.300e+01</td></tr>\n",
       "<tr><td>Y Bounds</td><td>0.000e+00, 6.300e+01</td></tr>\n",
       "<tr><td>Z Bounds</td><td>0.000e+00, 6.300e+01</td></tr>\n",
       "<tr><td>Dimensions</td><td>64, 64, 64</td></tr>\n",
       "<tr><td>N Arrays</td><td>2</td></tr>\n",
       "</table>\n",
       "\n",
       "</td><td>\n",
       "<table style='width: 100%;'>\n",
       "<tr><th>Name</th><th>Field</th><th>Type</th><th>N Comp</th><th>Min</th><th>Max</th></tr>\n",
       "<tr><td><b>mag</b></td><td>Points</td><td>float64</td><td>1</td><td>3.166e-01</td><td>2.698e+02</td></tr>\n",
       "<tr><td>B</td><td>Points</td><td>float64</td><td>3</td><td>-2.225e+02</td><td>2.115e+02</td></tr>\n",
       "</table>\n",
       "\n",
       "</td></tr> </table>"
      ],
      "text/plain": [
       "StructuredGrid (0x7f111c774220)\n",
       "  N Cells:      250047\n",
       "  N Points:     262144\n",
       "  X Bounds:     0.000e+00, 6.300e+01\n",
       "  Y Bounds:     0.000e+00, 6.300e+01\n",
       "  Z Bounds:     0.000e+00, 6.300e+01\n",
       "  Dimensions:   64, 64, 64\n",
       "  N Arrays:     2"
      ]
     },
     "execution_count": null,
     "metadata": {},
     "output_type": "execute_result"
    }
   ],
   "source": [
    "b_vtk = '/userhome/jeon_mg/workspace/_data/lowlou_64_64_64/b.vtk'\n",
    "b_mesh = pv.read(b_vtk)\n",
    "b_mesh"
   ]
  },
  {
   "cell_type": "code",
   "execution_count": null,
   "metadata": {},
   "outputs": [],
   "source": [
    "B_spinn = B_spinn_mesh['B'].reshape(Nz, Ny, Nx, 3).transpose(2, 1, 0, 3)\n",
    "B_pinn = B_pinn_mesh['B'].reshape(Nz, Ny, Nx, 3).transpose(2, 1, 0, 3)\n",
    "b_pot = b_pot_mesh['B'].reshape(Nz, Ny, Nx, 3).transpose(2, 1, 0, 3)\n",
    "b = b_mesh['B'].reshape(Nz, Ny, Nx, 3).transpose(2, 1, 0, 3)"
   ]
  },
  {
   "cell_type": "code",
   "execution_count": null,
   "metadata": {},
   "outputs": [
    {
     "name": "stderr",
     "output_type": "stream",
     "text": [
      "LowLou\n",
      "Total Energy (SPINN): 4.9540461603085486e+29\n",
      "Total Energy (PINN): 4.905578515958792e+29\n",
      "Total Energy (Potential): 3.3109761894043746e+29\n",
      "Total Energy (LowLou): 5.360372393649766e+29\n",
      "Divergence (SPINN): 0.28552746772766113\n",
      "Divergence (PINN): 0.029390044932350024\n",
      "Divergence (Potential): 0.22885934287566356\n",
      "Divergence (LowLou): 0.1053336039185524\n",
      "Force-free (SPINN): 1.470462679862976\n",
      "Force-free (PINN): 2.654855328371351\n",
      "Force-free (Potential): 3.5200810089008883e-06\n",
      "Force-free (LowLou): 3.050356291678155\n"
     ]
    }
   ],
   "source": [
    "logger.info(\"LowLou\")\n",
    "logger.info(f\"Total Energy (SPINN): {(magnetic_energy(B_spinn) * dV).sum()}\")\n",
    "logger.info(f\"Total Energy (PINN): {(magnetic_energy(B_pinn) * dV).sum()}\")\n",
    "logger.info(f\"Total Energy (Potential): {(magnetic_energy(b_pot) * dV).sum()}\")\n",
    "logger.info(f\"Total Energy (LowLou): {(magnetic_energy(b) * dV).sum()}\")\n",
    "logger.info(f\"Divergence (SPINN): {(divergence(B_spinn)**2).mean()}\")\n",
    "logger.info(f\"Divergence (PINN): {(divergence(B_pinn)**2).mean()}\")\n",
    "logger.info(f\"Divergence (Potential): {(divergence(b)**2).mean()}\")\n",
    "logger.info(f\"Divergence (LowLou): {(divergence(b_pot)**2).mean()}\")\n",
    "logger.info(f\"Force-free (SPINN): {magnitude(np.cross(curl(B_spinn), B_spinn)).mean()}\")\n",
    "logger.info(f\"Force-free (PINN): {magnitude(np.cross(curl(B_pinn), B_pinn)).mean()}\")\n",
    "logger.info(f\"Force-free (Potential): {magnitude(np.cross(curl(b_pot), b_pot)).mean()}\")\n",
    "logger.info(f\"Force-free (LowLou): {magnitude(np.cross(curl(b), b)).mean()}\")"
   ]
  },
  {
   "cell_type": "code",
   "execution_count": null,
   "metadata": {},
   "outputs": [
    {
     "name": "stderr",
     "output_type": "stream",
     "text": [
      "  iteration  C_vec  C_cs  1-En  1-Em  eps     eps_p   sig_J        L1        L2  curlB\n",
      "0     SPINN    1.0   1.0   1.0   1.0  1.0  1.496249  0.1521  0.034792  0.285527    1.0\n",
      "  iteration  C_vec  C_cs  1-En  1-Em  eps     eps_p     sig_J        L1       L2  curlB\n",
      "0      PINN    1.0   1.0   1.0   1.0  1.0  1.481611  0.263372  0.083993  0.02939    1.0\n",
      "   iteration  C_vec  C_cs  1-En  1-Em  eps  eps_p     sig_J            L1        L2  curlB\n",
      "0  Potential    1.0   1.0   1.0   1.0  1.0    1.0  0.835331  6.041180e-13  0.105334    1.0\n",
      "  iteration  C_vec  C_cs  1-En  1-Em  eps    eps_p     sig_J       L1        L2  curlB\n",
      "0   Low Lou    1.0   1.0   1.0   1.0  1.0  1.61897  0.167531  0.09713  0.228859    1.0\n",
      "    iteration     C_vec      C_cs      1-En      1-Em      eps     eps_p   sig_J        L1        L2     curlB\n",
      "0  SPINN/PINN  0.991079  0.846827  0.762636  0.473263  1.00988  1.496249  0.1521  0.034792  0.285527  0.902249\n",
      "    iteration     C_vec      C_cs      1-En      1-Em       eps     eps_p     sig_J        L1       L2     curlB\n",
      "0  PINN/SPINN  0.991079  0.846827  0.746124  0.008701  0.990216  1.481611  0.263372  0.083993  0.02939  1.108342\n",
      "  iteration     C_vec      C_cs      1-En      1-Em       eps     eps_p   sig_J        L1        L2     curlB\n",
      "0  SPINN/LL  0.992462  0.926457  0.765467  0.549341  0.924198  1.496249  0.1521  0.034792  0.285527  0.893106\n",
      "  iteration     C_vec      C_cs      1-En     1-Em       eps     eps_p     sig_J        L1       L2     curlB\n",
      "0   PINN/LL  0.990104  0.804337  0.740497  0.47049  0.915156  1.481611  0.263372  0.083993  0.02939  0.989866\n"
     ]
    }
   ],
   "source": [
    "logger.info(metric_df(B=B_spinn, b=B_spinn, B_potential=b_pot, iteration='SPINN'))\n",
    "logger.info(metric_df(B=B_pinn, b=B_pinn, B_potential=b_pot, iteration='PINN'))\n",
    "logger.info(metric_df(B=b_pot, b=b_pot, B_potential=b_pot, iteration='Potential'))\n",
    "logger.info(metric_df(B=b, b=b, B_potential=b_pot, iteration='Low Lou'))\n",
    "logger.info(metric_df(B=B_spinn, b=B_pinn, B_potential=b_pot, iteration='SPINN/PINN'))\n",
    "logger.info(metric_df(B=B_pinn, b=B_spinn, B_potential=b_pot, iteration='PINN/SPINN'))\n",
    "logger.info(metric_df(B=B_spinn, b=b, B_potential=b_pot, iteration='SPINN/LL'))\n",
    "logger.info(metric_df(B=B_pinn, b=b, B_potential=b_pot, iteration='PINN/LL'))"
   ]
  },
  {
   "cell_type": "code",
   "execution_count": null,
   "metadata": {},
   "outputs": [
    {
     "name": "stderr",
     "output_type": "stream",
     "text": [
      "=======================================================================\n"
     ]
    }
   ],
   "source": [
    "logger.info(\"=======================================================================\")"
   ]
  },
  {
   "cell_type": "code",
   "execution_count": null,
   "metadata": {},
   "outputs": [],
   "source": [
    "# vmin = -200\n",
    "# vmax = 200"
   ]
  },
  {
   "cell_type": "code",
   "execution_count": null,
   "metadata": {},
   "outputs": [],
   "source": [
    "# B_spinn_plot = mag_plotter(B_spinn_mesh)\n",
    "# B_pinn_plot = mag_plotter(B_pinn_mesh)\n",
    "# b_pot_plot = mag_plotter(b_pot_mesh)\n",
    "# b_plot = mag_plotter(b_mesh)"
   ]
  },
  {
   "cell_type": "code",
   "execution_count": null,
   "metadata": {},
   "outputs": [],
   "source": [
    "# B_spinn_plot.plt_Bz_imshow(z=0, vmin=vmin, vmax=vmax)"
   ]
  },
  {
   "cell_type": "code",
   "execution_count": null,
   "metadata": {},
   "outputs": [],
   "source": [
    "# B_pinn_plot.plt_Bz_imshow(z=0, vmin=vmin, vmax=vmax)"
   ]
  },
  {
   "cell_type": "code",
   "execution_count": null,
   "metadata": {},
   "outputs": [],
   "source": [
    "# b_pot_plot.plt_Bz_imshow(z=0, vmin=vmin, vmax=vmax)"
   ]
  },
  {
   "cell_type": "code",
   "execution_count": null,
   "metadata": {},
   "outputs": [],
   "source": [
    "# b_plot.plt_Bz_imshow(z=0, vmin=vmin, vmax=vmax)"
   ]
  },
  {
   "cell_type": "code",
   "execution_count": null,
   "metadata": {},
   "outputs": [],
   "source": [
    "# B_spinn_plot.pv_streamline_Bz(camera_position='xy', vmin=vmin, vmax=vmax)"
   ]
  },
  {
   "cell_type": "code",
   "execution_count": null,
   "metadata": {},
   "outputs": [],
   "source": [
    "# B_pinn_plot.pv_streamline_Bz(camera_position='xy', vmin=vmin, vmax=vmax)"
   ]
  },
  {
   "cell_type": "code",
   "execution_count": null,
   "metadata": {},
   "outputs": [],
   "source": [
    "# b_pot_plot.pv_streamline_Bz(camera_position='xy', vmin=vmin, vmax=vmax)"
   ]
  },
  {
   "cell_type": "code",
   "execution_count": null,
   "metadata": {},
   "outputs": [],
   "source": [
    "# b_plot.pv_streamline_Bz(camera_position='xy', vmin=vmin, vmax=vmax)"
   ]
  },
  {
   "cell_type": "code",
   "execution_count": null,
   "metadata": {},
   "outputs": [],
   "source": []
  }
 ],
 "metadata": {
  "kernelspec": {
   "display_name": "python3",
   "language": "python",
   "name": "python3"
  }
 },
 "nbformat": 4,
 "nbformat_minor": 2
}
