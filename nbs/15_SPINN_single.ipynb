{
 "cells": [
  {
   "cell_type": "markdown",
   "metadata": {},
   "source": [
    "# SPINN (single)"
   ]
  },
  {
   "cell_type": "code",
   "execution_count": null,
   "metadata": {},
   "outputs": [],
   "source": [
    "from setproctitle import setproctitle\n",
    "setproctitle(\"SPINN\")"
   ]
  },
  {
   "cell_type": "code",
   "execution_count": null,
   "metadata": {},
   "outputs": [],
   "source": [
    "import os"
   ]
  },
  {
   "cell_type": "code",
   "execution_count": null,
   "metadata": {},
   "outputs": [],
   "source": [
    "os.environ[\"XLA_PYTHON_CLIENT_PREALLOCATE\"] = \"false\"\n",
    "os.environ[\"CUDA_DEVICE_ORDER\"]=\"PCI_BUS_ID\"\n",
    "os.environ[\"CUDA_VISIBLE_DEVICES\"]= \"2\""
   ]
  },
  {
   "cell_type": "code",
   "execution_count": null,
   "metadata": {},
   "outputs": [],
   "source": [
    "import jax \n",
    "import jax.numpy as jnp\n",
    "import optax\n",
    "import numpy as np \n",
    "import matplotlib.pyplot as plt\n",
    "import time \n",
    "import pickle\n",
    "from tqdm import trange"
   ]
  },
  {
   "cell_type": "code",
   "execution_count": null,
   "metadata": {},
   "outputs": [],
   "source": [
    "from cmspinn.spinn_jax import SPINN3d, generate_train_data, apply_model_spinn, update_model"
   ]
  },
  {
   "cell_type": "code",
   "execution_count": null,
   "metadata": {},
   "outputs": [],
   "source": [
    "from pathlib import Path"
   ]
  },
  {
   "cell_type": "code",
   "execution_count": null,
   "metadata": {},
   "outputs": [],
   "source": [
    "# b_bottom_path = os.path.expanduser('~/workspace/_data/NOAA12673/b_bottom/b_bottom_20170904_000000.npy')\n",
    "# Nz = 160\n",
    "# b_norm = 2500\n",
    "\n",
    "# b_bottom_date = os.path.basename(b_bottom_path)[9:-4]\n",
    "# output_path = os.path.join(Path(b_bottom_path).parent.parent, f'SPINN/{b_bottom_date}')"
   ]
  },
  {
   "cell_type": "code",
   "execution_count": null,
   "metadata": {},
   "outputs": [],
   "source": [
    "b_bottom_path = os.path.expanduser('~/workspace/_data/lowlou_64_64_64/b_bottom.npy')\n",
    "Nz = 64\n",
    "b_norm = 100\n",
    "\n",
    "output_path = os.path.join(Path(b_bottom_path).parent, 'SPINN')"
   ]
  },
  {
   "cell_type": "code",
   "execution_count": null,
   "metadata": {},
   "outputs": [],
   "source": [
    "os.makedirs(output_path, exist_ok=True)"
   ]
  },
  {
   "cell_type": "code",
   "execution_count": null,
   "metadata": {},
   "outputs": [],
   "source": [
    "with open(b_bottom_path, 'rb') as f:\n",
    "    b_bottom = np.load(f)"
   ]
  },
  {
   "cell_type": "code",
   "execution_count": null,
   "metadata": {},
   "outputs": [
    {
     "data": {
      "image/png": "[encoded data removed]",
      "text/plain": [
       "<Figure size 600x600 with 2 Axes>"
      ]
     },
     "metadata": {},
     "output_type": "display_data"
    }
   ],
   "source": [
    "plt.close()\n",
    "fig, ax = plt.subplots(figsize=(6,6))\n",
    "CS = plt.imshow(b_bottom[:, :, 2].transpose(), origin='lower', cmap='gray')\n",
    "ax.set_xlabel('x')\n",
    "ax.set_ylabel('y')\n",
    "ax.set_title(\"B_z(z=0)\")\n",
    "fig.colorbar(CS)\n",
    "plt.show()"
   ]
  },
  {
   "cell_type": "code",
   "execution_count": null,
   "metadata": {},
   "outputs": [],
   "source": [
    "Nx, Ny, _ = b_bottom.shape\n"
   ]
  },
  {
   "cell_type": "code",
   "execution_count": null,
   "metadata": {},
   "outputs": [],
   "source": [
    "boundary_path = os.path.join(output_path, 'boundary.pickle')"
   ]
  },
  {
   "cell_type": "code",
   "execution_count": null,
   "metadata": {},
   "outputs": [],
   "source": [
    "with open(boundary_path, 'rb') as f:\n",
    "    boundary_data = pickle.load(f)"
   ]
  },
  {
   "cell_type": "code",
   "execution_count": null,
   "metadata": {},
   "outputs": [],
   "source": [
    "epochs = 10000\n",
    "log_iter = 1000\n",
    "\n",
    "features = 256\n",
    "n_layers = 8 \n",
    "feat_sizes = tuple([features for _ in range(n_layers)]) \n",
    "r = 128 \n",
    "out_dim = 3 \n",
    "\n",
    "lr = 5e-4"
   ]
  },
  {
   "cell_type": "code",
   "execution_count": null,
   "metadata": {},
   "outputs": [],
   "source": [
    "pos_enc = 0\n",
    "mlp = 'modified_mlp'"
   ]
  },
  {
   "cell_type": "code",
   "execution_count": null,
   "metadata": {},
   "outputs": [],
   "source": [
    "parameters = {'feat_sizes' : feat_sizes, \n",
    "              'r' : r, \n",
    "              'out_dim' : out_dim, \n",
    "              'Nx' : Nx, \n",
    "              'Ny' : Ny, \n",
    "              'Nz' : Nz, \n",
    "              'b_norm' : b_norm,\n",
    "              'pos_enc' : pos_enc,\n",
    "              'mlp' : mlp}"
   ]
  },
  {
   "cell_type": "code",
   "execution_count": null,
   "metadata": {},
   "outputs": [],
   "source": [
    "parameters_path = os.path.join(output_path, \"parameters.pickle\")\n",
    "with open(parameters_path, \"wb\") as f:\n",
    "    pickle.dump(parameters, f)"
   ]
  },
  {
   "cell_type": "code",
   "execution_count": null,
   "metadata": {},
   "outputs": [],
   "source": [
    "seed = 111\n",
    "key = jax.random.PRNGKey(seed)\n",
    "key, subkey = jax.random.split(key, 2)"
   ]
  },
  {
   "cell_type": "code",
   "execution_count": null,
   "metadata": {},
   "outputs": [],
   "source": [
    "model = SPINN3d(feat_sizes, r, out_dim, pos_enc=pos_enc, mlp=mlp)\n",
    "params = model.init(\n",
    "            subkey,\n",
    "            jnp.ones((Nx, 1)),\n",
    "            jnp.ones((Ny, 1)),\n",
    "            jnp.ones((Nz, 1))\n",
    "        )\n",
    "apply_fn = jax.jit(model.apply)\n",
    "optim = optax.adam(learning_rate=lr)\n",
    "state = optim.init(params)"
   ]
  },
  {
   "cell_type": "code",
   "execution_count": null,
   "metadata": {},
   "outputs": [],
   "source": [
    "key, subkey = jax.random.split(key, 2)\n",
    "train_data = generate_train_data(subkey, Nx, Ny, Nz)\n",
    "train_boundary_data = [train_data, boundary_data]"
   ]
  },
  {
   "cell_type": "code",
   "execution_count": null,
   "metadata": {},
   "outputs": [],
   "source": [
    "losses = []"
   ]
  },
  {
   "cell_type": "code",
   "execution_count": null,
   "metadata": {},
   "outputs": [],
   "source": [
    "loss, gradient = apply_model_spinn(apply_fn, params, train_boundary_data)\n",
    "losses.append(loss.item())\n",
    "params, state = update_model(optim, gradient, params, state)"
   ]
  },
  {
   "cell_type": "code",
   "execution_count": null,
   "metadata": {},
   "outputs": [],
   "source": [
    "params_path = os.path.join(output_path, \"params_0.pickle\")\n",
    "with open(params_path, \"wb\") as f:\n",
    "    pickle.dump(params, f)"
   ]
  },
  {
   "cell_type": "code",
   "execution_count": null,
   "metadata": {},
   "outputs": [
    {
     "name": "stderr",
     "output_type": "stream",
     "text": [
      " 10%|█         | 1005/10000 [00:10<02:03, 72.76it/s]"
     ]
    },
    {
     "name": "stdout",
     "output_type": "stream",
     "text": [
      "Epoch: 1000/10000 --> total loss: 0.00228871\n"
     ]
    },
    {
     "name": "stderr",
     "output_type": "stream",
     "text": [
      " 20%|██        | 2015/10000 [00:22<01:22, 97.12it/s] "
     ]
    },
    {
     "name": "stdout",
     "output_type": "stream",
     "text": [
      "Epoch: 2000/10000 --> total loss: 0.00138152\n"
     ]
    },
    {
     "name": "stderr",
     "output_type": "stream",
     "text": [
      " 30%|███       | 3014/10000 [00:33<01:17, 90.28it/s] "
     ]
    },
    {
     "name": "stdout",
     "output_type": "stream",
     "text": [
      "Epoch: 3000/10000 --> total loss: 0.00099446\n"
     ]
    },
    {
     "name": "stderr",
     "output_type": "stream",
     "text": [
      " 40%|████      | 4016/10000 [00:44<01:03, 94.78it/s] "
     ]
    },
    {
     "name": "stdout",
     "output_type": "stream",
     "text": [
      "Epoch: 4000/10000 --> total loss: 0.00096232\n"
     ]
    },
    {
     "name": "stderr",
     "output_type": "stream",
     "text": [
      " 50%|█████     | 5006/10000 [00:55<00:55, 90.21it/s]"
     ]
    },
    {
     "name": "stdout",
     "output_type": "stream",
     "text": [
      "Epoch: 5000/10000 --> total loss: 0.00088359\n"
     ]
    },
    {
     "name": "stderr",
     "output_type": "stream",
     "text": [
      " 60%|██████    | 6008/10000 [01:06<00:47, 84.30it/s]"
     ]
    },
    {
     "name": "stdout",
     "output_type": "stream",
     "text": [
      "Epoch: 6000/10000 --> total loss: 0.00139348\n"
     ]
    },
    {
     "name": "stderr",
     "output_type": "stream",
     "text": [
      " 70%|███████   | 7011/10000 [01:17<00:31, 94.87it/s] "
     ]
    },
    {
     "name": "stdout",
     "output_type": "stream",
     "text": [
      "Epoch: 7000/10000 --> total loss: 0.00116981\n"
     ]
    },
    {
     "name": "stderr",
     "output_type": "stream",
     "text": [
      " 80%|████████  | 8015/10000 [01:28<00:21, 92.16it/s] "
     ]
    },
    {
     "name": "stdout",
     "output_type": "stream",
     "text": [
      "Epoch: 8000/10000 --> total loss: 0.00069397\n"
     ]
    },
    {
     "name": "stderr",
     "output_type": "stream",
     "text": [
      " 90%|█████████ | 9015/10000 [01:39<00:11, 85.95it/s] "
     ]
    },
    {
     "name": "stdout",
     "output_type": "stream",
     "text": [
      "Epoch: 9000/10000 --> total loss: 0.00093243\n"
     ]
    },
    {
     "name": "stderr",
     "output_type": "stream",
     "text": [
      "100%|██████████| 10000/10000 [01:50<00:00, 90.29it/s]"
     ]
    },
    {
     "name": "stdout",
     "output_type": "stream",
     "text": [
      "Epoch: 10000/10000 --> total loss: 0.00143891\n",
      "Runtime --> total: 110.76sec (11.08ms/iter.)\n"
     ]
    },
    {
     "name": "stderr",
     "output_type": "stream",
     "text": [
      "\n"
     ]
    }
   ],
   "source": [
    "start = time.time()\n",
    "for e in trange(1, epochs + 1):\n",
    "    \n",
    "    # if e % 300 == 0:\n",
    "    #     # sample new input data\n",
    "    #     key, subkey = jax.random.split(key, 2)\n",
    "    #     generate_train_data(subkey, Nx, Ny, Nz, nc=160)\n",
    "\n",
    "    loss, gradient = apply_model_spinn(apply_fn, params, train_boundary_data)\n",
    "    losses.append(loss.item())\n",
    "    params, state = update_model(optim, gradient, params, state)\n",
    "    \n",
    "    if e % log_iter == 0:\n",
    "        print(f'Epoch: {e}/{epochs} --> total loss: {loss:.8f}')\n",
    "        params_path = os.path.join(output_path, f\"params_{e}.pickle\")\n",
    "        with open(params_path, \"wb\") as f:\n",
    "            pickle.dump(params, f)\n",
    "\n",
    "np.save(os.path.join(output_path, 'losses.npy'), losses)\n",
    "runtime = time.time() - start\n",
    "print(f'Runtime --> total: {runtime:.2f}sec ({(runtime/(epochs-1)*1000):.2f}ms/iter.)')"
   ]
  },
  {
   "cell_type": "code",
   "execution_count": null,
   "metadata": {},
   "outputs": [],
   "source": [
    "with open(os.path.join(output_path, 'losses.npy'), \"rb\") as f:\n",
    "    losses = np.load(f)"
   ]
  },
  {
   "cell_type": "code",
   "execution_count": null,
   "metadata": {},
   "outputs": [
    {
     "data": {
      "text/plain": [
       "Text(0, 0.5, 'Loss')"
      ]
     },
     "execution_count": null,
     "metadata": {},
     "output_type": "execute_result"
    },
    {
     "data": {
      "image/png": "[encoded data removed]",
      "text/plain": [
       "<Figure size 640x480 with 1 Axes>"
      ]
     },
     "metadata": {},
     "output_type": "display_data"
    }
   ],
   "source": [
    "plt.plot(losses)\n",
    "plt.xlabel('Iteration')\n",
    "plt.ylabel('Loss')"
   ]
  },
  {
   "cell_type": "code",
   "execution_count": null,
   "metadata": {},
   "outputs": [],
   "source": []
  }
 ],
 "metadata": {
  "kernelspec": {
   "display_name": "python3",
   "language": "python",
   "name": "python3"
  }
 },
 "nbformat": 4,
 "nbformat_minor": 2
}
