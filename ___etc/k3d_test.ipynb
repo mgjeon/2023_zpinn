{
 "cells": [
  {
   "cell_type": "code",
   "execution_count": 1,
   "metadata": {},
   "outputs": [],
   "source": [
    "import pyvista as pv \n",
    "import k3d"
   ]
  },
  {
   "cell_type": "code",
   "execution_count": 2,
   "metadata": {},
   "outputs": [],
   "source": [
    "vtk_path = '/userhome/jeon_mg/workspace/zpinn/nbs/01_input/lowlou_128128128/b.vtk'"
   ]
  },
  {
   "cell_type": "code",
   "execution_count": 3,
   "metadata": {},
   "outputs": [],
   "source": [
    "grid = pv.read(vtk_path)"
   ]
  },
  {
   "cell_type": "code",
   "execution_count": 4,
   "metadata": {},
   "outputs": [],
   "source": [
    "seed = pv.Plane(center=(grid.center[0], grid.center[1], 0), direction=(0,0,1), \n",
    "                i_size=2, j_size=2, \n",
    "                i_resolution=10, j_resolution=10)\n",
    "\n",
    "strl = grid.streamlines_from_source(seed,\n",
    "                                    vectors='B',\n",
    "                                    max_time=180,\n",
    "                                    initial_step_length=0.1,\n",
    "                                    integration_direction='both')"
   ]
  },
  {
   "cell_type": "code",
   "execution_count": 8,
   "metadata": {},
   "outputs": [],
   "source": [
    "x_min, x_max, y_min, y_max, z_min, z_max = grid.bounds"
   ]
  },
  {
   "cell_type": "code",
   "execution_count": 13,
   "metadata": {},
   "outputs": [
    {
     "data": {
      "application/vnd.jupyter.widget-view+json": {
       "model_id": "c14278de57d940a5bbe31873b17e5b4f",
       "version_major": 2,
       "version_minor": 0
      },
      "text/plain": [
       "Output()"
      ]
     },
     "metadata": {},
     "output_type": "display_data"
    }
   ],
   "source": [
    "plot = k3d.plot(camera_auto_fit=False)\n",
    "plot += k3d.vtk_poly_data(grid.outline())\n",
    "# plot += k3d.vtk_poly_data(seed)\n",
    "plot += k3d.vtk_poly_data(strl.tube(2/400))\n",
    "\n",
    "plot.camera = [(x_min + x_max) / 2, (y_min + y_max) / 2, 1.5*z_max,\n",
    "               (x_min + x_max) / 2, (y_min + y_max) / 2, (z_min + z_max) / 2,\n",
    "               0, 1, 0]\n",
    "\n",
    "plot.display()"
   ]
  },
  {
   "cell_type": "code",
   "execution_count": null,
   "metadata": {},
   "outputs": [],
   "source": []
  }
 ],
 "metadata": {
  "kernelspec": {
   "display_name": "pinf",
   "language": "python",
   "name": "python3"
  },
  "language_info": {
   "codemirror_mode": {
    "name": "ipython",
    "version": 3
   },
   "file_extension": ".py",
   "mimetype": "text/x-python",
   "name": "python",
   "nbconvert_exporter": "python",
   "pygments_lexer": "ipython3",
   "version": "3.10.12"
  },
  "orig_nbformat": 4
 },
 "nbformat": 4,
 "nbformat_minor": 2
}
