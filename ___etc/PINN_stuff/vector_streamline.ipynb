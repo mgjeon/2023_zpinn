{
 "cells": [
  {
   "cell_type": "code",
   "execution_count": null,
   "metadata": {},
   "outputs": [],
   "source": [
    "import pyvista as pv\n",
    "import numpy as np\n",
    "nx = 20\n",
    "ny = 15\n",
    "nz = 5\n",
    "\n",
    "origin = (-(nx - 1) * 0.1 / 2, -(ny - 1) * 0.1 / 2, -(nz - 1) * 0.1 / 2)\n",
    "\n",
    "mesh = pv.UniformGrid(dimensions=(nx, ny, nz), spacing=(0.1, 0.1, 0.1), origin=origin)\n",
    "x = mesh.points[:, 0]\n",
    "y = mesh.points[:, 1]\n",
    "z = mesh.points[:, 2]\n",
    "\n",
    "vectors = np.empty((mesh.n_points, 3))\n",
    "vectors[:, 0] = np.sin(np.pi * x) * np.cos(np.pi * y) * np.cos(np.pi * z)\n",
    "vectors[:, 1] = -np.cos(np.pi * x) * np.sin(np.pi * y) * np.cos(np.pi * z)\n",
    "vectors[:, 2] = np.sqrt(3.0 / 3.0) * np.cos(np.pi * x) * np.cos(np.pi * y) * np.sin(np.pi * z)\n",
    "\n",
    "mesh['vectors'] = vectors"
   ]
  },
  {
   "cell_type": "code",
   "execution_count": null,
   "metadata": {},
   "outputs": [
    {
     "data": {
      "text/html": [
       "<table><tr><th>Header</th><th>Data Arrays</th></tr><tr><td>\n",
       "<table>\n",
       "<tr><th>UniformGrid</th><th>Information</th></tr>\n",
       "<tr><td>N Cells</td><td>1064</td></tr>\n",
       "<tr><td>N Points</td><td>1500</td></tr>\n",
       "<tr><td>X Bounds</td><td>-9.500e-01, 9.500e-01</td></tr>\n",
       "<tr><td>Y Bounds</td><td>-7.000e-01, 7.000e-01</td></tr>\n",
       "<tr><td>Z Bounds</td><td>-2.000e-01, 2.000e-01</td></tr>\n",
       "<tr><td>Dimensions</td><td>20, 15, 5</td></tr>\n",
       "<tr><td>Spacing</td><td>1.000e-01, 1.000e-01, 1.000e-01</td></tr>\n",
       "<tr><td>N Arrays</td><td>1</td></tr>\n",
       "</table>\n",
       "\n",
       "</td><td>\n",
       "<table>\n",
       "<tr><th>Name</th><th>Field</th><th>Type</th><th>N Comp</th><th>Min</th><th>Max</th></tr>\n",
       "<tr><td><b>vectors</b></td><td>Points</td><td>float64</td><td>3</td><td>-9.877e-01</td><td>9.877e-01</td></tr>\n",
       "</table>\n",
       "\n",
       "</td></tr> </table>"
      ],
      "text/plain": [
       "UniformGrid (0x7f30d3d53ac0)\n",
       "  N Cells:      1064\n",
       "  N Points:     1500\n",
       "  X Bounds:     -9.500e-01, 9.500e-01\n",
       "  Y Bounds:     -7.000e-01, 7.000e-01\n",
       "  Z Bounds:     -2.000e-01, 2.000e-01\n",
       "  Dimensions:   20, 15, 5\n",
       "  Spacing:      1.000e-01, 1.000e-01, 1.000e-01\n",
       "  N Arrays:     1"
      ]
     },
     "execution_count": null,
     "metadata": {},
     "output_type": "execute_result"
    }
   ],
   "source": [
    "mesh"
   ]
  },
  {
   "cell_type": "code",
   "execution_count": null,
   "metadata": {},
   "outputs": [
    {
     "data": {
      "text/plain": [
       "pyvista.core.grid.UniformGrid"
      ]
     },
     "execution_count": null,
     "metadata": {},
     "output_type": "execute_result"
    }
   ],
   "source": [
    "type(mesh)"
   ]
  },
  {
   "cell_type": "code",
   "execution_count": null,
   "metadata": {},
   "outputs": [
    {
     "data": {
      "text/plain": [
       "(1500, 3)"
      ]
     },
     "execution_count": null,
     "metadata": {},
     "output_type": "execute_result"
    }
   ],
   "source": [
    "vectors.shape"
   ]
  },
  {
   "attachments": {},
   "cell_type": "markdown",
   "metadata": {},
   "source": [
    "# TESt"
   ]
  },
  {
   "cell_type": "code",
   "execution_count": null,
   "metadata": {},
   "outputs": [],
   "source": [
    "stream, src = mesh.streamlines('vectors', return_source=True, terminal_speed=0.0, n_points=200, source_radius=0.1)\n",
    "cpos = [(1.2, 1.2, 1.2), (-0.0, -0.0, -0.0), (0.0, 0.0, 1.0)]\n",
    "m = stream.tube(radius=0.0015)"
   ]
  },
  {
   "cell_type": "code",
   "execution_count": null,
   "metadata": {},
   "outputs": [
    {
     "data": {
      "text/html": [
       "<table><tr><th>Header</th><th>Data Arrays</th></tr><tr><td>\n",
       "<table>\n",
       "<tr><th>PolyData</th><th>Information</th></tr>\n",
       "<tr><td>N Cells</td><td>8778</td></tr>\n",
       "<tr><td>N Points</td><td>76060</td></tr>\n",
       "<tr><td>N Strips</td><td>8778</td></tr>\n",
       "<tr><td>X Bounds</td><td>-9.434e-01, 9.416e-01</td></tr>\n",
       "<tr><td>Y Bounds</td><td>-7.000e-01, 6.981e-01</td></tr>\n",
       "<tr><td>Z Bounds</td><td>-2.003e-01, 2.006e-01</td></tr>\n",
       "<tr><td>N Arrays</td><td>9</td></tr>\n",
       "</table>\n",
       "\n",
       "</td><td>\n",
       "<table>\n",
       "<tr><th>Name</th><th>Field</th><th>Type</th><th>N Comp</th><th>Min</th><th>Max</th></tr>\n",
       "<tr><td><b>vectors</b></td><td>Points</td><td>float64</td><td>3</td><td>-9.869e-01</td><td>9.863e-01</td></tr>\n",
       "<tr><td>IntegrationTime</td><td>Points</td><td>float64</td><td>1</td><td>-3.227e+00</td><td>2.242e+00</td></tr>\n",
       "<tr><td>Vorticity</td><td>Points</td><td>float64</td><td>3</td><td>-6.121e-01</td><td>6.172e-01</td></tr>\n",
       "<tr><td>Rotation</td><td>Points</td><td>float64</td><td>1</td><td>-2.776e-16</td><td>2.970e-16</td></tr>\n",
       "<tr><td>AngularVelocity</td><td>Points</td><td>float64</td><td>1</td><td>-6.846e-16</td><td>8.402e-16</td></tr>\n",
       "<tr><td>Normals</td><td>Points</td><td>float64</td><td>3</td><td>-1.000e+00</td><td>1.000e+00</td></tr>\n",
       "<tr><td>TubeNormals</td><td>Points</td><td>float32</td><td>3</td><td>-1.000e+00</td><td>1.000e+00</td></tr>\n",
       "<tr><td>ReasonForTermination</td><td>Cells</td><td>int32</td><td>1</td><td>1.000e+00</td><td>1.000e+00</td></tr>\n",
       "<tr><td>SeedIds</td><td>Cells</td><td>int32</td><td>1</td><td>0.000e+00</td><td>1.990e+02</td></tr>\n",
       "</table>\n",
       "\n",
       "</td></tr> </table>"
      ],
      "text/plain": [
       "PolyData (0x7f81d7f8c3a0)\n",
       "  N Cells:    8778\n",
       "  N Points:   76060\n",
       "  N Strips:   8778\n",
       "  X Bounds:   -9.434e-01, 9.416e-01\n",
       "  Y Bounds:   -7.000e-01, 6.981e-01\n",
       "  Z Bounds:   -2.003e-01, 2.006e-01\n",
       "  N Arrays:   9"
      ]
     },
     "execution_count": null,
     "metadata": {},
     "output_type": "execute_result"
    }
   ],
   "source": [
    "m"
   ]
  },
  {
   "cell_type": "code",
   "execution_count": null,
   "metadata": {},
   "outputs": [],
   "source": [
    "p = pv.Plotter()\n",
    "p.add_mesh(m.outline())\n",
    "p.add_mesh(m)\n",
    "p.window_size = [4000, 4000]\n",
    "p.screenshot(\"vector_streamline.png\");"
   ]
  },
  {
   "cell_type": "code",
   "execution_count": null,
   "metadata": {},
   "outputs": [
    {
     "data": {
      "application/vnd.jupyter.widget-view+json": {
       "model_id": "934490477d074d9ebf17d76c7be0c7a1",
       "version_major": 2,
       "version_minor": 0
      },
      "text/plain": [
       "Output()"
      ]
     },
     "metadata": {},
     "output_type": "display_data"
    }
   ],
   "source": [
    "import k3d\n",
    "plot = k3d.plot()\n",
    "plot += k3d.vtk_poly_data(m)\n",
    "plot.display()\n",
    "# plot.fetch_screenshot()"
   ]
  },
  {
   "cell_type": "code",
   "execution_count": null,
   "metadata": {},
   "outputs": [],
   "source": []
  },
  {
   "cell_type": "code",
   "execution_count": null,
   "metadata": {},
   "outputs": [],
   "source": []
  }
 ],
 "metadata": {
  "kernelspec": {
   "display_name": "zpinn",
   "language": "python",
   "name": "zpinn"
  }
 },
 "nbformat": 4,
 "nbformat_minor": 4
}
